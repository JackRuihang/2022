{
 "cells": [
  {
   "cell_type": "code",
   "execution_count": 14,
   "metadata": {
    "collapsed": true
   },
   "outputs": [
    {
     "data": {
      "text/plain": "          Intent         Gender            Age                    Race  \\\n1  None selected  None selected  None selected           None selected   \n2  None selected  None selected  None selected                   White   \n3  None selected  None selected  None selected                   Black   \n4  None selected  None selected  None selected                Hispanic   \n5  None selected  None selected  None selected  Asian/Pacific Islander   \n\n   Deaths  Population  Rate  \n1   33599   316299978  10.6  \n2   22079   197369634  11.2  \n3    7765    38896382  20.0  \n4    3007    54049078   5.6  \n5     442    16315561   2.7  ",
      "text/html": "<div>\n<style scoped>\n    .dataframe tbody tr th:only-of-type {\n        vertical-align: middle;\n    }\n\n    .dataframe tbody tr th {\n        vertical-align: top;\n    }\n\n    .dataframe thead th {\n        text-align: right;\n    }\n</style>\n<table border=\"1\" class=\"dataframe\">\n  <thead>\n    <tr style=\"text-align: right;\">\n      <th></th>\n      <th>Intent</th>\n      <th>Gender</th>\n      <th>Age</th>\n      <th>Race</th>\n      <th>Deaths</th>\n      <th>Population</th>\n      <th>Rate</th>\n    </tr>\n  </thead>\n  <tbody>\n    <tr>\n      <th>1</th>\n      <td>None selected</td>\n      <td>None selected</td>\n      <td>None selected</td>\n      <td>None selected</td>\n      <td>33599</td>\n      <td>316299978</td>\n      <td>10.6</td>\n    </tr>\n    <tr>\n      <th>2</th>\n      <td>None selected</td>\n      <td>None selected</td>\n      <td>None selected</td>\n      <td>White</td>\n      <td>22079</td>\n      <td>197369634</td>\n      <td>11.2</td>\n    </tr>\n    <tr>\n      <th>3</th>\n      <td>None selected</td>\n      <td>None selected</td>\n      <td>None selected</td>\n      <td>Black</td>\n      <td>7765</td>\n      <td>38896382</td>\n      <td>20.0</td>\n    </tr>\n    <tr>\n      <th>4</th>\n      <td>None selected</td>\n      <td>None selected</td>\n      <td>None selected</td>\n      <td>Hispanic</td>\n      <td>3007</td>\n      <td>54049078</td>\n      <td>5.6</td>\n    </tr>\n    <tr>\n      <th>5</th>\n      <td>None selected</td>\n      <td>None selected</td>\n      <td>None selected</td>\n      <td>Asian/Pacific Islander</td>\n      <td>442</td>\n      <td>16315561</td>\n      <td>2.7</td>\n    </tr>\n  </tbody>\n</table>\n</div>"
     },
     "execution_count": 14,
     "metadata": {},
     "output_type": "execute_result"
    }
   ],
   "source": [
    "import numpy as np\n",
    "import pandas as pd\n",
    "import os\n",
    "\n",
    "path = './guns-data'\n",
    "file_name = os.path.join(path, 'interactive_data.csv')\n",
    "\n",
    "df = pd.read_csv(file_name, index_col=0)\n",
    "# data = pd.read_csv(file_name)\n",
    "df.head()"
   ]
  },
  {
   "cell_type": "markdown",
   "source": [],
   "metadata": {
    "collapsed": false
   }
  },
  {
   "cell_type": "code",
   "execution_count": 34,
   "outputs": [
    {
     "name": "stdout",
     "output_type": "stream",
     "text": [
      "1      False\n",
      "2      False\n",
      "3      False\n",
      "4      False\n",
      "5      False\n",
      "       ...  \n",
      "536     True\n",
      "537     True\n",
      "538     True\n",
      "539     True\n",
      "540     True\n",
      "Length: 540, dtype: bool\n",
      "      Intent  Gender       Age                    Race  Deaths  Population  \\\n",
      "152  Suicide  Female  Under 15                   White      19    15355910   \n",
      "153  Suicide  Female  Under 15                   Black       1     4095428   \n",
      "154  Suicide  Female  Under 15                Hispanic       4     7330024   \n",
      "155  Suicide  Female  Under 15  Asian/Pacific Islander       1     1393440   \n",
      "156  Suicide  Female  Under 15                   Other       0     1661877   \n",
      "..       ...     ...       ...                     ...     ...         ...   \n",
      "536  Unknown    Male         5                   White       0           0   \n",
      "537  Unknown    Male         5                   Black       0           0   \n",
      "538  Unknown    Male         5                Hispanic       0           0   \n",
      "539  Unknown    Male         5  Asian/Pacific Islander       0           0   \n",
      "540  Unknown    Male         5                   Other       0           0   \n",
      "\n",
      "     Rate  \n",
      "152   0.1  \n",
      "153   0.0  \n",
      "154   0.1  \n",
      "155   0.1  \n",
      "156   0.0  \n",
      "..    ...  \n",
      "536   NaN  \n",
      "537   NaN  \n",
      "538   NaN  \n",
      "539   NaN  \n",
      "540   NaN  \n",
      "\n",
      "[200 rows x 7 columns]\n"
     ]
    }
   ],
   "source": [
    "print(~((df=='None selected').any(axis=1)))\n",
    "df_filtered = df.loc[~((df=='None selected').any(axis=1))]\n",
    "print(df_filtered)"
   ],
   "metadata": {
    "collapsed": false
   }
  },
  {
   "cell_type": "code",
   "execution_count": 36,
   "outputs": [
    {
     "name": "stdout",
     "output_type": "stream",
     "text": [
      "33595\n"
     ]
    }
   ],
   "source": [
    "all_deaths = df_filtered['Deaths'].sum()\n",
    "print(all_deaths)"
   ],
   "metadata": {
    "collapsed": false
   }
  },
  {
   "cell_type": "code",
   "execution_count": 37,
   "outputs": [
    {
     "name": "stdout",
     "output_type": "stream",
     "text": [
      "21058\n"
     ]
    }
   ],
   "source": [
    "suicides = df_filtered[df_filtered['Intent'] == 'Suicide']['Deaths'].sum()\n",
    "print(suicides)"
   ],
   "metadata": {
    "collapsed": false
   }
  },
  {
   "cell_type": "code",
   "execution_count": 41,
   "outputs": [
    {
     "name": "stdout",
     "output_type": "stream",
     "text": [
      "62.68194671826165% of gun deaths are suicides.\n"
     ]
    }
   ],
   "source": [
    "print(f'{suicides/all_deaths*100}% of gun deaths are suicides.')"
   ],
   "metadata": {
    "collapsed": false
   }
  },
  {
   "cell_type": "code",
   "execution_count": 53,
   "outputs": [
    {
     "name": "stdout",
     "output_type": "stream",
     "text": [
      "86.24275809668535% of suicide people are males\n"
     ]
    }
   ],
   "source": [
    "suicides = df_filtered[df_filtered['Intent'] == 'Suicide']['Deaths'].sum()\n",
    "suicides_male = df_filtered[\n",
    "          (df_filtered['Intent'] == 'Suicide')\n",
    "          & (df_filtered['Gender'] == 'Male')\n",
    "      ]['Deaths'].sum()\n",
    "print(f'{suicides_male/suicides*100}% of suicide people are males')"
   ],
   "metadata": {
    "collapsed": false
   }
  },
  {
   "cell_type": "code",
   "execution_count": 54,
   "outputs": [
    {
     "name": "stdout",
     "output_type": "stream",
     "text": [
      "34.906980205387704% of deaths are homicide\n"
     ]
    }
   ],
   "source": [
    "all_deaths = df_filtered['Deaths'].sum()\n",
    "homicides = df_filtered[df_filtered['Intent'] == 'Homicide']['Deaths'].sum()\n",
    "print(f'{homicides/all_deaths*100}% of deaths are homicide')"
   ],
   "metadata": {
    "collapsed": false
   }
  },
  {
   "cell_type": "code",
   "execution_count": 58,
   "outputs": [
    {
     "name": "stdout",
     "output_type": "stream",
     "text": [
      "66.12482748044778% of homicide victims who are males in the age-group of 15--34 are black.\n"
     ]
    }
   ],
   "source": [
    "age_male_homicide_deaths = df_filtered[\n",
    "    (df_filtered['Age'] == '15 - 34')\n",
    "    & (df_filtered['Intent'] == 'Homicide')\n",
    "    & (df_filtered['Gender'] == 'Male')\n",
    "    ]['Deaths'].sum()\n",
    "age_male_homicide_black_deaths = df_filtered[\n",
    "    (df_filtered['Age'] == '15 - 34')\n",
    "    & (df_filtered['Intent'] == 'Homicide')\n",
    "    & (df_filtered['Gender'] == 'Male')\n",
    "    & (df_filtered['Race'] == 'Black')\n",
    "    ]['Deaths'].sum()\n",
    "print(f'{age_male_homicide_black_deaths/age_male_homicide_deaths*100}% of homicide victims who are males in the age-group of 15--34 are black.')"
   ],
   "metadata": {
    "collapsed": false
   }
  },
  {
   "cell_type": "code",
   "execution_count": 60,
   "outputs": [
    {
     "name": "stdout",
     "output_type": "stream",
     "text": [
      "15.289502856655583% of homicides people are female.\n"
     ]
    }
   ],
   "source": [
    "homicides = df_filtered[df_filtered['Intent'] == 'Homicide']['Deaths'].sum()\n",
    "homicides_female = df_filtered[\n",
    "    (df_filtered['Intent'] == 'Homicide')\n",
    "    &(df_filtered['Gender'] == 'Female')\n",
    "]['Deaths'].sum()\n",
    "print(f'{homicides_female/homicides*100}% of homicides people are female.')"
   ],
   "metadata": {
    "collapsed": false
   }
  },
  {
   "cell_type": "code",
   "execution_count": null,
   "outputs": [],
   "source": [],
   "metadata": {
    "collapsed": false
   }
  }
 ],
 "metadata": {
  "kernelspec": {
   "display_name": "Python 3",
   "language": "python",
   "name": "python3"
  },
  "language_info": {
   "codemirror_mode": {
    "name": "ipython",
    "version": 2
   },
   "file_extension": ".py",
   "mimetype": "text/x-python",
   "name": "python",
   "nbconvert_exporter": "python",
   "pygments_lexer": "ipython2",
   "version": "2.7.6"
  }
 },
 "nbformat": 4,
 "nbformat_minor": 0
}
