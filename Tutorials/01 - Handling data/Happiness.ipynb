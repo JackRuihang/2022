{
 "cells": [
  {
   "cell_type": "markdown",
   "metadata": {},
   "source": [
    "## Data from World Happiness Report\n",
    "\n",
    "The World Happiness Report is an annual publication of the United Nations Sustainable Development Solutions Network. It contains articles, and rankings of national happiness based on respondent ratings of their own lives, which the report also correlates with various life factors.\n",
    "\n",
    "In this notebook we will explore the happiness of different countries and the features associated.\n",
    "The datasets that we will use are available in *Data*: **happiness2020.pkl** and **countries_info.csv**.\n",
    "\n",
    "Although the features are self-explanatory, here a summary: \n",
    "\n",
    "**happiness2020.pkl**\n",
    "* country: *Name of the country*\n",
    "* happiness_score: *Happiness score*\n",
    "* social_support: *Social support (mitigation the effects of inequality)*\n",
    "* healthy_life_expectancy: *Healthy Life Expectancy*\n",
    "* freedom_of_choices: *Freedom to make life choices*\n",
    "* generosity: *Generosity (charity, volunteers)*\n",
    "* perception_of_corruption: *Corruption Perception*\n",
    "* world_region: *Area of the world of the country*\n",
    "\n",
    "**countries_info.csv**\n",
    "* country_name: *Name of the country*\n",
    "* area: *Area in sq mi*\n",
    "* population: *Number of people*\n",
    "* literacy: *Literacy percentage*"
   ]
  },
  {
   "cell_type": "code",
   "execution_count": 1,
   "metadata": {},
   "outputs": [
    {
     "name": "stderr",
     "output_type": "stream",
     "text": [
      "'head' 不是内部或外部命令，也不是可运行的程序\n",
      "或批处理文件。\n"
     ]
    }
   ],
   "source": [
    "!head Data/countries_info.csv"
   ]
  },
  {
   "cell_type": "code",
   "execution_count": 2,
   "metadata": {},
   "outputs": [],
   "source": [
    "import pandas as pd\n",
    "import matplotlib.pyplot as plt\n",
    "%matplotlib inline\n",
    "\n",
    "DATA_FOLDER = 'Data/'\n",
    "\n",
    "HAPPINESS_DATASET = DATA_FOLDER+\"happiness2020.csv\"\n",
    "COUNTRIES_DATASET = DATA_FOLDER+\"countries_info.csv\""
   ]
  },
  {
   "cell_type": "markdown",
   "metadata": {},
   "source": [
    "## Task 1: Load the data\n",
    "\n",
    "Load the 2 datasets in Pandas dataframes (called *happiness* and *countries*), and show the first rows.\n",
    "\n",
    "\n",
    "**Hint**: Use the correct reader and verify the data has the expected format."
   ]
  },
  {
   "cell_type": "code",
   "execution_count": 3,
   "metadata": {},
   "outputs": [
    {
     "name": "stdout",
     "output_type": "stream",
     "text": [
      "Happiness Data: \n"
     ]
    },
    {
     "data": {
      "text/plain": "       country  happiness_score  social_support  healthy_life_expectancy  \\\n0  Afghanistan           2.5669        0.470367                52.590000   \n1      Albania           4.8827        0.671070                68.708138   \n2      Algeria           5.0051        0.803385                65.905174   \n3    Argentina           5.9747        0.900568                68.803802   \n4      Armenia           4.6768        0.757479                66.750656   \n\n   freedom_of_choices  generosity  perception_of_corruption  \\\n0            0.396573   -0.096429                  0.933687   \n1            0.781994   -0.042309                  0.896304   \n2            0.466611   -0.121105                  0.735485   \n3            0.831132   -0.194914                  0.842010   \n4            0.712018   -0.138780                  0.773545   \n\n                         world_region  \n0                          South Asia  \n1          Central and Eastern Europe  \n2        Middle East and North Africa  \n3         Latin America and Caribbean  \n4  Commonwealth of Independent States  ",
      "text/html": "<div>\n<style scoped>\n    .dataframe tbody tr th:only-of-type {\n        vertical-align: middle;\n    }\n\n    .dataframe tbody tr th {\n        vertical-align: top;\n    }\n\n    .dataframe thead th {\n        text-align: right;\n    }\n</style>\n<table border=\"1\" class=\"dataframe\">\n  <thead>\n    <tr style=\"text-align: right;\">\n      <th></th>\n      <th>country</th>\n      <th>happiness_score</th>\n      <th>social_support</th>\n      <th>healthy_life_expectancy</th>\n      <th>freedom_of_choices</th>\n      <th>generosity</th>\n      <th>perception_of_corruption</th>\n      <th>world_region</th>\n    </tr>\n  </thead>\n  <tbody>\n    <tr>\n      <th>0</th>\n      <td>Afghanistan</td>\n      <td>2.5669</td>\n      <td>0.470367</td>\n      <td>52.590000</td>\n      <td>0.396573</td>\n      <td>-0.096429</td>\n      <td>0.933687</td>\n      <td>South Asia</td>\n    </tr>\n    <tr>\n      <th>1</th>\n      <td>Albania</td>\n      <td>4.8827</td>\n      <td>0.671070</td>\n      <td>68.708138</td>\n      <td>0.781994</td>\n      <td>-0.042309</td>\n      <td>0.896304</td>\n      <td>Central and Eastern Europe</td>\n    </tr>\n    <tr>\n      <th>2</th>\n      <td>Algeria</td>\n      <td>5.0051</td>\n      <td>0.803385</td>\n      <td>65.905174</td>\n      <td>0.466611</td>\n      <td>-0.121105</td>\n      <td>0.735485</td>\n      <td>Middle East and North Africa</td>\n    </tr>\n    <tr>\n      <th>3</th>\n      <td>Argentina</td>\n      <td>5.9747</td>\n      <td>0.900568</td>\n      <td>68.803802</td>\n      <td>0.831132</td>\n      <td>-0.194914</td>\n      <td>0.842010</td>\n      <td>Latin America and Caribbean</td>\n    </tr>\n    <tr>\n      <th>4</th>\n      <td>Armenia</td>\n      <td>4.6768</td>\n      <td>0.757479</td>\n      <td>66.750656</td>\n      <td>0.712018</td>\n      <td>-0.138780</td>\n      <td>0.773545</td>\n      <td>Commonwealth of Independent States</td>\n    </tr>\n  </tbody>\n</table>\n</div>"
     },
     "execution_count": 3,
     "metadata": {},
     "output_type": "execute_result"
    }
   ],
   "source": [
    "# Write your code here\n",
    "happiness = pd.read_csv(HAPPINESS_DATASET, sep=',')\n",
    "print(\"Happiness Data: \")\n",
    "happiness.head()"
   ]
  },
  {
   "cell_type": "code",
   "execution_count": 4,
   "outputs": [
    {
     "name": "stdout",
     "output_type": "stream",
     "text": [
      "Country Data: \n"
     ]
    },
    {
     "data": {
      "text/plain": "  country_name     area  population literacy\n0  afghanistan   647500    31056997     36.0\n1      albania    28748     3581655     86.5\n2      algeria  2381740    32930091     70.0\n3    argentina  2766890    39921833     97.1\n4      armenia    29800     2976372     98.6",
      "text/html": "<div>\n<style scoped>\n    .dataframe tbody tr th:only-of-type {\n        vertical-align: middle;\n    }\n\n    .dataframe tbody tr th {\n        vertical-align: top;\n    }\n\n    .dataframe thead th {\n        text-align: right;\n    }\n</style>\n<table border=\"1\" class=\"dataframe\">\n  <thead>\n    <tr style=\"text-align: right;\">\n      <th></th>\n      <th>country_name</th>\n      <th>area</th>\n      <th>population</th>\n      <th>literacy</th>\n    </tr>\n  </thead>\n  <tbody>\n    <tr>\n      <th>0</th>\n      <td>afghanistan</td>\n      <td>647500</td>\n      <td>31056997</td>\n      <td>36.0</td>\n    </tr>\n    <tr>\n      <th>1</th>\n      <td>albania</td>\n      <td>28748</td>\n      <td>3581655</td>\n      <td>86.5</td>\n    </tr>\n    <tr>\n      <th>2</th>\n      <td>algeria</td>\n      <td>2381740</td>\n      <td>32930091</td>\n      <td>70.0</td>\n    </tr>\n    <tr>\n      <th>3</th>\n      <td>argentina</td>\n      <td>2766890</td>\n      <td>39921833</td>\n      <td>97.1</td>\n    </tr>\n    <tr>\n      <th>4</th>\n      <td>armenia</td>\n      <td>29800</td>\n      <td>2976372</td>\n      <td>98.6</td>\n    </tr>\n  </tbody>\n</table>\n</div>"
     },
     "execution_count": 4,
     "metadata": {},
     "output_type": "execute_result"
    }
   ],
   "source": [
    "countries = pd.read_csv(COUNTRIES_DATASET, sep=',')\n",
    "pd.options.mode.chained_assignment = None  # default='warn', Mutes warnings when copying a slice from a DataFrame.\n",
    "for index, row in countries.iterrows():\n",
    "    if str(row['literacy']) != 'nan':\n",
    "        literacy = float(str(row['literacy']).replace(',', '.'))\n",
    "        countries.literacy[index] = literacy\n",
    "print(\"Country Data: \")\n",
    "countries.head()"
   ],
   "metadata": {
    "collapsed": false
   }
  },
  {
   "cell_type": "code",
   "execution_count": 5,
   "outputs": [
    {
     "data": {
      "text/plain": "         country  happiness_score  social_support  healthy_life_expectancy  \\\n0    Afghanistan           2.5669        0.470367                52.590000   \n1        Albania           4.8827        0.671070                68.708138   \n2        Algeria           5.0051        0.803385                65.905174   \n3      Argentina           5.9747        0.900568                68.803802   \n4        Armenia           4.6768        0.757479                66.750656   \n..           ...              ...             ...                      ...   \n130    Venezuela           5.0532        0.890408                66.505341   \n131      Vietnam           5.3535        0.849987                67.952736   \n132        Yemen           3.5274        0.817981                56.727283   \n133       Zambia           3.7594        0.698824                55.299377   \n134     Zimbabwe           3.2992        0.763093                55.617260   \n\n     freedom_of_choices  generosity  perception_of_corruption  \\\n0              0.396573   -0.096429                  0.933687   \n1              0.781994   -0.042309                  0.896304   \n2              0.466611   -0.121105                  0.735485   \n3              0.831132   -0.194914                  0.842010   \n4              0.712018   -0.138780                  0.773545   \n..                  ...         ...                       ...   \n130            0.623278   -0.169091                  0.837038   \n131            0.939593   -0.094533                  0.796421   \n132            0.599920   -0.157735                  0.800288   \n133            0.806500    0.078037                  0.801290   \n134            0.711458   -0.072064                  0.810237   \n\n                           world_region  \n0                            South Asia  \n1            Central and Eastern Europe  \n2          Middle East and North Africa  \n3           Latin America and Caribbean  \n4    Commonwealth of Independent States  \n..                                  ...  \n130         Latin America and Caribbean  \n131                      Southeast Asia  \n132        Middle East and North Africa  \n133                  Sub-Saharan Africa  \n134                  Sub-Saharan Africa  \n\n[135 rows x 8 columns]",
      "text/html": "<div>\n<style scoped>\n    .dataframe tbody tr th:only-of-type {\n        vertical-align: middle;\n    }\n\n    .dataframe tbody tr th {\n        vertical-align: top;\n    }\n\n    .dataframe thead th {\n        text-align: right;\n    }\n</style>\n<table border=\"1\" class=\"dataframe\">\n  <thead>\n    <tr style=\"text-align: right;\">\n      <th></th>\n      <th>country</th>\n      <th>happiness_score</th>\n      <th>social_support</th>\n      <th>healthy_life_expectancy</th>\n      <th>freedom_of_choices</th>\n      <th>generosity</th>\n      <th>perception_of_corruption</th>\n      <th>world_region</th>\n    </tr>\n  </thead>\n  <tbody>\n    <tr>\n      <th>0</th>\n      <td>Afghanistan</td>\n      <td>2.5669</td>\n      <td>0.470367</td>\n      <td>52.590000</td>\n      <td>0.396573</td>\n      <td>-0.096429</td>\n      <td>0.933687</td>\n      <td>South Asia</td>\n    </tr>\n    <tr>\n      <th>1</th>\n      <td>Albania</td>\n      <td>4.8827</td>\n      <td>0.671070</td>\n      <td>68.708138</td>\n      <td>0.781994</td>\n      <td>-0.042309</td>\n      <td>0.896304</td>\n      <td>Central and Eastern Europe</td>\n    </tr>\n    <tr>\n      <th>2</th>\n      <td>Algeria</td>\n      <td>5.0051</td>\n      <td>0.803385</td>\n      <td>65.905174</td>\n      <td>0.466611</td>\n      <td>-0.121105</td>\n      <td>0.735485</td>\n      <td>Middle East and North Africa</td>\n    </tr>\n    <tr>\n      <th>3</th>\n      <td>Argentina</td>\n      <td>5.9747</td>\n      <td>0.900568</td>\n      <td>68.803802</td>\n      <td>0.831132</td>\n      <td>-0.194914</td>\n      <td>0.842010</td>\n      <td>Latin America and Caribbean</td>\n    </tr>\n    <tr>\n      <th>4</th>\n      <td>Armenia</td>\n      <td>4.6768</td>\n      <td>0.757479</td>\n      <td>66.750656</td>\n      <td>0.712018</td>\n      <td>-0.138780</td>\n      <td>0.773545</td>\n      <td>Commonwealth of Independent States</td>\n    </tr>\n    <tr>\n      <th>...</th>\n      <td>...</td>\n      <td>...</td>\n      <td>...</td>\n      <td>...</td>\n      <td>...</td>\n      <td>...</td>\n      <td>...</td>\n      <td>...</td>\n    </tr>\n    <tr>\n      <th>130</th>\n      <td>Venezuela</td>\n      <td>5.0532</td>\n      <td>0.890408</td>\n      <td>66.505341</td>\n      <td>0.623278</td>\n      <td>-0.169091</td>\n      <td>0.837038</td>\n      <td>Latin America and Caribbean</td>\n    </tr>\n    <tr>\n      <th>131</th>\n      <td>Vietnam</td>\n      <td>5.3535</td>\n      <td>0.849987</td>\n      <td>67.952736</td>\n      <td>0.939593</td>\n      <td>-0.094533</td>\n      <td>0.796421</td>\n      <td>Southeast Asia</td>\n    </tr>\n    <tr>\n      <th>132</th>\n      <td>Yemen</td>\n      <td>3.5274</td>\n      <td>0.817981</td>\n      <td>56.727283</td>\n      <td>0.599920</td>\n      <td>-0.157735</td>\n      <td>0.800288</td>\n      <td>Middle East and North Africa</td>\n    </tr>\n    <tr>\n      <th>133</th>\n      <td>Zambia</td>\n      <td>3.7594</td>\n      <td>0.698824</td>\n      <td>55.299377</td>\n      <td>0.806500</td>\n      <td>0.078037</td>\n      <td>0.801290</td>\n      <td>Sub-Saharan Africa</td>\n    </tr>\n    <tr>\n      <th>134</th>\n      <td>Zimbabwe</td>\n      <td>3.2992</td>\n      <td>0.763093</td>\n      <td>55.617260</td>\n      <td>0.711458</td>\n      <td>-0.072064</td>\n      <td>0.810237</td>\n      <td>Sub-Saharan Africa</td>\n    </tr>\n  </tbody>\n</table>\n<p>135 rows × 8 columns</p>\n</div>"
     },
     "execution_count": 5,
     "metadata": {},
     "output_type": "execute_result"
    }
   ],
   "source": [
    "happiness"
   ],
   "metadata": {
    "collapsed": false
   }
  },
  {
   "cell_type": "code",
   "execution_count": 6,
   "outputs": [
    {
     "data": {
      "text/plain": "    country_name     area  population literacy\n0    afghanistan   647500    31056997     36.0\n1        albania    28748     3581655     86.5\n2        algeria  2381740    32930091     70.0\n3      argentina  2766890    39921833     97.1\n4        armenia    29800     2976372     98.6\n..           ...      ...         ...      ...\n130    venezuela   912050    25730435     93.4\n131      vietnam   329560    84402966     90.3\n132        yemen   527970    21456188     50.2\n133       zambia   752614    11502010     80.6\n134     zimbabwe   390580    12236805     90.7\n\n[135 rows x 4 columns]",
      "text/html": "<div>\n<style scoped>\n    .dataframe tbody tr th:only-of-type {\n        vertical-align: middle;\n    }\n\n    .dataframe tbody tr th {\n        vertical-align: top;\n    }\n\n    .dataframe thead th {\n        text-align: right;\n    }\n</style>\n<table border=\"1\" class=\"dataframe\">\n  <thead>\n    <tr style=\"text-align: right;\">\n      <th></th>\n      <th>country_name</th>\n      <th>area</th>\n      <th>population</th>\n      <th>literacy</th>\n    </tr>\n  </thead>\n  <tbody>\n    <tr>\n      <th>0</th>\n      <td>afghanistan</td>\n      <td>647500</td>\n      <td>31056997</td>\n      <td>36.0</td>\n    </tr>\n    <tr>\n      <th>1</th>\n      <td>albania</td>\n      <td>28748</td>\n      <td>3581655</td>\n      <td>86.5</td>\n    </tr>\n    <tr>\n      <th>2</th>\n      <td>algeria</td>\n      <td>2381740</td>\n      <td>32930091</td>\n      <td>70.0</td>\n    </tr>\n    <tr>\n      <th>3</th>\n      <td>argentina</td>\n      <td>2766890</td>\n      <td>39921833</td>\n      <td>97.1</td>\n    </tr>\n    <tr>\n      <th>4</th>\n      <td>armenia</td>\n      <td>29800</td>\n      <td>2976372</td>\n      <td>98.6</td>\n    </tr>\n    <tr>\n      <th>...</th>\n      <td>...</td>\n      <td>...</td>\n      <td>...</td>\n      <td>...</td>\n    </tr>\n    <tr>\n      <th>130</th>\n      <td>venezuela</td>\n      <td>912050</td>\n      <td>25730435</td>\n      <td>93.4</td>\n    </tr>\n    <tr>\n      <th>131</th>\n      <td>vietnam</td>\n      <td>329560</td>\n      <td>84402966</td>\n      <td>90.3</td>\n    </tr>\n    <tr>\n      <th>132</th>\n      <td>yemen</td>\n      <td>527970</td>\n      <td>21456188</td>\n      <td>50.2</td>\n    </tr>\n    <tr>\n      <th>133</th>\n      <td>zambia</td>\n      <td>752614</td>\n      <td>11502010</td>\n      <td>80.6</td>\n    </tr>\n    <tr>\n      <th>134</th>\n      <td>zimbabwe</td>\n      <td>390580</td>\n      <td>12236805</td>\n      <td>90.7</td>\n    </tr>\n  </tbody>\n</table>\n<p>135 rows × 4 columns</p>\n</div>"
     },
     "execution_count": 6,
     "metadata": {},
     "output_type": "execute_result"
    }
   ],
   "source": [
    "countries"
   ],
   "metadata": {
    "collapsed": false
   }
  },
  {
   "cell_type": "markdown",
   "metadata": {},
   "source": [
    "## Task 2: Let's merge the data\n",
    "\n",
    "Create a dataframe called *country_features* by merging *happiness* and *countries*. A row of this dataframe must describe all the features that we have about a country.\n",
    "\n",
    "**Hint**: Verify to have all the rows in the final dataframe"
   ]
  },
  {
   "cell_type": "code",
   "execution_count": 7,
   "metadata": {},
   "outputs": [
    {
     "data": {
      "text/plain": "  country_name     area  population literacy      country\n0  afghanistan   647500    31056997     36.0  Afghanistan\n1      albania    28748     3581655     86.5      Albania\n2      algeria  2381740    32930091     70.0      Algeria\n3    argentina  2766890    39921833     97.1    Argentina\n4      armenia    29800     2976372     98.6      Armenia",
      "text/html": "<div>\n<style scoped>\n    .dataframe tbody tr th:only-of-type {\n        vertical-align: middle;\n    }\n\n    .dataframe tbody tr th {\n        vertical-align: top;\n    }\n\n    .dataframe thead th {\n        text-align: right;\n    }\n</style>\n<table border=\"1\" class=\"dataframe\">\n  <thead>\n    <tr style=\"text-align: right;\">\n      <th></th>\n      <th>country_name</th>\n      <th>area</th>\n      <th>population</th>\n      <th>literacy</th>\n      <th>country</th>\n    </tr>\n  </thead>\n  <tbody>\n    <tr>\n      <th>0</th>\n      <td>afghanistan</td>\n      <td>647500</td>\n      <td>31056997</td>\n      <td>36.0</td>\n      <td>Afghanistan</td>\n    </tr>\n    <tr>\n      <th>1</th>\n      <td>albania</td>\n      <td>28748</td>\n      <td>3581655</td>\n      <td>86.5</td>\n      <td>Albania</td>\n    </tr>\n    <tr>\n      <th>2</th>\n      <td>algeria</td>\n      <td>2381740</td>\n      <td>32930091</td>\n      <td>70.0</td>\n      <td>Algeria</td>\n    </tr>\n    <tr>\n      <th>3</th>\n      <td>argentina</td>\n      <td>2766890</td>\n      <td>39921833</td>\n      <td>97.1</td>\n      <td>Argentina</td>\n    </tr>\n    <tr>\n      <th>4</th>\n      <td>armenia</td>\n      <td>29800</td>\n      <td>2976372</td>\n      <td>98.6</td>\n      <td>Armenia</td>\n    </tr>\n  </tbody>\n</table>\n</div>"
     },
     "execution_count": 7,
     "metadata": {},
     "output_type": "execute_result"
    }
   ],
   "source": [
    "# Write your code here\n",
    "countries['country'] = countries['country_name'].apply(lambda x: x.title())\n",
    "countries.head()"
   ]
  },
  {
   "cell_type": "code",
   "execution_count": 8,
   "outputs": [
    {
     "data": {
      "text/plain": "       country  happiness_score  social_support  healthy_life_expectancy  \\\n0  Afghanistan           2.5669        0.470367                52.590000   \n1      Albania           4.8827        0.671070                68.708138   \n2      Algeria           5.0051        0.803385                65.905174   \n3    Argentina           5.9747        0.900568                68.803802   \n4      Armenia           4.6768        0.757479                66.750656   \n\n   freedom_of_choices  generosity  perception_of_corruption  \\\n0            0.396573   -0.096429                  0.933687   \n1            0.781994   -0.042309                  0.896304   \n2            0.466611   -0.121105                  0.735485   \n3            0.831132   -0.194914                  0.842010   \n4            0.712018   -0.138780                  0.773545   \n\n                         world_region     area  population literacy  \n0                          South Asia   647500    31056997     36.0  \n1          Central and Eastern Europe    28748     3581655     86.5  \n2        Middle East and North Africa  2381740    32930091     70.0  \n3         Latin America and Caribbean  2766890    39921833     97.1  \n4  Commonwealth of Independent States    29800     2976372     98.6  ",
      "text/html": "<div>\n<style scoped>\n    .dataframe tbody tr th:only-of-type {\n        vertical-align: middle;\n    }\n\n    .dataframe tbody tr th {\n        vertical-align: top;\n    }\n\n    .dataframe thead th {\n        text-align: right;\n    }\n</style>\n<table border=\"1\" class=\"dataframe\">\n  <thead>\n    <tr style=\"text-align: right;\">\n      <th></th>\n      <th>country</th>\n      <th>happiness_score</th>\n      <th>social_support</th>\n      <th>healthy_life_expectancy</th>\n      <th>freedom_of_choices</th>\n      <th>generosity</th>\n      <th>perception_of_corruption</th>\n      <th>world_region</th>\n      <th>area</th>\n      <th>population</th>\n      <th>literacy</th>\n    </tr>\n  </thead>\n  <tbody>\n    <tr>\n      <th>0</th>\n      <td>Afghanistan</td>\n      <td>2.5669</td>\n      <td>0.470367</td>\n      <td>52.590000</td>\n      <td>0.396573</td>\n      <td>-0.096429</td>\n      <td>0.933687</td>\n      <td>South Asia</td>\n      <td>647500</td>\n      <td>31056997</td>\n      <td>36.0</td>\n    </tr>\n    <tr>\n      <th>1</th>\n      <td>Albania</td>\n      <td>4.8827</td>\n      <td>0.671070</td>\n      <td>68.708138</td>\n      <td>0.781994</td>\n      <td>-0.042309</td>\n      <td>0.896304</td>\n      <td>Central and Eastern Europe</td>\n      <td>28748</td>\n      <td>3581655</td>\n      <td>86.5</td>\n    </tr>\n    <tr>\n      <th>2</th>\n      <td>Algeria</td>\n      <td>5.0051</td>\n      <td>0.803385</td>\n      <td>65.905174</td>\n      <td>0.466611</td>\n      <td>-0.121105</td>\n      <td>0.735485</td>\n      <td>Middle East and North Africa</td>\n      <td>2381740</td>\n      <td>32930091</td>\n      <td>70.0</td>\n    </tr>\n    <tr>\n      <th>3</th>\n      <td>Argentina</td>\n      <td>5.9747</td>\n      <td>0.900568</td>\n      <td>68.803802</td>\n      <td>0.831132</td>\n      <td>-0.194914</td>\n      <td>0.842010</td>\n      <td>Latin America and Caribbean</td>\n      <td>2766890</td>\n      <td>39921833</td>\n      <td>97.1</td>\n    </tr>\n    <tr>\n      <th>4</th>\n      <td>Armenia</td>\n      <td>4.6768</td>\n      <td>0.757479</td>\n      <td>66.750656</td>\n      <td>0.712018</td>\n      <td>-0.138780</td>\n      <td>0.773545</td>\n      <td>Commonwealth of Independent States</td>\n      <td>29800</td>\n      <td>2976372</td>\n      <td>98.6</td>\n    </tr>\n  </tbody>\n</table>\n</div>"
     },
     "execution_count": 8,
     "metadata": {},
     "output_type": "execute_result"
    }
   ],
   "source": [
    "country_features = pd.merge(happiness, countries, on='country').drop('country_name', axis=1)\n",
    "country_features.head()"
   ],
   "metadata": {
    "collapsed": false
   }
  },
  {
   "cell_type": "markdown",
   "metadata": {},
   "source": [
    "## Task 3: Where do people are happier?\n",
    "\n",
    "Print the top 10 countries based on their happiness score (high is better)."
   ]
  },
  {
   "cell_type": "code",
   "execution_count": 212,
   "metadata": {},
   "outputs": [
    {
     "data": {
      "text/plain": "         country  happiness_score\n38       Finland           7.8087\n31       Denmark           7.6456\n115  Switzerland           7.5599\n50       Iceland           7.5045\n92        Norway           7.4880\n87   Netherlands           7.4489\n114       Sweden           7.3535\n88   New Zealand           7.2996\n6        Austria           7.2942\n72    Luxembourg           7.2375",
      "text/html": "<div>\n<style scoped>\n    .dataframe tbody tr th:only-of-type {\n        vertical-align: middle;\n    }\n\n    .dataframe tbody tr th {\n        vertical-align: top;\n    }\n\n    .dataframe thead th {\n        text-align: right;\n    }\n</style>\n<table border=\"1\" class=\"dataframe\">\n  <thead>\n    <tr style=\"text-align: right;\">\n      <th></th>\n      <th>country</th>\n      <th>happiness_score</th>\n    </tr>\n  </thead>\n  <tbody>\n    <tr>\n      <th>38</th>\n      <td>Finland</td>\n      <td>7.8087</td>\n    </tr>\n    <tr>\n      <th>31</th>\n      <td>Denmark</td>\n      <td>7.6456</td>\n    </tr>\n    <tr>\n      <th>115</th>\n      <td>Switzerland</td>\n      <td>7.5599</td>\n    </tr>\n    <tr>\n      <th>50</th>\n      <td>Iceland</td>\n      <td>7.5045</td>\n    </tr>\n    <tr>\n      <th>92</th>\n      <td>Norway</td>\n      <td>7.4880</td>\n    </tr>\n    <tr>\n      <th>87</th>\n      <td>Netherlands</td>\n      <td>7.4489</td>\n    </tr>\n    <tr>\n      <th>114</th>\n      <td>Sweden</td>\n      <td>7.3535</td>\n    </tr>\n    <tr>\n      <th>88</th>\n      <td>New Zealand</td>\n      <td>7.2996</td>\n    </tr>\n    <tr>\n      <th>6</th>\n      <td>Austria</td>\n      <td>7.2942</td>\n    </tr>\n    <tr>\n      <th>72</th>\n      <td>Luxembourg</td>\n      <td>7.2375</td>\n    </tr>\n  </tbody>\n</table>\n</div>"
     },
     "execution_count": 212,
     "metadata": {},
     "output_type": "execute_result"
    }
   ],
   "source": [
    "# Write your code here\n",
    "happiness.sort_values('happiness_score', ascending=False)[['country', 'happiness_score']][:10]"
   ]
  },
  {
   "cell_type": "markdown",
   "metadata": {},
   "source": [
    "We are interested to know in what world region the people are happier. \n",
    "\n",
    "Create and print a dataframe with the (1) average happiness score and (2) the number of contries for each world region.\n",
    "Sort the result to show the happiness ranking."
   ]
  },
  {
   "cell_type": "code",
   "execution_count": 213,
   "metadata": {},
   "outputs": [
    {
     "data": {
      "text/plain": "                                        mean  count\nworld_region                                       \nNorth America and ANZ               7.173525      4\nWestern Europe                      6.967405     20\nLatin America and Caribbean         5.971280     20\nCentral and Eastern Europe          5.891393     14\nSoutheast Asia                      5.517788      8\nEast Asia                           5.483633      3\nCommonwealth of Independent States  5.358342     12\nMiddle East and North Africa        5.269306     16\nSub-Saharan Africa                  4.393856     32\nSouth Asia                          4.355083      6",
      "text/html": "<div>\n<style scoped>\n    .dataframe tbody tr th:only-of-type {\n        vertical-align: middle;\n    }\n\n    .dataframe tbody tr th {\n        vertical-align: top;\n    }\n\n    .dataframe thead th {\n        text-align: right;\n    }\n</style>\n<table border=\"1\" class=\"dataframe\">\n  <thead>\n    <tr style=\"text-align: right;\">\n      <th></th>\n      <th>mean</th>\n      <th>count</th>\n    </tr>\n    <tr>\n      <th>world_region</th>\n      <th></th>\n      <th></th>\n    </tr>\n  </thead>\n  <tbody>\n    <tr>\n      <th>North America and ANZ</th>\n      <td>7.173525</td>\n      <td>4</td>\n    </tr>\n    <tr>\n      <th>Western Europe</th>\n      <td>6.967405</td>\n      <td>20</td>\n    </tr>\n    <tr>\n      <th>Latin America and Caribbean</th>\n      <td>5.971280</td>\n      <td>20</td>\n    </tr>\n    <tr>\n      <th>Central and Eastern Europe</th>\n      <td>5.891393</td>\n      <td>14</td>\n    </tr>\n    <tr>\n      <th>Southeast Asia</th>\n      <td>5.517788</td>\n      <td>8</td>\n    </tr>\n    <tr>\n      <th>East Asia</th>\n      <td>5.483633</td>\n      <td>3</td>\n    </tr>\n    <tr>\n      <th>Commonwealth of Independent States</th>\n      <td>5.358342</td>\n      <td>12</td>\n    </tr>\n    <tr>\n      <th>Middle East and North Africa</th>\n      <td>5.269306</td>\n      <td>16</td>\n    </tr>\n    <tr>\n      <th>Sub-Saharan Africa</th>\n      <td>4.393856</td>\n      <td>32</td>\n    </tr>\n    <tr>\n      <th>South Asia</th>\n      <td>4.355083</td>\n      <td>6</td>\n    </tr>\n  </tbody>\n</table>\n</div>"
     },
     "execution_count": 213,
     "metadata": {},
     "output_type": "execute_result"
    }
   ],
   "source": [
    "# Write your code here\n",
    "world_region_happiness = happiness.groupby(happiness.world_region)['happiness_score'].agg(['mean', 'count'])\n",
    "sort_world_region_happiness = world_region_happiness.sort_values('mean', ascending=False)\n",
    "sort_world_region_happiness"
   ]
  },
  {
   "cell_type": "markdown",
   "metadata": {},
   "source": [
    "The first region has only a few countries! What are them and what is their score?"
   ]
  },
  {
   "cell_type": "code",
   "execution_count": 214,
   "metadata": {},
   "outputs": [
    {
     "data": {
      "text/plain": "           country  happiness_score\n5        Australia           7.2228\n21          Canada           7.2321\n88     New Zealand           7.2996\n127  United States           6.9396",
      "text/html": "<div>\n<style scoped>\n    .dataframe tbody tr th:only-of-type {\n        vertical-align: middle;\n    }\n\n    .dataframe tbody tr th {\n        vertical-align: top;\n    }\n\n    .dataframe thead th {\n        text-align: right;\n    }\n</style>\n<table border=\"1\" class=\"dataframe\">\n  <thead>\n    <tr style=\"text-align: right;\">\n      <th></th>\n      <th>country</th>\n      <th>happiness_score</th>\n    </tr>\n  </thead>\n  <tbody>\n    <tr>\n      <th>5</th>\n      <td>Australia</td>\n      <td>7.2228</td>\n    </tr>\n    <tr>\n      <th>21</th>\n      <td>Canada</td>\n      <td>7.2321</td>\n    </tr>\n    <tr>\n      <th>88</th>\n      <td>New Zealand</td>\n      <td>7.2996</td>\n    </tr>\n    <tr>\n      <th>127</th>\n      <td>United States</td>\n      <td>6.9396</td>\n    </tr>\n  </tbody>\n</table>\n</div>"
     },
     "execution_count": 214,
     "metadata": {},
     "output_type": "execute_result"
    }
   ],
   "source": [
    "# Write your code here\n",
    "countries_happiness = happiness[happiness.world_region == 'North America and ANZ'][['country', 'happiness_score']]\n",
    "countries_happiness"
   ]
  },
  {
   "cell_type": "markdown",
   "metadata": {},
   "source": [
    "## Task 4: How literate is the world?\n",
    "\n",
    "Print the name of countries with a level of literacy of 100%. \n",
    "\n",
    "For each country, print the name and the world region with the format: *{region name} - {country name} ({happiness score})*"
   ]
  },
  {
   "cell_type": "code",
   "execution_count": 10,
   "outputs": [
    {
     "data": {
      "text/plain": "         country  happiness_score  social_support  healthy_life_expectancy  \\\n0    Afghanistan           2.5669        0.470367                52.590000   \n1        Albania           4.8827        0.671070                68.708138   \n2        Algeria           5.0051        0.803385                65.905174   \n3      Argentina           5.9747        0.900568                68.803802   \n4        Armenia           4.6768        0.757479                66.750656   \n..           ...              ...             ...                      ...   \n130    Venezuela           5.0532        0.890408                66.505341   \n131      Vietnam           5.3535        0.849987                67.952736   \n132        Yemen           3.5274        0.817981                56.727283   \n133       Zambia           3.7594        0.698824                55.299377   \n134     Zimbabwe           3.2992        0.763093                55.617260   \n\n     freedom_of_choices  generosity  perception_of_corruption  \\\n0              0.396573   -0.096429                  0.933687   \n1              0.781994   -0.042309                  0.896304   \n2              0.466611   -0.121105                  0.735485   \n3              0.831132   -0.194914                  0.842010   \n4              0.712018   -0.138780                  0.773545   \n..                  ...         ...                       ...   \n130            0.623278   -0.169091                  0.837038   \n131            0.939593   -0.094533                  0.796421   \n132            0.599920   -0.157735                  0.800288   \n133            0.806500    0.078037                  0.801290   \n134            0.711458   -0.072064                  0.810237   \n\n                           world_region     area  population literacy  \n0                            South Asia   647500    31056997     36.0  \n1            Central and Eastern Europe    28748     3581655     86.5  \n2          Middle East and North Africa  2381740    32930091     70.0  \n3           Latin America and Caribbean  2766890    39921833     97.1  \n4    Commonwealth of Independent States    29800     2976372     98.6  \n..                                  ...      ...         ...      ...  \n130         Latin America and Caribbean   912050    25730435     93.4  \n131                      Southeast Asia   329560    84402966     90.3  \n132        Middle East and North Africa   527970    21456188     50.2  \n133                  Sub-Saharan Africa   752614    11502010     80.6  \n134                  Sub-Saharan Africa   390580    12236805     90.7  \n\n[135 rows x 11 columns]",
      "text/html": "<div>\n<style scoped>\n    .dataframe tbody tr th:only-of-type {\n        vertical-align: middle;\n    }\n\n    .dataframe tbody tr th {\n        vertical-align: top;\n    }\n\n    .dataframe thead th {\n        text-align: right;\n    }\n</style>\n<table border=\"1\" class=\"dataframe\">\n  <thead>\n    <tr style=\"text-align: right;\">\n      <th></th>\n      <th>country</th>\n      <th>happiness_score</th>\n      <th>social_support</th>\n      <th>healthy_life_expectancy</th>\n      <th>freedom_of_choices</th>\n      <th>generosity</th>\n      <th>perception_of_corruption</th>\n      <th>world_region</th>\n      <th>area</th>\n      <th>population</th>\n      <th>literacy</th>\n    </tr>\n  </thead>\n  <tbody>\n    <tr>\n      <th>0</th>\n      <td>Afghanistan</td>\n      <td>2.5669</td>\n      <td>0.470367</td>\n      <td>52.590000</td>\n      <td>0.396573</td>\n      <td>-0.096429</td>\n      <td>0.933687</td>\n      <td>South Asia</td>\n      <td>647500</td>\n      <td>31056997</td>\n      <td>36.0</td>\n    </tr>\n    <tr>\n      <th>1</th>\n      <td>Albania</td>\n      <td>4.8827</td>\n      <td>0.671070</td>\n      <td>68.708138</td>\n      <td>0.781994</td>\n      <td>-0.042309</td>\n      <td>0.896304</td>\n      <td>Central and Eastern Europe</td>\n      <td>28748</td>\n      <td>3581655</td>\n      <td>86.5</td>\n    </tr>\n    <tr>\n      <th>2</th>\n      <td>Algeria</td>\n      <td>5.0051</td>\n      <td>0.803385</td>\n      <td>65.905174</td>\n      <td>0.466611</td>\n      <td>-0.121105</td>\n      <td>0.735485</td>\n      <td>Middle East and North Africa</td>\n      <td>2381740</td>\n      <td>32930091</td>\n      <td>70.0</td>\n    </tr>\n    <tr>\n      <th>3</th>\n      <td>Argentina</td>\n      <td>5.9747</td>\n      <td>0.900568</td>\n      <td>68.803802</td>\n      <td>0.831132</td>\n      <td>-0.194914</td>\n      <td>0.842010</td>\n      <td>Latin America and Caribbean</td>\n      <td>2766890</td>\n      <td>39921833</td>\n      <td>97.1</td>\n    </tr>\n    <tr>\n      <th>4</th>\n      <td>Armenia</td>\n      <td>4.6768</td>\n      <td>0.757479</td>\n      <td>66.750656</td>\n      <td>0.712018</td>\n      <td>-0.138780</td>\n      <td>0.773545</td>\n      <td>Commonwealth of Independent States</td>\n      <td>29800</td>\n      <td>2976372</td>\n      <td>98.6</td>\n    </tr>\n    <tr>\n      <th>...</th>\n      <td>...</td>\n      <td>...</td>\n      <td>...</td>\n      <td>...</td>\n      <td>...</td>\n      <td>...</td>\n      <td>...</td>\n      <td>...</td>\n      <td>...</td>\n      <td>...</td>\n      <td>...</td>\n    </tr>\n    <tr>\n      <th>130</th>\n      <td>Venezuela</td>\n      <td>5.0532</td>\n      <td>0.890408</td>\n      <td>66.505341</td>\n      <td>0.623278</td>\n      <td>-0.169091</td>\n      <td>0.837038</td>\n      <td>Latin America and Caribbean</td>\n      <td>912050</td>\n      <td>25730435</td>\n      <td>93.4</td>\n    </tr>\n    <tr>\n      <th>131</th>\n      <td>Vietnam</td>\n      <td>5.3535</td>\n      <td>0.849987</td>\n      <td>67.952736</td>\n      <td>0.939593</td>\n      <td>-0.094533</td>\n      <td>0.796421</td>\n      <td>Southeast Asia</td>\n      <td>329560</td>\n      <td>84402966</td>\n      <td>90.3</td>\n    </tr>\n    <tr>\n      <th>132</th>\n      <td>Yemen</td>\n      <td>3.5274</td>\n      <td>0.817981</td>\n      <td>56.727283</td>\n      <td>0.599920</td>\n      <td>-0.157735</td>\n      <td>0.800288</td>\n      <td>Middle East and North Africa</td>\n      <td>527970</td>\n      <td>21456188</td>\n      <td>50.2</td>\n    </tr>\n    <tr>\n      <th>133</th>\n      <td>Zambia</td>\n      <td>3.7594</td>\n      <td>0.698824</td>\n      <td>55.299377</td>\n      <td>0.806500</td>\n      <td>0.078037</td>\n      <td>0.801290</td>\n      <td>Sub-Saharan Africa</td>\n      <td>752614</td>\n      <td>11502010</td>\n      <td>80.6</td>\n    </tr>\n    <tr>\n      <th>134</th>\n      <td>Zimbabwe</td>\n      <td>3.2992</td>\n      <td>0.763093</td>\n      <td>55.617260</td>\n      <td>0.711458</td>\n      <td>-0.072064</td>\n      <td>0.810237</td>\n      <td>Sub-Saharan Africa</td>\n      <td>390580</td>\n      <td>12236805</td>\n      <td>90.7</td>\n    </tr>\n  </tbody>\n</table>\n<p>135 rows × 11 columns</p>\n</div>"
     },
     "execution_count": 10,
     "metadata": {},
     "output_type": "execute_result"
    }
   ],
   "source": [
    "country_features"
   ],
   "metadata": {
    "collapsed": false
   }
  },
  {
   "cell_type": "code",
   "execution_count": 11,
   "outputs": [
    {
     "data": {
      "text/plain": "       country  happiness_score  social_support  healthy_life_expectancy  \\\n5    Australia           7.2228        0.944855                73.604538   \n31     Denmark           7.6456        0.955991                72.402504   \n38     Finland           7.8087        0.954330                71.900825   \n72  Luxembourg           7.2375        0.906912                72.599998   \n92      Norway           7.4880        0.952487                73.200783   \n\n    freedom_of_choices  generosity  perception_of_corruption  \\\n5             0.915432    0.190460                  0.415169   \n31            0.951444    0.066202                  0.168489   \n38            0.949172   -0.059482                  0.195445   \n72            0.905636   -0.004621                  0.367084   \n92            0.955750    0.134533                  0.263218   \n\n             world_region     area  population literacy  \n5   North America and ANZ  7686850    20264082    100.0  \n31         Western Europe    43094     5450661    100.0  \n38         Western Europe   338145     5231372    100.0  \n72         Western Europe     2586      474413    100.0  \n92         Western Europe   323802     4610820    100.0  ",
      "text/html": "<div>\n<style scoped>\n    .dataframe tbody tr th:only-of-type {\n        vertical-align: middle;\n    }\n\n    .dataframe tbody tr th {\n        vertical-align: top;\n    }\n\n    .dataframe thead th {\n        text-align: right;\n    }\n</style>\n<table border=\"1\" class=\"dataframe\">\n  <thead>\n    <tr style=\"text-align: right;\">\n      <th></th>\n      <th>country</th>\n      <th>happiness_score</th>\n      <th>social_support</th>\n      <th>healthy_life_expectancy</th>\n      <th>freedom_of_choices</th>\n      <th>generosity</th>\n      <th>perception_of_corruption</th>\n      <th>world_region</th>\n      <th>area</th>\n      <th>population</th>\n      <th>literacy</th>\n    </tr>\n  </thead>\n  <tbody>\n    <tr>\n      <th>5</th>\n      <td>Australia</td>\n      <td>7.2228</td>\n      <td>0.944855</td>\n      <td>73.604538</td>\n      <td>0.915432</td>\n      <td>0.190460</td>\n      <td>0.415169</td>\n      <td>North America and ANZ</td>\n      <td>7686850</td>\n      <td>20264082</td>\n      <td>100.0</td>\n    </tr>\n    <tr>\n      <th>31</th>\n      <td>Denmark</td>\n      <td>7.6456</td>\n      <td>0.955991</td>\n      <td>72.402504</td>\n      <td>0.951444</td>\n      <td>0.066202</td>\n      <td>0.168489</td>\n      <td>Western Europe</td>\n      <td>43094</td>\n      <td>5450661</td>\n      <td>100.0</td>\n    </tr>\n    <tr>\n      <th>38</th>\n      <td>Finland</td>\n      <td>7.8087</td>\n      <td>0.954330</td>\n      <td>71.900825</td>\n      <td>0.949172</td>\n      <td>-0.059482</td>\n      <td>0.195445</td>\n      <td>Western Europe</td>\n      <td>338145</td>\n      <td>5231372</td>\n      <td>100.0</td>\n    </tr>\n    <tr>\n      <th>72</th>\n      <td>Luxembourg</td>\n      <td>7.2375</td>\n      <td>0.906912</td>\n      <td>72.599998</td>\n      <td>0.905636</td>\n      <td>-0.004621</td>\n      <td>0.367084</td>\n      <td>Western Europe</td>\n      <td>2586</td>\n      <td>474413</td>\n      <td>100.0</td>\n    </tr>\n    <tr>\n      <th>92</th>\n      <td>Norway</td>\n      <td>7.4880</td>\n      <td>0.952487</td>\n      <td>73.200783</td>\n      <td>0.955750</td>\n      <td>0.134533</td>\n      <td>0.263218</td>\n      <td>Western Europe</td>\n      <td>323802</td>\n      <td>4610820</td>\n      <td>100.0</td>\n    </tr>\n  </tbody>\n</table>\n</div>"
     },
     "execution_count": 11,
     "metadata": {},
     "output_type": "execute_result"
    }
   ],
   "source": [
    "# Write your code here\n",
    "literacy_countries = country_features[country_features['literacy'] == 100.0]\n",
    "literacy_countries.head()"
   ],
   "metadata": {
    "collapsed": false
   }
  },
  {
   "cell_type": "code",
   "execution_count": 12,
   "outputs": [
    {
     "name": "stdout",
     "output_type": "stream",
     "text": [
      "North America and ANZ - Australia (7.222799778)\n",
      "Western Europe - Denmark (7.645599842)\n",
      "Western Europe - Finland (7.808700085)\n",
      "Western Europe - Luxembourg (7.237500191)\n",
      "Western Europe - Norway (7.487999916000001)\n"
     ]
    }
   ],
   "source": [
    "for index, row in literacy_countries.iterrows():\n",
    "    print(f'{row.world_region} - {row.country} ({row.happiness_score})')"
   ],
   "metadata": {
    "collapsed": false
   }
  },
  {
   "cell_type": "markdown",
   "metadata": {},
   "source": [
    "What is the global average?"
   ]
  },
  {
   "cell_type": "code",
   "execution_count": 13,
   "metadata": {},
   "outputs": [
    {
     "name": "stdout",
     "output_type": "stream",
     "text": [
      "The average of the literacy is 81.85112781954886\n"
     ]
    }
   ],
   "source": [
    "# Write your code here\n",
    "print(f'The average of the literacy is {country_features.literacy.mean()}')"
   ]
  },
  {
   "cell_type": "markdown",
   "metadata": {},
   "source": [
    "Calculate the proportion of countries with a literacy level below 50%. Print the value in percentage, formatted with 2 decimals."
   ]
  },
  {
   "cell_type": "code",
   "execution_count": 16,
   "metadata": {},
   "outputs": [
    {
     "name": "stdout",
     "output_type": "stream",
     "text": [
      "Afghanistan - 36.0\n",
      "Bangladesh - 43.1\n",
      "Benin - 40.9\n",
      "Burkina Faso - 26.6\n",
      "Chad - 47.5\n",
      "Ethiopia - 42.7\n",
      "Guinea - 35.9\n",
      "Iraq - 40.4\n",
      "Mali - 46.4\n",
      "Mauritania - 41.7\n",
      "Mozambique - 47.8\n",
      "Nepal - 45.2\n",
      "Niger - 17.6\n",
      "Pakistan - 45.7\n",
      "Senegal - 40.2\n",
      "Sierra Leone - 31.4\n",
      "\n",
      "\n",
      "The percentage is 11.85%\n"
     ]
    }
   ],
   "source": [
    "# Write your code here\n",
    "country_literacy_50 = country_features[country_features['literacy'] < 50]\n",
    "for index, row in country_literacy_50.iterrows():\n",
    "    print(f'{row.country} - {row.literacy}')\n",
    "\n",
    "\n",
    "print('\\n\\nThe percentage is {:.2%}'.format(len(country_literacy_50) / len(country_features)))"
   ]
  },
  {
   "cell_type": "markdown",
   "metadata": {},
   "source": [
    "Print the raw number and the percentage of world population that is illiterate."
   ]
  },
  {
   "cell_type": "code",
   "execution_count": 17,
   "metadata": {},
   "outputs": [
    {
     "name": "stdout",
     "output_type": "stream",
     "text": [
      "The number of illiterate population in the world is 1249372988, the percentage is 20.33%\n"
     ]
    }
   ],
   "source": [
    "# Write your code here\n",
    "world_population_total = country_features.population.sum()\n",
    "\n",
    "number_illiterate = 0\n",
    "for index, row in country_features.iterrows():\n",
    "    if str(row.literacy) != 'nan':\n",
    "        number_illiterate += (1 - row.literacy * 0.01) * row.population\n",
    "\n",
    "print('The number of illiterate population in the world is {:.0f}, the percentage is {:.2%}'.format(number_illiterate, number_illiterate / world_population_total))"
   ]
  },
  {
   "cell_type": "markdown",
   "metadata": {},
   "source": [
    "## Task 5: Population density\n",
    "\n",
    "Add to the dataframe a new field called *population_density* computed by dividing *population* by *area*."
   ]
  },
  {
   "cell_type": "code",
   "execution_count": 18,
   "metadata": {},
   "outputs": [
    {
     "data": {
      "text/plain": "         country  happiness_score  social_support  healthy_life_expectancy  \\\n0    Afghanistan           2.5669        0.470367                52.590000   \n1        Albania           4.8827        0.671070                68.708138   \n2        Algeria           5.0051        0.803385                65.905174   \n3      Argentina           5.9747        0.900568                68.803802   \n4        Armenia           4.6768        0.757479                66.750656   \n..           ...              ...             ...                      ...   \n130    Venezuela           5.0532        0.890408                66.505341   \n131      Vietnam           5.3535        0.849987                67.952736   \n132        Yemen           3.5274        0.817981                56.727283   \n133       Zambia           3.7594        0.698824                55.299377   \n134     Zimbabwe           3.2992        0.763093                55.617260   \n\n     freedom_of_choices  generosity  perception_of_corruption  \\\n0              0.396573   -0.096429                  0.933687   \n1              0.781994   -0.042309                  0.896304   \n2              0.466611   -0.121105                  0.735485   \n3              0.831132   -0.194914                  0.842010   \n4              0.712018   -0.138780                  0.773545   \n..                  ...         ...                       ...   \n130            0.623278   -0.169091                  0.837038   \n131            0.939593   -0.094533                  0.796421   \n132            0.599920   -0.157735                  0.800288   \n133            0.806500    0.078037                  0.801290   \n134            0.711458   -0.072064                  0.810237   \n\n                           world_region     area  population literacy  \\\n0                            South Asia   647500    31056997     36.0   \n1            Central and Eastern Europe    28748     3581655     86.5   \n2          Middle East and North Africa  2381740    32930091     70.0   \n3           Latin America and Caribbean  2766890    39921833     97.1   \n4    Commonwealth of Independent States    29800     2976372     98.6   \n..                                  ...      ...         ...      ...   \n130         Latin America and Caribbean   912050    25730435     93.4   \n131                      Southeast Asia   329560    84402966     90.3   \n132        Middle East and North Africa   527970    21456188     50.2   \n133                  Sub-Saharan Africa   752614    11502010     80.6   \n134                  Sub-Saharan Africa   390580    12236805     90.7   \n\n     population_density  \n0             47.964474  \n1            124.587971  \n2             13.826065  \n3             14.428413  \n4             99.878255  \n..                  ...  \n130           28.211650  \n131          256.108041  \n132           40.639029  \n133           15.282748  \n134           31.329830  \n\n[135 rows x 12 columns]",
      "text/html": "<div>\n<style scoped>\n    .dataframe tbody tr th:only-of-type {\n        vertical-align: middle;\n    }\n\n    .dataframe tbody tr th {\n        vertical-align: top;\n    }\n\n    .dataframe thead th {\n        text-align: right;\n    }\n</style>\n<table border=\"1\" class=\"dataframe\">\n  <thead>\n    <tr style=\"text-align: right;\">\n      <th></th>\n      <th>country</th>\n      <th>happiness_score</th>\n      <th>social_support</th>\n      <th>healthy_life_expectancy</th>\n      <th>freedom_of_choices</th>\n      <th>generosity</th>\n      <th>perception_of_corruption</th>\n      <th>world_region</th>\n      <th>area</th>\n      <th>population</th>\n      <th>literacy</th>\n      <th>population_density</th>\n    </tr>\n  </thead>\n  <tbody>\n    <tr>\n      <th>0</th>\n      <td>Afghanistan</td>\n      <td>2.5669</td>\n      <td>0.470367</td>\n      <td>52.590000</td>\n      <td>0.396573</td>\n      <td>-0.096429</td>\n      <td>0.933687</td>\n      <td>South Asia</td>\n      <td>647500</td>\n      <td>31056997</td>\n      <td>36.0</td>\n      <td>47.964474</td>\n    </tr>\n    <tr>\n      <th>1</th>\n      <td>Albania</td>\n      <td>4.8827</td>\n      <td>0.671070</td>\n      <td>68.708138</td>\n      <td>0.781994</td>\n      <td>-0.042309</td>\n      <td>0.896304</td>\n      <td>Central and Eastern Europe</td>\n      <td>28748</td>\n      <td>3581655</td>\n      <td>86.5</td>\n      <td>124.587971</td>\n    </tr>\n    <tr>\n      <th>2</th>\n      <td>Algeria</td>\n      <td>5.0051</td>\n      <td>0.803385</td>\n      <td>65.905174</td>\n      <td>0.466611</td>\n      <td>-0.121105</td>\n      <td>0.735485</td>\n      <td>Middle East and North Africa</td>\n      <td>2381740</td>\n      <td>32930091</td>\n      <td>70.0</td>\n      <td>13.826065</td>\n    </tr>\n    <tr>\n      <th>3</th>\n      <td>Argentina</td>\n      <td>5.9747</td>\n      <td>0.900568</td>\n      <td>68.803802</td>\n      <td>0.831132</td>\n      <td>-0.194914</td>\n      <td>0.842010</td>\n      <td>Latin America and Caribbean</td>\n      <td>2766890</td>\n      <td>39921833</td>\n      <td>97.1</td>\n      <td>14.428413</td>\n    </tr>\n    <tr>\n      <th>4</th>\n      <td>Armenia</td>\n      <td>4.6768</td>\n      <td>0.757479</td>\n      <td>66.750656</td>\n      <td>0.712018</td>\n      <td>-0.138780</td>\n      <td>0.773545</td>\n      <td>Commonwealth of Independent States</td>\n      <td>29800</td>\n      <td>2976372</td>\n      <td>98.6</td>\n      <td>99.878255</td>\n    </tr>\n    <tr>\n      <th>...</th>\n      <td>...</td>\n      <td>...</td>\n      <td>...</td>\n      <td>...</td>\n      <td>...</td>\n      <td>...</td>\n      <td>...</td>\n      <td>...</td>\n      <td>...</td>\n      <td>...</td>\n      <td>...</td>\n      <td>...</td>\n    </tr>\n    <tr>\n      <th>130</th>\n      <td>Venezuela</td>\n      <td>5.0532</td>\n      <td>0.890408</td>\n      <td>66.505341</td>\n      <td>0.623278</td>\n      <td>-0.169091</td>\n      <td>0.837038</td>\n      <td>Latin America and Caribbean</td>\n      <td>912050</td>\n      <td>25730435</td>\n      <td>93.4</td>\n      <td>28.211650</td>\n    </tr>\n    <tr>\n      <th>131</th>\n      <td>Vietnam</td>\n      <td>5.3535</td>\n      <td>0.849987</td>\n      <td>67.952736</td>\n      <td>0.939593</td>\n      <td>-0.094533</td>\n      <td>0.796421</td>\n      <td>Southeast Asia</td>\n      <td>329560</td>\n      <td>84402966</td>\n      <td>90.3</td>\n      <td>256.108041</td>\n    </tr>\n    <tr>\n      <th>132</th>\n      <td>Yemen</td>\n      <td>3.5274</td>\n      <td>0.817981</td>\n      <td>56.727283</td>\n      <td>0.599920</td>\n      <td>-0.157735</td>\n      <td>0.800288</td>\n      <td>Middle East and North Africa</td>\n      <td>527970</td>\n      <td>21456188</td>\n      <td>50.2</td>\n      <td>40.639029</td>\n    </tr>\n    <tr>\n      <th>133</th>\n      <td>Zambia</td>\n      <td>3.7594</td>\n      <td>0.698824</td>\n      <td>55.299377</td>\n      <td>0.806500</td>\n      <td>0.078037</td>\n      <td>0.801290</td>\n      <td>Sub-Saharan Africa</td>\n      <td>752614</td>\n      <td>11502010</td>\n      <td>80.6</td>\n      <td>15.282748</td>\n    </tr>\n    <tr>\n      <th>134</th>\n      <td>Zimbabwe</td>\n      <td>3.2992</td>\n      <td>0.763093</td>\n      <td>55.617260</td>\n      <td>0.711458</td>\n      <td>-0.072064</td>\n      <td>0.810237</td>\n      <td>Sub-Saharan Africa</td>\n      <td>390580</td>\n      <td>12236805</td>\n      <td>90.7</td>\n      <td>31.329830</td>\n    </tr>\n  </tbody>\n</table>\n<p>135 rows × 12 columns</p>\n</div>"
     },
     "execution_count": 18,
     "metadata": {},
     "output_type": "execute_result"
    }
   ],
   "source": [
    "# Write your code here\n",
    "country_features['population_density'] = country_features.population / country_features.area\n",
    "\n",
    "country_features"
   ]
  },
  {
   "cell_type": "markdown",
   "metadata": {},
   "source": [
    "What is the happiness score of the 3 countries with lowest population density?"
   ]
  },
  {
   "cell_type": "code",
   "execution_count": 19,
   "metadata": {},
   "outputs": [
    {
     "data": {
      "text/plain": "      country  happiness_score  population_density\n83   Mongolia           5.4562            1.810751\n5   Australia           7.2228            2.636201\n14   Botswana           3.4789            2.731371",
      "text/html": "<div>\n<style scoped>\n    .dataframe tbody tr th:only-of-type {\n        vertical-align: middle;\n    }\n\n    .dataframe tbody tr th {\n        vertical-align: top;\n    }\n\n    .dataframe thead th {\n        text-align: right;\n    }\n</style>\n<table border=\"1\" class=\"dataframe\">\n  <thead>\n    <tr style=\"text-align: right;\">\n      <th></th>\n      <th>country</th>\n      <th>happiness_score</th>\n      <th>population_density</th>\n    </tr>\n  </thead>\n  <tbody>\n    <tr>\n      <th>83</th>\n      <td>Mongolia</td>\n      <td>5.4562</td>\n      <td>1.810751</td>\n    </tr>\n    <tr>\n      <th>5</th>\n      <td>Australia</td>\n      <td>7.2228</td>\n      <td>2.636201</td>\n    </tr>\n    <tr>\n      <th>14</th>\n      <td>Botswana</td>\n      <td>3.4789</td>\n      <td>2.731371</td>\n    </tr>\n  </tbody>\n</table>\n</div>"
     },
     "execution_count": 19,
     "metadata": {},
     "output_type": "execute_result"
    }
   ],
   "source": [
    "# Write your code here\n",
    "country_happiness_density = country_features.sort_values('population_density', ascending=True)[['country', 'happiness_score', 'population_density']]\n",
    "country_happiness_density[:3]"
   ]
  },
  {
   "cell_type": "markdown",
   "metadata": {},
   "source": [
    "## Task 6: Healty and happy?\n",
    "\n",
    "Plot in scatter plot the happiness score (x) and healty life expectancy (y)."
   ]
  },
  {
   "cell_type": "code",
   "execution_count": 259,
   "metadata": {},
   "outputs": [
    {
     "data": {
      "text/plain": "<Figure size 640x480 with 1 Axes>",
      "image/png": "[encoded data removed]"
     },
     "metadata": {},
     "output_type": "display_data"
    }
   ],
   "source": [
    "# Write your code here\n",
    "country_features.plot.scatter(x='happiness_score', y='healthy_life_expectancy')\n",
    "plt.show()"
   ]
  },
  {
   "cell_type": "markdown",
   "metadata": {},
   "source": [
    "Feel free to continue the exploration of the dataset! We'll release the solutions next week.\n",
    "\n",
    "----\n",
    "Enjoy EPFL and be happy, next year Switzerland must be #1."
   ]
  }
 ],
 "metadata": {
  "kernelspec": {
   "display_name": "Python 3",
   "language": "python",
   "name": "python3"
  },
  "language_info": {
   "codemirror_mode": {
    "name": "ipython",
    "version": 3
   },
   "file_extension": ".py",
   "mimetype": "text/x-python",
   "name": "python",
   "nbconvert_exporter": "python",
   "pygments_lexer": "ipython3",
   "version": "3.7.7"
  }
 },
 "nbformat": 4,
 "nbformat_minor": 4
}
