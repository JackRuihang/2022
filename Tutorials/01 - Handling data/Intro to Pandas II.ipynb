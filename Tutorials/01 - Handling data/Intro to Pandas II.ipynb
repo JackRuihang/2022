{
 "cells": [
  {
   "cell_type": "markdown",
   "metadata": {
    "toc": "true"
   },
   "source": [
    "<h1>Table of Contents<span class=\"tocSkip\"></span></h1>\n",
    "<div class=\"toc\"><ul class=\"toc-item\"><li><span><a href=\"#Data-Wrangling-with-Pandas\" data-toc-modified-id=\"Data-Wrangling-with-Pandas-1\">Data Wrangling with Pandas</a></span><ul class=\"toc-item\"><li><span><a href=\"#Date/Time-data-handling\" data-toc-modified-id=\"Date/Time-data-handling-1.1\">Date/Time data handling</a></span></li><li><span><a href=\"#Merging-and-joining-DataFrame-objects\" data-toc-modified-id=\"Merging-and-joining-DataFrame-objects-1.2\">Merging and joining DataFrame objects</a></span><ul class=\"toc-item\"><li><span><a href=\"#Exercise-6\" data-toc-modified-id=\"Exercise-6-1.2.1\">Exercise 6</a></span></li></ul></li><li><span><a href=\"#Concatenation\" data-toc-modified-id=\"Concatenation-1.3\">Concatenation</a></span></li><li><span><a href=\"#Reshaping-DataFrame-objects\" data-toc-modified-id=\"Reshaping-DataFrame-objects-1.4\">Reshaping DataFrame objects</a></span></li><li><span><a href=\"#Pivoting\" data-toc-modified-id=\"Pivoting-1.5\">Pivoting</a></span></li><li><span><a href=\"#Data-transformation\" data-toc-modified-id=\"Data-transformation-1.6\">Data transformation</a></span><ul class=\"toc-item\"><li><span><a href=\"#Dealing-with-duplicates\" data-toc-modified-id=\"Dealing-with-duplicates-1.6.1\">Dealing with duplicates</a></span></li><li><span><a href=\"#Value-replacement\" data-toc-modified-id=\"Value-replacement-1.6.2\">Value replacement</a></span></li><li><span><a href=\"#Inidcator-variables\" data-toc-modified-id=\"Inidcator-variables-1.6.3\">Inidcator variables</a></span></li></ul></li><li><span><a href=\"#Categorical-Data\" data-toc-modified-id=\"Categorical-Data-1.7\">Categorical Data</a></span><ul class=\"toc-item\"><li><span><a href=\"#Discretization\" data-toc-modified-id=\"Discretization-1.7.1\">Discretization</a></span></li><li><span><a href=\"#Permutation-and-sampling\" data-toc-modified-id=\"Permutation-and-sampling-1.7.2\">Permutation and sampling</a></span></li></ul></li><li><span><a href=\"#Data-aggregation-and-GroupBy-operations\" data-toc-modified-id=\"Data-aggregation-and-GroupBy-operations-1.8\">Data aggregation and GroupBy operations</a></span><ul class=\"toc-item\"><li><span><a href=\"#Apply\" data-toc-modified-id=\"Apply-1.8.1\">Apply</a></span></li></ul></li><li><span><a href=\"#References\" data-toc-modified-id=\"References-1.9\">References</a></span></li></ul></li></ul></div>"
   ]
  },
  {
   "cell_type": "markdown",
   "metadata": {},
   "source": [
    "# Data Wrangling with Pandas\n",
    "\n",
    "Now that we have been exposed to the basic functionality of Pandas, let's explore some more advanced features that will be useful when addressing more complex data management tasks.\n",
    "\n",
    "As most statisticians/data analysts will admit, often the lion's share of the time spent implementing an analysis is devoted to preparing the data itself, rather than to coding or running a particular model that uses the data. This is where Pandas and  Python's standard library are beneficial, providing high-level, flexible, and efficient tools for manipulating your data as needed.\n"
   ]
  },
  {
   "cell_type": "code",
   "execution_count": 1,
   "metadata": {
    "collapsed": true
   },
   "outputs": [],
   "source": [
    "%matplotlib inline\n",
    "import pandas as pd\n",
    "import numpy as np\n",
    "import matplotlib.pyplot as plt\n",
    "import seaborn as sns\n",
    "sns.set_context('notebook')"
   ]
  },
  {
   "cell_type": "markdown",
   "metadata": {},
   "source": [
    "## Date/Time data handling\n",
    "\n",
    "Date and time data are inherently problematic. There are an unequal number of days in every month, an unequal number of days in a year (due to leap years), and time zones that vary over space. Yet information about time is essential in many analyses, particularly in the case of time series analysis."
   ]
  },
  {
   "cell_type": "markdown",
   "metadata": {},
   "source": [
    "The `datetime` built-in library handles temporal information down to the nanosecond."
   ]
  },
  {
   "cell_type": "code",
   "execution_count": 2,
   "metadata": {
    "collapsed": true
   },
   "outputs": [],
   "source": [
    "from datetime import datetime, date, time"
   ]
  },
  {
   "cell_type": "code",
   "execution_count": 3,
   "metadata": {},
   "outputs": [
    {
     "data": {
      "text/plain": "datetime.datetime(2022, 10, 7, 9, 50, 36, 135136)"
     },
     "execution_count": 3,
     "metadata": {},
     "output_type": "execute_result"
    }
   ],
   "source": [
    "now = datetime.now()\n",
    "now"
   ]
  },
  {
   "cell_type": "code",
   "execution_count": 4,
   "metadata": {},
   "outputs": [
    {
     "data": {
      "text/plain": "datetime.date(1970, 9, 3)"
     },
     "execution_count": 4,
     "metadata": {},
     "output_type": "execute_result"
    }
   ],
   "source": [
    "date(1970, 9, 3)"
   ]
  },
  {
   "cell_type": "markdown",
   "metadata": {},
   "source": [
    "Having a custom data type for dates and times is convenient because we can perform operations on them easily. For example, we may want to calculate the difference between two times:"
   ]
  },
  {
   "cell_type": "code",
   "execution_count": 5,
   "metadata": {},
   "outputs": [
    {
     "data": {
      "text/plain": "52.8"
     },
     "execution_count": 5,
     "metadata": {},
     "output_type": "execute_result"
    }
   ],
   "source": [
    "my_age = now - datetime(1970, 1, 1)\n",
    "my_age.days/365"
   ]
  },
  {
   "cell_type": "markdown",
   "metadata": {},
   "source": [
    "In this section, we will manipulate data collected from ocean-going vessels on the eastern seaboard. Vessel operations are monitored using the Automatic Identification System (AIS), a safety at sea navigation technology which vessels are required to maintain and that uses transponders to transmit very high frequency (VHF) radio signals containing static information including ship name, call sign, and country of origin, as well as dynamic information unique to a particular voyage such as vessel location, heading, and speed. \n",
    "\n",
    "The International Maritime Organization’s (IMO) International Convention for the Safety of Life at Sea requires functioning AIS capabilities on all vessels 300 gross tons or greater and the US Coast Guard requires AIS on nearly all vessels sailing in U.S. waters. The Coast Guard has established a national network of AIS receivers that provides coverage of nearly all U.S. waters. AIS signals are transmitted several times each minute and the network is capable of handling thousands of reports per minute and updates as often as every two seconds. Therefore, a typical voyage in our study might include the transmission of hundreds or thousands of AIS encoded signals. This provides a rich source of spatial data that includes both spatial and temporal information.\n",
    "\n",
    "For our purposes, we will use summarized data that describes the transit of a given vessel through a particular administrative area. The data includes the start and end time of the transit segment, as well as information about the speed of the vessel, how far it travelled, etc."
   ]
  },
  {
   "cell_type": "code",
   "execution_count": 6,
   "metadata": {},
   "outputs": [
    {
     "data": {
      "text/plain": "   mmsi               name  transit  segment  seg_length  avg_sog  min_sog  \\\n0     1        Us Govt Ves        1        1         5.1     13.2      9.2   \n1     1  Dredge Capt Frank        1        1        13.5     18.6     10.4   \n2     1      Us Gov Vessel        1        1         4.3     16.2     10.3   \n3     1      Us Gov Vessel        2        1         9.2     15.4     14.5   \n4     1  Dredge Capt Frank        2        1         9.2     15.4     14.6   \n\n   max_sog  pdgt10        st_time       end_time  \n0     14.5    96.5  2/10/09 16:03  2/10/09 16:27  \n1     20.6   100.0   4/6/09 14:31   4/6/09 15:20  \n2     20.5   100.0   4/6/09 14:36   4/6/09 14:55  \n3     16.1   100.0  4/10/09 17:58  4/10/09 18:34  \n4     16.2   100.0  4/10/09 17:59  4/10/09 18:35  ",
      "text/html": "<div>\n<style scoped>\n    .dataframe tbody tr th:only-of-type {\n        vertical-align: middle;\n    }\n\n    .dataframe tbody tr th {\n        vertical-align: top;\n    }\n\n    .dataframe thead th {\n        text-align: right;\n    }\n</style>\n<table border=\"1\" class=\"dataframe\">\n  <thead>\n    <tr style=\"text-align: right;\">\n      <th></th>\n      <th>mmsi</th>\n      <th>name</th>\n      <th>transit</th>\n      <th>segment</th>\n      <th>seg_length</th>\n      <th>avg_sog</th>\n      <th>min_sog</th>\n      <th>max_sog</th>\n      <th>pdgt10</th>\n      <th>st_time</th>\n      <th>end_time</th>\n    </tr>\n  </thead>\n  <tbody>\n    <tr>\n      <th>0</th>\n      <td>1</td>\n      <td>Us Govt Ves</td>\n      <td>1</td>\n      <td>1</td>\n      <td>5.1</td>\n      <td>13.2</td>\n      <td>9.2</td>\n      <td>14.5</td>\n      <td>96.5</td>\n      <td>2/10/09 16:03</td>\n      <td>2/10/09 16:27</td>\n    </tr>\n    <tr>\n      <th>1</th>\n      <td>1</td>\n      <td>Dredge Capt Frank</td>\n      <td>1</td>\n      <td>1</td>\n      <td>13.5</td>\n      <td>18.6</td>\n      <td>10.4</td>\n      <td>20.6</td>\n      <td>100.0</td>\n      <td>4/6/09 14:31</td>\n      <td>4/6/09 15:20</td>\n    </tr>\n    <tr>\n      <th>2</th>\n      <td>1</td>\n      <td>Us Gov Vessel</td>\n      <td>1</td>\n      <td>1</td>\n      <td>4.3</td>\n      <td>16.2</td>\n      <td>10.3</td>\n      <td>20.5</td>\n      <td>100.0</td>\n      <td>4/6/09 14:36</td>\n      <td>4/6/09 14:55</td>\n    </tr>\n    <tr>\n      <th>3</th>\n      <td>1</td>\n      <td>Us Gov Vessel</td>\n      <td>2</td>\n      <td>1</td>\n      <td>9.2</td>\n      <td>15.4</td>\n      <td>14.5</td>\n      <td>16.1</td>\n      <td>100.0</td>\n      <td>4/10/09 17:58</td>\n      <td>4/10/09 18:34</td>\n    </tr>\n    <tr>\n      <th>4</th>\n      <td>1</td>\n      <td>Dredge Capt Frank</td>\n      <td>2</td>\n      <td>1</td>\n      <td>9.2</td>\n      <td>15.4</td>\n      <td>14.6</td>\n      <td>16.2</td>\n      <td>100.0</td>\n      <td>4/10/09 17:59</td>\n      <td>4/10/09 18:35</td>\n    </tr>\n  </tbody>\n</table>\n</div>"
     },
     "execution_count": 6,
     "metadata": {},
     "output_type": "execute_result"
    }
   ],
   "source": [
    "segments = pd.read_csv(\"Data/transit_segments.csv\")\n",
    "segments.head()"
   ]
  },
  {
   "cell_type": "markdown",
   "metadata": {},
   "source": [
    "For example, we might be interested in the distribution of transit lengths, so we can plot them as a histogram:"
   ]
  },
  {
   "cell_type": "code",
   "execution_count": 7,
   "metadata": {},
   "outputs": [
    {
     "data": {
      "text/plain": "<AxesSubplot:>"
     },
     "execution_count": 7,
     "metadata": {},
     "output_type": "execute_result"
    },
    {
     "data": {
      "text/plain": "<Figure size 640x480 with 1 Axes>",
      "image/png": "[encoded data removed]"
     },
     "metadata": {},
     "output_type": "display_data"
    }
   ],
   "source": [
    "segments.seg_length.hist(bins=500)"
   ]
  },
  {
   "cell_type": "markdown",
   "metadata": {},
   "source": [
    "Though most of the transits appear to be short, there are a few longer distances that make the plot difficult to read. This is where a transformation is useful:"
   ]
  },
  {
   "cell_type": "code",
   "execution_count": 8,
   "metadata": {},
   "outputs": [
    {
     "data": {
      "text/plain": "<AxesSubplot:>"
     },
     "execution_count": 8,
     "metadata": {},
     "output_type": "execute_result"
    },
    {
     "data": {
      "text/plain": "<Figure size 640x480 with 1 Axes>",
      "image/png": "[encoded data removed]"
     },
     "metadata": {},
     "output_type": "display_data"
    }
   ],
   "source": [
    "segments.seg_length.apply(np.log).hist(bins=500)"
   ]
  },
  {
   "cell_type": "markdown",
   "metadata": {},
   "source": [
    "We can see that although there are date/time fields in the dataset, they are not in any specialized format, such as `datetime`."
   ]
  },
  {
   "cell_type": "markdown",
   "metadata": {},
   "source": [
    "Our first order of business will be to convert these data to `datetime`. The `strptime` method parses a string representation of a date and/or time field, according to the expected format of this information."
   ]
  },
  {
   "cell_type": "code",
   "execution_count": 9,
   "outputs": [
    {
     "data": {
      "text/plain": "'2/10/09 16:03'"
     },
     "execution_count": 9,
     "metadata": {},
     "output_type": "execute_result"
    }
   ],
   "source": [
    "segments.st_time.iloc[0]"
   ],
   "metadata": {
    "collapsed": false
   }
  },
  {
   "cell_type": "code",
   "execution_count": 10,
   "outputs": [
    {
     "data": {
      "text/plain": "datetime.datetime(2009, 2, 10, 16, 3)"
     },
     "execution_count": 10,
     "metadata": {},
     "output_type": "execute_result"
    }
   ],
   "source": [
    "datetime.strptime(segments.st_time.iloc[0], '%m/%d/%y %H:%M')"
   ],
   "metadata": {
    "collapsed": false
   }
  },
  {
   "cell_type": "markdown",
   "metadata": {},
   "source": [
    "The `dateutil` package includes a parser that attempts to detect the format of the date strings, and convert them automatically."
   ]
  },
  {
   "cell_type": "code",
   "execution_count": 11,
   "metadata": {
    "collapsed": true
   },
   "outputs": [],
   "source": [
    "from dateutil.parser import parse"
   ]
  },
  {
   "cell_type": "code",
   "execution_count": 12,
   "metadata": {},
   "outputs": [
    {
     "data": {
      "text/plain": "datetime.datetime(2009, 2, 10, 16, 3)"
     },
     "execution_count": 12,
     "metadata": {},
     "output_type": "execute_result"
    }
   ],
   "source": [
    "parse(segments.st_time.iloc[0])"
   ]
  },
  {
   "cell_type": "markdown",
   "metadata": {},
   "source": [
    "We can convert all the dates in a particular column by using the `apply` method."
   ]
  },
  {
   "cell_type": "code",
   "execution_count": 13,
   "metadata": {},
   "outputs": [
    {
     "data": {
      "text/plain": "0   2009-02-10 16:03:00\n1   2009-04-06 14:31:00\n2   2009-04-06 14:36:00\n3   2009-04-10 17:58:00\n4   2009-04-10 17:59:00\n5   2010-03-20 16:06:00\n6   2010-03-20 18:05:00\n7   2011-05-04 11:28:00\n8   2010-06-05 11:23:00\n9   2010-06-08 11:03:00\nName: st_time, dtype: datetime64[ns]"
     },
     "execution_count": 13,
     "metadata": {},
     "output_type": "execute_result"
    }
   ],
   "source": [
    "segments.st_time.apply(lambda d: datetime.strptime(d, '%m/%d/%y %H:%M')).head(10)"
   ]
  },
  {
   "cell_type": "markdown",
   "metadata": {},
   "source": [
    "As a convenience, Pandas has a `to_datetime` method that will parse and convert an entire `Series` of formatted strings into `datetime` objects."
   ]
  },
  {
   "cell_type": "code",
   "execution_count": 14,
   "metadata": {},
   "outputs": [
    {
     "data": {
      "text/plain": "0   2009-02-10 16:03:00\n1   2009-04-06 14:31:00\n2   2009-04-06 14:36:00\n3   2009-04-10 17:58:00\n4   2009-04-10 17:59:00\n5   2010-03-20 16:06:00\n6   2010-03-20 18:05:00\n7   2011-05-04 11:28:00\n8   2010-06-05 11:23:00\n9   2010-06-08 11:03:00\nName: st_time, dtype: datetime64[ns]"
     },
     "execution_count": 14,
     "metadata": {},
     "output_type": "execute_result"
    }
   ],
   "source": [
    "pd.to_datetime(segments.st_time[:10])"
   ]
  },
  {
   "cell_type": "markdown",
   "metadata": {},
   "source": [
    "Pandas also has a custom NA value for missing datetime objects, `NaT`."
   ]
  },
  {
   "cell_type": "code",
   "execution_count": 15,
   "metadata": {},
   "outputs": [
    {
     "data": {
      "text/plain": "DatetimeIndex(['NaT'], dtype='datetime64[ns]', freq=None)"
     },
     "execution_count": 15,
     "metadata": {},
     "output_type": "execute_result"
    }
   ],
   "source": [
    "pd.to_datetime([None])"
   ]
  },
  {
   "cell_type": "markdown",
   "metadata": {},
   "source": [
    "Also, if `to_datetime()` has problems parsing any particular date/time format, you can pass the spec in using the `format=` argument."
   ]
  },
  {
   "cell_type": "markdown",
   "metadata": {},
   "source": [
    "The `read_*` functions now have an optional `parse_dates` argument that try to convert any columns passed to it into `datetime` format upon import:"
   ]
  },
  {
   "cell_type": "code",
   "execution_count": 16,
   "metadata": {
    "collapsed": true
   },
   "outputs": [],
   "source": [
    "segments = pd.read_csv(\"Data/transit_segments.csv\", parse_dates=['st_time', 'end_time'], nrows=1000)"
   ]
  },
  {
   "cell_type": "code",
   "execution_count": 17,
   "metadata": {},
   "outputs": [
    {
     "data": {
      "text/plain": "mmsi                   int64\nname                  object\ntransit                int64\nsegment                int64\nseg_length           float64\navg_sog              float64\nmin_sog              float64\nmax_sog              float64\npdgt10               float64\nst_time       datetime64[ns]\nend_time      datetime64[ns]\ndtype: object"
     },
     "execution_count": 17,
     "metadata": {},
     "output_type": "execute_result"
    }
   ],
   "source": [
    "segments.dtypes"
   ]
  },
  {
   "cell_type": "markdown",
   "metadata": {},
   "source": [
    "Columns of the `datetime` type have an **accessor** to easily extract properties of the data type. This will return a `Series`, with the same row index as the `DataFrame`. For example:"
   ]
  },
  {
   "cell_type": "code",
   "execution_count": 18,
   "outputs": [
    {
     "data": {
      "text/plain": "0     2009-02-10 16:03:00\n1     2009-04-06 14:31:00\n2     2009-04-06 14:36:00\n3     2009-04-10 17:58:00\n4     2009-04-10 17:59:00\n              ...        \n995   2009-09-23 12:22:00\n996   2009-09-23 16:40:00\n997   2009-09-23 16:59:00\n998   2009-09-23 17:31:00\n999   2009-09-23 17:34:00\nName: st_time, Length: 1000, dtype: datetime64[ns]"
     },
     "execution_count": 18,
     "metadata": {},
     "output_type": "execute_result"
    }
   ],
   "source": [
    "segments.st_time"
   ],
   "metadata": {
    "collapsed": false
   }
  },
  {
   "cell_type": "code",
   "execution_count": 19,
   "outputs": [
    {
     "data": {
      "text/plain": "0    2\n1    4\n2    4\n3    4\n4    4\nName: st_time, dtype: int64"
     },
     "execution_count": 19,
     "metadata": {},
     "output_type": "execute_result"
    }
   ],
   "source": [
    "segments.st_time.dt.month.head()"
   ],
   "metadata": {
    "collapsed": false
   }
  },
  {
   "cell_type": "markdown",
   "metadata": {},
   "source": [
    "This can be used to easily filter rows by particular temporal attributes:"
   ]
  },
  {
   "cell_type": "code",
   "execution_count": 20,
   "metadata": {},
   "outputs": [
    {
     "data": {
      "text/plain": "    mmsi         name  transit  segment  seg_length  avg_sog  min_sog  \\\n0      1  Us Govt Ves        1        1         5.1     13.2      9.2   \n78  3011   Charleston       16        1        18.9      0.3      0.0   \n79  3011   Charleston       17        1        19.2      0.3      0.0   \n80  3011   Charleston       18        1        24.7      0.3      0.0   \n81  3011   Charleston       19        1        40.1      0.4      0.0   \n\n    max_sog  pdgt10             st_time            end_time  \n0      14.5    96.5 2009-02-10 16:03:00 2009-02-10 16:27:00  \n78     16.1     0.5 2010-02-07 07:26:00 2010-02-09 19:27:00  \n79      6.4     0.0 2010-02-11 16:56:00 2010-02-14 14:31:00  \n80      5.7     0.0 2010-02-19 11:53:00 2010-02-22 16:50:00  \n81     16.3     0.1 2010-02-23 15:15:00 2010-03-02 14:25:00  ",
      "text/html": "<div>\n<style scoped>\n    .dataframe tbody tr th:only-of-type {\n        vertical-align: middle;\n    }\n\n    .dataframe tbody tr th {\n        vertical-align: top;\n    }\n\n    .dataframe thead th {\n        text-align: right;\n    }\n</style>\n<table border=\"1\" class=\"dataframe\">\n  <thead>\n    <tr style=\"text-align: right;\">\n      <th></th>\n      <th>mmsi</th>\n      <th>name</th>\n      <th>transit</th>\n      <th>segment</th>\n      <th>seg_length</th>\n      <th>avg_sog</th>\n      <th>min_sog</th>\n      <th>max_sog</th>\n      <th>pdgt10</th>\n      <th>st_time</th>\n      <th>end_time</th>\n    </tr>\n  </thead>\n  <tbody>\n    <tr>\n      <th>0</th>\n      <td>1</td>\n      <td>Us Govt Ves</td>\n      <td>1</td>\n      <td>1</td>\n      <td>5.1</td>\n      <td>13.2</td>\n      <td>9.2</td>\n      <td>14.5</td>\n      <td>96.5</td>\n      <td>2009-02-10 16:03:00</td>\n      <td>2009-02-10 16:27:00</td>\n    </tr>\n    <tr>\n      <th>78</th>\n      <td>3011</td>\n      <td>Charleston</td>\n      <td>16</td>\n      <td>1</td>\n      <td>18.9</td>\n      <td>0.3</td>\n      <td>0.0</td>\n      <td>16.1</td>\n      <td>0.5</td>\n      <td>2010-02-07 07:26:00</td>\n      <td>2010-02-09 19:27:00</td>\n    </tr>\n    <tr>\n      <th>79</th>\n      <td>3011</td>\n      <td>Charleston</td>\n      <td>17</td>\n      <td>1</td>\n      <td>19.2</td>\n      <td>0.3</td>\n      <td>0.0</td>\n      <td>6.4</td>\n      <td>0.0</td>\n      <td>2010-02-11 16:56:00</td>\n      <td>2010-02-14 14:31:00</td>\n    </tr>\n    <tr>\n      <th>80</th>\n      <td>3011</td>\n      <td>Charleston</td>\n      <td>18</td>\n      <td>1</td>\n      <td>24.7</td>\n      <td>0.3</td>\n      <td>0.0</td>\n      <td>5.7</td>\n      <td>0.0</td>\n      <td>2010-02-19 11:53:00</td>\n      <td>2010-02-22 16:50:00</td>\n    </tr>\n    <tr>\n      <th>81</th>\n      <td>3011</td>\n      <td>Charleston</td>\n      <td>19</td>\n      <td>1</td>\n      <td>40.1</td>\n      <td>0.4</td>\n      <td>0.0</td>\n      <td>16.3</td>\n      <td>0.1</td>\n      <td>2010-02-23 15:15:00</td>\n      <td>2010-03-02 14:25:00</td>\n    </tr>\n  </tbody>\n</table>\n</div>"
     },
     "execution_count": 20,
     "metadata": {},
     "output_type": "execute_result"
    }
   ],
   "source": [
    "segments[segments.st_time.dt.month==2].head()"
   ]
  },
  {
   "cell_type": "markdown",
   "metadata": {},
   "source": [
    "## Merging and joining DataFrame objects"
   ]
  },
  {
   "cell_type": "markdown",
   "metadata": {},
   "source": [
    "Now that we have the vessel transit information as we need it, we may want a little more information regarding the vessels themselves. In the `data/AIS` folder there is a second table that contains information about each of the ships that traveled the segments in the `segments` table."
   ]
  },
  {
   "cell_type": "code",
   "execution_count": 21,
   "metadata": {},
   "outputs": [
    {
     "data": {
      "text/plain": "      num_names                                              names sov  \\\nmmsi                                                                     \n1             8  Bil Holman Dredge/Dredge Capt Frank/Emo/Offsho...   Y   \n9             3                         000000009/Raven/Shearwater   N   \n21            1                                      Us Gov Vessel   Y   \n74            2                                  Mcfaul/Sarah Bell   N   \n103           3           Ron G/Us Navy Warship 103/Us Warship 103   Y   \n\n         flag flag_type  num_loas                                    loa  \\\nmmsi                                                                       \n1     Unknown   Unknown         7  42.0/48.0/57.0/90.0/138.0/154.0/156.0   \n9     Unknown   Unknown         2                              50.0/62.0   \n21    Unknown   Unknown         1                                  208.0   \n74    Unknown   Unknown         1                                  155.0   \n103   Unknown   Unknown         2                             26.0/155.0   \n\n      max_loa  num_types                             type  \nmmsi                                                       \n1       156.0          4  Dredging/MilOps/Reserved/Towing  \n9        62.0          2                     Pleasure/Tug  \n21      208.0          1                          Unknown  \n74      155.0          1                          Unknown  \n103     155.0          2                   Tanker/Unknown  ",
      "text/html": "<div>\n<style scoped>\n    .dataframe tbody tr th:only-of-type {\n        vertical-align: middle;\n    }\n\n    .dataframe tbody tr th {\n        vertical-align: top;\n    }\n\n    .dataframe thead th {\n        text-align: right;\n    }\n</style>\n<table border=\"1\" class=\"dataframe\">\n  <thead>\n    <tr style=\"text-align: right;\">\n      <th></th>\n      <th>num_names</th>\n      <th>names</th>\n      <th>sov</th>\n      <th>flag</th>\n      <th>flag_type</th>\n      <th>num_loas</th>\n      <th>loa</th>\n      <th>max_loa</th>\n      <th>num_types</th>\n      <th>type</th>\n    </tr>\n    <tr>\n      <th>mmsi</th>\n      <th></th>\n      <th></th>\n      <th></th>\n      <th></th>\n      <th></th>\n      <th></th>\n      <th></th>\n      <th></th>\n      <th></th>\n      <th></th>\n    </tr>\n  </thead>\n  <tbody>\n    <tr>\n      <th>1</th>\n      <td>8</td>\n      <td>Bil Holman Dredge/Dredge Capt Frank/Emo/Offsho...</td>\n      <td>Y</td>\n      <td>Unknown</td>\n      <td>Unknown</td>\n      <td>7</td>\n      <td>42.0/48.0/57.0/90.0/138.0/154.0/156.0</td>\n      <td>156.0</td>\n      <td>4</td>\n      <td>Dredging/MilOps/Reserved/Towing</td>\n    </tr>\n    <tr>\n      <th>9</th>\n      <td>3</td>\n      <td>000000009/Raven/Shearwater</td>\n      <td>N</td>\n      <td>Unknown</td>\n      <td>Unknown</td>\n      <td>2</td>\n      <td>50.0/62.0</td>\n      <td>62.0</td>\n      <td>2</td>\n      <td>Pleasure/Tug</td>\n    </tr>\n    <tr>\n      <th>21</th>\n      <td>1</td>\n      <td>Us Gov Vessel</td>\n      <td>Y</td>\n      <td>Unknown</td>\n      <td>Unknown</td>\n      <td>1</td>\n      <td>208.0</td>\n      <td>208.0</td>\n      <td>1</td>\n      <td>Unknown</td>\n    </tr>\n    <tr>\n      <th>74</th>\n      <td>2</td>\n      <td>Mcfaul/Sarah Bell</td>\n      <td>N</td>\n      <td>Unknown</td>\n      <td>Unknown</td>\n      <td>1</td>\n      <td>155.0</td>\n      <td>155.0</td>\n      <td>1</td>\n      <td>Unknown</td>\n    </tr>\n    <tr>\n      <th>103</th>\n      <td>3</td>\n      <td>Ron G/Us Navy Warship 103/Us Warship 103</td>\n      <td>Y</td>\n      <td>Unknown</td>\n      <td>Unknown</td>\n      <td>2</td>\n      <td>26.0/155.0</td>\n      <td>155.0</td>\n      <td>2</td>\n      <td>Tanker/Unknown</td>\n    </tr>\n  </tbody>\n</table>\n</div>"
     },
     "execution_count": 21,
     "metadata": {},
     "output_type": "execute_result"
    }
   ],
   "source": [
    "vessels = pd.read_csv(\"Data/vessel_information.csv\", index_col='mmsi')\n",
    "vessels.head()"
   ]
  },
  {
   "cell_type": "markdown",
   "metadata": {},
   "source": [
    "The challenge is that several ships have travelled multiple segments, so there is not a one-to-one relationship between the rows of the two tables. **The table of vessel information has a *one-to-many* relationship with the segments**.\n",
    "\n",
    "In Pandas, we can combine tables according to the value of one or more *keys* that are used to identify rows, much like an index. Using a trivial example:"
   ]
  },
  {
   "cell_type": "code",
   "execution_count": 22,
   "metadata": {},
   "outputs": [
    {
     "data": {
      "text/plain": "   id  age\n0   0   29\n1   1   21\n2   2   28\n3   3   28",
      "text/html": "<div>\n<style scoped>\n    .dataframe tbody tr th:only-of-type {\n        vertical-align: middle;\n    }\n\n    .dataframe tbody tr th {\n        vertical-align: top;\n    }\n\n    .dataframe thead th {\n        text-align: right;\n    }\n</style>\n<table border=\"1\" class=\"dataframe\">\n  <thead>\n    <tr style=\"text-align: right;\">\n      <th></th>\n      <th>id</th>\n      <th>age</th>\n    </tr>\n  </thead>\n  <tbody>\n    <tr>\n      <th>0</th>\n      <td>0</td>\n      <td>29</td>\n    </tr>\n    <tr>\n      <th>1</th>\n      <td>1</td>\n      <td>21</td>\n    </tr>\n    <tr>\n      <th>2</th>\n      <td>2</td>\n      <td>28</td>\n    </tr>\n    <tr>\n      <th>3</th>\n      <td>3</td>\n      <td>28</td>\n    </tr>\n  </tbody>\n</table>\n</div>"
     },
     "execution_count": 22,
     "metadata": {},
     "output_type": "execute_result"
    }
   ],
   "source": [
    "df1 = pd.DataFrame(dict(id=range(4), age=np.random.randint(18, 31, size=4)))\n",
    "df2 = pd.DataFrame(dict(id=list(range(3))+list(range(3)), \n",
    "                        score=np.random.random(size=6)))\n",
    "\n",
    "df1"
   ]
  },
  {
   "cell_type": "code",
   "execution_count": 23,
   "metadata": {},
   "outputs": [
    {
     "data": {
      "text/plain": "   id     score\n0   0  0.646708\n1   1  0.819587\n2   2  0.573158\n3   0  0.498250\n4   1  0.083471\n5   2  0.668306",
      "text/html": "<div>\n<style scoped>\n    .dataframe tbody tr th:only-of-type {\n        vertical-align: middle;\n    }\n\n    .dataframe tbody tr th {\n        vertical-align: top;\n    }\n\n    .dataframe thead th {\n        text-align: right;\n    }\n</style>\n<table border=\"1\" class=\"dataframe\">\n  <thead>\n    <tr style=\"text-align: right;\">\n      <th></th>\n      <th>id</th>\n      <th>score</th>\n    </tr>\n  </thead>\n  <tbody>\n    <tr>\n      <th>0</th>\n      <td>0</td>\n      <td>0.646708</td>\n    </tr>\n    <tr>\n      <th>1</th>\n      <td>1</td>\n      <td>0.819587</td>\n    </tr>\n    <tr>\n      <th>2</th>\n      <td>2</td>\n      <td>0.573158</td>\n    </tr>\n    <tr>\n      <th>3</th>\n      <td>0</td>\n      <td>0.498250</td>\n    </tr>\n    <tr>\n      <th>4</th>\n      <td>1</td>\n      <td>0.083471</td>\n    </tr>\n    <tr>\n      <th>5</th>\n      <td>2</td>\n      <td>0.668306</td>\n    </tr>\n  </tbody>\n</table>\n</div>"
     },
     "execution_count": 23,
     "metadata": {},
     "output_type": "execute_result"
    }
   ],
   "source": [
    "df2"
   ]
  },
  {
   "cell_type": "code",
   "execution_count": 24,
   "metadata": {},
   "outputs": [
    {
     "data": {
      "text/plain": "   id  age     score\n0   0   29  0.646708\n1   0   29  0.498250\n2   1   21  0.819587\n3   1   21  0.083471\n4   2   28  0.573158\n5   2   28  0.668306",
      "text/html": "<div>\n<style scoped>\n    .dataframe tbody tr th:only-of-type {\n        vertical-align: middle;\n    }\n\n    .dataframe tbody tr th {\n        vertical-align: top;\n    }\n\n    .dataframe thead th {\n        text-align: right;\n    }\n</style>\n<table border=\"1\" class=\"dataframe\">\n  <thead>\n    <tr style=\"text-align: right;\">\n      <th></th>\n      <th>id</th>\n      <th>age</th>\n      <th>score</th>\n    </tr>\n  </thead>\n  <tbody>\n    <tr>\n      <th>0</th>\n      <td>0</td>\n      <td>29</td>\n      <td>0.646708</td>\n    </tr>\n    <tr>\n      <th>1</th>\n      <td>0</td>\n      <td>29</td>\n      <td>0.498250</td>\n    </tr>\n    <tr>\n      <th>2</th>\n      <td>1</td>\n      <td>21</td>\n      <td>0.819587</td>\n    </tr>\n    <tr>\n      <th>3</th>\n      <td>1</td>\n      <td>21</td>\n      <td>0.083471</td>\n    </tr>\n    <tr>\n      <th>4</th>\n      <td>2</td>\n      <td>28</td>\n      <td>0.573158</td>\n    </tr>\n    <tr>\n      <th>5</th>\n      <td>2</td>\n      <td>28</td>\n      <td>0.668306</td>\n    </tr>\n  </tbody>\n</table>\n</div>"
     },
     "execution_count": 24,
     "metadata": {},
     "output_type": "execute_result"
    }
   ],
   "source": [
    "pd.merge(df1, df2)"
   ]
  },
  {
   "cell_type": "markdown",
   "metadata": {},
   "source": [
    "Notice that without any information about which column to use as a key, Pandas did the right thing and used the `id` column in both tables. Unless specified otherwise, `merge` will used any common column names as keys for merging the tables. \n",
    "\n",
    "Notice also that `id=3` from `df1` was omitted from the merged table. This is because, by default, `merge` performs an **inner join** on the tables, meaning that the merged table represents an intersection of the two tables."
   ]
  },
  {
   "cell_type": "code",
   "execution_count": 25,
   "metadata": {},
   "outputs": [
    {
     "data": {
      "text/plain": "   id  age     score\n0   0   29  0.646708\n1   0   29  0.498250\n2   1   21  0.819587\n3   1   21  0.083471\n4   2   28  0.573158\n5   2   28  0.668306\n6   3   28       NaN",
      "text/html": "<div>\n<style scoped>\n    .dataframe tbody tr th:only-of-type {\n        vertical-align: middle;\n    }\n\n    .dataframe tbody tr th {\n        vertical-align: top;\n    }\n\n    .dataframe thead th {\n        text-align: right;\n    }\n</style>\n<table border=\"1\" class=\"dataframe\">\n  <thead>\n    <tr style=\"text-align: right;\">\n      <th></th>\n      <th>id</th>\n      <th>age</th>\n      <th>score</th>\n    </tr>\n  </thead>\n  <tbody>\n    <tr>\n      <th>0</th>\n      <td>0</td>\n      <td>29</td>\n      <td>0.646708</td>\n    </tr>\n    <tr>\n      <th>1</th>\n      <td>0</td>\n      <td>29</td>\n      <td>0.498250</td>\n    </tr>\n    <tr>\n      <th>2</th>\n      <td>1</td>\n      <td>21</td>\n      <td>0.819587</td>\n    </tr>\n    <tr>\n      <th>3</th>\n      <td>1</td>\n      <td>21</td>\n      <td>0.083471</td>\n    </tr>\n    <tr>\n      <th>4</th>\n      <td>2</td>\n      <td>28</td>\n      <td>0.573158</td>\n    </tr>\n    <tr>\n      <th>5</th>\n      <td>2</td>\n      <td>28</td>\n      <td>0.668306</td>\n    </tr>\n    <tr>\n      <th>6</th>\n      <td>3</td>\n      <td>28</td>\n      <td>NaN</td>\n    </tr>\n  </tbody>\n</table>\n</div>"
     },
     "execution_count": 25,
     "metadata": {},
     "output_type": "execute_result"
    }
   ],
   "source": [
    "pd.merge(df1, df2, how='outer')"
   ]
  },
  {
   "cell_type": "markdown",
   "metadata": {},
   "source": [
    "The **outer join** above yields the union of the two tables, so all rows are represented, with missing values inserted as appropriate. One can also perform **right** and **left** joins to include all rows of the right or left table (*i.e.* first or second argument to `merge`), but not necessarily the other."
   ]
  },
  {
   "cell_type": "markdown",
   "metadata": {},
   "source": [
    "Looking at the two datasets that we wish to merge:"
   ]
  },
  {
   "cell_type": "code",
   "execution_count": 26,
   "metadata": {},
   "outputs": [
    {
     "data": {
      "text/plain": "        mmsi               name  transit  segment  seg_length  avg_sog  \\\n0          1        Us Govt Ves        1        1         5.1     13.2   \n1          1  Dredge Capt Frank        1        1        13.5     18.6   \n2          1      Us Gov Vessel        1        1         4.3     16.2   \n3          1      Us Gov Vessel        2        1         9.2     15.4   \n4          1  Dredge Capt Frank        2        1         9.2     15.4   \n..       ...                ...      ...      ...         ...      ...   \n995  1193046       Msc Colombia        5        1        16.3      1.4   \n996  1193046           Majestic      112        1        16.9     12.8   \n997  1193046         Grizzly 60       16        1        15.0      9.7   \n998  1193046     Minnie Falgout       24        1        14.2      7.8   \n999  1193046             Loriag       17        1        14.5     11.1   \n\n     min_sog  max_sog  pdgt10             st_time            end_time  \n0        9.2     14.5    96.5 2009-02-10 16:03:00 2009-02-10 16:27:00  \n1       10.4     20.6   100.0 2009-04-06 14:31:00 2009-04-06 15:20:00  \n2       10.3     20.5   100.0 2009-04-06 14:36:00 2009-04-06 14:55:00  \n3       14.5     16.1   100.0 2009-04-10 17:58:00 2009-04-10 18:34:00  \n4       14.6     16.2   100.0 2009-04-10 17:59:00 2009-04-10 18:35:00  \n..       ...      ...     ...                 ...                 ...  \n995      0.0     14.1    11.6 2009-09-23 12:22:00 2009-09-23 19:01:00  \n996      0.1     17.0    88.5 2009-09-23 16:40:00 2009-09-23 18:53:00  \n997      0.0     16.9    80.6 2009-09-23 16:59:00 2009-09-23 18:52:00  \n998      0.4     16.0    98.9 2009-09-23 17:31:00 2009-09-23 18:37:00  \n999      0.9     16.8    97.4 2009-09-23 17:34:00 2009-09-23 18:40:00  \n\n[1000 rows x 11 columns]",
      "text/html": "<div>\n<style scoped>\n    .dataframe tbody tr th:only-of-type {\n        vertical-align: middle;\n    }\n\n    .dataframe tbody tr th {\n        vertical-align: top;\n    }\n\n    .dataframe thead th {\n        text-align: right;\n    }\n</style>\n<table border=\"1\" class=\"dataframe\">\n  <thead>\n    <tr style=\"text-align: right;\">\n      <th></th>\n      <th>mmsi</th>\n      <th>name</th>\n      <th>transit</th>\n      <th>segment</th>\n      <th>seg_length</th>\n      <th>avg_sog</th>\n      <th>min_sog</th>\n      <th>max_sog</th>\n      <th>pdgt10</th>\n      <th>st_time</th>\n      <th>end_time</th>\n    </tr>\n  </thead>\n  <tbody>\n    <tr>\n      <th>0</th>\n      <td>1</td>\n      <td>Us Govt Ves</td>\n      <td>1</td>\n      <td>1</td>\n      <td>5.1</td>\n      <td>13.2</td>\n      <td>9.2</td>\n      <td>14.5</td>\n      <td>96.5</td>\n      <td>2009-02-10 16:03:00</td>\n      <td>2009-02-10 16:27:00</td>\n    </tr>\n    <tr>\n      <th>1</th>\n      <td>1</td>\n      <td>Dredge Capt Frank</td>\n      <td>1</td>\n      <td>1</td>\n      <td>13.5</td>\n      <td>18.6</td>\n      <td>10.4</td>\n      <td>20.6</td>\n      <td>100.0</td>\n      <td>2009-04-06 14:31:00</td>\n      <td>2009-04-06 15:20:00</td>\n    </tr>\n    <tr>\n      <th>2</th>\n      <td>1</td>\n      <td>Us Gov Vessel</td>\n      <td>1</td>\n      <td>1</td>\n      <td>4.3</td>\n      <td>16.2</td>\n      <td>10.3</td>\n      <td>20.5</td>\n      <td>100.0</td>\n      <td>2009-04-06 14:36:00</td>\n      <td>2009-04-06 14:55:00</td>\n    </tr>\n    <tr>\n      <th>3</th>\n      <td>1</td>\n      <td>Us Gov Vessel</td>\n      <td>2</td>\n      <td>1</td>\n      <td>9.2</td>\n      <td>15.4</td>\n      <td>14.5</td>\n      <td>16.1</td>\n      <td>100.0</td>\n      <td>2009-04-10 17:58:00</td>\n      <td>2009-04-10 18:34:00</td>\n    </tr>\n    <tr>\n      <th>4</th>\n      <td>1</td>\n      <td>Dredge Capt Frank</td>\n      <td>2</td>\n      <td>1</td>\n      <td>9.2</td>\n      <td>15.4</td>\n      <td>14.6</td>\n      <td>16.2</td>\n      <td>100.0</td>\n      <td>2009-04-10 17:59:00</td>\n      <td>2009-04-10 18:35:00</td>\n    </tr>\n    <tr>\n      <th>...</th>\n      <td>...</td>\n      <td>...</td>\n      <td>...</td>\n      <td>...</td>\n      <td>...</td>\n      <td>...</td>\n      <td>...</td>\n      <td>...</td>\n      <td>...</td>\n      <td>...</td>\n      <td>...</td>\n    </tr>\n    <tr>\n      <th>995</th>\n      <td>1193046</td>\n      <td>Msc Colombia</td>\n      <td>5</td>\n      <td>1</td>\n      <td>16.3</td>\n      <td>1.4</td>\n      <td>0.0</td>\n      <td>14.1</td>\n      <td>11.6</td>\n      <td>2009-09-23 12:22:00</td>\n      <td>2009-09-23 19:01:00</td>\n    </tr>\n    <tr>\n      <th>996</th>\n      <td>1193046</td>\n      <td>Majestic</td>\n      <td>112</td>\n      <td>1</td>\n      <td>16.9</td>\n      <td>12.8</td>\n      <td>0.1</td>\n      <td>17.0</td>\n      <td>88.5</td>\n      <td>2009-09-23 16:40:00</td>\n      <td>2009-09-23 18:53:00</td>\n    </tr>\n    <tr>\n      <th>997</th>\n      <td>1193046</td>\n      <td>Grizzly 60</td>\n      <td>16</td>\n      <td>1</td>\n      <td>15.0</td>\n      <td>9.7</td>\n      <td>0.0</td>\n      <td>16.9</td>\n      <td>80.6</td>\n      <td>2009-09-23 16:59:00</td>\n      <td>2009-09-23 18:52:00</td>\n    </tr>\n    <tr>\n      <th>998</th>\n      <td>1193046</td>\n      <td>Minnie Falgout</td>\n      <td>24</td>\n      <td>1</td>\n      <td>14.2</td>\n      <td>7.8</td>\n      <td>0.4</td>\n      <td>16.0</td>\n      <td>98.9</td>\n      <td>2009-09-23 17:31:00</td>\n      <td>2009-09-23 18:37:00</td>\n    </tr>\n    <tr>\n      <th>999</th>\n      <td>1193046</td>\n      <td>Loriag</td>\n      <td>17</td>\n      <td>1</td>\n      <td>14.5</td>\n      <td>11.1</td>\n      <td>0.9</td>\n      <td>16.8</td>\n      <td>97.4</td>\n      <td>2009-09-23 17:34:00</td>\n      <td>2009-09-23 18:40:00</td>\n    </tr>\n  </tbody>\n</table>\n<p>1000 rows × 11 columns</p>\n</div>"
     },
     "execution_count": 26,
     "metadata": {},
     "output_type": "execute_result"
    }
   ],
   "source": [
    "segments"
   ]
  },
  {
   "cell_type": "code",
   "execution_count": 27,
   "metadata": {},
   "outputs": [
    {
     "data": {
      "text/plain": "           num_names                                              names sov  \\\nmmsi                                                                          \n1                  8  Bil Holman Dredge/Dredge Capt Frank/Emo/Offsho...   Y   \n9                  3                         000000009/Raven/Shearwater   N   \n21                 1                                      Us Gov Vessel   Y   \n74                 2                                  Mcfaul/Sarah Bell   N   \n103                3           Ron G/Us Navy Warship 103/Us Warship 103   Y   \n...              ...                                                ...  ..   \n919191919          1                                                 Oi   N   \n967191190          1                                         Pathfinder   N   \n975318642          1                                     Island Express   N   \n987654321          2                         Island Lookout/Island Tide   N   \n999999999          1                                  Triple Attraction   N   \n\n              flag flag_type  num_loas                                    loa  \\\nmmsi                                                                            \n1          Unknown   Unknown         7  42.0/48.0/57.0/90.0/138.0/154.0/156.0   \n9          Unknown   Unknown         2                              50.0/62.0   \n21         Unknown   Unknown         1                                  208.0   \n74         Unknown   Unknown         1                                  155.0   \n103        Unknown   Unknown         2                             26.0/155.0   \n...            ...       ...       ...                                    ...   \n919191919  Unknown   Unknown         1                                   20.0   \n967191190  Unknown   Unknown         1                                   31.0   \n975318642  Unknown   Unknown         1                                   20.0   \n987654321  Unknown   Unknown         2                              22.0/23.0   \n999999999  Unknown   Unknown         1                                   30.0   \n\n           max_loa  num_types                             type  \nmmsi                                                            \n1            156.0          4  Dredging/MilOps/Reserved/Towing  \n9             62.0          2                     Pleasure/Tug  \n21           208.0          1                          Unknown  \n74           155.0          1                          Unknown  \n103          155.0          2                   Tanker/Unknown  \n...            ...        ...                              ...  \n919191919     20.0          1                         Pleasure  \n967191190     31.0          2                    BigTow/Towing  \n975318642     20.0          1                           Towing  \n987654321     23.0          2                   Fishing/Towing  \n999999999     30.0          1                         Pleasure  \n\n[10771 rows x 10 columns]",
      "text/html": "<div>\n<style scoped>\n    .dataframe tbody tr th:only-of-type {\n        vertical-align: middle;\n    }\n\n    .dataframe tbody tr th {\n        vertical-align: top;\n    }\n\n    .dataframe thead th {\n        text-align: right;\n    }\n</style>\n<table border=\"1\" class=\"dataframe\">\n  <thead>\n    <tr style=\"text-align: right;\">\n      <th></th>\n      <th>num_names</th>\n      <th>names</th>\n      <th>sov</th>\n      <th>flag</th>\n      <th>flag_type</th>\n      <th>num_loas</th>\n      <th>loa</th>\n      <th>max_loa</th>\n      <th>num_types</th>\n      <th>type</th>\n    </tr>\n    <tr>\n      <th>mmsi</th>\n      <th></th>\n      <th></th>\n      <th></th>\n      <th></th>\n      <th></th>\n      <th></th>\n      <th></th>\n      <th></th>\n      <th></th>\n      <th></th>\n    </tr>\n  </thead>\n  <tbody>\n    <tr>\n      <th>1</th>\n      <td>8</td>\n      <td>Bil Holman Dredge/Dredge Capt Frank/Emo/Offsho...</td>\n      <td>Y</td>\n      <td>Unknown</td>\n      <td>Unknown</td>\n      <td>7</td>\n      <td>42.0/48.0/57.0/90.0/138.0/154.0/156.0</td>\n      <td>156.0</td>\n      <td>4</td>\n      <td>Dredging/MilOps/Reserved/Towing</td>\n    </tr>\n    <tr>\n      <th>9</th>\n      <td>3</td>\n      <td>000000009/Raven/Shearwater</td>\n      <td>N</td>\n      <td>Unknown</td>\n      <td>Unknown</td>\n      <td>2</td>\n      <td>50.0/62.0</td>\n      <td>62.0</td>\n      <td>2</td>\n      <td>Pleasure/Tug</td>\n    </tr>\n    <tr>\n      <th>21</th>\n      <td>1</td>\n      <td>Us Gov Vessel</td>\n      <td>Y</td>\n      <td>Unknown</td>\n      <td>Unknown</td>\n      <td>1</td>\n      <td>208.0</td>\n      <td>208.0</td>\n      <td>1</td>\n      <td>Unknown</td>\n    </tr>\n    <tr>\n      <th>74</th>\n      <td>2</td>\n      <td>Mcfaul/Sarah Bell</td>\n      <td>N</td>\n      <td>Unknown</td>\n      <td>Unknown</td>\n      <td>1</td>\n      <td>155.0</td>\n      <td>155.0</td>\n      <td>1</td>\n      <td>Unknown</td>\n    </tr>\n    <tr>\n      <th>103</th>\n      <td>3</td>\n      <td>Ron G/Us Navy Warship 103/Us Warship 103</td>\n      <td>Y</td>\n      <td>Unknown</td>\n      <td>Unknown</td>\n      <td>2</td>\n      <td>26.0/155.0</td>\n      <td>155.0</td>\n      <td>2</td>\n      <td>Tanker/Unknown</td>\n    </tr>\n    <tr>\n      <th>...</th>\n      <td>...</td>\n      <td>...</td>\n      <td>...</td>\n      <td>...</td>\n      <td>...</td>\n      <td>...</td>\n      <td>...</td>\n      <td>...</td>\n      <td>...</td>\n      <td>...</td>\n    </tr>\n    <tr>\n      <th>919191919</th>\n      <td>1</td>\n      <td>Oi</td>\n      <td>N</td>\n      <td>Unknown</td>\n      <td>Unknown</td>\n      <td>1</td>\n      <td>20.0</td>\n      <td>20.0</td>\n      <td>1</td>\n      <td>Pleasure</td>\n    </tr>\n    <tr>\n      <th>967191190</th>\n      <td>1</td>\n      <td>Pathfinder</td>\n      <td>N</td>\n      <td>Unknown</td>\n      <td>Unknown</td>\n      <td>1</td>\n      <td>31.0</td>\n      <td>31.0</td>\n      <td>2</td>\n      <td>BigTow/Towing</td>\n    </tr>\n    <tr>\n      <th>975318642</th>\n      <td>1</td>\n      <td>Island Express</td>\n      <td>N</td>\n      <td>Unknown</td>\n      <td>Unknown</td>\n      <td>1</td>\n      <td>20.0</td>\n      <td>20.0</td>\n      <td>1</td>\n      <td>Towing</td>\n    </tr>\n    <tr>\n      <th>987654321</th>\n      <td>2</td>\n      <td>Island Lookout/Island Tide</td>\n      <td>N</td>\n      <td>Unknown</td>\n      <td>Unknown</td>\n      <td>2</td>\n      <td>22.0/23.0</td>\n      <td>23.0</td>\n      <td>2</td>\n      <td>Fishing/Towing</td>\n    </tr>\n    <tr>\n      <th>999999999</th>\n      <td>1</td>\n      <td>Triple Attraction</td>\n      <td>N</td>\n      <td>Unknown</td>\n      <td>Unknown</td>\n      <td>1</td>\n      <td>30.0</td>\n      <td>30.0</td>\n      <td>1</td>\n      <td>Pleasure</td>\n    </tr>\n  </tbody>\n</table>\n<p>10771 rows × 10 columns</p>\n</div>"
     },
     "execution_count": 27,
     "metadata": {},
     "output_type": "execute_result"
    }
   ],
   "source": [
    "vessels"
   ]
  },
  {
   "cell_type": "code",
   "execution_count": 28,
   "outputs": [
    {
     "name": "stdout",
     "output_type": "stream",
     "text": [
      "Int64Index([        1,         9,        21,        74,       103,       310,\n",
      "                 3011,      4731,     15151,     46809,\n",
      "            ...\n",
      "            857632392, 866946820, 888888882, 888888888, 900000000, 919191919,\n",
      "            967191190, 975318642, 987654321, 999999999],\n",
      "           dtype='int64', name='mmsi', length=10771)\n"
     ]
    }
   ],
   "source": [
    "print(vessels.index)"
   ],
   "metadata": {
    "collapsed": false
   }
  },
  {
   "cell_type": "markdown",
   "metadata": {},
   "source": [
    "we see that there is a `mmsi` value (a vessel identifier) in each table, but it is used as an index for the `vessels` table. In this case, we have to specify to join on the index for this table, and on the `mmsi` column for the other."
   ]
  },
  {
   "cell_type": "code",
   "execution_count": 29,
   "metadata": {
    "collapsed": true
   },
   "outputs": [],
   "source": [
    "segments_merged = pd.merge(vessels, segments, left_index=True, right_on='mmsi')"
   ]
  },
  {
   "cell_type": "code",
   "execution_count": 30,
   "metadata": {},
   "outputs": [
    {
     "data": {
      "text/plain": "     num_names                                              names sov  \\\n0            8  Bil Holman Dredge/Dredge Capt Frank/Emo/Offsho...   Y   \n1            8  Bil Holman Dredge/Dredge Capt Frank/Emo/Offsho...   Y   \n2            8  Bil Holman Dredge/Dredge Capt Frank/Emo/Offsho...   Y   \n3            8  Bil Holman Dredge/Dredge Capt Frank/Emo/Offsho...   Y   \n4            8  Bil Holman Dredge/Dredge Capt Frank/Emo/Offsho...   Y   \n..         ...                                                ...  ..   \n995        168  Albacore/American Freedom/Amsterdam/Amy Choues...   N   \n996        168  Albacore/American Freedom/Amsterdam/Amy Choues...   N   \n997        168  Albacore/American Freedom/Amsterdam/Amy Choues...   N   \n998        168  Albacore/American Freedom/Amsterdam/Amy Choues...   N   \n999        168  Albacore/American Freedom/Amsterdam/Amy Choues...   N   \n\n        flag flag_type  num_loas  \\\n0    Unknown   Unknown         7   \n1    Unknown   Unknown         7   \n2    Unknown   Unknown         7   \n3    Unknown   Unknown         7   \n4    Unknown   Unknown         7   \n..       ...       ...       ...   \n995  Unknown   Unknown        84   \n996  Unknown   Unknown        84   \n997  Unknown   Unknown        84   \n998  Unknown   Unknown        84   \n999  Unknown   Unknown        84   \n\n                                                   loa  max_loa  num_types  \\\n0                42.0/48.0/57.0/90.0/138.0/154.0/156.0    156.0          4   \n1                42.0/48.0/57.0/90.0/138.0/154.0/156.0    156.0          4   \n2                42.0/48.0/57.0/90.0/138.0/154.0/156.0    156.0          4   \n3                42.0/48.0/57.0/90.0/138.0/154.0/156.0    156.0          4   \n4                42.0/48.0/57.0/90.0/138.0/154.0/156.0    156.0          4   \n..                                                 ...      ...        ...   \n995  20.0/21.0/22.0/23.0/24.0/25.0/26.0/28.0/29.0/3...    669.0         14   \n996  20.0/21.0/22.0/23.0/24.0/25.0/26.0/28.0/29.0/3...    669.0         14   \n997  20.0/21.0/22.0/23.0/24.0/25.0/26.0/28.0/29.0/3...    669.0         14   \n998  20.0/21.0/22.0/23.0/24.0/25.0/26.0/28.0/29.0/3...    669.0         14   \n999  20.0/21.0/22.0/23.0/24.0/25.0/26.0/28.0/29.0/3...    669.0         14   \n\n                                                  type  ...  \\\n0                      Dredging/MilOps/Reserved/Towing  ...   \n1                      Dredging/MilOps/Reserved/Towing  ...   \n2                      Dredging/MilOps/Reserved/Towing  ...   \n3                      Dredging/MilOps/Reserved/Towing  ...   \n4                      Dredging/MilOps/Reserved/Towing  ...   \n..                                                 ...  ...   \n995  BigTow/Cargo/Diving/Dredging/Fishing/MilOps/Ot...  ...   \n996  BigTow/Cargo/Diving/Dredging/Fishing/MilOps/Ot...  ...   \n997  BigTow/Cargo/Diving/Dredging/Fishing/MilOps/Ot...  ...   \n998  BigTow/Cargo/Diving/Dredging/Fishing/MilOps/Ot...  ...   \n999  BigTow/Cargo/Diving/Dredging/Fishing/MilOps/Ot...  ...   \n\n                  name transit  segment  seg_length  avg_sog  min_sog  \\\n0          Us Govt Ves       1        1         5.1     13.2      9.2   \n1    Dredge Capt Frank       1        1        13.5     18.6     10.4   \n2        Us Gov Vessel       1        1         4.3     16.2     10.3   \n3        Us Gov Vessel       2        1         9.2     15.4     14.5   \n4    Dredge Capt Frank       2        1         9.2     15.4     14.6   \n..                 ...     ...      ...         ...      ...      ...   \n995       Msc Colombia       5        1        16.3      1.4      0.0   \n996           Majestic     112        1        16.9     12.8      0.1   \n997         Grizzly 60      16        1        15.0      9.7      0.0   \n998     Minnie Falgout      24        1        14.2      7.8      0.4   \n999             Loriag      17        1        14.5     11.1      0.9   \n\n     max_sog  pdgt10             st_time            end_time  \n0       14.5    96.5 2009-02-10 16:03:00 2009-02-10 16:27:00  \n1       20.6   100.0 2009-04-06 14:31:00 2009-04-06 15:20:00  \n2       20.5   100.0 2009-04-06 14:36:00 2009-04-06 14:55:00  \n3       16.1   100.0 2009-04-10 17:58:00 2009-04-10 18:34:00  \n4       16.2   100.0 2009-04-10 17:59:00 2009-04-10 18:35:00  \n..       ...     ...                 ...                 ...  \n995     14.1    11.6 2009-09-23 12:22:00 2009-09-23 19:01:00  \n996     17.0    88.5 2009-09-23 16:40:00 2009-09-23 18:53:00  \n997     16.9    80.6 2009-09-23 16:59:00 2009-09-23 18:52:00  \n998     16.0    98.9 2009-09-23 17:31:00 2009-09-23 18:37:00  \n999     16.8    97.4 2009-09-23 17:34:00 2009-09-23 18:40:00  \n\n[1000 rows x 21 columns]",
      "text/html": "<div>\n<style scoped>\n    .dataframe tbody tr th:only-of-type {\n        vertical-align: middle;\n    }\n\n    .dataframe tbody tr th {\n        vertical-align: top;\n    }\n\n    .dataframe thead th {\n        text-align: right;\n    }\n</style>\n<table border=\"1\" class=\"dataframe\">\n  <thead>\n    <tr style=\"text-align: right;\">\n      <th></th>\n      <th>num_names</th>\n      <th>names</th>\n      <th>sov</th>\n      <th>flag</th>\n      <th>flag_type</th>\n      <th>num_loas</th>\n      <th>loa</th>\n      <th>max_loa</th>\n      <th>num_types</th>\n      <th>type</th>\n      <th>...</th>\n      <th>name</th>\n      <th>transit</th>\n      <th>segment</th>\n      <th>seg_length</th>\n      <th>avg_sog</th>\n      <th>min_sog</th>\n      <th>max_sog</th>\n      <th>pdgt10</th>\n      <th>st_time</th>\n      <th>end_time</th>\n    </tr>\n  </thead>\n  <tbody>\n    <tr>\n      <th>0</th>\n      <td>8</td>\n      <td>Bil Holman Dredge/Dredge Capt Frank/Emo/Offsho...</td>\n      <td>Y</td>\n      <td>Unknown</td>\n      <td>Unknown</td>\n      <td>7</td>\n      <td>42.0/48.0/57.0/90.0/138.0/154.0/156.0</td>\n      <td>156.0</td>\n      <td>4</td>\n      <td>Dredging/MilOps/Reserved/Towing</td>\n      <td>...</td>\n      <td>Us Govt Ves</td>\n      <td>1</td>\n      <td>1</td>\n      <td>5.1</td>\n      <td>13.2</td>\n      <td>9.2</td>\n      <td>14.5</td>\n      <td>96.5</td>\n      <td>2009-02-10 16:03:00</td>\n      <td>2009-02-10 16:27:00</td>\n    </tr>\n    <tr>\n      <th>1</th>\n      <td>8</td>\n      <td>Bil Holman Dredge/Dredge Capt Frank/Emo/Offsho...</td>\n      <td>Y</td>\n      <td>Unknown</td>\n      <td>Unknown</td>\n      <td>7</td>\n      <td>42.0/48.0/57.0/90.0/138.0/154.0/156.0</td>\n      <td>156.0</td>\n      <td>4</td>\n      <td>Dredging/MilOps/Reserved/Towing</td>\n      <td>...</td>\n      <td>Dredge Capt Frank</td>\n      <td>1</td>\n      <td>1</td>\n      <td>13.5</td>\n      <td>18.6</td>\n      <td>10.4</td>\n      <td>20.6</td>\n      <td>100.0</td>\n      <td>2009-04-06 14:31:00</td>\n      <td>2009-04-06 15:20:00</td>\n    </tr>\n    <tr>\n      <th>2</th>\n      <td>8</td>\n      <td>Bil Holman Dredge/Dredge Capt Frank/Emo/Offsho...</td>\n      <td>Y</td>\n      <td>Unknown</td>\n      <td>Unknown</td>\n      <td>7</td>\n      <td>42.0/48.0/57.0/90.0/138.0/154.0/156.0</td>\n      <td>156.0</td>\n      <td>4</td>\n      <td>Dredging/MilOps/Reserved/Towing</td>\n      <td>...</td>\n      <td>Us Gov Vessel</td>\n      <td>1</td>\n      <td>1</td>\n      <td>4.3</td>\n      <td>16.2</td>\n      <td>10.3</td>\n      <td>20.5</td>\n      <td>100.0</td>\n      <td>2009-04-06 14:36:00</td>\n      <td>2009-04-06 14:55:00</td>\n    </tr>\n    <tr>\n      <th>3</th>\n      <td>8</td>\n      <td>Bil Holman Dredge/Dredge Capt Frank/Emo/Offsho...</td>\n      <td>Y</td>\n      <td>Unknown</td>\n      <td>Unknown</td>\n      <td>7</td>\n      <td>42.0/48.0/57.0/90.0/138.0/154.0/156.0</td>\n      <td>156.0</td>\n      <td>4</td>\n      <td>Dredging/MilOps/Reserved/Towing</td>\n      <td>...</td>\n      <td>Us Gov Vessel</td>\n      <td>2</td>\n      <td>1</td>\n      <td>9.2</td>\n      <td>15.4</td>\n      <td>14.5</td>\n      <td>16.1</td>\n      <td>100.0</td>\n      <td>2009-04-10 17:58:00</td>\n      <td>2009-04-10 18:34:00</td>\n    </tr>\n    <tr>\n      <th>4</th>\n      <td>8</td>\n      <td>Bil Holman Dredge/Dredge Capt Frank/Emo/Offsho...</td>\n      <td>Y</td>\n      <td>Unknown</td>\n      <td>Unknown</td>\n      <td>7</td>\n      <td>42.0/48.0/57.0/90.0/138.0/154.0/156.0</td>\n      <td>156.0</td>\n      <td>4</td>\n      <td>Dredging/MilOps/Reserved/Towing</td>\n      <td>...</td>\n      <td>Dredge Capt Frank</td>\n      <td>2</td>\n      <td>1</td>\n      <td>9.2</td>\n      <td>15.4</td>\n      <td>14.6</td>\n      <td>16.2</td>\n      <td>100.0</td>\n      <td>2009-04-10 17:59:00</td>\n      <td>2009-04-10 18:35:00</td>\n    </tr>\n    <tr>\n      <th>...</th>\n      <td>...</td>\n      <td>...</td>\n      <td>...</td>\n      <td>...</td>\n      <td>...</td>\n      <td>...</td>\n      <td>...</td>\n      <td>...</td>\n      <td>...</td>\n      <td>...</td>\n      <td>...</td>\n      <td>...</td>\n      <td>...</td>\n      <td>...</td>\n      <td>...</td>\n      <td>...</td>\n      <td>...</td>\n      <td>...</td>\n      <td>...</td>\n      <td>...</td>\n      <td>...</td>\n    </tr>\n    <tr>\n      <th>995</th>\n      <td>168</td>\n      <td>Albacore/American Freedom/Amsterdam/Amy Choues...</td>\n      <td>N</td>\n      <td>Unknown</td>\n      <td>Unknown</td>\n      <td>84</td>\n      <td>20.0/21.0/22.0/23.0/24.0/25.0/26.0/28.0/29.0/3...</td>\n      <td>669.0</td>\n      <td>14</td>\n      <td>BigTow/Cargo/Diving/Dredging/Fishing/MilOps/Ot...</td>\n      <td>...</td>\n      <td>Msc Colombia</td>\n      <td>5</td>\n      <td>1</td>\n      <td>16.3</td>\n      <td>1.4</td>\n      <td>0.0</td>\n      <td>14.1</td>\n      <td>11.6</td>\n      <td>2009-09-23 12:22:00</td>\n      <td>2009-09-23 19:01:00</td>\n    </tr>\n    <tr>\n      <th>996</th>\n      <td>168</td>\n      <td>Albacore/American Freedom/Amsterdam/Amy Choues...</td>\n      <td>N</td>\n      <td>Unknown</td>\n      <td>Unknown</td>\n      <td>84</td>\n      <td>20.0/21.0/22.0/23.0/24.0/25.0/26.0/28.0/29.0/3...</td>\n      <td>669.0</td>\n      <td>14</td>\n      <td>BigTow/Cargo/Diving/Dredging/Fishing/MilOps/Ot...</td>\n      <td>...</td>\n      <td>Majestic</td>\n      <td>112</td>\n      <td>1</td>\n      <td>16.9</td>\n      <td>12.8</td>\n      <td>0.1</td>\n      <td>17.0</td>\n      <td>88.5</td>\n      <td>2009-09-23 16:40:00</td>\n      <td>2009-09-23 18:53:00</td>\n    </tr>\n    <tr>\n      <th>997</th>\n      <td>168</td>\n      <td>Albacore/American Freedom/Amsterdam/Amy Choues...</td>\n      <td>N</td>\n      <td>Unknown</td>\n      <td>Unknown</td>\n      <td>84</td>\n      <td>20.0/21.0/22.0/23.0/24.0/25.0/26.0/28.0/29.0/3...</td>\n      <td>669.0</td>\n      <td>14</td>\n      <td>BigTow/Cargo/Diving/Dredging/Fishing/MilOps/Ot...</td>\n      <td>...</td>\n      <td>Grizzly 60</td>\n      <td>16</td>\n      <td>1</td>\n      <td>15.0</td>\n      <td>9.7</td>\n      <td>0.0</td>\n      <td>16.9</td>\n      <td>80.6</td>\n      <td>2009-09-23 16:59:00</td>\n      <td>2009-09-23 18:52:00</td>\n    </tr>\n    <tr>\n      <th>998</th>\n      <td>168</td>\n      <td>Albacore/American Freedom/Amsterdam/Amy Choues...</td>\n      <td>N</td>\n      <td>Unknown</td>\n      <td>Unknown</td>\n      <td>84</td>\n      <td>20.0/21.0/22.0/23.0/24.0/25.0/26.0/28.0/29.0/3...</td>\n      <td>669.0</td>\n      <td>14</td>\n      <td>BigTow/Cargo/Diving/Dredging/Fishing/MilOps/Ot...</td>\n      <td>...</td>\n      <td>Minnie Falgout</td>\n      <td>24</td>\n      <td>1</td>\n      <td>14.2</td>\n      <td>7.8</td>\n      <td>0.4</td>\n      <td>16.0</td>\n      <td>98.9</td>\n      <td>2009-09-23 17:31:00</td>\n      <td>2009-09-23 18:37:00</td>\n    </tr>\n    <tr>\n      <th>999</th>\n      <td>168</td>\n      <td>Albacore/American Freedom/Amsterdam/Amy Choues...</td>\n      <td>N</td>\n      <td>Unknown</td>\n      <td>Unknown</td>\n      <td>84</td>\n      <td>20.0/21.0/22.0/23.0/24.0/25.0/26.0/28.0/29.0/3...</td>\n      <td>669.0</td>\n      <td>14</td>\n      <td>BigTow/Cargo/Diving/Dredging/Fishing/MilOps/Ot...</td>\n      <td>...</td>\n      <td>Loriag</td>\n      <td>17</td>\n      <td>1</td>\n      <td>14.5</td>\n      <td>11.1</td>\n      <td>0.9</td>\n      <td>16.8</td>\n      <td>97.4</td>\n      <td>2009-09-23 17:34:00</td>\n      <td>2009-09-23 18:40:00</td>\n    </tr>\n  </tbody>\n</table>\n<p>1000 rows × 21 columns</p>\n</div>"
     },
     "execution_count": 30,
     "metadata": {},
     "output_type": "execute_result"
    }
   ],
   "source": [
    "segments_merged"
   ]
  },
  {
   "cell_type": "markdown",
   "metadata": {},
   "source": [
    "In this case, the default inner join is suitable; we are not interested in observations from either table that do not have corresponding entries in the other. \n",
    "\n",
    "Notice that `mmsi` field that was an index on the `vessels` table is no longer an index on the merged table."
   ]
  },
  {
   "cell_type": "markdown",
   "metadata": {},
   "source": [
    "Here, we used the `merge` function to perform the merge; we could also have used the `merge` *method* for either of the tables:"
   ]
  },
  {
   "cell_type": "code",
   "execution_count": 31,
   "metadata": {},
   "outputs": [
    {
     "data": {
      "text/plain": "   num_names                                              names sov     flag  \\\n0          8  Bil Holman Dredge/Dredge Capt Frank/Emo/Offsho...   Y  Unknown   \n1          8  Bil Holman Dredge/Dredge Capt Frank/Emo/Offsho...   Y  Unknown   \n2          8  Bil Holman Dredge/Dredge Capt Frank/Emo/Offsho...   Y  Unknown   \n3          8  Bil Holman Dredge/Dredge Capt Frank/Emo/Offsho...   Y  Unknown   \n4          8  Bil Holman Dredge/Dredge Capt Frank/Emo/Offsho...   Y  Unknown   \n\n  flag_type  num_loas                                    loa  max_loa  \\\n0   Unknown         7  42.0/48.0/57.0/90.0/138.0/154.0/156.0    156.0   \n1   Unknown         7  42.0/48.0/57.0/90.0/138.0/154.0/156.0    156.0   \n2   Unknown         7  42.0/48.0/57.0/90.0/138.0/154.0/156.0    156.0   \n3   Unknown         7  42.0/48.0/57.0/90.0/138.0/154.0/156.0    156.0   \n4   Unknown         7  42.0/48.0/57.0/90.0/138.0/154.0/156.0    156.0   \n\n   num_types                             type  ...               name transit  \\\n0          4  Dredging/MilOps/Reserved/Towing  ...        Us Govt Ves       1   \n1          4  Dredging/MilOps/Reserved/Towing  ...  Dredge Capt Frank       1   \n2          4  Dredging/MilOps/Reserved/Towing  ...      Us Gov Vessel       1   \n3          4  Dredging/MilOps/Reserved/Towing  ...      Us Gov Vessel       2   \n4          4  Dredging/MilOps/Reserved/Towing  ...  Dredge Capt Frank       2   \n\n   segment  seg_length  avg_sog  min_sog  max_sog  pdgt10             st_time  \\\n0        1         5.1     13.2      9.2     14.5    96.5 2009-02-10 16:03:00   \n1        1        13.5     18.6     10.4     20.6   100.0 2009-04-06 14:31:00   \n2        1         4.3     16.2     10.3     20.5   100.0 2009-04-06 14:36:00   \n3        1         9.2     15.4     14.5     16.1   100.0 2009-04-10 17:58:00   \n4        1         9.2     15.4     14.6     16.2   100.0 2009-04-10 17:59:00   \n\n             end_time  \n0 2009-02-10 16:27:00  \n1 2009-04-06 15:20:00  \n2 2009-04-06 14:55:00  \n3 2009-04-10 18:34:00  \n4 2009-04-10 18:35:00  \n\n[5 rows x 21 columns]",
      "text/html": "<div>\n<style scoped>\n    .dataframe tbody tr th:only-of-type {\n        vertical-align: middle;\n    }\n\n    .dataframe tbody tr th {\n        vertical-align: top;\n    }\n\n    .dataframe thead th {\n        text-align: right;\n    }\n</style>\n<table border=\"1\" class=\"dataframe\">\n  <thead>\n    <tr style=\"text-align: right;\">\n      <th></th>\n      <th>num_names</th>\n      <th>names</th>\n      <th>sov</th>\n      <th>flag</th>\n      <th>flag_type</th>\n      <th>num_loas</th>\n      <th>loa</th>\n      <th>max_loa</th>\n      <th>num_types</th>\n      <th>type</th>\n      <th>...</th>\n      <th>name</th>\n      <th>transit</th>\n      <th>segment</th>\n      <th>seg_length</th>\n      <th>avg_sog</th>\n      <th>min_sog</th>\n      <th>max_sog</th>\n      <th>pdgt10</th>\n      <th>st_time</th>\n      <th>end_time</th>\n    </tr>\n  </thead>\n  <tbody>\n    <tr>\n      <th>0</th>\n      <td>8</td>\n      <td>Bil Holman Dredge/Dredge Capt Frank/Emo/Offsho...</td>\n      <td>Y</td>\n      <td>Unknown</td>\n      <td>Unknown</td>\n      <td>7</td>\n      <td>42.0/48.0/57.0/90.0/138.0/154.0/156.0</td>\n      <td>156.0</td>\n      <td>4</td>\n      <td>Dredging/MilOps/Reserved/Towing</td>\n      <td>...</td>\n      <td>Us Govt Ves</td>\n      <td>1</td>\n      <td>1</td>\n      <td>5.1</td>\n      <td>13.2</td>\n      <td>9.2</td>\n      <td>14.5</td>\n      <td>96.5</td>\n      <td>2009-02-10 16:03:00</td>\n      <td>2009-02-10 16:27:00</td>\n    </tr>\n    <tr>\n      <th>1</th>\n      <td>8</td>\n      <td>Bil Holman Dredge/Dredge Capt Frank/Emo/Offsho...</td>\n      <td>Y</td>\n      <td>Unknown</td>\n      <td>Unknown</td>\n      <td>7</td>\n      <td>42.0/48.0/57.0/90.0/138.0/154.0/156.0</td>\n      <td>156.0</td>\n      <td>4</td>\n      <td>Dredging/MilOps/Reserved/Towing</td>\n      <td>...</td>\n      <td>Dredge Capt Frank</td>\n      <td>1</td>\n      <td>1</td>\n      <td>13.5</td>\n      <td>18.6</td>\n      <td>10.4</td>\n      <td>20.6</td>\n      <td>100.0</td>\n      <td>2009-04-06 14:31:00</td>\n      <td>2009-04-06 15:20:00</td>\n    </tr>\n    <tr>\n      <th>2</th>\n      <td>8</td>\n      <td>Bil Holman Dredge/Dredge Capt Frank/Emo/Offsho...</td>\n      <td>Y</td>\n      <td>Unknown</td>\n      <td>Unknown</td>\n      <td>7</td>\n      <td>42.0/48.0/57.0/90.0/138.0/154.0/156.0</td>\n      <td>156.0</td>\n      <td>4</td>\n      <td>Dredging/MilOps/Reserved/Towing</td>\n      <td>...</td>\n      <td>Us Gov Vessel</td>\n      <td>1</td>\n      <td>1</td>\n      <td>4.3</td>\n      <td>16.2</td>\n      <td>10.3</td>\n      <td>20.5</td>\n      <td>100.0</td>\n      <td>2009-04-06 14:36:00</td>\n      <td>2009-04-06 14:55:00</td>\n    </tr>\n    <tr>\n      <th>3</th>\n      <td>8</td>\n      <td>Bil Holman Dredge/Dredge Capt Frank/Emo/Offsho...</td>\n      <td>Y</td>\n      <td>Unknown</td>\n      <td>Unknown</td>\n      <td>7</td>\n      <td>42.0/48.0/57.0/90.0/138.0/154.0/156.0</td>\n      <td>156.0</td>\n      <td>4</td>\n      <td>Dredging/MilOps/Reserved/Towing</td>\n      <td>...</td>\n      <td>Us Gov Vessel</td>\n      <td>2</td>\n      <td>1</td>\n      <td>9.2</td>\n      <td>15.4</td>\n      <td>14.5</td>\n      <td>16.1</td>\n      <td>100.0</td>\n      <td>2009-04-10 17:58:00</td>\n      <td>2009-04-10 18:34:00</td>\n    </tr>\n    <tr>\n      <th>4</th>\n      <td>8</td>\n      <td>Bil Holman Dredge/Dredge Capt Frank/Emo/Offsho...</td>\n      <td>Y</td>\n      <td>Unknown</td>\n      <td>Unknown</td>\n      <td>7</td>\n      <td>42.0/48.0/57.0/90.0/138.0/154.0/156.0</td>\n      <td>156.0</td>\n      <td>4</td>\n      <td>Dredging/MilOps/Reserved/Towing</td>\n      <td>...</td>\n      <td>Dredge Capt Frank</td>\n      <td>2</td>\n      <td>1</td>\n      <td>9.2</td>\n      <td>15.4</td>\n      <td>14.6</td>\n      <td>16.2</td>\n      <td>100.0</td>\n      <td>2009-04-10 17:59:00</td>\n      <td>2009-04-10 18:35:00</td>\n    </tr>\n  </tbody>\n</table>\n<p>5 rows × 21 columns</p>\n</div>"
     },
     "execution_count": 31,
     "metadata": {},
     "output_type": "execute_result"
    }
   ],
   "source": [
    "vessels.merge(segments, left_index=True, right_on='mmsi').head()"
   ]
  },
  {
   "cell_type": "markdown",
   "metadata": {},
   "source": [
    "Occasionally, there will be fields with the same in both tables that we do not wish to use to join the tables; they may contain different information, despite having the same name. In this case, Pandas will by default append suffixes `_x` and `_y` to the columns to uniquely identify them."
   ]
  },
  {
   "cell_type": "code",
   "execution_count": 32,
   "metadata": {},
   "outputs": [
    {
     "data": {
      "text/plain": "   num_names                                              names sov     flag  \\\n0          8  Bil Holman Dredge/Dredge Capt Frank/Emo/Offsho...   Y  Unknown   \n1          8  Bil Holman Dredge/Dredge Capt Frank/Emo/Offsho...   Y  Unknown   \n2          8  Bil Holman Dredge/Dredge Capt Frank/Emo/Offsho...   Y  Unknown   \n3          8  Bil Holman Dredge/Dredge Capt Frank/Emo/Offsho...   Y  Unknown   \n4          8  Bil Holman Dredge/Dredge Capt Frank/Emo/Offsho...   Y  Unknown   \n\n  flag_type  num_loas                                    loa  max_loa  \\\n0   Unknown         7  42.0/48.0/57.0/90.0/138.0/154.0/156.0    156.0   \n1   Unknown         7  42.0/48.0/57.0/90.0/138.0/154.0/156.0    156.0   \n2   Unknown         7  42.0/48.0/57.0/90.0/138.0/154.0/156.0    156.0   \n3   Unknown         7  42.0/48.0/57.0/90.0/138.0/154.0/156.0    156.0   \n4   Unknown         7  42.0/48.0/57.0/90.0/138.0/154.0/156.0    156.0   \n\n   num_types                           type_x  ...  transit segment  \\\n0          4  Dredging/MilOps/Reserved/Towing  ...        1       1   \n1          4  Dredging/MilOps/Reserved/Towing  ...        1       1   \n2          4  Dredging/MilOps/Reserved/Towing  ...        1       1   \n3          4  Dredging/MilOps/Reserved/Towing  ...        2       1   \n4          4  Dredging/MilOps/Reserved/Towing  ...        2       1   \n\n   seg_length  avg_sog  min_sog  max_sog  pdgt10             st_time  \\\n0         5.1     13.2      9.2     14.5    96.5 2009-02-10 16:03:00   \n1        13.5     18.6     10.4     20.6   100.0 2009-04-06 14:31:00   \n2         4.3     16.2     10.3     20.5   100.0 2009-04-06 14:36:00   \n3         9.2     15.4     14.5     16.1   100.0 2009-04-10 17:58:00   \n4         9.2     15.4     14.6     16.2   100.0 2009-04-10 17:59:00   \n\n             end_time type_y  \n0 2009-02-10 16:27:00    foo  \n1 2009-04-06 15:20:00    foo  \n2 2009-04-06 14:55:00    foo  \n3 2009-04-10 18:34:00    foo  \n4 2009-04-10 18:35:00    foo  \n\n[5 rows x 22 columns]",
      "text/html": "<div>\n<style scoped>\n    .dataframe tbody tr th:only-of-type {\n        vertical-align: middle;\n    }\n\n    .dataframe tbody tr th {\n        vertical-align: top;\n    }\n\n    .dataframe thead th {\n        text-align: right;\n    }\n</style>\n<table border=\"1\" class=\"dataframe\">\n  <thead>\n    <tr style=\"text-align: right;\">\n      <th></th>\n      <th>num_names</th>\n      <th>names</th>\n      <th>sov</th>\n      <th>flag</th>\n      <th>flag_type</th>\n      <th>num_loas</th>\n      <th>loa</th>\n      <th>max_loa</th>\n      <th>num_types</th>\n      <th>type_x</th>\n      <th>...</th>\n      <th>transit</th>\n      <th>segment</th>\n      <th>seg_length</th>\n      <th>avg_sog</th>\n      <th>min_sog</th>\n      <th>max_sog</th>\n      <th>pdgt10</th>\n      <th>st_time</th>\n      <th>end_time</th>\n      <th>type_y</th>\n    </tr>\n  </thead>\n  <tbody>\n    <tr>\n      <th>0</th>\n      <td>8</td>\n      <td>Bil Holman Dredge/Dredge Capt Frank/Emo/Offsho...</td>\n      <td>Y</td>\n      <td>Unknown</td>\n      <td>Unknown</td>\n      <td>7</td>\n      <td>42.0/48.0/57.0/90.0/138.0/154.0/156.0</td>\n      <td>156.0</td>\n      <td>4</td>\n      <td>Dredging/MilOps/Reserved/Towing</td>\n      <td>...</td>\n      <td>1</td>\n      <td>1</td>\n      <td>5.1</td>\n      <td>13.2</td>\n      <td>9.2</td>\n      <td>14.5</td>\n      <td>96.5</td>\n      <td>2009-02-10 16:03:00</td>\n      <td>2009-02-10 16:27:00</td>\n      <td>foo</td>\n    </tr>\n    <tr>\n      <th>1</th>\n      <td>8</td>\n      <td>Bil Holman Dredge/Dredge Capt Frank/Emo/Offsho...</td>\n      <td>Y</td>\n      <td>Unknown</td>\n      <td>Unknown</td>\n      <td>7</td>\n      <td>42.0/48.0/57.0/90.0/138.0/154.0/156.0</td>\n      <td>156.0</td>\n      <td>4</td>\n      <td>Dredging/MilOps/Reserved/Towing</td>\n      <td>...</td>\n      <td>1</td>\n      <td>1</td>\n      <td>13.5</td>\n      <td>18.6</td>\n      <td>10.4</td>\n      <td>20.6</td>\n      <td>100.0</td>\n      <td>2009-04-06 14:31:00</td>\n      <td>2009-04-06 15:20:00</td>\n      <td>foo</td>\n    </tr>\n    <tr>\n      <th>2</th>\n      <td>8</td>\n      <td>Bil Holman Dredge/Dredge Capt Frank/Emo/Offsho...</td>\n      <td>Y</td>\n      <td>Unknown</td>\n      <td>Unknown</td>\n      <td>7</td>\n      <td>42.0/48.0/57.0/90.0/138.0/154.0/156.0</td>\n      <td>156.0</td>\n      <td>4</td>\n      <td>Dredging/MilOps/Reserved/Towing</td>\n      <td>...</td>\n      <td>1</td>\n      <td>1</td>\n      <td>4.3</td>\n      <td>16.2</td>\n      <td>10.3</td>\n      <td>20.5</td>\n      <td>100.0</td>\n      <td>2009-04-06 14:36:00</td>\n      <td>2009-04-06 14:55:00</td>\n      <td>foo</td>\n    </tr>\n    <tr>\n      <th>3</th>\n      <td>8</td>\n      <td>Bil Holman Dredge/Dredge Capt Frank/Emo/Offsho...</td>\n      <td>Y</td>\n      <td>Unknown</td>\n      <td>Unknown</td>\n      <td>7</td>\n      <td>42.0/48.0/57.0/90.0/138.0/154.0/156.0</td>\n      <td>156.0</td>\n      <td>4</td>\n      <td>Dredging/MilOps/Reserved/Towing</td>\n      <td>...</td>\n      <td>2</td>\n      <td>1</td>\n      <td>9.2</td>\n      <td>15.4</td>\n      <td>14.5</td>\n      <td>16.1</td>\n      <td>100.0</td>\n      <td>2009-04-10 17:58:00</td>\n      <td>2009-04-10 18:34:00</td>\n      <td>foo</td>\n    </tr>\n    <tr>\n      <th>4</th>\n      <td>8</td>\n      <td>Bil Holman Dredge/Dredge Capt Frank/Emo/Offsho...</td>\n      <td>Y</td>\n      <td>Unknown</td>\n      <td>Unknown</td>\n      <td>7</td>\n      <td>42.0/48.0/57.0/90.0/138.0/154.0/156.0</td>\n      <td>156.0</td>\n      <td>4</td>\n      <td>Dredging/MilOps/Reserved/Towing</td>\n      <td>...</td>\n      <td>2</td>\n      <td>1</td>\n      <td>9.2</td>\n      <td>15.4</td>\n      <td>14.6</td>\n      <td>16.2</td>\n      <td>100.0</td>\n      <td>2009-04-10 17:59:00</td>\n      <td>2009-04-10 18:35:00</td>\n      <td>foo</td>\n    </tr>\n  </tbody>\n</table>\n<p>5 rows × 22 columns</p>\n</div>"
     },
     "execution_count": 32,
     "metadata": {},
     "output_type": "execute_result"
    }
   ],
   "source": [
    "segments['type'] = 'foo'\n",
    "pd.merge(vessels, segments, left_index=True, right_on='mmsi').head()"
   ]
  },
  {
   "cell_type": "markdown",
   "metadata": {},
   "source": [
    "This behavior can be overridden by specifying a `suffixes` argument, containing a list of the suffixes to be used for the columns of the left and right columns, respectively."
   ]
  },
  {
   "cell_type": "markdown",
   "metadata": {},
   "source": [
    "### Exercise 6\n",
    "Fix the following `merge` in order to return a non-empty `DataFrame`."
   ]
  },
  {
   "cell_type": "code",
   "execution_count": 33,
   "metadata": {},
   "outputs": [
    {
     "name": "stdout",
     "output_type": "stream",
     "text": [
      "Empty DataFrame\n",
      "Columns: [mmsi, name, transit, segment, seg_length, avg_sog, min_sog, max_sog, pdgt10, st_time, end_time, type, num_names, names, sov, flag, flag_type, num_loas, loa, max_loa, num_types]\n",
      "Index: []\n",
      "\n",
      "[0 rows x 21 columns]\n"
     ]
    },
    {
     "data": {
      "text/plain": "   mmsi               name  transit  segment  seg_length  avg_sog  min_sog  \\\n0     1        Us Govt Ves        1        1         5.1     13.2      9.2   \n1     1  Dredge Capt Frank        1        1        13.5     18.6     10.4   \n2     1      Us Gov Vessel        1        1         4.3     16.2     10.3   \n3     1      Us Gov Vessel        2        1         9.2     15.4     14.5   \n4     1  Dredge Capt Frank        2        1         9.2     15.4     14.6   \n5     1  Bil Holman Dredge        1        1        17.4     34.3     33.9   \n6     1  Bil Holman Dredge        1        2        76.0     34.4     33.8   \n7     1         S.d. Gumel        1        1        13.7      6.9      3.0   \n8     9         Shearwater        4        1        11.6      8.8      7.9   \n9     9         Shearwater        8        1        11.6      8.3      7.4   \n\n   max_sog  pdgt10             st_time  ... num_names  \\\n0     14.5    96.5 2009-02-10 16:03:00  ...         8   \n1     20.6   100.0 2009-04-06 14:31:00  ...         8   \n2     20.5   100.0 2009-04-06 14:36:00  ...         8   \n3     16.1   100.0 2009-04-10 17:58:00  ...         8   \n4     16.2   100.0 2009-04-10 17:59:00  ...         8   \n5     35.0   100.0 2010-03-20 16:06:00  ...         8   \n6     34.9   100.0 2010-03-20 18:05:00  ...         8   \n7     14.0    38.2 2011-05-04 11:28:00  ...         8   \n8     10.3     0.0 2010-06-05 11:23:00  ...         3   \n9      9.2     0.0 2010-06-08 11:03:00  ...         3   \n\n                                               names  sov     flag flag_type  \\\n0  Bil Holman Dredge/Dredge Capt Frank/Emo/Offsho...    Y  Unknown   Unknown   \n1  Bil Holman Dredge/Dredge Capt Frank/Emo/Offsho...    Y  Unknown   Unknown   \n2  Bil Holman Dredge/Dredge Capt Frank/Emo/Offsho...    Y  Unknown   Unknown   \n3  Bil Holman Dredge/Dredge Capt Frank/Emo/Offsho...    Y  Unknown   Unknown   \n4  Bil Holman Dredge/Dredge Capt Frank/Emo/Offsho...    Y  Unknown   Unknown   \n5  Bil Holman Dredge/Dredge Capt Frank/Emo/Offsho...    Y  Unknown   Unknown   \n6  Bil Holman Dredge/Dredge Capt Frank/Emo/Offsho...    Y  Unknown   Unknown   \n7  Bil Holman Dredge/Dredge Capt Frank/Emo/Offsho...    Y  Unknown   Unknown   \n8                         000000009/Raven/Shearwater    N  Unknown   Unknown   \n9                         000000009/Raven/Shearwater    N  Unknown   Unknown   \n\n  num_loas                                    loa  max_loa num_types  \\\n0        7  42.0/48.0/57.0/90.0/138.0/154.0/156.0    156.0         4   \n1        7  42.0/48.0/57.0/90.0/138.0/154.0/156.0    156.0         4   \n2        7  42.0/48.0/57.0/90.0/138.0/154.0/156.0    156.0         4   \n3        7  42.0/48.0/57.0/90.0/138.0/154.0/156.0    156.0         4   \n4        7  42.0/48.0/57.0/90.0/138.0/154.0/156.0    156.0         4   \n5        7  42.0/48.0/57.0/90.0/138.0/154.0/156.0    156.0         4   \n6        7  42.0/48.0/57.0/90.0/138.0/154.0/156.0    156.0         4   \n7        7  42.0/48.0/57.0/90.0/138.0/154.0/156.0    156.0         4   \n8        2                              50.0/62.0     62.0         2   \n9        2                              50.0/62.0     62.0         2   \n\n                            type_y  \n0  Dredging/MilOps/Reserved/Towing  \n1  Dredging/MilOps/Reserved/Towing  \n2  Dredging/MilOps/Reserved/Towing  \n3  Dredging/MilOps/Reserved/Towing  \n4  Dredging/MilOps/Reserved/Towing  \n5  Dredging/MilOps/Reserved/Towing  \n6  Dredging/MilOps/Reserved/Towing  \n7  Dredging/MilOps/Reserved/Towing  \n8                     Pleasure/Tug  \n9                     Pleasure/Tug  \n\n[10 rows x 22 columns]",
      "text/html": "<div>\n<style scoped>\n    .dataframe tbody tr th:only-of-type {\n        vertical-align: middle;\n    }\n\n    .dataframe tbody tr th {\n        vertical-align: top;\n    }\n\n    .dataframe thead th {\n        text-align: right;\n    }\n</style>\n<table border=\"1\" class=\"dataframe\">\n  <thead>\n    <tr style=\"text-align: right;\">\n      <th></th>\n      <th>mmsi</th>\n      <th>name</th>\n      <th>transit</th>\n      <th>segment</th>\n      <th>seg_length</th>\n      <th>avg_sog</th>\n      <th>min_sog</th>\n      <th>max_sog</th>\n      <th>pdgt10</th>\n      <th>st_time</th>\n      <th>...</th>\n      <th>num_names</th>\n      <th>names</th>\n      <th>sov</th>\n      <th>flag</th>\n      <th>flag_type</th>\n      <th>num_loas</th>\n      <th>loa</th>\n      <th>max_loa</th>\n      <th>num_types</th>\n      <th>type_y</th>\n    </tr>\n  </thead>\n  <tbody>\n    <tr>\n      <th>0</th>\n      <td>1</td>\n      <td>Us Govt Ves</td>\n      <td>1</td>\n      <td>1</td>\n      <td>5.1</td>\n      <td>13.2</td>\n      <td>9.2</td>\n      <td>14.5</td>\n      <td>96.5</td>\n      <td>2009-02-10 16:03:00</td>\n      <td>...</td>\n      <td>8</td>\n      <td>Bil Holman Dredge/Dredge Capt Frank/Emo/Offsho...</td>\n      <td>Y</td>\n      <td>Unknown</td>\n      <td>Unknown</td>\n      <td>7</td>\n      <td>42.0/48.0/57.0/90.0/138.0/154.0/156.0</td>\n      <td>156.0</td>\n      <td>4</td>\n      <td>Dredging/MilOps/Reserved/Towing</td>\n    </tr>\n    <tr>\n      <th>1</th>\n      <td>1</td>\n      <td>Dredge Capt Frank</td>\n      <td>1</td>\n      <td>1</td>\n      <td>13.5</td>\n      <td>18.6</td>\n      <td>10.4</td>\n      <td>20.6</td>\n      <td>100.0</td>\n      <td>2009-04-06 14:31:00</td>\n      <td>...</td>\n      <td>8</td>\n      <td>Bil Holman Dredge/Dredge Capt Frank/Emo/Offsho...</td>\n      <td>Y</td>\n      <td>Unknown</td>\n      <td>Unknown</td>\n      <td>7</td>\n      <td>42.0/48.0/57.0/90.0/138.0/154.0/156.0</td>\n      <td>156.0</td>\n      <td>4</td>\n      <td>Dredging/MilOps/Reserved/Towing</td>\n    </tr>\n    <tr>\n      <th>2</th>\n      <td>1</td>\n      <td>Us Gov Vessel</td>\n      <td>1</td>\n      <td>1</td>\n      <td>4.3</td>\n      <td>16.2</td>\n      <td>10.3</td>\n      <td>20.5</td>\n      <td>100.0</td>\n      <td>2009-04-06 14:36:00</td>\n      <td>...</td>\n      <td>8</td>\n      <td>Bil Holman Dredge/Dredge Capt Frank/Emo/Offsho...</td>\n      <td>Y</td>\n      <td>Unknown</td>\n      <td>Unknown</td>\n      <td>7</td>\n      <td>42.0/48.0/57.0/90.0/138.0/154.0/156.0</td>\n      <td>156.0</td>\n      <td>4</td>\n      <td>Dredging/MilOps/Reserved/Towing</td>\n    </tr>\n    <tr>\n      <th>3</th>\n      <td>1</td>\n      <td>Us Gov Vessel</td>\n      <td>2</td>\n      <td>1</td>\n      <td>9.2</td>\n      <td>15.4</td>\n      <td>14.5</td>\n      <td>16.1</td>\n      <td>100.0</td>\n      <td>2009-04-10 17:58:00</td>\n      <td>...</td>\n      <td>8</td>\n      <td>Bil Holman Dredge/Dredge Capt Frank/Emo/Offsho...</td>\n      <td>Y</td>\n      <td>Unknown</td>\n      <td>Unknown</td>\n      <td>7</td>\n      <td>42.0/48.0/57.0/90.0/138.0/154.0/156.0</td>\n      <td>156.0</td>\n      <td>4</td>\n      <td>Dredging/MilOps/Reserved/Towing</td>\n    </tr>\n    <tr>\n      <th>4</th>\n      <td>1</td>\n      <td>Dredge Capt Frank</td>\n      <td>2</td>\n      <td>1</td>\n      <td>9.2</td>\n      <td>15.4</td>\n      <td>14.6</td>\n      <td>16.2</td>\n      <td>100.0</td>\n      <td>2009-04-10 17:59:00</td>\n      <td>...</td>\n      <td>8</td>\n      <td>Bil Holman Dredge/Dredge Capt Frank/Emo/Offsho...</td>\n      <td>Y</td>\n      <td>Unknown</td>\n      <td>Unknown</td>\n      <td>7</td>\n      <td>42.0/48.0/57.0/90.0/138.0/154.0/156.0</td>\n      <td>156.0</td>\n      <td>4</td>\n      <td>Dredging/MilOps/Reserved/Towing</td>\n    </tr>\n    <tr>\n      <th>5</th>\n      <td>1</td>\n      <td>Bil Holman Dredge</td>\n      <td>1</td>\n      <td>1</td>\n      <td>17.4</td>\n      <td>34.3</td>\n      <td>33.9</td>\n      <td>35.0</td>\n      <td>100.0</td>\n      <td>2010-03-20 16:06:00</td>\n      <td>...</td>\n      <td>8</td>\n      <td>Bil Holman Dredge/Dredge Capt Frank/Emo/Offsho...</td>\n      <td>Y</td>\n      <td>Unknown</td>\n      <td>Unknown</td>\n      <td>7</td>\n      <td>42.0/48.0/57.0/90.0/138.0/154.0/156.0</td>\n      <td>156.0</td>\n      <td>4</td>\n      <td>Dredging/MilOps/Reserved/Towing</td>\n    </tr>\n    <tr>\n      <th>6</th>\n      <td>1</td>\n      <td>Bil Holman Dredge</td>\n      <td>1</td>\n      <td>2</td>\n      <td>76.0</td>\n      <td>34.4</td>\n      <td>33.8</td>\n      <td>34.9</td>\n      <td>100.0</td>\n      <td>2010-03-20 18:05:00</td>\n      <td>...</td>\n      <td>8</td>\n      <td>Bil Holman Dredge/Dredge Capt Frank/Emo/Offsho...</td>\n      <td>Y</td>\n      <td>Unknown</td>\n      <td>Unknown</td>\n      <td>7</td>\n      <td>42.0/48.0/57.0/90.0/138.0/154.0/156.0</td>\n      <td>156.0</td>\n      <td>4</td>\n      <td>Dredging/MilOps/Reserved/Towing</td>\n    </tr>\n    <tr>\n      <th>7</th>\n      <td>1</td>\n      <td>S.d. Gumel</td>\n      <td>1</td>\n      <td>1</td>\n      <td>13.7</td>\n      <td>6.9</td>\n      <td>3.0</td>\n      <td>14.0</td>\n      <td>38.2</td>\n      <td>2011-05-04 11:28:00</td>\n      <td>...</td>\n      <td>8</td>\n      <td>Bil Holman Dredge/Dredge Capt Frank/Emo/Offsho...</td>\n      <td>Y</td>\n      <td>Unknown</td>\n      <td>Unknown</td>\n      <td>7</td>\n      <td>42.0/48.0/57.0/90.0/138.0/154.0/156.0</td>\n      <td>156.0</td>\n      <td>4</td>\n      <td>Dredging/MilOps/Reserved/Towing</td>\n    </tr>\n    <tr>\n      <th>8</th>\n      <td>9</td>\n      <td>Shearwater</td>\n      <td>4</td>\n      <td>1</td>\n      <td>11.6</td>\n      <td>8.8</td>\n      <td>7.9</td>\n      <td>10.3</td>\n      <td>0.0</td>\n      <td>2010-06-05 11:23:00</td>\n      <td>...</td>\n      <td>3</td>\n      <td>000000009/Raven/Shearwater</td>\n      <td>N</td>\n      <td>Unknown</td>\n      <td>Unknown</td>\n      <td>2</td>\n      <td>50.0/62.0</td>\n      <td>62.0</td>\n      <td>2</td>\n      <td>Pleasure/Tug</td>\n    </tr>\n    <tr>\n      <th>9</th>\n      <td>9</td>\n      <td>Shearwater</td>\n      <td>8</td>\n      <td>1</td>\n      <td>11.6</td>\n      <td>8.3</td>\n      <td>7.4</td>\n      <td>9.2</td>\n      <td>0.0</td>\n      <td>2010-06-08 11:03:00</td>\n      <td>...</td>\n      <td>3</td>\n      <td>000000009/Raven/Shearwater</td>\n      <td>N</td>\n      <td>Unknown</td>\n      <td>Unknown</td>\n      <td>2</td>\n      <td>50.0/62.0</td>\n      <td>62.0</td>\n      <td>2</td>\n      <td>Pleasure/Tug</td>\n    </tr>\n  </tbody>\n</table>\n<p>10 rows × 22 columns</p>\n</div>"
     },
     "execution_count": 33,
     "metadata": {},
     "output_type": "execute_result"
    }
   ],
   "source": [
    "print(segments.merge(vessels).head(10)) #empty\n",
    "segments.merge(vessels, right_index=True, left_on='mmsi').head(10) #non-empty"
   ]
  },
  {
   "cell_type": "markdown",
   "metadata": {},
   "source": [
    "## Concatenation\n",
    "\n",
    "A common data manipulation is appending rows or columns to a dataset that already conform to the dimensions of the exsiting rows or colums, respectively:"
   ]
  },
  {
   "cell_type": "code",
   "execution_count": 34,
   "metadata": {},
   "outputs": [
    {
     "data": {
      "text/plain": "array([0.3824697 , 0.58180983, 0.3623842 , 0.23595338, 0.12713374,\n       0.97906112, 0.43005797, 0.1603071 , 0.65941389, 0.12190586])"
     },
     "execution_count": 34,
     "metadata": {},
     "output_type": "execute_result"
    }
   ],
   "source": [
    "np.concatenate([np.random.random(5), np.random.random(5)])"
   ]
  },
  {
   "cell_type": "markdown",
   "metadata": {},
   "source": [
    "This operation is also called *binding* or *stacking*.\n",
    "\n",
    "With Pandas' indexed data structures, there are additional considerations as the overlap in index values between two data structures affects how they are concatenate.\n",
    "\n",
    "Lets import two microbiome datasets, each consisting of counts of microorganiams from a particular patient. We will use the first column of each dataset as the index."
   ]
  },
  {
   "cell_type": "code",
   "execution_count": 35,
   "metadata": {},
   "outputs": [
    {
     "name": "stdout",
     "output_type": "stream",
     "text": [
      "                                                       1\n",
      "0                                                       \n",
      "Archaea \"Crenarchaeota\" Thermoprotei Desulfuroc...     7\n",
      "Archaea \"Crenarchaeota\" Thermoprotei Desulfuroc...     2\n",
      "Archaea \"Crenarchaeota\" Thermoprotei Sulfolobal...     3\n",
      "Archaea \"Crenarchaeota\" Thermoprotei Thermoprot...     3\n",
      "Archaea \"Euryarchaeota\" \"Methanomicrobia\" Metha...     7\n",
      "...                                                  ...\n",
      "Bacteria \"Thermotogae\" Thermotogae Thermotogale...     9\n",
      "Bacteria \"Verrucomicrobia\" Opitutae Opitutales ...     1\n",
      "Bacteria Cyanobacteria Cyanobacteria  Chloropla...     2\n",
      "Bacteria Cyanobacteria Cyanobacteria  Chloropla...    85\n",
      "Bacteria Cyanobacteria Cyanobacteria  Chloropla...  1388\n",
      "\n",
      "[272 rows x 1 columns]\n",
      "                                                     1\n",
      "0                                                     \n",
      "Archaea \"Crenarchaeota\" Thermoprotei Acidilobal...   2\n",
      "Archaea \"Crenarchaeota\" Thermoprotei Acidilobal...  14\n",
      "Archaea \"Crenarchaeota\" Thermoprotei Desulfuroc...  23\n",
      "Archaea \"Crenarchaeota\" Thermoprotei Desulfuroc...   1\n",
      "Archaea \"Crenarchaeota\" Thermoprotei Desulfuroc...   2\n",
      "...                                                 ..\n",
      "Bacteria \"Thermotogae\" Thermotogae Thermotogale...  15\n",
      "Bacteria \"Thermotogae\" Thermotogae Thermotogale...  22\n",
      "Bacteria Cyanobacteria Cyanobacteria  Chloropla...   1\n",
      "Bacteria Cyanobacteria Cyanobacteria  Chloropla...   2\n",
      "Bacteria TM7    TM7_genera_incertae_sedis            2\n",
      "\n",
      "[288 rows x 1 columns]\n",
      "                                                    Count\n",
      "0                                                        \n",
      "Archaea \"Crenarchaeota\" Thermoprotei Desulfuroc...      7\n",
      "Archaea \"Crenarchaeota\" Thermoprotei Desulfuroc...      2\n",
      "Archaea \"Crenarchaeota\" Thermoprotei Sulfolobal...      3\n",
      "Archaea \"Crenarchaeota\" Thermoprotei Thermoprot...      3\n",
      "Archaea \"Euryarchaeota\" \"Methanomicrobia\" Metha...      7\n",
      "...                                                   ...\n",
      "Bacteria \"Thermotogae\" Thermotogae Thermotogale...      9\n",
      "Bacteria \"Verrucomicrobia\" Opitutae Opitutales ...      1\n",
      "Bacteria Cyanobacteria Cyanobacteria  Chloropla...      2\n",
      "Bacteria Cyanobacteria Cyanobacteria  Chloropla...     85\n",
      "Bacteria Cyanobacteria Cyanobacteria  Chloropla...   1388\n",
      "\n",
      "[272 rows x 1 columns]\n",
      "                                                    Count\n",
      "0                                                        \n",
      "Archaea \"Crenarchaeota\" Thermoprotei Acidilobal...      2\n",
      "Archaea \"Crenarchaeota\" Thermoprotei Acidilobal...     14\n",
      "Archaea \"Crenarchaeota\" Thermoprotei Desulfuroc...     23\n",
      "Archaea \"Crenarchaeota\" Thermoprotei Desulfuroc...      1\n",
      "Archaea \"Crenarchaeota\" Thermoprotei Desulfuroc...      2\n",
      "...                                                   ...\n",
      "Bacteria \"Thermotogae\" Thermotogae Thermotogale...     15\n",
      "Bacteria \"Thermotogae\" Thermotogae Thermotogale...     22\n",
      "Bacteria Cyanobacteria Cyanobacteria  Chloropla...      1\n",
      "Bacteria Cyanobacteria Cyanobacteria  Chloropla...      2\n",
      "Bacteria TM7    TM7_genera_incertae_sedis               2\n",
      "\n",
      "[288 rows x 1 columns]\n",
      "                                                    Count\n",
      "Taxon                                                    \n",
      "Archaea \"Crenarchaeota\" Thermoprotei Desulfuroc...      7\n",
      "Archaea \"Crenarchaeota\" Thermoprotei Desulfuroc...      2\n",
      "Archaea \"Crenarchaeota\" Thermoprotei Sulfolobal...      3\n",
      "Archaea \"Crenarchaeota\" Thermoprotei Thermoprot...      3\n",
      "Archaea \"Euryarchaeota\" \"Methanomicrobia\" Metha...      7\n",
      "...                                                   ...\n",
      "Bacteria \"Thermotogae\" Thermotogae Thermotogale...      9\n",
      "Bacteria \"Verrucomicrobia\" Opitutae Opitutales ...      1\n",
      "Bacteria Cyanobacteria Cyanobacteria  Chloropla...      2\n",
      "Bacteria Cyanobacteria Cyanobacteria  Chloropla...     85\n",
      "Bacteria Cyanobacteria Cyanobacteria  Chloropla...   1388\n",
      "\n",
      "[272 rows x 1 columns]\n",
      "                                                    Count\n",
      "Taxon                                                    \n",
      "Archaea \"Crenarchaeota\" Thermoprotei Acidilobal...      2\n",
      "Archaea \"Crenarchaeota\" Thermoprotei Acidilobal...     14\n",
      "Archaea \"Crenarchaeota\" Thermoprotei Desulfuroc...     23\n",
      "Archaea \"Crenarchaeota\" Thermoprotei Desulfuroc...      1\n",
      "Archaea \"Crenarchaeota\" Thermoprotei Desulfuroc...      2\n",
      "...                                                   ...\n",
      "Bacteria \"Thermotogae\" Thermotogae Thermotogale...     15\n",
      "Bacteria \"Thermotogae\" Thermotogae Thermotogale...     22\n",
      "Bacteria Cyanobacteria Cyanobacteria  Chloropla...      1\n",
      "Bacteria Cyanobacteria Cyanobacteria  Chloropla...      2\n",
      "Bacteria TM7    TM7_genera_incertae_sedis               2\n",
      "\n",
      "[288 rows x 1 columns]\n"
     ]
    },
    {
     "data": {
      "text/plain": "((272, 1), (288, 1))"
     },
     "execution_count": 35,
     "metadata": {},
     "output_type": "execute_result"
    }
   ],
   "source": [
    "mb1 = pd.read_excel('Data/microbiome_MID1.xls', 'Sheet 1', index_col=0, header=None)\n",
    "mb2 = pd.read_excel('Data/microbiome_MID2.xls', 'Sheet 1', index_col=0, header=None)\n",
    "print(mb1)\n",
    "print(mb2)\n",
    "mb1.columns = mb2.columns = ['Count']\n",
    "print(mb1)\n",
    "print(mb2)\n",
    "mb1.index.name = mb2.index.name = 'Taxon'\n",
    "print(mb1)\n",
    "print(mb2)\n",
    "mb1.shape, mb2.shape"
   ]
  },
  {
   "cell_type": "code",
   "execution_count": 36,
   "metadata": {},
   "outputs": [
    {
     "data": {
      "text/plain": "                                                    Count\nTaxon                                                    \nArchaea \"Crenarchaeota\" Thermoprotei Desulfuroc...      7\nArchaea \"Crenarchaeota\" Thermoprotei Desulfuroc...      2\nArchaea \"Crenarchaeota\" Thermoprotei Sulfolobal...      3\nArchaea \"Crenarchaeota\" Thermoprotei Thermoprot...      3\nArchaea \"Euryarchaeota\" \"Methanomicrobia\" Metha...      7",
      "text/html": "<div>\n<style scoped>\n    .dataframe tbody tr th:only-of-type {\n        vertical-align: middle;\n    }\n\n    .dataframe tbody tr th {\n        vertical-align: top;\n    }\n\n    .dataframe thead th {\n        text-align: right;\n    }\n</style>\n<table border=\"1\" class=\"dataframe\">\n  <thead>\n    <tr style=\"text-align: right;\">\n      <th></th>\n      <th>Count</th>\n    </tr>\n    <tr>\n      <th>Taxon</th>\n      <th></th>\n    </tr>\n  </thead>\n  <tbody>\n    <tr>\n      <th>Archaea \"Crenarchaeota\" Thermoprotei Desulfurococcales Desulfurococcaceae Ignisphaera</th>\n      <td>7</td>\n    </tr>\n    <tr>\n      <th>Archaea \"Crenarchaeota\" Thermoprotei Desulfurococcales Pyrodictiaceae Pyrolobus</th>\n      <td>2</td>\n    </tr>\n    <tr>\n      <th>Archaea \"Crenarchaeota\" Thermoprotei Sulfolobales Sulfolobaceae Stygiolobus</th>\n      <td>3</td>\n    </tr>\n    <tr>\n      <th>Archaea \"Crenarchaeota\" Thermoprotei Thermoproteales Thermofilaceae Thermofilum</th>\n      <td>3</td>\n    </tr>\n    <tr>\n      <th>Archaea \"Euryarchaeota\" \"Methanomicrobia\" Methanocellales Methanocellaceae Methanocella</th>\n      <td>7</td>\n    </tr>\n  </tbody>\n</table>\n</div>"
     },
     "execution_count": 36,
     "metadata": {},
     "output_type": "execute_result"
    }
   ],
   "source": [
    "mb1.head()"
   ]
  },
  {
   "cell_type": "markdown",
   "metadata": {},
   "source": [
    "The index of these data is the unique biological classification of each organism, beginning with *domain*, *phylum*, *class*, and for some organisms, going all the way down to the genus level.\n",
    "\n",
    "![classification](http://upload.wikimedia.org/wikipedia/commons/thumb/a/a5/Biological_classification_L_Pengo_vflip.svg/150px-Biological_classification_L_Pengo_vflip.svg.png)"
   ]
  },
  {
   "cell_type": "code",
   "execution_count": 37,
   "metadata": {},
   "outputs": [
    {
     "data": {
      "text/plain": "True"
     },
     "execution_count": 37,
     "metadata": {},
     "output_type": "execute_result"
    }
   ],
   "source": [
    "mb1.index.is_unique"
   ]
  },
  {
   "cell_type": "markdown",
   "metadata": {},
   "source": [
    "If we concatenate along `axis=0` (the default), we will obtain another data frame with the the rows concatenated:"
   ]
  },
  {
   "cell_type": "code",
   "execution_count": 38,
   "metadata": {},
   "outputs": [
    {
     "name": "stdout",
     "output_type": "stream",
     "text": [
      "(560, 1)\n"
     ]
    },
    {
     "data": {
      "text/plain": "                                                    Count\nTaxon                                                    \nArchaea \"Crenarchaeota\" Thermoprotei Desulfuroc...      7\nArchaea \"Crenarchaeota\" Thermoprotei Desulfuroc...      2\nArchaea \"Crenarchaeota\" Thermoprotei Sulfolobal...      3\nArchaea \"Crenarchaeota\" Thermoprotei Thermoprot...      3\nArchaea \"Euryarchaeota\" \"Methanomicrobia\" Metha...      7\nArchaea \"Euryarchaeota\" \"Methanomicrobia\" Metha...      1\nArchaea \"Euryarchaeota\" \"Methanomicrobia\" Metha...      1\nArchaea \"Euryarchaeota\" Archaeoglobi Archaeoglo...      1\nArchaea \"Euryarchaeota\" Archaeoglobi Archaeoglo...      1\nArchaea \"Euryarchaeota\" Halobacteria Halobacter...      1",
      "text/html": "<div>\n<style scoped>\n    .dataframe tbody tr th:only-of-type {\n        vertical-align: middle;\n    }\n\n    .dataframe tbody tr th {\n        vertical-align: top;\n    }\n\n    .dataframe thead th {\n        text-align: right;\n    }\n</style>\n<table border=\"1\" class=\"dataframe\">\n  <thead>\n    <tr style=\"text-align: right;\">\n      <th></th>\n      <th>Count</th>\n    </tr>\n    <tr>\n      <th>Taxon</th>\n      <th></th>\n    </tr>\n  </thead>\n  <tbody>\n    <tr>\n      <th>Archaea \"Crenarchaeota\" Thermoprotei Desulfurococcales Desulfurococcaceae Ignisphaera</th>\n      <td>7</td>\n    </tr>\n    <tr>\n      <th>Archaea \"Crenarchaeota\" Thermoprotei Desulfurococcales Pyrodictiaceae Pyrolobus</th>\n      <td>2</td>\n    </tr>\n    <tr>\n      <th>Archaea \"Crenarchaeota\" Thermoprotei Sulfolobales Sulfolobaceae Stygiolobus</th>\n      <td>3</td>\n    </tr>\n    <tr>\n      <th>Archaea \"Crenarchaeota\" Thermoprotei Thermoproteales Thermofilaceae Thermofilum</th>\n      <td>3</td>\n    </tr>\n    <tr>\n      <th>Archaea \"Euryarchaeota\" \"Methanomicrobia\" Methanocellales Methanocellaceae Methanocella</th>\n      <td>7</td>\n    </tr>\n    <tr>\n      <th>Archaea \"Euryarchaeota\" \"Methanomicrobia\" Methanosarcinales Methanosarcinaceae Methanimicrococcus</th>\n      <td>1</td>\n    </tr>\n    <tr>\n      <th>Archaea \"Euryarchaeota\" \"Methanomicrobia\" Methanosarcinales Methermicoccaceae Methermicoccus</th>\n      <td>1</td>\n    </tr>\n    <tr>\n      <th>Archaea \"Euryarchaeota\" Archaeoglobi Archaeoglobales Archaeoglobaceae Ferroglobus</th>\n      <td>1</td>\n    </tr>\n    <tr>\n      <th>Archaea \"Euryarchaeota\" Archaeoglobi Archaeoglobales Archaeoglobaceae Geoglobus</th>\n      <td>1</td>\n    </tr>\n    <tr>\n      <th>Archaea \"Euryarchaeota\" Halobacteria Halobacteriales Halobacteriaceae Haloplanus</th>\n      <td>1</td>\n    </tr>\n  </tbody>\n</table>\n</div>"
     },
     "execution_count": 38,
     "metadata": {},
     "output_type": "execute_result"
    }
   ],
   "source": [
    "print(pd.concat([mb1, mb2], axis=0).shape)\n",
    "pd.concat([mb1, mb2], axis=0).head(10)"
   ]
  },
  {
   "cell_type": "markdown",
   "metadata": {},
   "source": [
    "However, the index is no longer unique, due to overlap between the two `DataFrames`."
   ]
  },
  {
   "cell_type": "code",
   "execution_count": 39,
   "metadata": {},
   "outputs": [
    {
     "data": {
      "text/plain": "False"
     },
     "execution_count": 39,
     "metadata": {},
     "output_type": "execute_result"
    }
   ],
   "source": [
    "pd.concat([mb1, mb2], axis=0).index.is_unique"
   ]
  },
  {
   "cell_type": "markdown",
   "metadata": {},
   "source": [
    "Concatenating along `axis=1` will concatenate column-wise, but respecting the indices of the two `DataFrames`."
   ]
  },
  {
   "cell_type": "code",
   "execution_count": 40,
   "metadata": {},
   "outputs": [
    {
     "data": {
      "text/plain": "(438, 2)"
     },
     "execution_count": 40,
     "metadata": {},
     "output_type": "execute_result"
    }
   ],
   "source": [
    "pd.concat([mb1, mb2], axis=1).shape"
   ]
  },
  {
   "cell_type": "code",
   "execution_count": 41,
   "metadata": {},
   "outputs": [
    {
     "data": {
      "text/plain": "                                                    Count  Count\nTaxon                                                           \nArchaea \"Crenarchaeota\" Thermoprotei Desulfuroc...    7.0   23.0\nArchaea \"Crenarchaeota\" Thermoprotei Desulfuroc...    2.0    2.0\nArchaea \"Crenarchaeota\" Thermoprotei Sulfolobal...    3.0   10.0\nArchaea \"Crenarchaeota\" Thermoprotei Thermoprot...    3.0    9.0\nArchaea \"Euryarchaeota\" \"Methanomicrobia\" Metha...    7.0    9.0",
      "text/html": "<div>\n<style scoped>\n    .dataframe tbody tr th:only-of-type {\n        vertical-align: middle;\n    }\n\n    .dataframe tbody tr th {\n        vertical-align: top;\n    }\n\n    .dataframe thead th {\n        text-align: right;\n    }\n</style>\n<table border=\"1\" class=\"dataframe\">\n  <thead>\n    <tr style=\"text-align: right;\">\n      <th></th>\n      <th>Count</th>\n      <th>Count</th>\n    </tr>\n    <tr>\n      <th>Taxon</th>\n      <th></th>\n      <th></th>\n    </tr>\n  </thead>\n  <tbody>\n    <tr>\n      <th>Archaea \"Crenarchaeota\" Thermoprotei Desulfurococcales Desulfurococcaceae Ignisphaera</th>\n      <td>7.0</td>\n      <td>23.0</td>\n    </tr>\n    <tr>\n      <th>Archaea \"Crenarchaeota\" Thermoprotei Desulfurococcales Pyrodictiaceae Pyrolobus</th>\n      <td>2.0</td>\n      <td>2.0</td>\n    </tr>\n    <tr>\n      <th>Archaea \"Crenarchaeota\" Thermoprotei Sulfolobales Sulfolobaceae Stygiolobus</th>\n      <td>3.0</td>\n      <td>10.0</td>\n    </tr>\n    <tr>\n      <th>Archaea \"Crenarchaeota\" Thermoprotei Thermoproteales Thermofilaceae Thermofilum</th>\n      <td>3.0</td>\n      <td>9.0</td>\n    </tr>\n    <tr>\n      <th>Archaea \"Euryarchaeota\" \"Methanomicrobia\" Methanocellales Methanocellaceae Methanocella</th>\n      <td>7.0</td>\n      <td>9.0</td>\n    </tr>\n  </tbody>\n</table>\n</div>"
     },
     "execution_count": 41,
     "metadata": {},
     "output_type": "execute_result"
    }
   ],
   "source": [
    "pd.concat([mb1, mb2], axis=1).head()"
   ]
  },
  {
   "cell_type": "markdown",
   "metadata": {},
   "source": [
    "## Reshaping DataFrame objects\n",
    "\n",
    "In the context of a single DataFrame, we are often interested in re-arranging the layout of our data."
   ]
  },
  {
   "cell_type": "code",
   "execution_count": 42,
   "outputs": [
    {
     "data": {
      "text/plain": "      num_names                                              names sov  \\\nmmsi                                                                     \n1             8  Bil Holman Dredge/Dredge Capt Frank/Emo/Offsho...   Y   \n9             3                         000000009/Raven/Shearwater   N   \n21            1                                      Us Gov Vessel   Y   \n74            2                                  Mcfaul/Sarah Bell   N   \n103           3           Ron G/Us Navy Warship 103/Us Warship 103   Y   \n310           1                                           Arabella   N   \n\n          flag flag_type  num_loas                                    loa  \\\nmmsi                                                                        \n1      Unknown   Unknown         7  42.0/48.0/57.0/90.0/138.0/154.0/156.0   \n9      Unknown   Unknown         2                              50.0/62.0   \n21     Unknown   Unknown         1                                  208.0   \n74     Unknown   Unknown         1                                  155.0   \n103    Unknown   Unknown         2                             26.0/155.0   \n310   Bermuda    Foreign         1                                   47.0   \n\n      max_loa  num_types                           type_x  ...  transit  \\\nmmsi                                                       ...            \n1       156.0          4  Dredging/MilOps/Reserved/Towing  ...        1   \n9        62.0          2                     Pleasure/Tug  ...        8   \n21      208.0          1                          Unknown  ...        7   \n74      155.0          1                          Unknown  ...       12   \n103     155.0          2                   Tanker/Unknown  ...        3   \n310      47.0          1                          Unknown  ...       66   \n\n     segment  seg_length  avg_sog  min_sog  max_sog  pdgt10  \\\nmmsi                                                          \n1          1        13.5     18.6     10.4     20.6   100.0   \n9          1        11.6      8.3      7.4      9.2     0.0   \n21         1         7.6     10.0      8.8     13.2    11.0   \n74         1       121.6      0.3      0.0     36.5     0.1   \n103        2        20.5     18.2     16.7     19.2   100.0   \n310        1         7.1      6.3      3.6     10.0     0.0   \n\n                 st_time            end_time type_y  \nmmsi                                                 \n1    2009-04-06 14:31:00 2009-04-06 15:20:00    foo  \n9    2010-06-08 11:03:00 2010-06-08 12:29:00    foo  \n21   2011-05-23 21:29:00 2011-05-23 22:18:00    foo  \n74   2009-12-29 17:34:00 2010-01-16 22:41:00    foo  \n103  2009-05-14 21:32:00 2009-05-14 22:39:00    foo  \n310  2010-08-30 02:32:00 2010-08-30 03:41:00    foo  \n\n[6 rows x 22 columns]",
      "text/html": "<div>\n<style scoped>\n    .dataframe tbody tr th:only-of-type {\n        vertical-align: middle;\n    }\n\n    .dataframe tbody tr th {\n        vertical-align: top;\n    }\n\n    .dataframe thead th {\n        text-align: right;\n    }\n</style>\n<table border=\"1\" class=\"dataframe\">\n  <thead>\n    <tr style=\"text-align: right;\">\n      <th></th>\n      <th>num_names</th>\n      <th>names</th>\n      <th>sov</th>\n      <th>flag</th>\n      <th>flag_type</th>\n      <th>num_loas</th>\n      <th>loa</th>\n      <th>max_loa</th>\n      <th>num_types</th>\n      <th>type_x</th>\n      <th>...</th>\n      <th>transit</th>\n      <th>segment</th>\n      <th>seg_length</th>\n      <th>avg_sog</th>\n      <th>min_sog</th>\n      <th>max_sog</th>\n      <th>pdgt10</th>\n      <th>st_time</th>\n      <th>end_time</th>\n      <th>type_y</th>\n    </tr>\n    <tr>\n      <th>mmsi</th>\n      <th></th>\n      <th></th>\n      <th></th>\n      <th></th>\n      <th></th>\n      <th></th>\n      <th></th>\n      <th></th>\n      <th></th>\n      <th></th>\n      <th></th>\n      <th></th>\n      <th></th>\n      <th></th>\n      <th></th>\n      <th></th>\n      <th></th>\n      <th></th>\n      <th></th>\n      <th></th>\n      <th></th>\n    </tr>\n  </thead>\n  <tbody>\n    <tr>\n      <th>1</th>\n      <td>8</td>\n      <td>Bil Holman Dredge/Dredge Capt Frank/Emo/Offsho...</td>\n      <td>Y</td>\n      <td>Unknown</td>\n      <td>Unknown</td>\n      <td>7</td>\n      <td>42.0/48.0/57.0/90.0/138.0/154.0/156.0</td>\n      <td>156.0</td>\n      <td>4</td>\n      <td>Dredging/MilOps/Reserved/Towing</td>\n      <td>...</td>\n      <td>1</td>\n      <td>1</td>\n      <td>13.5</td>\n      <td>18.6</td>\n      <td>10.4</td>\n      <td>20.6</td>\n      <td>100.0</td>\n      <td>2009-04-06 14:31:00</td>\n      <td>2009-04-06 15:20:00</td>\n      <td>foo</td>\n    </tr>\n    <tr>\n      <th>9</th>\n      <td>3</td>\n      <td>000000009/Raven/Shearwater</td>\n      <td>N</td>\n      <td>Unknown</td>\n      <td>Unknown</td>\n      <td>2</td>\n      <td>50.0/62.0</td>\n      <td>62.0</td>\n      <td>2</td>\n      <td>Pleasure/Tug</td>\n      <td>...</td>\n      <td>8</td>\n      <td>1</td>\n      <td>11.6</td>\n      <td>8.3</td>\n      <td>7.4</td>\n      <td>9.2</td>\n      <td>0.0</td>\n      <td>2010-06-08 11:03:00</td>\n      <td>2010-06-08 12:29:00</td>\n      <td>foo</td>\n    </tr>\n    <tr>\n      <th>21</th>\n      <td>1</td>\n      <td>Us Gov Vessel</td>\n      <td>Y</td>\n      <td>Unknown</td>\n      <td>Unknown</td>\n      <td>1</td>\n      <td>208.0</td>\n      <td>208.0</td>\n      <td>1</td>\n      <td>Unknown</td>\n      <td>...</td>\n      <td>7</td>\n      <td>1</td>\n      <td>7.6</td>\n      <td>10.0</td>\n      <td>8.8</td>\n      <td>13.2</td>\n      <td>11.0</td>\n      <td>2011-05-23 21:29:00</td>\n      <td>2011-05-23 22:18:00</td>\n      <td>foo</td>\n    </tr>\n    <tr>\n      <th>74</th>\n      <td>2</td>\n      <td>Mcfaul/Sarah Bell</td>\n      <td>N</td>\n      <td>Unknown</td>\n      <td>Unknown</td>\n      <td>1</td>\n      <td>155.0</td>\n      <td>155.0</td>\n      <td>1</td>\n      <td>Unknown</td>\n      <td>...</td>\n      <td>12</td>\n      <td>1</td>\n      <td>121.6</td>\n      <td>0.3</td>\n      <td>0.0</td>\n      <td>36.5</td>\n      <td>0.1</td>\n      <td>2009-12-29 17:34:00</td>\n      <td>2010-01-16 22:41:00</td>\n      <td>foo</td>\n    </tr>\n    <tr>\n      <th>103</th>\n      <td>3</td>\n      <td>Ron G/Us Navy Warship 103/Us Warship 103</td>\n      <td>Y</td>\n      <td>Unknown</td>\n      <td>Unknown</td>\n      <td>2</td>\n      <td>26.0/155.0</td>\n      <td>155.0</td>\n      <td>2</td>\n      <td>Tanker/Unknown</td>\n      <td>...</td>\n      <td>3</td>\n      <td>2</td>\n      <td>20.5</td>\n      <td>18.2</td>\n      <td>16.7</td>\n      <td>19.2</td>\n      <td>100.0</td>\n      <td>2009-05-14 21:32:00</td>\n      <td>2009-05-14 22:39:00</td>\n      <td>foo</td>\n    </tr>\n    <tr>\n      <th>310</th>\n      <td>1</td>\n      <td>Arabella</td>\n      <td>N</td>\n      <td>Bermuda</td>\n      <td>Foreign</td>\n      <td>1</td>\n      <td>47.0</td>\n      <td>47.0</td>\n      <td>1</td>\n      <td>Unknown</td>\n      <td>...</td>\n      <td>66</td>\n      <td>1</td>\n      <td>7.1</td>\n      <td>6.3</td>\n      <td>3.6</td>\n      <td>10.0</td>\n      <td>0.0</td>\n      <td>2010-08-30 02:32:00</td>\n      <td>2010-08-30 03:41:00</td>\n      <td>foo</td>\n    </tr>\n  </tbody>\n</table>\n<p>6 rows × 22 columns</p>\n</div>"
     },
     "execution_count": 42,
     "metadata": {},
     "output_type": "execute_result"
    }
   ],
   "source": [
    "segments_merged1 = pd.merge(vessels, segments, left_on='mmsi', right_index=True)\n",
    "segments_merged1"
   ],
   "metadata": {
    "collapsed": false
   }
  },
  {
   "cell_type": "markdown",
   "source": [
    "This dataset is from Table 6.9 of [Statistical Methods for the Analysis of Repeated Measurements](http://www.amazon.com/Statistical-Methods-Analysis-Repeated-Measurements/dp/0387953701) by Charles S. Davis, pp. 161-163 (Springer, 2002). These data are from a multicenter, randomized controlled trial of botulinum toxin type B (BotB) in patients with cervical dystonia from nine U.S. sites.\n",
    "\n",
    "* Randomized to placebo (N=36), 5000 units of BotB (N=36), 10,000 units of BotB (N=37)\n",
    "* Response variable: total score on Toronto Western Spasmodic Torticollis Rating Scale (TWSTRS), measuring severity, pain, and disability of cervical dystonia (high scores mean more impairment)\n",
    "* TWSTRS measured at baseline (week 0) and weeks 2, 4, 8, 12, 16 after treatment began"
   ],
   "metadata": {
    "collapsed": false
   }
  },
  {
   "cell_type": "code",
   "execution_count": 43,
   "outputs": [
    {
     "data": {
      "text/plain": "   patient  obs  week  site  id  treat  age sex  twstrs\n0        1    1     0     1   1  5000U   65   F      32\n1        1    2     2     1   1  5000U   65   F      30\n2        1    3     4     1   1  5000U   65   F      24\n3        1    4     8     1   1  5000U   65   F      37\n4        1    5    12     1   1  5000U   65   F      39",
      "text/html": "<div>\n<style scoped>\n    .dataframe tbody tr th:only-of-type {\n        vertical-align: middle;\n    }\n\n    .dataframe tbody tr th {\n        vertical-align: top;\n    }\n\n    .dataframe thead th {\n        text-align: right;\n    }\n</style>\n<table border=\"1\" class=\"dataframe\">\n  <thead>\n    <tr style=\"text-align: right;\">\n      <th></th>\n      <th>patient</th>\n      <th>obs</th>\n      <th>week</th>\n      <th>site</th>\n      <th>id</th>\n      <th>treat</th>\n      <th>age</th>\n      <th>sex</th>\n      <th>twstrs</th>\n    </tr>\n  </thead>\n  <tbody>\n    <tr>\n      <th>0</th>\n      <td>1</td>\n      <td>1</td>\n      <td>0</td>\n      <td>1</td>\n      <td>1</td>\n      <td>5000U</td>\n      <td>65</td>\n      <td>F</td>\n      <td>32</td>\n    </tr>\n    <tr>\n      <th>1</th>\n      <td>1</td>\n      <td>2</td>\n      <td>2</td>\n      <td>1</td>\n      <td>1</td>\n      <td>5000U</td>\n      <td>65</td>\n      <td>F</td>\n      <td>30</td>\n    </tr>\n    <tr>\n      <th>2</th>\n      <td>1</td>\n      <td>3</td>\n      <td>4</td>\n      <td>1</td>\n      <td>1</td>\n      <td>5000U</td>\n      <td>65</td>\n      <td>F</td>\n      <td>24</td>\n    </tr>\n    <tr>\n      <th>3</th>\n      <td>1</td>\n      <td>4</td>\n      <td>8</td>\n      <td>1</td>\n      <td>1</td>\n      <td>5000U</td>\n      <td>65</td>\n      <td>F</td>\n      <td>37</td>\n    </tr>\n    <tr>\n      <th>4</th>\n      <td>1</td>\n      <td>5</td>\n      <td>12</td>\n      <td>1</td>\n      <td>1</td>\n      <td>5000U</td>\n      <td>65</td>\n      <td>F</td>\n      <td>39</td>\n    </tr>\n  </tbody>\n</table>\n</div>"
     },
     "execution_count": 43,
     "metadata": {},
     "output_type": "execute_result"
    }
   ],
   "source": [
    "cdystonia = pd.read_csv(\"Data/cdystonia.csv\", index_col=None)\n",
    "cdystonia.head()"
   ],
   "metadata": {
    "collapsed": false
   }
  },
  {
   "cell_type": "markdown",
   "metadata": {},
   "source": [
    "This dataset includes repeated measurements of the same individuals (longitudinal data). Its possible to present such information in (at least) two ways: showing each repeated measurement in their own row, or in multiple columns representing multiple measurements.\n"
   ]
  },
  {
   "cell_type": "markdown",
   "metadata": {},
   "source": [
    "The `stack` method rotates the data frame so that columns are represented in rows:"
   ]
  },
  {
   "cell_type": "code",
   "execution_count": 44,
   "metadata": {},
   "outputs": [
    {
     "data": {
      "text/plain": "0  patient        1\n   obs            1\n   week           0\n   site           1\n   id             1\n   treat      5000U\n   age           65\n   sex            F\n   twstrs        32\n1  patient        1\n   obs            2\n   week           2\n   site           1\n   id             1\n   treat      5000U\ndtype: object"
     },
     "execution_count": 44,
     "metadata": {},
     "output_type": "execute_result"
    }
   ],
   "source": [
    "stacked = cdystonia.stack()\n",
    "stacked.head(15)"
   ]
  },
  {
   "cell_type": "markdown",
   "metadata": {},
   "source": [
    "To complement this, `unstack` pivots from rows back to columns."
   ]
  },
  {
   "cell_type": "code",
   "execution_count": 45,
   "metadata": {},
   "outputs": [
    {
     "data": {
      "text/plain": "  patient obs week site id   treat age sex twstrs\n0       1   1    0    1  1   5000U  65   F     32\n1       1   2    2    1  1   5000U  65   F     30\n2       1   3    4    1  1   5000U  65   F     24\n3       1   4    8    1  1   5000U  65   F     37\n4       1   5   12    1  1   5000U  65   F     39\n5       1   6   16    1  1   5000U  65   F     36\n6       2   1    0    1  2  10000U  70   F     60\n7       2   2    2    1  2  10000U  70   F     26\n8       2   3    4    1  2  10000U  70   F     27\n9       2   4    8    1  2  10000U  70   F     41",
      "text/html": "<div>\n<style scoped>\n    .dataframe tbody tr th:only-of-type {\n        vertical-align: middle;\n    }\n\n    .dataframe tbody tr th {\n        vertical-align: top;\n    }\n\n    .dataframe thead th {\n        text-align: right;\n    }\n</style>\n<table border=\"1\" class=\"dataframe\">\n  <thead>\n    <tr style=\"text-align: right;\">\n      <th></th>\n      <th>patient</th>\n      <th>obs</th>\n      <th>week</th>\n      <th>site</th>\n      <th>id</th>\n      <th>treat</th>\n      <th>age</th>\n      <th>sex</th>\n      <th>twstrs</th>\n    </tr>\n  </thead>\n  <tbody>\n    <tr>\n      <th>0</th>\n      <td>1</td>\n      <td>1</td>\n      <td>0</td>\n      <td>1</td>\n      <td>1</td>\n      <td>5000U</td>\n      <td>65</td>\n      <td>F</td>\n      <td>32</td>\n    </tr>\n    <tr>\n      <th>1</th>\n      <td>1</td>\n      <td>2</td>\n      <td>2</td>\n      <td>1</td>\n      <td>1</td>\n      <td>5000U</td>\n      <td>65</td>\n      <td>F</td>\n      <td>30</td>\n    </tr>\n    <tr>\n      <th>2</th>\n      <td>1</td>\n      <td>3</td>\n      <td>4</td>\n      <td>1</td>\n      <td>1</td>\n      <td>5000U</td>\n      <td>65</td>\n      <td>F</td>\n      <td>24</td>\n    </tr>\n    <tr>\n      <th>3</th>\n      <td>1</td>\n      <td>4</td>\n      <td>8</td>\n      <td>1</td>\n      <td>1</td>\n      <td>5000U</td>\n      <td>65</td>\n      <td>F</td>\n      <td>37</td>\n    </tr>\n    <tr>\n      <th>4</th>\n      <td>1</td>\n      <td>5</td>\n      <td>12</td>\n      <td>1</td>\n      <td>1</td>\n      <td>5000U</td>\n      <td>65</td>\n      <td>F</td>\n      <td>39</td>\n    </tr>\n    <tr>\n      <th>5</th>\n      <td>1</td>\n      <td>6</td>\n      <td>16</td>\n      <td>1</td>\n      <td>1</td>\n      <td>5000U</td>\n      <td>65</td>\n      <td>F</td>\n      <td>36</td>\n    </tr>\n    <tr>\n      <th>6</th>\n      <td>2</td>\n      <td>1</td>\n      <td>0</td>\n      <td>1</td>\n      <td>2</td>\n      <td>10000U</td>\n      <td>70</td>\n      <td>F</td>\n      <td>60</td>\n    </tr>\n    <tr>\n      <th>7</th>\n      <td>2</td>\n      <td>2</td>\n      <td>2</td>\n      <td>1</td>\n      <td>2</td>\n      <td>10000U</td>\n      <td>70</td>\n      <td>F</td>\n      <td>26</td>\n    </tr>\n    <tr>\n      <th>8</th>\n      <td>2</td>\n      <td>3</td>\n      <td>4</td>\n      <td>1</td>\n      <td>2</td>\n      <td>10000U</td>\n      <td>70</td>\n      <td>F</td>\n      <td>27</td>\n    </tr>\n    <tr>\n      <th>9</th>\n      <td>2</td>\n      <td>4</td>\n      <td>8</td>\n      <td>1</td>\n      <td>2</td>\n      <td>10000U</td>\n      <td>70</td>\n      <td>F</td>\n      <td>41</td>\n    </tr>\n  </tbody>\n</table>\n</div>"
     },
     "execution_count": 45,
     "metadata": {},
     "output_type": "execute_result"
    }
   ],
   "source": [
    "stacked.unstack().head(10)"
   ]
  },
  {
   "cell_type": "markdown",
   "metadata": {},
   "source": [
    "|For this dataset, it makes sense to create a hierarchical index based on the patient and observation:"
   ]
  },
  {
   "cell_type": "markdown",
   "metadata": {},
   "source": [
    "## Pivoting\n",
    "\n",
    "The `pivot` method allows a DataFrame to be transformed easily between long and wide formats in the same way as a pivot table is created in a spreadsheet. It takes three arguments: `index`, `columns` and `values`, corresponding to the DataFrame index (the row headers), columns and cell values, respectively.\n",
    "\n",
    "For example, we may want the `twstrs` variable (the response variable) in wide format according to patient, as we saw with the unstacking method above:"
   ]
  },
  {
   "cell_type": "code",
   "execution_count": 107,
   "outputs": [
    {
     "data": {
      "text/plain": "    patient  obs  week  site  id    treat  age sex  twstrs  treatment\n0         1    1     0     1   1    5000U   65   F      32          1\n1         1    2     2     1   1    5000U   65   F      30          1\n2         1    3     4     1   1    5000U   65   F      24          1\n3         1    4     8     1   1    5000U   65   F      37          1\n4         1    5    12     1   1    5000U   65   F      39          1\n5         1    6    16     1   1    5000U   65   F      36          1\n6         2    1     0     1   2   10000U   70   F      60          2\n7         2    2     2     1   2   10000U   70   F      26          2\n8         2    3     4     1   2   10000U   70   F      27          2\n9         2    4     8     1   2   10000U   70   F      41          2\n10        2    5    12     1   2   10000U   70   F      65          2\n11        2    6    16     1   2   10000U   70   F      67          2\n12        3    1     0     1   3    5000U   64   F      44          1\n13        3    2     2     1   3    5000U   64   F      20          1\n14        3    3     4     1   3    5000U   64   F      23          1\n15        3    4     8     1   3    5000U   64   F      26          1\n16        3    5    12     1   3    5000U   64   F      35          1\n17        3    6    16     1   3    5000U   64   F      35          1\n18        4    1     0     1   4  Placebo   59   F      53          0\n19        4    2     2     1   4  Placebo   59   F      61          0",
      "text/html": "<div>\n<style scoped>\n    .dataframe tbody tr th:only-of-type {\n        vertical-align: middle;\n    }\n\n    .dataframe tbody tr th {\n        vertical-align: top;\n    }\n\n    .dataframe thead th {\n        text-align: right;\n    }\n</style>\n<table border=\"1\" class=\"dataframe\">\n  <thead>\n    <tr style=\"text-align: right;\">\n      <th></th>\n      <th>patient</th>\n      <th>obs</th>\n      <th>week</th>\n      <th>site</th>\n      <th>id</th>\n      <th>treat</th>\n      <th>age</th>\n      <th>sex</th>\n      <th>twstrs</th>\n      <th>treatment</th>\n    </tr>\n  </thead>\n  <tbody>\n    <tr>\n      <th>0</th>\n      <td>1</td>\n      <td>1</td>\n      <td>0</td>\n      <td>1</td>\n      <td>1</td>\n      <td>5000U</td>\n      <td>65</td>\n      <td>F</td>\n      <td>32</td>\n      <td>1</td>\n    </tr>\n    <tr>\n      <th>1</th>\n      <td>1</td>\n      <td>2</td>\n      <td>2</td>\n      <td>1</td>\n      <td>1</td>\n      <td>5000U</td>\n      <td>65</td>\n      <td>F</td>\n      <td>30</td>\n      <td>1</td>\n    </tr>\n    <tr>\n      <th>2</th>\n      <td>1</td>\n      <td>3</td>\n      <td>4</td>\n      <td>1</td>\n      <td>1</td>\n      <td>5000U</td>\n      <td>65</td>\n      <td>F</td>\n      <td>24</td>\n      <td>1</td>\n    </tr>\n    <tr>\n      <th>3</th>\n      <td>1</td>\n      <td>4</td>\n      <td>8</td>\n      <td>1</td>\n      <td>1</td>\n      <td>5000U</td>\n      <td>65</td>\n      <td>F</td>\n      <td>37</td>\n      <td>1</td>\n    </tr>\n    <tr>\n      <th>4</th>\n      <td>1</td>\n      <td>5</td>\n      <td>12</td>\n      <td>1</td>\n      <td>1</td>\n      <td>5000U</td>\n      <td>65</td>\n      <td>F</td>\n      <td>39</td>\n      <td>1</td>\n    </tr>\n    <tr>\n      <th>5</th>\n      <td>1</td>\n      <td>6</td>\n      <td>16</td>\n      <td>1</td>\n      <td>1</td>\n      <td>5000U</td>\n      <td>65</td>\n      <td>F</td>\n      <td>36</td>\n      <td>1</td>\n    </tr>\n    <tr>\n      <th>6</th>\n      <td>2</td>\n      <td>1</td>\n      <td>0</td>\n      <td>1</td>\n      <td>2</td>\n      <td>10000U</td>\n      <td>70</td>\n      <td>F</td>\n      <td>60</td>\n      <td>2</td>\n    </tr>\n    <tr>\n      <th>7</th>\n      <td>2</td>\n      <td>2</td>\n      <td>2</td>\n      <td>1</td>\n      <td>2</td>\n      <td>10000U</td>\n      <td>70</td>\n      <td>F</td>\n      <td>26</td>\n      <td>2</td>\n    </tr>\n    <tr>\n      <th>8</th>\n      <td>2</td>\n      <td>3</td>\n      <td>4</td>\n      <td>1</td>\n      <td>2</td>\n      <td>10000U</td>\n      <td>70</td>\n      <td>F</td>\n      <td>27</td>\n      <td>2</td>\n    </tr>\n    <tr>\n      <th>9</th>\n      <td>2</td>\n      <td>4</td>\n      <td>8</td>\n      <td>1</td>\n      <td>2</td>\n      <td>10000U</td>\n      <td>70</td>\n      <td>F</td>\n      <td>41</td>\n      <td>2</td>\n    </tr>\n    <tr>\n      <th>10</th>\n      <td>2</td>\n      <td>5</td>\n      <td>12</td>\n      <td>1</td>\n      <td>2</td>\n      <td>10000U</td>\n      <td>70</td>\n      <td>F</td>\n      <td>65</td>\n      <td>2</td>\n    </tr>\n    <tr>\n      <th>11</th>\n      <td>2</td>\n      <td>6</td>\n      <td>16</td>\n      <td>1</td>\n      <td>2</td>\n      <td>10000U</td>\n      <td>70</td>\n      <td>F</td>\n      <td>67</td>\n      <td>2</td>\n    </tr>\n    <tr>\n      <th>12</th>\n      <td>3</td>\n      <td>1</td>\n      <td>0</td>\n      <td>1</td>\n      <td>3</td>\n      <td>5000U</td>\n      <td>64</td>\n      <td>F</td>\n      <td>44</td>\n      <td>1</td>\n    </tr>\n    <tr>\n      <th>13</th>\n      <td>3</td>\n      <td>2</td>\n      <td>2</td>\n      <td>1</td>\n      <td>3</td>\n      <td>5000U</td>\n      <td>64</td>\n      <td>F</td>\n      <td>20</td>\n      <td>1</td>\n    </tr>\n    <tr>\n      <th>14</th>\n      <td>3</td>\n      <td>3</td>\n      <td>4</td>\n      <td>1</td>\n      <td>3</td>\n      <td>5000U</td>\n      <td>64</td>\n      <td>F</td>\n      <td>23</td>\n      <td>1</td>\n    </tr>\n    <tr>\n      <th>15</th>\n      <td>3</td>\n      <td>4</td>\n      <td>8</td>\n      <td>1</td>\n      <td>3</td>\n      <td>5000U</td>\n      <td>64</td>\n      <td>F</td>\n      <td>26</td>\n      <td>1</td>\n    </tr>\n    <tr>\n      <th>16</th>\n      <td>3</td>\n      <td>5</td>\n      <td>12</td>\n      <td>1</td>\n      <td>3</td>\n      <td>5000U</td>\n      <td>64</td>\n      <td>F</td>\n      <td>35</td>\n      <td>1</td>\n    </tr>\n    <tr>\n      <th>17</th>\n      <td>3</td>\n      <td>6</td>\n      <td>16</td>\n      <td>1</td>\n      <td>3</td>\n      <td>5000U</td>\n      <td>64</td>\n      <td>F</td>\n      <td>35</td>\n      <td>1</td>\n    </tr>\n    <tr>\n      <th>18</th>\n      <td>4</td>\n      <td>1</td>\n      <td>0</td>\n      <td>1</td>\n      <td>4</td>\n      <td>Placebo</td>\n      <td>59</td>\n      <td>F</td>\n      <td>53</td>\n      <td>0</td>\n    </tr>\n    <tr>\n      <th>19</th>\n      <td>4</td>\n      <td>2</td>\n      <td>2</td>\n      <td>1</td>\n      <td>4</td>\n      <td>Placebo</td>\n      <td>59</td>\n      <td>F</td>\n      <td>61</td>\n      <td>0</td>\n    </tr>\n  </tbody>\n</table>\n</div>"
     },
     "execution_count": 107,
     "metadata": {},
     "output_type": "execute_result"
    }
   ],
   "source": [
    "cdystonia.head(20)"
   ],
   "metadata": {
    "collapsed": false
   }
  },
  {
   "cell_type": "code",
   "execution_count": 108,
   "outputs": [
    {
     "data": {
      "text/plain": "obs         1     2     3     4     5     6\npatient                                    \n1        32.0  30.0  24.0  37.0  39.0  36.0\n2        60.0  26.0  27.0  41.0  65.0  67.0\n3        44.0  20.0  23.0  26.0  35.0  35.0\n4        53.0  61.0  64.0  62.0   NaN   NaN\n5        53.0  35.0  48.0  49.0  41.0  51.0",
      "text/html": "<div>\n<style scoped>\n    .dataframe tbody tr th:only-of-type {\n        vertical-align: middle;\n    }\n\n    .dataframe tbody tr th {\n        vertical-align: top;\n    }\n\n    .dataframe thead th {\n        text-align: right;\n    }\n</style>\n<table border=\"1\" class=\"dataframe\">\n  <thead>\n    <tr style=\"text-align: right;\">\n      <th>obs</th>\n      <th>1</th>\n      <th>2</th>\n      <th>3</th>\n      <th>4</th>\n      <th>5</th>\n      <th>6</th>\n    </tr>\n    <tr>\n      <th>patient</th>\n      <th></th>\n      <th></th>\n      <th></th>\n      <th></th>\n      <th></th>\n      <th></th>\n    </tr>\n  </thead>\n  <tbody>\n    <tr>\n      <th>1</th>\n      <td>32.0</td>\n      <td>30.0</td>\n      <td>24.0</td>\n      <td>37.0</td>\n      <td>39.0</td>\n      <td>36.0</td>\n    </tr>\n    <tr>\n      <th>2</th>\n      <td>60.0</td>\n      <td>26.0</td>\n      <td>27.0</td>\n      <td>41.0</td>\n      <td>65.0</td>\n      <td>67.0</td>\n    </tr>\n    <tr>\n      <th>3</th>\n      <td>44.0</td>\n      <td>20.0</td>\n      <td>23.0</td>\n      <td>26.0</td>\n      <td>35.0</td>\n      <td>35.0</td>\n    </tr>\n    <tr>\n      <th>4</th>\n      <td>53.0</td>\n      <td>61.0</td>\n      <td>64.0</td>\n      <td>62.0</td>\n      <td>NaN</td>\n      <td>NaN</td>\n    </tr>\n    <tr>\n      <th>5</th>\n      <td>53.0</td>\n      <td>35.0</td>\n      <td>48.0</td>\n      <td>49.0</td>\n      <td>41.0</td>\n      <td>51.0</td>\n    </tr>\n  </tbody>\n</table>\n</div>"
     },
     "execution_count": 108,
     "metadata": {},
     "output_type": "execute_result"
    }
   ],
   "source": [
    "twstrs_wide = cdystonia.pivot(index='patient', columns='obs', values='twstrs').head()\n",
    "twstrs_wide"
   ],
   "metadata": {
    "collapsed": false
   }
  },
  {
   "cell_type": "code",
   "execution_count": 109,
   "outputs": [
    {
     "data": {
      "text/plain": "patient   1     2     3     4     5     6     7     8     9     10   ...  \\\nobs                                                                  ...   \n1        32.0  60.0  44.0  53.0  53.0  49.0  42.0  34.0  41.0  27.0  ...   \n2        30.0  26.0  20.0  61.0  35.0  34.0  32.0  33.0  32.0  10.0  ...   \n3        24.0  27.0  23.0  64.0  48.0  43.0  32.0  21.0  34.0  31.0  ...   \n4        37.0  41.0  26.0  62.0  49.0  48.0  43.0  27.0  35.0  32.0  ...   \n5        39.0  65.0  35.0   NaN  41.0  48.0  42.0  32.0  37.0   6.0  ...   \n\npatient   100   101   102   103   104   105   106   107   108   109  \nobs                                                                  \n1        61.0  35.0  58.0  49.0  52.0  45.0  67.0  57.0  63.0  53.0  \n2        52.0  21.0  38.0  45.0  46.0  46.0  63.0   NaN  51.0  38.0  \n3        61.0  29.0  50.0  36.0  36.0  33.0  71.0  36.0  46.0   NaN  \n4        68.0  30.0  53.0   NaN   NaN  44.0  66.0  23.0  50.0  33.0  \n5        59.0  35.0  47.0  40.0  45.0  46.0  68.0   NaN  50.0  36.0  \n\n[5 rows x 109 columns]",
      "text/html": "<div>\n<style scoped>\n    .dataframe tbody tr th:only-of-type {\n        vertical-align: middle;\n    }\n\n    .dataframe tbody tr th {\n        vertical-align: top;\n    }\n\n    .dataframe thead th {\n        text-align: right;\n    }\n</style>\n<table border=\"1\" class=\"dataframe\">\n  <thead>\n    <tr style=\"text-align: right;\">\n      <th>patient</th>\n      <th>1</th>\n      <th>2</th>\n      <th>3</th>\n      <th>4</th>\n      <th>5</th>\n      <th>6</th>\n      <th>7</th>\n      <th>8</th>\n      <th>9</th>\n      <th>10</th>\n      <th>...</th>\n      <th>100</th>\n      <th>101</th>\n      <th>102</th>\n      <th>103</th>\n      <th>104</th>\n      <th>105</th>\n      <th>106</th>\n      <th>107</th>\n      <th>108</th>\n      <th>109</th>\n    </tr>\n    <tr>\n      <th>obs</th>\n      <th></th>\n      <th></th>\n      <th></th>\n      <th></th>\n      <th></th>\n      <th></th>\n      <th></th>\n      <th></th>\n      <th></th>\n      <th></th>\n      <th></th>\n      <th></th>\n      <th></th>\n      <th></th>\n      <th></th>\n      <th></th>\n      <th></th>\n      <th></th>\n      <th></th>\n      <th></th>\n      <th></th>\n    </tr>\n  </thead>\n  <tbody>\n    <tr>\n      <th>1</th>\n      <td>32.0</td>\n      <td>60.0</td>\n      <td>44.0</td>\n      <td>53.0</td>\n      <td>53.0</td>\n      <td>49.0</td>\n      <td>42.0</td>\n      <td>34.0</td>\n      <td>41.0</td>\n      <td>27.0</td>\n      <td>...</td>\n      <td>61.0</td>\n      <td>35.0</td>\n      <td>58.0</td>\n      <td>49.0</td>\n      <td>52.0</td>\n      <td>45.0</td>\n      <td>67.0</td>\n      <td>57.0</td>\n      <td>63.0</td>\n      <td>53.0</td>\n    </tr>\n    <tr>\n      <th>2</th>\n      <td>30.0</td>\n      <td>26.0</td>\n      <td>20.0</td>\n      <td>61.0</td>\n      <td>35.0</td>\n      <td>34.0</td>\n      <td>32.0</td>\n      <td>33.0</td>\n      <td>32.0</td>\n      <td>10.0</td>\n      <td>...</td>\n      <td>52.0</td>\n      <td>21.0</td>\n      <td>38.0</td>\n      <td>45.0</td>\n      <td>46.0</td>\n      <td>46.0</td>\n      <td>63.0</td>\n      <td>NaN</td>\n      <td>51.0</td>\n      <td>38.0</td>\n    </tr>\n    <tr>\n      <th>3</th>\n      <td>24.0</td>\n      <td>27.0</td>\n      <td>23.0</td>\n      <td>64.0</td>\n      <td>48.0</td>\n      <td>43.0</td>\n      <td>32.0</td>\n      <td>21.0</td>\n      <td>34.0</td>\n      <td>31.0</td>\n      <td>...</td>\n      <td>61.0</td>\n      <td>29.0</td>\n      <td>50.0</td>\n      <td>36.0</td>\n      <td>36.0</td>\n      <td>33.0</td>\n      <td>71.0</td>\n      <td>36.0</td>\n      <td>46.0</td>\n      <td>NaN</td>\n    </tr>\n    <tr>\n      <th>4</th>\n      <td>37.0</td>\n      <td>41.0</td>\n      <td>26.0</td>\n      <td>62.0</td>\n      <td>49.0</td>\n      <td>48.0</td>\n      <td>43.0</td>\n      <td>27.0</td>\n      <td>35.0</td>\n      <td>32.0</td>\n      <td>...</td>\n      <td>68.0</td>\n      <td>30.0</td>\n      <td>53.0</td>\n      <td>NaN</td>\n      <td>NaN</td>\n      <td>44.0</td>\n      <td>66.0</td>\n      <td>23.0</td>\n      <td>50.0</td>\n      <td>33.0</td>\n    </tr>\n    <tr>\n      <th>5</th>\n      <td>39.0</td>\n      <td>65.0</td>\n      <td>35.0</td>\n      <td>NaN</td>\n      <td>41.0</td>\n      <td>48.0</td>\n      <td>42.0</td>\n      <td>32.0</td>\n      <td>37.0</td>\n      <td>6.0</td>\n      <td>...</td>\n      <td>59.0</td>\n      <td>35.0</td>\n      <td>47.0</td>\n      <td>40.0</td>\n      <td>45.0</td>\n      <td>46.0</td>\n      <td>68.0</td>\n      <td>NaN</td>\n      <td>50.0</td>\n      <td>36.0</td>\n    </tr>\n  </tbody>\n</table>\n<p>5 rows × 109 columns</p>\n</div>"
     },
     "execution_count": 109,
     "metadata": {},
     "output_type": "execute_result"
    }
   ],
   "source": [
    "twstrs_wide1 = cdystonia.pivot(index='obs', columns='patient', values='twstrs').head()\n",
    "twstrs_wide1"
   ],
   "metadata": {
    "collapsed": false
   }
  },
  {
   "cell_type": "code",
   "execution_count": 110,
   "outputs": [
    {
     "name": "stdout",
     "output_type": "stream",
     "text": [
      "     patient  site  id    treat  age sex\n",
      "0          1     1   1    5000U   65   F\n",
      "6          2     1   2   10000U   70   F\n",
      "12         3     1   3    5000U   64   F\n",
      "18         4     1   4  Placebo   59   F\n",
      "22         5     1   5   10000U   76   F\n",
      "..       ...   ...  ..      ...  ...  ..\n",
      "604      105     9   7  Placebo   79   F\n",
      "610      106     9   8    5000U   43   M\n",
      "616      107     9   9   10000U   50   M\n",
      "620      108     9  10   10000U   39   F\n",
      "626      109     9  11    5000U   57   M\n",
      "\n",
      "[109 rows x 6 columns]\n"
     ]
    }
   ],
   "source": [
    "print(cdystonia[['patient','site','id','treat','age','sex']]\n",
    "                  .drop_duplicates())"
   ],
   "metadata": {
    "collapsed": false
   }
  },
  {
   "cell_type": "code",
   "execution_count": 111,
   "outputs": [
    {
     "data": {
      "text/plain": "obs         1     2     3     4     5     6\npatient                                    \n1        32.0  30.0  24.0  37.0  39.0  36.0\n2        60.0  26.0  27.0  41.0  65.0  67.0\n3        44.0  20.0  23.0  26.0  35.0  35.0\n4        53.0  61.0  64.0  62.0   NaN   NaN\n5        53.0  35.0  48.0  49.0  41.0  51.0",
      "text/html": "<div>\n<style scoped>\n    .dataframe tbody tr th:only-of-type {\n        vertical-align: middle;\n    }\n\n    .dataframe tbody tr th {\n        vertical-align: top;\n    }\n\n    .dataframe thead th {\n        text-align: right;\n    }\n</style>\n<table border=\"1\" class=\"dataframe\">\n  <thead>\n    <tr style=\"text-align: right;\">\n      <th>obs</th>\n      <th>1</th>\n      <th>2</th>\n      <th>3</th>\n      <th>4</th>\n      <th>5</th>\n      <th>6</th>\n    </tr>\n    <tr>\n      <th>patient</th>\n      <th></th>\n      <th></th>\n      <th></th>\n      <th></th>\n      <th></th>\n      <th></th>\n    </tr>\n  </thead>\n  <tbody>\n    <tr>\n      <th>1</th>\n      <td>32.0</td>\n      <td>30.0</td>\n      <td>24.0</td>\n      <td>37.0</td>\n      <td>39.0</td>\n      <td>36.0</td>\n    </tr>\n    <tr>\n      <th>2</th>\n      <td>60.0</td>\n      <td>26.0</td>\n      <td>27.0</td>\n      <td>41.0</td>\n      <td>65.0</td>\n      <td>67.0</td>\n    </tr>\n    <tr>\n      <th>3</th>\n      <td>44.0</td>\n      <td>20.0</td>\n      <td>23.0</td>\n      <td>26.0</td>\n      <td>35.0</td>\n      <td>35.0</td>\n    </tr>\n    <tr>\n      <th>4</th>\n      <td>53.0</td>\n      <td>61.0</td>\n      <td>64.0</td>\n      <td>62.0</td>\n      <td>NaN</td>\n      <td>NaN</td>\n    </tr>\n    <tr>\n      <th>5</th>\n      <td>53.0</td>\n      <td>35.0</td>\n      <td>48.0</td>\n      <td>49.0</td>\n      <td>41.0</td>\n      <td>51.0</td>\n    </tr>\n  </tbody>\n</table>\n</div>"
     },
     "execution_count": 111,
     "metadata": {},
     "output_type": "execute_result"
    }
   ],
   "source": [
    "twstrs_wide"
   ],
   "metadata": {
    "collapsed": false
   }
  },
  {
   "cell_type": "code",
   "execution_count": 112,
   "outputs": [
    {
     "data": {
      "text/plain": "    patient  site  id    treat  age sex     1     2     3     4     5     6\n0         1     1   1    5000U   65   F  32.0  30.0  24.0  37.0  39.0  36.0\n6         2     1   2   10000U   70   F  60.0  26.0  27.0  41.0  65.0  67.0\n12        3     1   3    5000U   64   F  44.0  20.0  23.0  26.0  35.0  35.0\n18        4     1   4  Placebo   59   F  53.0  61.0  64.0  62.0   NaN   NaN\n22        5     1   5   10000U   76   F  53.0  35.0  48.0  49.0  41.0  51.0",
      "text/html": "<div>\n<style scoped>\n    .dataframe tbody tr th:only-of-type {\n        vertical-align: middle;\n    }\n\n    .dataframe tbody tr th {\n        vertical-align: top;\n    }\n\n    .dataframe thead th {\n        text-align: right;\n    }\n</style>\n<table border=\"1\" class=\"dataframe\">\n  <thead>\n    <tr style=\"text-align: right;\">\n      <th></th>\n      <th>patient</th>\n      <th>site</th>\n      <th>id</th>\n      <th>treat</th>\n      <th>age</th>\n      <th>sex</th>\n      <th>1</th>\n      <th>2</th>\n      <th>3</th>\n      <th>4</th>\n      <th>5</th>\n      <th>6</th>\n    </tr>\n  </thead>\n  <tbody>\n    <tr>\n      <th>0</th>\n      <td>1</td>\n      <td>1</td>\n      <td>1</td>\n      <td>5000U</td>\n      <td>65</td>\n      <td>F</td>\n      <td>32.0</td>\n      <td>30.0</td>\n      <td>24.0</td>\n      <td>37.0</td>\n      <td>39.0</td>\n      <td>36.0</td>\n    </tr>\n    <tr>\n      <th>6</th>\n      <td>2</td>\n      <td>1</td>\n      <td>2</td>\n      <td>10000U</td>\n      <td>70</td>\n      <td>F</td>\n      <td>60.0</td>\n      <td>26.0</td>\n      <td>27.0</td>\n      <td>41.0</td>\n      <td>65.0</td>\n      <td>67.0</td>\n    </tr>\n    <tr>\n      <th>12</th>\n      <td>3</td>\n      <td>1</td>\n      <td>3</td>\n      <td>5000U</td>\n      <td>64</td>\n      <td>F</td>\n      <td>44.0</td>\n      <td>20.0</td>\n      <td>23.0</td>\n      <td>26.0</td>\n      <td>35.0</td>\n      <td>35.0</td>\n    </tr>\n    <tr>\n      <th>18</th>\n      <td>4</td>\n      <td>1</td>\n      <td>4</td>\n      <td>Placebo</td>\n      <td>59</td>\n      <td>F</td>\n      <td>53.0</td>\n      <td>61.0</td>\n      <td>64.0</td>\n      <td>62.0</td>\n      <td>NaN</td>\n      <td>NaN</td>\n    </tr>\n    <tr>\n      <th>22</th>\n      <td>5</td>\n      <td>1</td>\n      <td>5</td>\n      <td>10000U</td>\n      <td>76</td>\n      <td>F</td>\n      <td>53.0</td>\n      <td>35.0</td>\n      <td>48.0</td>\n      <td>49.0</td>\n      <td>41.0</td>\n      <td>51.0</td>\n    </tr>\n  </tbody>\n</table>\n</div>"
     },
     "execution_count": 112,
     "metadata": {},
     "output_type": "execute_result"
    }
   ],
   "source": [
    "cdystonia_wide = (cdystonia[['patient','site','id','treat','age','sex']]\n",
    "                  .drop_duplicates()\n",
    "                  .merge(twstrs_wide, right_index=True, left_on='patient', how='inner')\n",
    "                  .head(20))\n",
    "cdystonia_wide"
   ],
   "metadata": {
    "collapsed": false
   }
  },
  {
   "cell_type": "markdown",
   "metadata": {},
   "source": [
    "To convert our \"wide\" format back to long, we can use the `melt` function, appropriately parameterized. This function is useful for `DataFrame`s where one\n",
    "or more columns are identifier variables (`id_vars`), with the remaining columns being measured variables (`value_vars`). The measured variables are \"unpivoted\" to\n",
    "the row axis, leaving just two non-identifier columns, a *variable* and its corresponding *value*, which can both be renamed using optional arguments."
   ]
  },
  {
   "cell_type": "code",
   "execution_count": 113,
   "outputs": [
    {
     "data": {
      "text/plain": "    patient  site  id    treat  age sex     1     2     3     4     5     6\n0         1     1   1    5000U   65   F  32.0  30.0  24.0  37.0  39.0  36.0\n6         2     1   2   10000U   70   F  60.0  26.0  27.0  41.0  65.0  67.0\n12        3     1   3    5000U   64   F  44.0  20.0  23.0  26.0  35.0  35.0\n18        4     1   4  Placebo   59   F  53.0  61.0  64.0  62.0   NaN   NaN\n22        5     1   5   10000U   76   F  53.0  35.0  48.0  49.0  41.0  51.0",
      "text/html": "<div>\n<style scoped>\n    .dataframe tbody tr th:only-of-type {\n        vertical-align: middle;\n    }\n\n    .dataframe tbody tr th {\n        vertical-align: top;\n    }\n\n    .dataframe thead th {\n        text-align: right;\n    }\n</style>\n<table border=\"1\" class=\"dataframe\">\n  <thead>\n    <tr style=\"text-align: right;\">\n      <th></th>\n      <th>patient</th>\n      <th>site</th>\n      <th>id</th>\n      <th>treat</th>\n      <th>age</th>\n      <th>sex</th>\n      <th>1</th>\n      <th>2</th>\n      <th>3</th>\n      <th>4</th>\n      <th>5</th>\n      <th>6</th>\n    </tr>\n  </thead>\n  <tbody>\n    <tr>\n      <th>0</th>\n      <td>1</td>\n      <td>1</td>\n      <td>1</td>\n      <td>5000U</td>\n      <td>65</td>\n      <td>F</td>\n      <td>32.0</td>\n      <td>30.0</td>\n      <td>24.0</td>\n      <td>37.0</td>\n      <td>39.0</td>\n      <td>36.0</td>\n    </tr>\n    <tr>\n      <th>6</th>\n      <td>2</td>\n      <td>1</td>\n      <td>2</td>\n      <td>10000U</td>\n      <td>70</td>\n      <td>F</td>\n      <td>60.0</td>\n      <td>26.0</td>\n      <td>27.0</td>\n      <td>41.0</td>\n      <td>65.0</td>\n      <td>67.0</td>\n    </tr>\n    <tr>\n      <th>12</th>\n      <td>3</td>\n      <td>1</td>\n      <td>3</td>\n      <td>5000U</td>\n      <td>64</td>\n      <td>F</td>\n      <td>44.0</td>\n      <td>20.0</td>\n      <td>23.0</td>\n      <td>26.0</td>\n      <td>35.0</td>\n      <td>35.0</td>\n    </tr>\n    <tr>\n      <th>18</th>\n      <td>4</td>\n      <td>1</td>\n      <td>4</td>\n      <td>Placebo</td>\n      <td>59</td>\n      <td>F</td>\n      <td>53.0</td>\n      <td>61.0</td>\n      <td>64.0</td>\n      <td>62.0</td>\n      <td>NaN</td>\n      <td>NaN</td>\n    </tr>\n    <tr>\n      <th>22</th>\n      <td>5</td>\n      <td>1</td>\n      <td>5</td>\n      <td>10000U</td>\n      <td>76</td>\n      <td>F</td>\n      <td>53.0</td>\n      <td>35.0</td>\n      <td>48.0</td>\n      <td>49.0</td>\n      <td>41.0</td>\n      <td>51.0</td>\n    </tr>\n  </tbody>\n</table>\n</div>"
     },
     "execution_count": 113,
     "metadata": {},
     "output_type": "execute_result"
    }
   ],
   "source": [
    "cdystonia_wide"
   ],
   "metadata": {
    "collapsed": false
   }
  },
  {
   "cell_type": "code",
   "execution_count": 114,
   "outputs": [
    {
     "data": {
      "text/plain": "    patient  site  id    treat  age sex obs  twsters\n0         1     1   1    5000U   65   F   1     32.0\n1         2     1   2   10000U   70   F   1     60.0\n2         3     1   3    5000U   64   F   1     44.0\n3         4     1   4  Placebo   59   F   1     53.0\n4         5     1   5   10000U   76   F   1     53.0\n5         1     1   1    5000U   65   F   2     30.0\n6         2     1   2   10000U   70   F   2     26.0\n7         3     1   3    5000U   64   F   2     20.0\n8         4     1   4  Placebo   59   F   2     61.0\n9         5     1   5   10000U   76   F   2     35.0\n10        1     1   1    5000U   65   F   3     24.0\n11        2     1   2   10000U   70   F   3     27.0\n12        3     1   3    5000U   64   F   3     23.0\n13        4     1   4  Placebo   59   F   3     64.0\n14        5     1   5   10000U   76   F   3     48.0\n15        1     1   1    5000U   65   F   4     37.0\n16        2     1   2   10000U   70   F   4     41.0\n17        3     1   3    5000U   64   F   4     26.0\n18        4     1   4  Placebo   59   F   4     62.0\n19        5     1   5   10000U   76   F   4     49.0",
      "text/html": "<div>\n<style scoped>\n    .dataframe tbody tr th:only-of-type {\n        vertical-align: middle;\n    }\n\n    .dataframe tbody tr th {\n        vertical-align: top;\n    }\n\n    .dataframe thead th {\n        text-align: right;\n    }\n</style>\n<table border=\"1\" class=\"dataframe\">\n  <thead>\n    <tr style=\"text-align: right;\">\n      <th></th>\n      <th>patient</th>\n      <th>site</th>\n      <th>id</th>\n      <th>treat</th>\n      <th>age</th>\n      <th>sex</th>\n      <th>obs</th>\n      <th>twsters</th>\n    </tr>\n  </thead>\n  <tbody>\n    <tr>\n      <th>0</th>\n      <td>1</td>\n      <td>1</td>\n      <td>1</td>\n      <td>5000U</td>\n      <td>65</td>\n      <td>F</td>\n      <td>1</td>\n      <td>32.0</td>\n    </tr>\n    <tr>\n      <th>1</th>\n      <td>2</td>\n      <td>1</td>\n      <td>2</td>\n      <td>10000U</td>\n      <td>70</td>\n      <td>F</td>\n      <td>1</td>\n      <td>60.0</td>\n    </tr>\n    <tr>\n      <th>2</th>\n      <td>3</td>\n      <td>1</td>\n      <td>3</td>\n      <td>5000U</td>\n      <td>64</td>\n      <td>F</td>\n      <td>1</td>\n      <td>44.0</td>\n    </tr>\n    <tr>\n      <th>3</th>\n      <td>4</td>\n      <td>1</td>\n      <td>4</td>\n      <td>Placebo</td>\n      <td>59</td>\n      <td>F</td>\n      <td>1</td>\n      <td>53.0</td>\n    </tr>\n    <tr>\n      <th>4</th>\n      <td>5</td>\n      <td>1</td>\n      <td>5</td>\n      <td>10000U</td>\n      <td>76</td>\n      <td>F</td>\n      <td>1</td>\n      <td>53.0</td>\n    </tr>\n    <tr>\n      <th>5</th>\n      <td>1</td>\n      <td>1</td>\n      <td>1</td>\n      <td>5000U</td>\n      <td>65</td>\n      <td>F</td>\n      <td>2</td>\n      <td>30.0</td>\n    </tr>\n    <tr>\n      <th>6</th>\n      <td>2</td>\n      <td>1</td>\n      <td>2</td>\n      <td>10000U</td>\n      <td>70</td>\n      <td>F</td>\n      <td>2</td>\n      <td>26.0</td>\n    </tr>\n    <tr>\n      <th>7</th>\n      <td>3</td>\n      <td>1</td>\n      <td>3</td>\n      <td>5000U</td>\n      <td>64</td>\n      <td>F</td>\n      <td>2</td>\n      <td>20.0</td>\n    </tr>\n    <tr>\n      <th>8</th>\n      <td>4</td>\n      <td>1</td>\n      <td>4</td>\n      <td>Placebo</td>\n      <td>59</td>\n      <td>F</td>\n      <td>2</td>\n      <td>61.0</td>\n    </tr>\n    <tr>\n      <th>9</th>\n      <td>5</td>\n      <td>1</td>\n      <td>5</td>\n      <td>10000U</td>\n      <td>76</td>\n      <td>F</td>\n      <td>2</td>\n      <td>35.0</td>\n    </tr>\n    <tr>\n      <th>10</th>\n      <td>1</td>\n      <td>1</td>\n      <td>1</td>\n      <td>5000U</td>\n      <td>65</td>\n      <td>F</td>\n      <td>3</td>\n      <td>24.0</td>\n    </tr>\n    <tr>\n      <th>11</th>\n      <td>2</td>\n      <td>1</td>\n      <td>2</td>\n      <td>10000U</td>\n      <td>70</td>\n      <td>F</td>\n      <td>3</td>\n      <td>27.0</td>\n    </tr>\n    <tr>\n      <th>12</th>\n      <td>3</td>\n      <td>1</td>\n      <td>3</td>\n      <td>5000U</td>\n      <td>64</td>\n      <td>F</td>\n      <td>3</td>\n      <td>23.0</td>\n    </tr>\n    <tr>\n      <th>13</th>\n      <td>4</td>\n      <td>1</td>\n      <td>4</td>\n      <td>Placebo</td>\n      <td>59</td>\n      <td>F</td>\n      <td>3</td>\n      <td>64.0</td>\n    </tr>\n    <tr>\n      <th>14</th>\n      <td>5</td>\n      <td>1</td>\n      <td>5</td>\n      <td>10000U</td>\n      <td>76</td>\n      <td>F</td>\n      <td>3</td>\n      <td>48.0</td>\n    </tr>\n    <tr>\n      <th>15</th>\n      <td>1</td>\n      <td>1</td>\n      <td>1</td>\n      <td>5000U</td>\n      <td>65</td>\n      <td>F</td>\n      <td>4</td>\n      <td>37.0</td>\n    </tr>\n    <tr>\n      <th>16</th>\n      <td>2</td>\n      <td>1</td>\n      <td>2</td>\n      <td>10000U</td>\n      <td>70</td>\n      <td>F</td>\n      <td>4</td>\n      <td>41.0</td>\n    </tr>\n    <tr>\n      <th>17</th>\n      <td>3</td>\n      <td>1</td>\n      <td>3</td>\n      <td>5000U</td>\n      <td>64</td>\n      <td>F</td>\n      <td>4</td>\n      <td>26.0</td>\n    </tr>\n    <tr>\n      <th>18</th>\n      <td>4</td>\n      <td>1</td>\n      <td>4</td>\n      <td>Placebo</td>\n      <td>59</td>\n      <td>F</td>\n      <td>4</td>\n      <td>62.0</td>\n    </tr>\n    <tr>\n      <th>19</th>\n      <td>5</td>\n      <td>1</td>\n      <td>5</td>\n      <td>10000U</td>\n      <td>76</td>\n      <td>F</td>\n      <td>4</td>\n      <td>49.0</td>\n    </tr>\n  </tbody>\n</table>\n</div>"
     },
     "execution_count": 114,
     "metadata": {},
     "output_type": "execute_result"
    }
   ],
   "source": [
    "pd.melt(cdystonia_wide, id_vars=['patient','site','id','treat','age','sex'], var_name='obs', value_name='twsters').head(20)"
   ],
   "metadata": {
    "collapsed": false
   }
  },
  {
   "cell_type": "markdown",
   "metadata": {},
   "source": [
    "This illustrates the two formats for longitudinal data: **long** and **wide** formats. Its typically better to store data in long format because additional data can be included as additional rows in the database, while wide format requires that the entire database schema be altered by adding columns to every row as data are collected.\n",
    "\n",
    "The preferable format for analysis depends entirely on what is planned for the data, so it is imporant to be able to move easily between them."
   ]
  },
  {
   "cell_type": "markdown",
   "metadata": {},
   "source": [
    "A related method, `pivot_table`, creates a spreadsheet-like table with a hierarchical index, and allows the values of the table to be populated using an arbitrary aggregation function."
   ]
  },
  {
   "cell_type": "code",
   "execution_count": 54,
   "outputs": [
    {
     "data": {
      "text/plain": "     patient  obs  week  site  id  treat  age sex  twstrs\n0          1    1     0     1   1  5000U   65   F      32\n1          1    2     2     1   1  5000U   65   F      30\n2          1    3     4     1   1  5000U   65   F      24\n3          1    4     8     1   1  5000U   65   F      37\n4          1    5    12     1   1  5000U   65   F      39\n..       ...  ...   ...   ...  ..    ...  ...  ..     ...\n626      109    1     0     9  11  5000U   57   M      53\n627      109    2     2     9  11  5000U   57   M      38\n628      109    4     8     9  11  5000U   57   M      33\n629      109    5    12     9  11  5000U   57   M      36\n630      109    6    16     9  11  5000U   57   M      51\n\n[631 rows x 9 columns]",
      "text/html": "<div>\n<style scoped>\n    .dataframe tbody tr th:only-of-type {\n        vertical-align: middle;\n    }\n\n    .dataframe tbody tr th {\n        vertical-align: top;\n    }\n\n    .dataframe thead th {\n        text-align: right;\n    }\n</style>\n<table border=\"1\" class=\"dataframe\">\n  <thead>\n    <tr style=\"text-align: right;\">\n      <th></th>\n      <th>patient</th>\n      <th>obs</th>\n      <th>week</th>\n      <th>site</th>\n      <th>id</th>\n      <th>treat</th>\n      <th>age</th>\n      <th>sex</th>\n      <th>twstrs</th>\n    </tr>\n  </thead>\n  <tbody>\n    <tr>\n      <th>0</th>\n      <td>1</td>\n      <td>1</td>\n      <td>0</td>\n      <td>1</td>\n      <td>1</td>\n      <td>5000U</td>\n      <td>65</td>\n      <td>F</td>\n      <td>32</td>\n    </tr>\n    <tr>\n      <th>1</th>\n      <td>1</td>\n      <td>2</td>\n      <td>2</td>\n      <td>1</td>\n      <td>1</td>\n      <td>5000U</td>\n      <td>65</td>\n      <td>F</td>\n      <td>30</td>\n    </tr>\n    <tr>\n      <th>2</th>\n      <td>1</td>\n      <td>3</td>\n      <td>4</td>\n      <td>1</td>\n      <td>1</td>\n      <td>5000U</td>\n      <td>65</td>\n      <td>F</td>\n      <td>24</td>\n    </tr>\n    <tr>\n      <th>3</th>\n      <td>1</td>\n      <td>4</td>\n      <td>8</td>\n      <td>1</td>\n      <td>1</td>\n      <td>5000U</td>\n      <td>65</td>\n      <td>F</td>\n      <td>37</td>\n    </tr>\n    <tr>\n      <th>4</th>\n      <td>1</td>\n      <td>5</td>\n      <td>12</td>\n      <td>1</td>\n      <td>1</td>\n      <td>5000U</td>\n      <td>65</td>\n      <td>F</td>\n      <td>39</td>\n    </tr>\n    <tr>\n      <th>...</th>\n      <td>...</td>\n      <td>...</td>\n      <td>...</td>\n      <td>...</td>\n      <td>...</td>\n      <td>...</td>\n      <td>...</td>\n      <td>...</td>\n      <td>...</td>\n    </tr>\n    <tr>\n      <th>626</th>\n      <td>109</td>\n      <td>1</td>\n      <td>0</td>\n      <td>9</td>\n      <td>11</td>\n      <td>5000U</td>\n      <td>57</td>\n      <td>M</td>\n      <td>53</td>\n    </tr>\n    <tr>\n      <th>627</th>\n      <td>109</td>\n      <td>2</td>\n      <td>2</td>\n      <td>9</td>\n      <td>11</td>\n      <td>5000U</td>\n      <td>57</td>\n      <td>M</td>\n      <td>38</td>\n    </tr>\n    <tr>\n      <th>628</th>\n      <td>109</td>\n      <td>4</td>\n      <td>8</td>\n      <td>9</td>\n      <td>11</td>\n      <td>5000U</td>\n      <td>57</td>\n      <td>M</td>\n      <td>33</td>\n    </tr>\n    <tr>\n      <th>629</th>\n      <td>109</td>\n      <td>5</td>\n      <td>12</td>\n      <td>9</td>\n      <td>11</td>\n      <td>5000U</td>\n      <td>57</td>\n      <td>M</td>\n      <td>36</td>\n    </tr>\n    <tr>\n      <th>630</th>\n      <td>109</td>\n      <td>6</td>\n      <td>16</td>\n      <td>9</td>\n      <td>11</td>\n      <td>5000U</td>\n      <td>57</td>\n      <td>M</td>\n      <td>51</td>\n    </tr>\n  </tbody>\n</table>\n<p>631 rows × 9 columns</p>\n</div>"
     },
     "execution_count": 54,
     "metadata": {},
     "output_type": "execute_result"
    }
   ],
   "source": [
    "cdystonia"
   ],
   "metadata": {
    "collapsed": false
   }
  },
  {
   "cell_type": "code",
   "execution_count": 55,
   "outputs": [
    {
     "data": {
      "text/plain": "week          0   2   4   8   12  16\nsite treat                          \n1    10000U   60  41  48  49  65  67\n     5000U    44  32  34  43  42  46\n     Placebo  53  61  64  62  32  38\n2    10000U   65  60  60  64  67  66\n     5000U    67  64  65  64  62  64\n     Placebo  53  56  52  57  61  54\n3    10000U   50  43  51  46  49  56\n     5000U    52  44  47  50  50  49\n     Placebo  43  38  40  48  49  44\n4    10000U   54  52  52  54  51  57\n     5000U    52  34  43  45  47  46\n     Placebo  52  55  51  52  54  57\n5    10000U   50  50  32  46  54  57\n     5000U    60  53  55  62  67  26\n     Placebo  60  57  53  52  53  58\n6    10000U   55  56  47  53  51  51\n     5000U    59  55  50  56  59  53\n     Placebo  54  53  51  57  57  57\n7    10000U   53  47  45  45  50  53\n     5000U    53  45  52  51  52  53",
      "text/html": "<div>\n<style scoped>\n    .dataframe tbody tr th:only-of-type {\n        vertical-align: middle;\n    }\n\n    .dataframe tbody tr th {\n        vertical-align: top;\n    }\n\n    .dataframe thead th {\n        text-align: right;\n    }\n</style>\n<table border=\"1\" class=\"dataframe\">\n  <thead>\n    <tr style=\"text-align: right;\">\n      <th></th>\n      <th>week</th>\n      <th>0</th>\n      <th>2</th>\n      <th>4</th>\n      <th>8</th>\n      <th>12</th>\n      <th>16</th>\n    </tr>\n    <tr>\n      <th>site</th>\n      <th>treat</th>\n      <th></th>\n      <th></th>\n      <th></th>\n      <th></th>\n      <th></th>\n      <th></th>\n    </tr>\n  </thead>\n  <tbody>\n    <tr>\n      <th rowspan=\"3\" valign=\"top\">1</th>\n      <th>10000U</th>\n      <td>60</td>\n      <td>41</td>\n      <td>48</td>\n      <td>49</td>\n      <td>65</td>\n      <td>67</td>\n    </tr>\n    <tr>\n      <th>5000U</th>\n      <td>44</td>\n      <td>32</td>\n      <td>34</td>\n      <td>43</td>\n      <td>42</td>\n      <td>46</td>\n    </tr>\n    <tr>\n      <th>Placebo</th>\n      <td>53</td>\n      <td>61</td>\n      <td>64</td>\n      <td>62</td>\n      <td>32</td>\n      <td>38</td>\n    </tr>\n    <tr>\n      <th rowspan=\"3\" valign=\"top\">2</th>\n      <th>10000U</th>\n      <td>65</td>\n      <td>60</td>\n      <td>60</td>\n      <td>64</td>\n      <td>67</td>\n      <td>66</td>\n    </tr>\n    <tr>\n      <th>5000U</th>\n      <td>67</td>\n      <td>64</td>\n      <td>65</td>\n      <td>64</td>\n      <td>62</td>\n      <td>64</td>\n    </tr>\n    <tr>\n      <th>Placebo</th>\n      <td>53</td>\n      <td>56</td>\n      <td>52</td>\n      <td>57</td>\n      <td>61</td>\n      <td>54</td>\n    </tr>\n    <tr>\n      <th rowspan=\"3\" valign=\"top\">3</th>\n      <th>10000U</th>\n      <td>50</td>\n      <td>43</td>\n      <td>51</td>\n      <td>46</td>\n      <td>49</td>\n      <td>56</td>\n    </tr>\n    <tr>\n      <th>5000U</th>\n      <td>52</td>\n      <td>44</td>\n      <td>47</td>\n      <td>50</td>\n      <td>50</td>\n      <td>49</td>\n    </tr>\n    <tr>\n      <th>Placebo</th>\n      <td>43</td>\n      <td>38</td>\n      <td>40</td>\n      <td>48</td>\n      <td>49</td>\n      <td>44</td>\n    </tr>\n    <tr>\n      <th rowspan=\"3\" valign=\"top\">4</th>\n      <th>10000U</th>\n      <td>54</td>\n      <td>52</td>\n      <td>52</td>\n      <td>54</td>\n      <td>51</td>\n      <td>57</td>\n    </tr>\n    <tr>\n      <th>5000U</th>\n      <td>52</td>\n      <td>34</td>\n      <td>43</td>\n      <td>45</td>\n      <td>47</td>\n      <td>46</td>\n    </tr>\n    <tr>\n      <th>Placebo</th>\n      <td>52</td>\n      <td>55</td>\n      <td>51</td>\n      <td>52</td>\n      <td>54</td>\n      <td>57</td>\n    </tr>\n    <tr>\n      <th rowspan=\"3\" valign=\"top\">5</th>\n      <th>10000U</th>\n      <td>50</td>\n      <td>50</td>\n      <td>32</td>\n      <td>46</td>\n      <td>54</td>\n      <td>57</td>\n    </tr>\n    <tr>\n      <th>5000U</th>\n      <td>60</td>\n      <td>53</td>\n      <td>55</td>\n      <td>62</td>\n      <td>67</td>\n      <td>26</td>\n    </tr>\n    <tr>\n      <th>Placebo</th>\n      <td>60</td>\n      <td>57</td>\n      <td>53</td>\n      <td>52</td>\n      <td>53</td>\n      <td>58</td>\n    </tr>\n    <tr>\n      <th rowspan=\"3\" valign=\"top\">6</th>\n      <th>10000U</th>\n      <td>55</td>\n      <td>56</td>\n      <td>47</td>\n      <td>53</td>\n      <td>51</td>\n      <td>51</td>\n    </tr>\n    <tr>\n      <th>5000U</th>\n      <td>59</td>\n      <td>55</td>\n      <td>50</td>\n      <td>56</td>\n      <td>59</td>\n      <td>53</td>\n    </tr>\n    <tr>\n      <th>Placebo</th>\n      <td>54</td>\n      <td>53</td>\n      <td>51</td>\n      <td>57</td>\n      <td>57</td>\n      <td>57</td>\n    </tr>\n    <tr>\n      <th rowspan=\"2\" valign=\"top\">7</th>\n      <th>10000U</th>\n      <td>53</td>\n      <td>47</td>\n      <td>45</td>\n      <td>45</td>\n      <td>50</td>\n      <td>53</td>\n    </tr>\n    <tr>\n      <th>5000U</th>\n      <td>53</td>\n      <td>45</td>\n      <td>52</td>\n      <td>51</td>\n      <td>52</td>\n      <td>53</td>\n    </tr>\n  </tbody>\n</table>\n</div>"
     },
     "execution_count": 55,
     "metadata": {},
     "output_type": "execute_result"
    }
   ],
   "source": [
    "cdystonia.pivot_table(index=['site', 'treat'], columns='week', values='twstrs', aggfunc=max).head(20)"
   ],
   "metadata": {
    "collapsed": false
   }
  },
  {
   "cell_type": "markdown",
   "metadata": {},
   "source": [
    "For a simple cross-tabulation of group frequencies, the `crosstab` function (not a method) aggregates counts of data according to factors in rows and columns. The factors may be hierarchical if desired."
   ]
  },
  {
   "cell_type": "code",
   "execution_count": 56,
   "outputs": [
    {
     "data": {
      "text/plain": "     patient  obs  week  site  id  treat  age sex  twstrs\n0          1    1     0     1   1  5000U   65   F      32\n1          1    2     2     1   1  5000U   65   F      30\n2          1    3     4     1   1  5000U   65   F      24\n3          1    4     8     1   1  5000U   65   F      37\n4          1    5    12     1   1  5000U   65   F      39\n..       ...  ...   ...   ...  ..    ...  ...  ..     ...\n626      109    1     0     9  11  5000U   57   M      53\n627      109    2     2     9  11  5000U   57   M      38\n628      109    4     8     9  11  5000U   57   M      33\n629      109    5    12     9  11  5000U   57   M      36\n630      109    6    16     9  11  5000U   57   M      51\n\n[631 rows x 9 columns]",
      "text/html": "<div>\n<style scoped>\n    .dataframe tbody tr th:only-of-type {\n        vertical-align: middle;\n    }\n\n    .dataframe tbody tr th {\n        vertical-align: top;\n    }\n\n    .dataframe thead th {\n        text-align: right;\n    }\n</style>\n<table border=\"1\" class=\"dataframe\">\n  <thead>\n    <tr style=\"text-align: right;\">\n      <th></th>\n      <th>patient</th>\n      <th>obs</th>\n      <th>week</th>\n      <th>site</th>\n      <th>id</th>\n      <th>treat</th>\n      <th>age</th>\n      <th>sex</th>\n      <th>twstrs</th>\n    </tr>\n  </thead>\n  <tbody>\n    <tr>\n      <th>0</th>\n      <td>1</td>\n      <td>1</td>\n      <td>0</td>\n      <td>1</td>\n      <td>1</td>\n      <td>5000U</td>\n      <td>65</td>\n      <td>F</td>\n      <td>32</td>\n    </tr>\n    <tr>\n      <th>1</th>\n      <td>1</td>\n      <td>2</td>\n      <td>2</td>\n      <td>1</td>\n      <td>1</td>\n      <td>5000U</td>\n      <td>65</td>\n      <td>F</td>\n      <td>30</td>\n    </tr>\n    <tr>\n      <th>2</th>\n      <td>1</td>\n      <td>3</td>\n      <td>4</td>\n      <td>1</td>\n      <td>1</td>\n      <td>5000U</td>\n      <td>65</td>\n      <td>F</td>\n      <td>24</td>\n    </tr>\n    <tr>\n      <th>3</th>\n      <td>1</td>\n      <td>4</td>\n      <td>8</td>\n      <td>1</td>\n      <td>1</td>\n      <td>5000U</td>\n      <td>65</td>\n      <td>F</td>\n      <td>37</td>\n    </tr>\n    <tr>\n      <th>4</th>\n      <td>1</td>\n      <td>5</td>\n      <td>12</td>\n      <td>1</td>\n      <td>1</td>\n      <td>5000U</td>\n      <td>65</td>\n      <td>F</td>\n      <td>39</td>\n    </tr>\n    <tr>\n      <th>...</th>\n      <td>...</td>\n      <td>...</td>\n      <td>...</td>\n      <td>...</td>\n      <td>...</td>\n      <td>...</td>\n      <td>...</td>\n      <td>...</td>\n      <td>...</td>\n    </tr>\n    <tr>\n      <th>626</th>\n      <td>109</td>\n      <td>1</td>\n      <td>0</td>\n      <td>9</td>\n      <td>11</td>\n      <td>5000U</td>\n      <td>57</td>\n      <td>M</td>\n      <td>53</td>\n    </tr>\n    <tr>\n      <th>627</th>\n      <td>109</td>\n      <td>2</td>\n      <td>2</td>\n      <td>9</td>\n      <td>11</td>\n      <td>5000U</td>\n      <td>57</td>\n      <td>M</td>\n      <td>38</td>\n    </tr>\n    <tr>\n      <th>628</th>\n      <td>109</td>\n      <td>4</td>\n      <td>8</td>\n      <td>9</td>\n      <td>11</td>\n      <td>5000U</td>\n      <td>57</td>\n      <td>M</td>\n      <td>33</td>\n    </tr>\n    <tr>\n      <th>629</th>\n      <td>109</td>\n      <td>5</td>\n      <td>12</td>\n      <td>9</td>\n      <td>11</td>\n      <td>5000U</td>\n      <td>57</td>\n      <td>M</td>\n      <td>36</td>\n    </tr>\n    <tr>\n      <th>630</th>\n      <td>109</td>\n      <td>6</td>\n      <td>16</td>\n      <td>9</td>\n      <td>11</td>\n      <td>5000U</td>\n      <td>57</td>\n      <td>M</td>\n      <td>51</td>\n    </tr>\n  </tbody>\n</table>\n<p>631 rows × 9 columns</p>\n</div>"
     },
     "execution_count": 56,
     "metadata": {},
     "output_type": "execute_result"
    }
   ],
   "source": [
    "cdystonia"
   ],
   "metadata": {
    "collapsed": false
   }
  },
  {
   "cell_type": "code",
   "execution_count": 57,
   "outputs": [
    {
     "data": {
      "text/plain": "site   1   2   3   4   5   6   7   8   9\nsex                                     \nF     52  53  42  30  22  54  66  48  28\nM     18  29  30  18  11  33   6  58  33",
      "text/html": "<div>\n<style scoped>\n    .dataframe tbody tr th:only-of-type {\n        vertical-align: middle;\n    }\n\n    .dataframe tbody tr th {\n        vertical-align: top;\n    }\n\n    .dataframe thead th {\n        text-align: right;\n    }\n</style>\n<table border=\"1\" class=\"dataframe\">\n  <thead>\n    <tr style=\"text-align: right;\">\n      <th>site</th>\n      <th>1</th>\n      <th>2</th>\n      <th>3</th>\n      <th>4</th>\n      <th>5</th>\n      <th>6</th>\n      <th>7</th>\n      <th>8</th>\n      <th>9</th>\n    </tr>\n    <tr>\n      <th>sex</th>\n      <th></th>\n      <th></th>\n      <th></th>\n      <th></th>\n      <th></th>\n      <th></th>\n      <th></th>\n      <th></th>\n      <th></th>\n    </tr>\n  </thead>\n  <tbody>\n    <tr>\n      <th>F</th>\n      <td>52</td>\n      <td>53</td>\n      <td>42</td>\n      <td>30</td>\n      <td>22</td>\n      <td>54</td>\n      <td>66</td>\n      <td>48</td>\n      <td>28</td>\n    </tr>\n    <tr>\n      <th>M</th>\n      <td>18</td>\n      <td>29</td>\n      <td>30</td>\n      <td>18</td>\n      <td>11</td>\n      <td>33</td>\n      <td>6</td>\n      <td>58</td>\n      <td>33</td>\n    </tr>\n  </tbody>\n</table>\n</div>"
     },
     "execution_count": 57,
     "metadata": {},
     "output_type": "execute_result"
    }
   ],
   "source": [
    "pd.crosstab(cdystonia.sex, cdystonia.site)"
   ],
   "metadata": {
    "collapsed": false
   }
  },
  {
   "cell_type": "markdown",
   "metadata": {},
   "source": [
    "## Data transformation\n",
    "\n",
    "There are a slew of additional operations for DataFrames that we would collectively refer to as \"transformations\" which include tasks such as removing duplicate values, replacing values, and grouping values."
   ]
  },
  {
   "cell_type": "markdown",
   "metadata": {},
   "source": [
    "### Dealing with duplicates\n",
    "\n",
    "We can easily identify and remove duplicate values from `DataFrame` objects. For example, say we want to removed ships from our `vessels` dataset that have the same name:"
   ]
  },
  {
   "cell_type": "code",
   "execution_count": 58,
   "outputs": [
    {
     "data": {
      "text/plain": "           num_names                                              names sov  \\\nmmsi                                                                          \n1                  8  Bil Holman Dredge/Dredge Capt Frank/Emo/Offsho...   Y   \n9                  3                         000000009/Raven/Shearwater   N   \n21                 1                                      Us Gov Vessel   Y   \n74                 2                                  Mcfaul/Sarah Bell   N   \n103                3           Ron G/Us Navy Warship 103/Us Warship 103   Y   \n...              ...                                                ...  ..   \n919191919          1                                                 Oi   N   \n967191190          1                                         Pathfinder   N   \n975318642          1                                     Island Express   N   \n987654321          2                         Island Lookout/Island Tide   N   \n999999999          1                                  Triple Attraction   N   \n\n              flag flag_type  num_loas                                    loa  \\\nmmsi                                                                            \n1          Unknown   Unknown         7  42.0/48.0/57.0/90.0/138.0/154.0/156.0   \n9          Unknown   Unknown         2                              50.0/62.0   \n21         Unknown   Unknown         1                                  208.0   \n74         Unknown   Unknown         1                                  155.0   \n103        Unknown   Unknown         2                             26.0/155.0   \n...            ...       ...       ...                                    ...   \n919191919  Unknown   Unknown         1                                   20.0   \n967191190  Unknown   Unknown         1                                   31.0   \n975318642  Unknown   Unknown         1                                   20.0   \n987654321  Unknown   Unknown         2                              22.0/23.0   \n999999999  Unknown   Unknown         1                                   30.0   \n\n           max_loa  num_types                             type  \nmmsi                                                            \n1            156.0          4  Dredging/MilOps/Reserved/Towing  \n9             62.0          2                     Pleasure/Tug  \n21           208.0          1                          Unknown  \n74           155.0          1                          Unknown  \n103          155.0          2                   Tanker/Unknown  \n...            ...        ...                              ...  \n919191919     20.0          1                         Pleasure  \n967191190     31.0          2                    BigTow/Towing  \n975318642     20.0          1                           Towing  \n987654321     23.0          2                   Fishing/Towing  \n999999999     30.0          1                         Pleasure  \n\n[10771 rows x 10 columns]",
      "text/html": "<div>\n<style scoped>\n    .dataframe tbody tr th:only-of-type {\n        vertical-align: middle;\n    }\n\n    .dataframe tbody tr th {\n        vertical-align: top;\n    }\n\n    .dataframe thead th {\n        text-align: right;\n    }\n</style>\n<table border=\"1\" class=\"dataframe\">\n  <thead>\n    <tr style=\"text-align: right;\">\n      <th></th>\n      <th>num_names</th>\n      <th>names</th>\n      <th>sov</th>\n      <th>flag</th>\n      <th>flag_type</th>\n      <th>num_loas</th>\n      <th>loa</th>\n      <th>max_loa</th>\n      <th>num_types</th>\n      <th>type</th>\n    </tr>\n    <tr>\n      <th>mmsi</th>\n      <th></th>\n      <th></th>\n      <th></th>\n      <th></th>\n      <th></th>\n      <th></th>\n      <th></th>\n      <th></th>\n      <th></th>\n      <th></th>\n    </tr>\n  </thead>\n  <tbody>\n    <tr>\n      <th>1</th>\n      <td>8</td>\n      <td>Bil Holman Dredge/Dredge Capt Frank/Emo/Offsho...</td>\n      <td>Y</td>\n      <td>Unknown</td>\n      <td>Unknown</td>\n      <td>7</td>\n      <td>42.0/48.0/57.0/90.0/138.0/154.0/156.0</td>\n      <td>156.0</td>\n      <td>4</td>\n      <td>Dredging/MilOps/Reserved/Towing</td>\n    </tr>\n    <tr>\n      <th>9</th>\n      <td>3</td>\n      <td>000000009/Raven/Shearwater</td>\n      <td>N</td>\n      <td>Unknown</td>\n      <td>Unknown</td>\n      <td>2</td>\n      <td>50.0/62.0</td>\n      <td>62.0</td>\n      <td>2</td>\n      <td>Pleasure/Tug</td>\n    </tr>\n    <tr>\n      <th>21</th>\n      <td>1</td>\n      <td>Us Gov Vessel</td>\n      <td>Y</td>\n      <td>Unknown</td>\n      <td>Unknown</td>\n      <td>1</td>\n      <td>208.0</td>\n      <td>208.0</td>\n      <td>1</td>\n      <td>Unknown</td>\n    </tr>\n    <tr>\n      <th>74</th>\n      <td>2</td>\n      <td>Mcfaul/Sarah Bell</td>\n      <td>N</td>\n      <td>Unknown</td>\n      <td>Unknown</td>\n      <td>1</td>\n      <td>155.0</td>\n      <td>155.0</td>\n      <td>1</td>\n      <td>Unknown</td>\n    </tr>\n    <tr>\n      <th>103</th>\n      <td>3</td>\n      <td>Ron G/Us Navy Warship 103/Us Warship 103</td>\n      <td>Y</td>\n      <td>Unknown</td>\n      <td>Unknown</td>\n      <td>2</td>\n      <td>26.0/155.0</td>\n      <td>155.0</td>\n      <td>2</td>\n      <td>Tanker/Unknown</td>\n    </tr>\n    <tr>\n      <th>...</th>\n      <td>...</td>\n      <td>...</td>\n      <td>...</td>\n      <td>...</td>\n      <td>...</td>\n      <td>...</td>\n      <td>...</td>\n      <td>...</td>\n      <td>...</td>\n      <td>...</td>\n    </tr>\n    <tr>\n      <th>919191919</th>\n      <td>1</td>\n      <td>Oi</td>\n      <td>N</td>\n      <td>Unknown</td>\n      <td>Unknown</td>\n      <td>1</td>\n      <td>20.0</td>\n      <td>20.0</td>\n      <td>1</td>\n      <td>Pleasure</td>\n    </tr>\n    <tr>\n      <th>967191190</th>\n      <td>1</td>\n      <td>Pathfinder</td>\n      <td>N</td>\n      <td>Unknown</td>\n      <td>Unknown</td>\n      <td>1</td>\n      <td>31.0</td>\n      <td>31.0</td>\n      <td>2</td>\n      <td>BigTow/Towing</td>\n    </tr>\n    <tr>\n      <th>975318642</th>\n      <td>1</td>\n      <td>Island Express</td>\n      <td>N</td>\n      <td>Unknown</td>\n      <td>Unknown</td>\n      <td>1</td>\n      <td>20.0</td>\n      <td>20.0</td>\n      <td>1</td>\n      <td>Towing</td>\n    </tr>\n    <tr>\n      <th>987654321</th>\n      <td>2</td>\n      <td>Island Lookout/Island Tide</td>\n      <td>N</td>\n      <td>Unknown</td>\n      <td>Unknown</td>\n      <td>2</td>\n      <td>22.0/23.0</td>\n      <td>23.0</td>\n      <td>2</td>\n      <td>Fishing/Towing</td>\n    </tr>\n    <tr>\n      <th>999999999</th>\n      <td>1</td>\n      <td>Triple Attraction</td>\n      <td>N</td>\n      <td>Unknown</td>\n      <td>Unknown</td>\n      <td>1</td>\n      <td>30.0</td>\n      <td>30.0</td>\n      <td>1</td>\n      <td>Pleasure</td>\n    </tr>\n  </tbody>\n</table>\n<p>10771 rows × 10 columns</p>\n</div>"
     },
     "execution_count": 58,
     "metadata": {},
     "output_type": "execute_result"
    }
   ],
   "source": [
    "vessels"
   ],
   "metadata": {
    "collapsed": false
   }
  },
  {
   "cell_type": "code",
   "execution_count": 59,
   "outputs": [
    {
     "data": {
      "text/plain": "mmsi\n1           False\n9           False\n21          False\n74          False\n103         False\n310         False\n3011        False\n4731        False\n15151       False\n46809       False\n80404       False\n82003       False\n298716      False\n366235      False\n439541      False\n453556      False\n505843      False\n527918      False\n565026      False\n572329      False\n587370      False\n641114      False\n642262      False\n693559      False\n883085       True\n1193046     False\n1193946     False\n1233916     False\n1239468     False\n3041300     False\n3543200     False\n3663760     False\n3688360     False\n7718175     False\n8011330     False\n8616300      True\n8819287     False\n9146601     False\n9226700     False\n9263842     False\n9263942     False\n11813100    False\n12345678    False\n21021000    False\n21846000    False\n23787800    False\n23814000    False\n24417800    False\n24663800     True\n25762700     True\ndtype: bool"
     },
     "execution_count": 59,
     "metadata": {},
     "output_type": "execute_result"
    }
   ],
   "source": [
    "vessels.duplicated(subset='names').head(50)"
   ],
   "metadata": {
    "collapsed": false
   }
  },
  {
   "cell_type": "code",
   "execution_count": 60,
   "metadata": {
    "scrolled": true
   },
   "outputs": [
    {
     "data": {
      "text/plain": "         num_names                                              names sov  \\\nmmsi                                                                        \n1                8  Bil Holman Dredge/Dredge Capt Frank/Emo/Offsho...   Y   \n9                3                         000000009/Raven/Shearwater   N   \n21               1                                      Us Gov Vessel   Y   \n74               2                                  Mcfaul/Sarah Bell   N   \n103              3           Ron G/Us Navy Warship 103/Us Warship 103   Y   \n310              1                                           Arabella   N   \n3011             1                                         Charleston   N   \n4731             1                                          000004731   N   \n15151            2                             R L Enterkin/Us Vessel   N   \n46809            1                                      Island Trader   N   \n80404            1                                         Donnamarie   N   \n82003            1                                             Alexis   N   \n298716           1                                            Mitchel   N   \n366235           1                                       Cape Domingo   N   \n439541           2                            Canadian Warship 711/L3   Y   \n453556           1                                     Us Govt Vessel   N   \n505843           1                                          I.w.haile   N   \n527918           1                                     Salvage Master   N   \n565026           1                                             Honcho   N   \n572329           1                                          Alexandra   N   \n587370           1                                      Dorothy Moran   N   \n641114           1                                    Samantha Miller   N   \n642262          10  Abdel Rahman K/Al Sayad/Al Zien/Aman/Atlantean...   Y   \n693559           1                                  Winslow C Kelsey]   N   \n1193046        168  Albacore/American Freedom/Amsterdam/Amy Choues...   N   \n1193946          2                           Jan Marie/Niz C Gisclair   N   \n1233916          1                                      Double Barrel   N   \n1239468          1                                        Handy Three   N   \n3041300          1                                       Paz Colombia   N   \n3543200          1                                          Ubc Miami   N   \n\n                                               flag flag_type  num_loas  \\\nmmsi                                                                      \n1                                           Unknown   Unknown         7   \n9                                           Unknown   Unknown         2   \n21                                          Unknown   Unknown         1   \n74                                          Unknown   Unknown         1   \n103                                         Unknown   Unknown         2   \n310                                        Bermuda    Foreign         1   \n3011                                      Anguilla    Foreign         1   \n4731                           Yemen (Republic of)    Foreign         1   \n15151                                       Unknown   Unknown         2   \n46809                         Syrian Arab Republic    Foreign         1   \n80404                                       Unknown   Unknown         1   \n82003                                       Unknown   Unknown         1   \n298716                                      Unknown   Unknown         1   \n366235                    United States of America   Domestic         1   \n439541                                      Unknown   Unknown         2   \n453556                                      Unknown   Unknown         1   \n505843                                      Unknown   Unknown         1   \n527918                                      Unknown   Unknown         1   \n565026                      Singapore (Republic of)   Foreign         1   \n572329                                      Tuvalu    Foreign         1   \n587370                                      Unknown   Unknown         1   \n641114                                      Unknown   Unknown         1   \n642262   Socialist People's Libyan Arab Jamahiriya    Foreign         1   \n693559                                      Unknown   Unknown         1   \n1193046                                     Unknown   Unknown        84   \n1193946                                     Unknown   Unknown         2   \n1233916                                     Unknown   Unknown         1   \n1239468                                     Unknown   Unknown         1   \n3041300                        Antigua and Barbuda    Foreign         1   \n3543200                       Panama (Republic of)    Foreign         1   \n\n                                                       loa  max_loa  \\\nmmsi                                                                  \n1                    42.0/48.0/57.0/90.0/138.0/154.0/156.0    156.0   \n9                                                50.0/62.0     62.0   \n21                                                   208.0    208.0   \n74                                                   155.0    155.0   \n103                                             26.0/155.0    155.0   \n310                                                   47.0     47.0   \n3011                                                 160.0    160.0   \n4731                                                  30.0     30.0   \n15151                                           60.0/175.0    175.0   \n46809                                                 22.0     22.0   \n80404                                                 29.0     29.0   \n82003                                                 29.0     29.0   \n298716                                                35.0     35.0   \n366235                                               207.0    207.0   \n439541                                            0.0/55.0     55.0   \n453556                                               208.0    208.0   \n505843                                                20.0     20.0   \n527918                                                20.0     20.0   \n565026                                                32.0     32.0   \n572329                                                40.0     40.0   \n587370                                                33.0     33.0   \n641114                                                20.0     20.0   \n642262                                                55.0     55.0   \n693559                                                40.0     40.0   \n1193046  20.0/21.0/22.0/23.0/24.0/25.0/26.0/28.0/29.0/3...    669.0   \n1193946                                          34.0/67.0     67.0   \n1233916                                               20.0     20.0   \n1239468                                               22.0     22.0   \n3041300                                              118.0    118.0   \n3543200                                              108.0    108.0   \n\n         num_types                                               type  \nmmsi                                                                   \n1                4                    Dredging/MilOps/Reserved/Towing  \n9                2                                       Pleasure/Tug  \n21               1                                            Unknown  \n74               1                                            Unknown  \n103              2                                     Tanker/Unknown  \n310              1                                            Unknown  \n3011             1                                              Other  \n4731             1                                            Unknown  \n15151            1                                                Tug  \n46809            1                                             Towing  \n80404            1                                           Pleasure  \n82003            2                                   Fishing/Pleasure  \n298716           1                                             Towing  \n366235           1                                              Cargo  \n439541           2                                     MilOps/Unknown  \n453556           1                                            Unknown  \n505843           1                                                WIG  \n527918           1                                            Fishing  \n565026           1                                             Towing  \n572329           1                                             BigTow  \n587370           1                                                Tug  \n641114           1                                              Other  \n642262           1                                             MilOps  \n693559           1                                                Tug  \n1193046         14  BigTow/Cargo/Diving/Dredging/Fishing/MilOps/Ot...  \n1193946          2                                       Other/Towing  \n1233916          1                                           Pleasure  \n1239468          1                                            Unknown  \n3041300          1                                              Cargo  \n3543200          1                                              Other  ",
      "text/html": "<div>\n<style scoped>\n    .dataframe tbody tr th:only-of-type {\n        vertical-align: middle;\n    }\n\n    .dataframe tbody tr th {\n        vertical-align: top;\n    }\n\n    .dataframe thead th {\n        text-align: right;\n    }\n</style>\n<table border=\"1\" class=\"dataframe\">\n  <thead>\n    <tr style=\"text-align: right;\">\n      <th></th>\n      <th>num_names</th>\n      <th>names</th>\n      <th>sov</th>\n      <th>flag</th>\n      <th>flag_type</th>\n      <th>num_loas</th>\n      <th>loa</th>\n      <th>max_loa</th>\n      <th>num_types</th>\n      <th>type</th>\n    </tr>\n    <tr>\n      <th>mmsi</th>\n      <th></th>\n      <th></th>\n      <th></th>\n      <th></th>\n      <th></th>\n      <th></th>\n      <th></th>\n      <th></th>\n      <th></th>\n      <th></th>\n    </tr>\n  </thead>\n  <tbody>\n    <tr>\n      <th>1</th>\n      <td>8</td>\n      <td>Bil Holman Dredge/Dredge Capt Frank/Emo/Offsho...</td>\n      <td>Y</td>\n      <td>Unknown</td>\n      <td>Unknown</td>\n      <td>7</td>\n      <td>42.0/48.0/57.0/90.0/138.0/154.0/156.0</td>\n      <td>156.0</td>\n      <td>4</td>\n      <td>Dredging/MilOps/Reserved/Towing</td>\n    </tr>\n    <tr>\n      <th>9</th>\n      <td>3</td>\n      <td>000000009/Raven/Shearwater</td>\n      <td>N</td>\n      <td>Unknown</td>\n      <td>Unknown</td>\n      <td>2</td>\n      <td>50.0/62.0</td>\n      <td>62.0</td>\n      <td>2</td>\n      <td>Pleasure/Tug</td>\n    </tr>\n    <tr>\n      <th>21</th>\n      <td>1</td>\n      <td>Us Gov Vessel</td>\n      <td>Y</td>\n      <td>Unknown</td>\n      <td>Unknown</td>\n      <td>1</td>\n      <td>208.0</td>\n      <td>208.0</td>\n      <td>1</td>\n      <td>Unknown</td>\n    </tr>\n    <tr>\n      <th>74</th>\n      <td>2</td>\n      <td>Mcfaul/Sarah Bell</td>\n      <td>N</td>\n      <td>Unknown</td>\n      <td>Unknown</td>\n      <td>1</td>\n      <td>155.0</td>\n      <td>155.0</td>\n      <td>1</td>\n      <td>Unknown</td>\n    </tr>\n    <tr>\n      <th>103</th>\n      <td>3</td>\n      <td>Ron G/Us Navy Warship 103/Us Warship 103</td>\n      <td>Y</td>\n      <td>Unknown</td>\n      <td>Unknown</td>\n      <td>2</td>\n      <td>26.0/155.0</td>\n      <td>155.0</td>\n      <td>2</td>\n      <td>Tanker/Unknown</td>\n    </tr>\n    <tr>\n      <th>310</th>\n      <td>1</td>\n      <td>Arabella</td>\n      <td>N</td>\n      <td>Bermuda</td>\n      <td>Foreign</td>\n      <td>1</td>\n      <td>47.0</td>\n      <td>47.0</td>\n      <td>1</td>\n      <td>Unknown</td>\n    </tr>\n    <tr>\n      <th>3011</th>\n      <td>1</td>\n      <td>Charleston</td>\n      <td>N</td>\n      <td>Anguilla</td>\n      <td>Foreign</td>\n      <td>1</td>\n      <td>160.0</td>\n      <td>160.0</td>\n      <td>1</td>\n      <td>Other</td>\n    </tr>\n    <tr>\n      <th>4731</th>\n      <td>1</td>\n      <td>000004731</td>\n      <td>N</td>\n      <td>Yemen (Republic of)</td>\n      <td>Foreign</td>\n      <td>1</td>\n      <td>30.0</td>\n      <td>30.0</td>\n      <td>1</td>\n      <td>Unknown</td>\n    </tr>\n    <tr>\n      <th>15151</th>\n      <td>2</td>\n      <td>R L Enterkin/Us Vessel</td>\n      <td>N</td>\n      <td>Unknown</td>\n      <td>Unknown</td>\n      <td>2</td>\n      <td>60.0/175.0</td>\n      <td>175.0</td>\n      <td>1</td>\n      <td>Tug</td>\n    </tr>\n    <tr>\n      <th>46809</th>\n      <td>1</td>\n      <td>Island Trader</td>\n      <td>N</td>\n      <td>Syrian Arab Republic</td>\n      <td>Foreign</td>\n      <td>1</td>\n      <td>22.0</td>\n      <td>22.0</td>\n      <td>1</td>\n      <td>Towing</td>\n    </tr>\n    <tr>\n      <th>80404</th>\n      <td>1</td>\n      <td>Donnamarie</td>\n      <td>N</td>\n      <td>Unknown</td>\n      <td>Unknown</td>\n      <td>1</td>\n      <td>29.0</td>\n      <td>29.0</td>\n      <td>1</td>\n      <td>Pleasure</td>\n    </tr>\n    <tr>\n      <th>82003</th>\n      <td>1</td>\n      <td>Alexis</td>\n      <td>N</td>\n      <td>Unknown</td>\n      <td>Unknown</td>\n      <td>1</td>\n      <td>29.0</td>\n      <td>29.0</td>\n      <td>2</td>\n      <td>Fishing/Pleasure</td>\n    </tr>\n    <tr>\n      <th>298716</th>\n      <td>1</td>\n      <td>Mitchel</td>\n      <td>N</td>\n      <td>Unknown</td>\n      <td>Unknown</td>\n      <td>1</td>\n      <td>35.0</td>\n      <td>35.0</td>\n      <td>1</td>\n      <td>Towing</td>\n    </tr>\n    <tr>\n      <th>366235</th>\n      <td>1</td>\n      <td>Cape Domingo</td>\n      <td>N</td>\n      <td>United States of America</td>\n      <td>Domestic</td>\n      <td>1</td>\n      <td>207.0</td>\n      <td>207.0</td>\n      <td>1</td>\n      <td>Cargo</td>\n    </tr>\n    <tr>\n      <th>439541</th>\n      <td>2</td>\n      <td>Canadian Warship 711/L3</td>\n      <td>Y</td>\n      <td>Unknown</td>\n      <td>Unknown</td>\n      <td>2</td>\n      <td>0.0/55.0</td>\n      <td>55.0</td>\n      <td>2</td>\n      <td>MilOps/Unknown</td>\n    </tr>\n    <tr>\n      <th>453556</th>\n      <td>1</td>\n      <td>Us Govt Vessel</td>\n      <td>N</td>\n      <td>Unknown</td>\n      <td>Unknown</td>\n      <td>1</td>\n      <td>208.0</td>\n      <td>208.0</td>\n      <td>1</td>\n      <td>Unknown</td>\n    </tr>\n    <tr>\n      <th>505843</th>\n      <td>1</td>\n      <td>I.w.haile</td>\n      <td>N</td>\n      <td>Unknown</td>\n      <td>Unknown</td>\n      <td>1</td>\n      <td>20.0</td>\n      <td>20.0</td>\n      <td>1</td>\n      <td>WIG</td>\n    </tr>\n    <tr>\n      <th>527918</th>\n      <td>1</td>\n      <td>Salvage Master</td>\n      <td>N</td>\n      <td>Unknown</td>\n      <td>Unknown</td>\n      <td>1</td>\n      <td>20.0</td>\n      <td>20.0</td>\n      <td>1</td>\n      <td>Fishing</td>\n    </tr>\n    <tr>\n      <th>565026</th>\n      <td>1</td>\n      <td>Honcho</td>\n      <td>N</td>\n      <td>Singapore (Republic of)</td>\n      <td>Foreign</td>\n      <td>1</td>\n      <td>32.0</td>\n      <td>32.0</td>\n      <td>1</td>\n      <td>Towing</td>\n    </tr>\n    <tr>\n      <th>572329</th>\n      <td>1</td>\n      <td>Alexandra</td>\n      <td>N</td>\n      <td>Tuvalu</td>\n      <td>Foreign</td>\n      <td>1</td>\n      <td>40.0</td>\n      <td>40.0</td>\n      <td>1</td>\n      <td>BigTow</td>\n    </tr>\n    <tr>\n      <th>587370</th>\n      <td>1</td>\n      <td>Dorothy Moran</td>\n      <td>N</td>\n      <td>Unknown</td>\n      <td>Unknown</td>\n      <td>1</td>\n      <td>33.0</td>\n      <td>33.0</td>\n      <td>1</td>\n      <td>Tug</td>\n    </tr>\n    <tr>\n      <th>641114</th>\n      <td>1</td>\n      <td>Samantha Miller</td>\n      <td>N</td>\n      <td>Unknown</td>\n      <td>Unknown</td>\n      <td>1</td>\n      <td>20.0</td>\n      <td>20.0</td>\n      <td>1</td>\n      <td>Other</td>\n    </tr>\n    <tr>\n      <th>642262</th>\n      <td>10</td>\n      <td>Abdel Rahman K/Al Sayad/Al Zien/Aman/Atlantean...</td>\n      <td>Y</td>\n      <td>Socialist People's Libyan Arab Jamahiriya</td>\n      <td>Foreign</td>\n      <td>1</td>\n      <td>55.0</td>\n      <td>55.0</td>\n      <td>1</td>\n      <td>MilOps</td>\n    </tr>\n    <tr>\n      <th>693559</th>\n      <td>1</td>\n      <td>Winslow C Kelsey]</td>\n      <td>N</td>\n      <td>Unknown</td>\n      <td>Unknown</td>\n      <td>1</td>\n      <td>40.0</td>\n      <td>40.0</td>\n      <td>1</td>\n      <td>Tug</td>\n    </tr>\n    <tr>\n      <th>1193046</th>\n      <td>168</td>\n      <td>Albacore/American Freedom/Amsterdam/Amy Choues...</td>\n      <td>N</td>\n      <td>Unknown</td>\n      <td>Unknown</td>\n      <td>84</td>\n      <td>20.0/21.0/22.0/23.0/24.0/25.0/26.0/28.0/29.0/3...</td>\n      <td>669.0</td>\n      <td>14</td>\n      <td>BigTow/Cargo/Diving/Dredging/Fishing/MilOps/Ot...</td>\n    </tr>\n    <tr>\n      <th>1193946</th>\n      <td>2</td>\n      <td>Jan Marie/Niz C Gisclair</td>\n      <td>N</td>\n      <td>Unknown</td>\n      <td>Unknown</td>\n      <td>2</td>\n      <td>34.0/67.0</td>\n      <td>67.0</td>\n      <td>2</td>\n      <td>Other/Towing</td>\n    </tr>\n    <tr>\n      <th>1233916</th>\n      <td>1</td>\n      <td>Double Barrel</td>\n      <td>N</td>\n      <td>Unknown</td>\n      <td>Unknown</td>\n      <td>1</td>\n      <td>20.0</td>\n      <td>20.0</td>\n      <td>1</td>\n      <td>Pleasure</td>\n    </tr>\n    <tr>\n      <th>1239468</th>\n      <td>1</td>\n      <td>Handy Three</td>\n      <td>N</td>\n      <td>Unknown</td>\n      <td>Unknown</td>\n      <td>1</td>\n      <td>22.0</td>\n      <td>22.0</td>\n      <td>1</td>\n      <td>Unknown</td>\n    </tr>\n    <tr>\n      <th>3041300</th>\n      <td>1</td>\n      <td>Paz Colombia</td>\n      <td>N</td>\n      <td>Antigua and Barbuda</td>\n      <td>Foreign</td>\n      <td>1</td>\n      <td>118.0</td>\n      <td>118.0</td>\n      <td>1</td>\n      <td>Cargo</td>\n    </tr>\n    <tr>\n      <th>3543200</th>\n      <td>1</td>\n      <td>Ubc Miami</td>\n      <td>N</td>\n      <td>Panama (Republic of)</td>\n      <td>Foreign</td>\n      <td>1</td>\n      <td>108.0</td>\n      <td>108.0</td>\n      <td>1</td>\n      <td>Other</td>\n    </tr>\n  </tbody>\n</table>\n</div>"
     },
     "execution_count": 60,
     "metadata": {},
     "output_type": "execute_result"
    }
   ],
   "source": [
    "vessels.drop_duplicates(['names']).head(30)"
   ]
  },
  {
   "cell_type": "markdown",
   "metadata": {},
   "source": [
    "### Value replacement\n",
    "\n",
    "Frequently, we get data columns that are encoded as strings that we wish to represent numerically for the purposes of including it in a quantitative analysis. For example, consider the treatment variable in the cervical dystonia dataset:"
   ]
  },
  {
   "cell_type": "code",
   "execution_count": 61,
   "metadata": {},
   "outputs": [
    {
     "data": {
      "text/plain": "10000U     213\n5000U      211\nPlacebo    207\nName: treat, dtype: int64"
     },
     "execution_count": 61,
     "metadata": {},
     "output_type": "execute_result"
    }
   ],
   "source": [
    "cdystonia.treat.value_counts()"
   ]
  },
  {
   "cell_type": "code",
   "execution_count": 62,
   "outputs": [
    {
     "name": "stdout",
     "output_type": "stream",
     "text": [
      "(631, 9)\n"
     ]
    },
    {
     "data": {
      "text/plain": "F    395\nM    236\nName: sex, dtype: int64"
     },
     "execution_count": 62,
     "metadata": {},
     "output_type": "execute_result"
    }
   ],
   "source": [
    "print(cdystonia.shape)\n",
    "cdystonia.sex.value_counts()"
   ],
   "metadata": {
    "collapsed": false
   }
  },
  {
   "cell_type": "markdown",
   "metadata": {},
   "source": [
    "A logical way to specify these numerically is to change them to integer values, perhaps using \"Placebo\" as a baseline value. If we create a dict with the original values as keys and the replacements as values, we can pass it to the `map` method to implement the changes."
   ]
  },
  {
   "cell_type": "code",
   "execution_count": 63,
   "outputs": [
    {
     "data": {
      "text/plain": "     patient  obs  week  site  id  treat  age sex  twstrs\n0          1    1     0     1   1  5000U   65   F      32\n1          1    2     2     1   1  5000U   65   F      30\n2          1    3     4     1   1  5000U   65   F      24\n3          1    4     8     1   1  5000U   65   F      37\n4          1    5    12     1   1  5000U   65   F      39\n..       ...  ...   ...   ...  ..    ...  ...  ..     ...\n626      109    1     0     9  11  5000U   57   M      53\n627      109    2     2     9  11  5000U   57   M      38\n628      109    4     8     9  11  5000U   57   M      33\n629      109    5    12     9  11  5000U   57   M      36\n630      109    6    16     9  11  5000U   57   M      51\n\n[631 rows x 9 columns]",
      "text/html": "<div>\n<style scoped>\n    .dataframe tbody tr th:only-of-type {\n        vertical-align: middle;\n    }\n\n    .dataframe tbody tr th {\n        vertical-align: top;\n    }\n\n    .dataframe thead th {\n        text-align: right;\n    }\n</style>\n<table border=\"1\" class=\"dataframe\">\n  <thead>\n    <tr style=\"text-align: right;\">\n      <th></th>\n      <th>patient</th>\n      <th>obs</th>\n      <th>week</th>\n      <th>site</th>\n      <th>id</th>\n      <th>treat</th>\n      <th>age</th>\n      <th>sex</th>\n      <th>twstrs</th>\n    </tr>\n  </thead>\n  <tbody>\n    <tr>\n      <th>0</th>\n      <td>1</td>\n      <td>1</td>\n      <td>0</td>\n      <td>1</td>\n      <td>1</td>\n      <td>5000U</td>\n      <td>65</td>\n      <td>F</td>\n      <td>32</td>\n    </tr>\n    <tr>\n      <th>1</th>\n      <td>1</td>\n      <td>2</td>\n      <td>2</td>\n      <td>1</td>\n      <td>1</td>\n      <td>5000U</td>\n      <td>65</td>\n      <td>F</td>\n      <td>30</td>\n    </tr>\n    <tr>\n      <th>2</th>\n      <td>1</td>\n      <td>3</td>\n      <td>4</td>\n      <td>1</td>\n      <td>1</td>\n      <td>5000U</td>\n      <td>65</td>\n      <td>F</td>\n      <td>24</td>\n    </tr>\n    <tr>\n      <th>3</th>\n      <td>1</td>\n      <td>4</td>\n      <td>8</td>\n      <td>1</td>\n      <td>1</td>\n      <td>5000U</td>\n      <td>65</td>\n      <td>F</td>\n      <td>37</td>\n    </tr>\n    <tr>\n      <th>4</th>\n      <td>1</td>\n      <td>5</td>\n      <td>12</td>\n      <td>1</td>\n      <td>1</td>\n      <td>5000U</td>\n      <td>65</td>\n      <td>F</td>\n      <td>39</td>\n    </tr>\n    <tr>\n      <th>...</th>\n      <td>...</td>\n      <td>...</td>\n      <td>...</td>\n      <td>...</td>\n      <td>...</td>\n      <td>...</td>\n      <td>...</td>\n      <td>...</td>\n      <td>...</td>\n    </tr>\n    <tr>\n      <th>626</th>\n      <td>109</td>\n      <td>1</td>\n      <td>0</td>\n      <td>9</td>\n      <td>11</td>\n      <td>5000U</td>\n      <td>57</td>\n      <td>M</td>\n      <td>53</td>\n    </tr>\n    <tr>\n      <th>627</th>\n      <td>109</td>\n      <td>2</td>\n      <td>2</td>\n      <td>9</td>\n      <td>11</td>\n      <td>5000U</td>\n      <td>57</td>\n      <td>M</td>\n      <td>38</td>\n    </tr>\n    <tr>\n      <th>628</th>\n      <td>109</td>\n      <td>4</td>\n      <td>8</td>\n      <td>9</td>\n      <td>11</td>\n      <td>5000U</td>\n      <td>57</td>\n      <td>M</td>\n      <td>33</td>\n    </tr>\n    <tr>\n      <th>629</th>\n      <td>109</td>\n      <td>5</td>\n      <td>12</td>\n      <td>9</td>\n      <td>11</td>\n      <td>5000U</td>\n      <td>57</td>\n      <td>M</td>\n      <td>36</td>\n    </tr>\n    <tr>\n      <th>630</th>\n      <td>109</td>\n      <td>6</td>\n      <td>16</td>\n      <td>9</td>\n      <td>11</td>\n      <td>5000U</td>\n      <td>57</td>\n      <td>M</td>\n      <td>51</td>\n    </tr>\n  </tbody>\n</table>\n<p>631 rows × 9 columns</p>\n</div>"
     },
     "execution_count": 63,
     "metadata": {},
     "output_type": "execute_result"
    }
   ],
   "source": [
    "cdystonia"
   ],
   "metadata": {
    "collapsed": false
   }
  },
  {
   "cell_type": "code",
   "execution_count": 64,
   "outputs": [
    {
     "data": {
      "text/plain": "0     1\n1     1\n2     1\n3     1\n4     1\n5     1\n6     2\n7     2\n8     2\n9     2\n10    2\n11    2\n12    1\n13    1\n14    1\n15    1\n16    1\n17    1\n18    0\n19    0\n20    0\n21    0\n22    2\n23    2\n24    2\n25    2\n26    2\n27    2\n28    2\n29    2\nName: treatment, dtype: int64"
     },
     "execution_count": 64,
     "metadata": {},
     "output_type": "execute_result"
    }
   ],
   "source": [
    "cdystonia['treatment'] = cdystonia.treat.map({'Placebo': 0, '5000U': 1, '10000U': 2})\n",
    "cdystonia.treatment.head(30)"
   ],
   "metadata": {
    "collapsed": false
   }
  },
  {
   "cell_type": "markdown",
   "metadata": {},
   "source": [
    "We can also perform the same replacement that we used `map` for with `replace`:"
   ]
  },
  {
   "cell_type": "code",
   "execution_count": 65,
   "metadata": {},
   "outputs": [
    {
     "data": {
      "text/plain": "0       5000U\n1       5000U\n2       5000U\n3       5000U\n4       5000U\n5       5000U\n6      10000U\n7      10000U\n8      10000U\n9      10000U\n10     10000U\n11     10000U\n12      5000U\n13      5000U\n14      5000U\n15      5000U\n16      5000U\n17      5000U\n18    Placebo\n19    Placebo\n20    Placebo\n21    Placebo\n22     10000U\n23     10000U\n24     10000U\n25     10000U\n26     10000U\n27     10000U\n28     10000U\n29     10000U\nName: treat, dtype: object"
     },
     "execution_count": 65,
     "metadata": {},
     "output_type": "execute_result"
    }
   ],
   "source": [
    "cdystonia.treat.replace({0:'Placebo', 1:'5000U', 2:'10000U'}).head(30)"
   ]
  },
  {
   "cell_type": "code",
   "execution_count": 66,
   "outputs": [
    {
     "data": {
      "text/plain": "0     1\n1     1\n2     1\n3     1\n4     1\n5     1\n6     2\n7     2\n8     2\n9     2\n10    2\n11    2\n12    1\n13    1\n14    1\n15    1\n16    1\n17    1\n18    0\n19    0\n20    0\n21    0\n22    2\n23    2\n24    2\n25    2\n26    2\n27    2\n28    2\n29    2\nName: treat, dtype: int64"
     },
     "execution_count": 66,
     "metadata": {},
     "output_type": "execute_result"
    }
   ],
   "source": [
    "cdystonia.treat.replace({'Placebo':0, '5000U':1, '10000U':2}).head(30)"
   ],
   "metadata": {
    "collapsed": false
   }
  },
  {
   "cell_type": "markdown",
   "metadata": {},
   "source": [
    "### Inidcator variables\n",
    "\n",
    "For some statistical analyses (*e.g.* regression models or analyses of variance), categorical or group variables need to be converted into columns of indicators--zeros and ones--to create a so-called **design matrix**. The Pandas function `get_dummies` (indicator variables are also known as *dummy variables*) makes this transformation straightforward."
   ]
  },
  {
   "cell_type": "code",
   "execution_count": 67,
   "outputs": [
    {
     "data": {
      "text/plain": "       num_names                                              names sov  \\\nmmsi                                                                      \n1              8  Bil Holman Dredge/Dredge Capt Frank/Emo/Offsho...   Y   \n9              3                         000000009/Raven/Shearwater   N   \n21             1                                      Us Gov Vessel   Y   \n74             2                                  Mcfaul/Sarah Bell   N   \n103            3           Ron G/Us Navy Warship 103/Us Warship 103   Y   \n310            1                                           Arabella   N   \n3011           1                                         Charleston   N   \n4731           1                                          000004731   N   \n15151          2                             R L Enterkin/Us Vessel   N   \n46809          1                                      Island Trader   N   \n\n                        flag flag_type  num_loas  \\\nmmsi                                               \n1                    Unknown   Unknown         7   \n9                    Unknown   Unknown         2   \n21                   Unknown   Unknown         1   \n74                   Unknown   Unknown         1   \n103                  Unknown   Unknown         2   \n310                 Bermuda    Foreign         1   \n3011               Anguilla    Foreign         1   \n4731    Yemen (Republic of)    Foreign         1   \n15151                Unknown   Unknown         2   \n46809  Syrian Arab Republic    Foreign         1   \n\n                                         loa  max_loa  num_types  \\\nmmsi                                                               \n1      42.0/48.0/57.0/90.0/138.0/154.0/156.0    156.0          4   \n9                                  50.0/62.0     62.0          2   \n21                                     208.0    208.0          1   \n74                                     155.0    155.0          1   \n103                               26.0/155.0    155.0          2   \n310                                     47.0     47.0          1   \n3011                                   160.0    160.0          1   \n4731                                    30.0     30.0          1   \n15151                             60.0/175.0    175.0          1   \n46809                                   22.0     22.0          1   \n\n                                  type  \nmmsi                                    \n1      Dredging/MilOps/Reserved/Towing  \n9                         Pleasure/Tug  \n21                             Unknown  \n74                             Unknown  \n103                     Tanker/Unknown  \n310                            Unknown  \n3011                             Other  \n4731                           Unknown  \n15151                              Tug  \n46809                           Towing  ",
      "text/html": "<div>\n<style scoped>\n    .dataframe tbody tr th:only-of-type {\n        vertical-align: middle;\n    }\n\n    .dataframe tbody tr th {\n        vertical-align: top;\n    }\n\n    .dataframe thead th {\n        text-align: right;\n    }\n</style>\n<table border=\"1\" class=\"dataframe\">\n  <thead>\n    <tr style=\"text-align: right;\">\n      <th></th>\n      <th>num_names</th>\n      <th>names</th>\n      <th>sov</th>\n      <th>flag</th>\n      <th>flag_type</th>\n      <th>num_loas</th>\n      <th>loa</th>\n      <th>max_loa</th>\n      <th>num_types</th>\n      <th>type</th>\n    </tr>\n    <tr>\n      <th>mmsi</th>\n      <th></th>\n      <th></th>\n      <th></th>\n      <th></th>\n      <th></th>\n      <th></th>\n      <th></th>\n      <th></th>\n      <th></th>\n      <th></th>\n    </tr>\n  </thead>\n  <tbody>\n    <tr>\n      <th>1</th>\n      <td>8</td>\n      <td>Bil Holman Dredge/Dredge Capt Frank/Emo/Offsho...</td>\n      <td>Y</td>\n      <td>Unknown</td>\n      <td>Unknown</td>\n      <td>7</td>\n      <td>42.0/48.0/57.0/90.0/138.0/154.0/156.0</td>\n      <td>156.0</td>\n      <td>4</td>\n      <td>Dredging/MilOps/Reserved/Towing</td>\n    </tr>\n    <tr>\n      <th>9</th>\n      <td>3</td>\n      <td>000000009/Raven/Shearwater</td>\n      <td>N</td>\n      <td>Unknown</td>\n      <td>Unknown</td>\n      <td>2</td>\n      <td>50.0/62.0</td>\n      <td>62.0</td>\n      <td>2</td>\n      <td>Pleasure/Tug</td>\n    </tr>\n    <tr>\n      <th>21</th>\n      <td>1</td>\n      <td>Us Gov Vessel</td>\n      <td>Y</td>\n      <td>Unknown</td>\n      <td>Unknown</td>\n      <td>1</td>\n      <td>208.0</td>\n      <td>208.0</td>\n      <td>1</td>\n      <td>Unknown</td>\n    </tr>\n    <tr>\n      <th>74</th>\n      <td>2</td>\n      <td>Mcfaul/Sarah Bell</td>\n      <td>N</td>\n      <td>Unknown</td>\n      <td>Unknown</td>\n      <td>1</td>\n      <td>155.0</td>\n      <td>155.0</td>\n      <td>1</td>\n      <td>Unknown</td>\n    </tr>\n    <tr>\n      <th>103</th>\n      <td>3</td>\n      <td>Ron G/Us Navy Warship 103/Us Warship 103</td>\n      <td>Y</td>\n      <td>Unknown</td>\n      <td>Unknown</td>\n      <td>2</td>\n      <td>26.0/155.0</td>\n      <td>155.0</td>\n      <td>2</td>\n      <td>Tanker/Unknown</td>\n    </tr>\n    <tr>\n      <th>310</th>\n      <td>1</td>\n      <td>Arabella</td>\n      <td>N</td>\n      <td>Bermuda</td>\n      <td>Foreign</td>\n      <td>1</td>\n      <td>47.0</td>\n      <td>47.0</td>\n      <td>1</td>\n      <td>Unknown</td>\n    </tr>\n    <tr>\n      <th>3011</th>\n      <td>1</td>\n      <td>Charleston</td>\n      <td>N</td>\n      <td>Anguilla</td>\n      <td>Foreign</td>\n      <td>1</td>\n      <td>160.0</td>\n      <td>160.0</td>\n      <td>1</td>\n      <td>Other</td>\n    </tr>\n    <tr>\n      <th>4731</th>\n      <td>1</td>\n      <td>000004731</td>\n      <td>N</td>\n      <td>Yemen (Republic of)</td>\n      <td>Foreign</td>\n      <td>1</td>\n      <td>30.0</td>\n      <td>30.0</td>\n      <td>1</td>\n      <td>Unknown</td>\n    </tr>\n    <tr>\n      <th>15151</th>\n      <td>2</td>\n      <td>R L Enterkin/Us Vessel</td>\n      <td>N</td>\n      <td>Unknown</td>\n      <td>Unknown</td>\n      <td>2</td>\n      <td>60.0/175.0</td>\n      <td>175.0</td>\n      <td>1</td>\n      <td>Tug</td>\n    </tr>\n    <tr>\n      <th>46809</th>\n      <td>1</td>\n      <td>Island Trader</td>\n      <td>N</td>\n      <td>Syrian Arab Republic</td>\n      <td>Foreign</td>\n      <td>1</td>\n      <td>22.0</td>\n      <td>22.0</td>\n      <td>1</td>\n      <td>Towing</td>\n    </tr>\n  </tbody>\n</table>\n</div>"
     },
     "execution_count": 67,
     "metadata": {},
     "output_type": "execute_result"
    }
   ],
   "source": [
    "vessels.head(10)"
   ],
   "metadata": {
    "collapsed": false
   }
  },
  {
   "cell_type": "code",
   "execution_count": 68,
   "outputs": [
    {
     "data": {
      "text/plain": "mmsi\n1        Dredging/MilOps/Reserved/Towing\n9                           Pleasure/Tug\n21                               Unknown\n74                               Unknown\n103                       Tanker/Unknown\n310                              Unknown\n3011                               Other\n4731                             Unknown\n15151                                Tug\n46809                             Towing\nName: type, dtype: object"
     },
     "execution_count": 68,
     "metadata": {},
     "output_type": "execute_result"
    }
   ],
   "source": [
    "vessels.head(10).type"
   ],
   "metadata": {
    "collapsed": false
   }
  },
  {
   "cell_type": "code",
   "execution_count": 69,
   "outputs": [
    {
     "data": {
      "text/plain": "       Dredging/MilOps/Reserved/Towing  Other  Pleasure/Tug  Tanker/Unknown  \\\nmmsi                                                                          \n1                                    1      0             0               0   \n9                                    0      0             1               0   \n21                                   0      0             0               0   \n74                                   0      0             0               0   \n103                                  0      0             0               1   \n310                                  0      0             0               0   \n3011                                 0      1             0               0   \n4731                                 0      0             0               0   \n15151                                0      0             0               0   \n46809                                0      0             0               0   \n\n       Towing  Tug  Unknown  \nmmsi                         \n1           0    0        0  \n9           0    0        0  \n21          0    0        1  \n74          0    0        1  \n103         0    0        0  \n310         0    0        1  \n3011        0    0        0  \n4731        0    0        1  \n15151       0    1        0  \n46809       1    0        0  ",
      "text/html": "<div>\n<style scoped>\n    .dataframe tbody tr th:only-of-type {\n        vertical-align: middle;\n    }\n\n    .dataframe tbody tr th {\n        vertical-align: top;\n    }\n\n    .dataframe thead th {\n        text-align: right;\n    }\n</style>\n<table border=\"1\" class=\"dataframe\">\n  <thead>\n    <tr style=\"text-align: right;\">\n      <th></th>\n      <th>Dredging/MilOps/Reserved/Towing</th>\n      <th>Other</th>\n      <th>Pleasure/Tug</th>\n      <th>Tanker/Unknown</th>\n      <th>Towing</th>\n      <th>Tug</th>\n      <th>Unknown</th>\n    </tr>\n    <tr>\n      <th>mmsi</th>\n      <th></th>\n      <th></th>\n      <th></th>\n      <th></th>\n      <th></th>\n      <th></th>\n      <th></th>\n    </tr>\n  </thead>\n  <tbody>\n    <tr>\n      <th>1</th>\n      <td>1</td>\n      <td>0</td>\n      <td>0</td>\n      <td>0</td>\n      <td>0</td>\n      <td>0</td>\n      <td>0</td>\n    </tr>\n    <tr>\n      <th>9</th>\n      <td>0</td>\n      <td>0</td>\n      <td>1</td>\n      <td>0</td>\n      <td>0</td>\n      <td>0</td>\n      <td>0</td>\n    </tr>\n    <tr>\n      <th>21</th>\n      <td>0</td>\n      <td>0</td>\n      <td>0</td>\n      <td>0</td>\n      <td>0</td>\n      <td>0</td>\n      <td>1</td>\n    </tr>\n    <tr>\n      <th>74</th>\n      <td>0</td>\n      <td>0</td>\n      <td>0</td>\n      <td>0</td>\n      <td>0</td>\n      <td>0</td>\n      <td>1</td>\n    </tr>\n    <tr>\n      <th>103</th>\n      <td>0</td>\n      <td>0</td>\n      <td>0</td>\n      <td>1</td>\n      <td>0</td>\n      <td>0</td>\n      <td>0</td>\n    </tr>\n    <tr>\n      <th>310</th>\n      <td>0</td>\n      <td>0</td>\n      <td>0</td>\n      <td>0</td>\n      <td>0</td>\n      <td>0</td>\n      <td>1</td>\n    </tr>\n    <tr>\n      <th>3011</th>\n      <td>0</td>\n      <td>1</td>\n      <td>0</td>\n      <td>0</td>\n      <td>0</td>\n      <td>0</td>\n      <td>0</td>\n    </tr>\n    <tr>\n      <th>4731</th>\n      <td>0</td>\n      <td>0</td>\n      <td>0</td>\n      <td>0</td>\n      <td>0</td>\n      <td>0</td>\n      <td>1</td>\n    </tr>\n    <tr>\n      <th>15151</th>\n      <td>0</td>\n      <td>0</td>\n      <td>0</td>\n      <td>0</td>\n      <td>0</td>\n      <td>1</td>\n      <td>0</td>\n    </tr>\n    <tr>\n      <th>46809</th>\n      <td>0</td>\n      <td>0</td>\n      <td>0</td>\n      <td>0</td>\n      <td>1</td>\n      <td>0</td>\n      <td>0</td>\n    </tr>\n  </tbody>\n</table>\n</div>"
     },
     "execution_count": 69,
     "metadata": {},
     "output_type": "execute_result"
    }
   ],
   "source": [
    "pd.get_dummies(vessels.head(10).type)"
   ],
   "metadata": {
    "collapsed": false
   }
  },
  {
   "cell_type": "markdown",
   "metadata": {},
   "source": [
    "## Categorical Data\n",
    "\n",
    "Pandas provides a convenient `dtype` for reprsenting categorical (factor) data, called `category`. \n",
    "\n",
    "For example, the `treat` column in the cervical dystonia dataset represents three treatment levels in a clinical trial, and is imported by default as an `object` type, since it is a mixture of string characters."
   ]
  },
  {
   "cell_type": "code",
   "execution_count": 70,
   "metadata": {},
   "outputs": [
    {
     "data": {
      "text/plain": "0    5000U\n1    5000U\n2    5000U\n3    5000U\n4    5000U\nName: treat, dtype: object"
     },
     "execution_count": 70,
     "metadata": {},
     "output_type": "execute_result"
    }
   ],
   "source": [
    "cdystonia.treat.head()"
   ]
  },
  {
   "cell_type": "markdown",
   "metadata": {},
   "source": [
    "We can convert this to a `category` type either by the `Categorical` constructor, or casting the column using `astype`:"
   ]
  },
  {
   "cell_type": "code",
   "execution_count": 71,
   "metadata": {},
   "outputs": [
    {
     "data": {
      "text/plain": "['5000U', '5000U', '5000U', '5000U', '5000U', ..., '5000U', '5000U', '5000U', '5000U', '5000U']\nLength: 631\nCategories (3, object): ['10000U', '5000U', 'Placebo']"
     },
     "execution_count": 71,
     "metadata": {},
     "output_type": "execute_result"
    }
   ],
   "source": [
    "pd.Categorical(cdystonia.treat)"
   ]
  },
  {
   "cell_type": "code",
   "execution_count": 72,
   "metadata": {
    "collapsed": true
   },
   "outputs": [
    {
     "name": "stdout",
     "output_type": "stream",
     "text": [
      "0      5000U\n",
      "1      5000U\n",
      "2      5000U\n",
      "3      5000U\n",
      "4      5000U\n",
      "       ...  \n",
      "626    5000U\n",
      "627    5000U\n",
      "628    5000U\n",
      "629    5000U\n",
      "630    5000U\n",
      "Name: treat, Length: 631, dtype: category\n",
      "Categories (3, object): ['10000U', '5000U', 'Placebo']\n",
      "category\n"
     ]
    }
   ],
   "source": [
    "cdystonia['treat'] = cdystonia.treat.astype('category')\n",
    "print(cdystonia['treat'])\n",
    "print(cdystonia['treat'].dtype)"
   ]
  },
  {
   "cell_type": "code",
   "execution_count": 73,
   "metadata": {},
   "outputs": [
    {
     "data": {
      "text/plain": "count        631\nunique         3\ntop       10000U\nfreq         213\nName: treat, dtype: object"
     },
     "execution_count": 73,
     "metadata": {},
     "output_type": "execute_result"
    }
   ],
   "source": [
    "cdystonia.treat.describe()"
   ]
  },
  {
   "cell_type": "markdown",
   "metadata": {},
   "source": [
    "The important difference between the `category` type and the `object` type is that `category` is represented by an <b>underlying array of integers</b>, which is then mapped to character labels."
   ]
  },
  {
   "cell_type": "code",
   "execution_count": 74,
   "outputs": [
    {
     "data": {
      "text/plain": "0       5000U\n1       5000U\n2       5000U\n3       5000U\n4       5000U\n5       5000U\n6      10000U\n7      10000U\n8      10000U\n9      10000U\n10     10000U\n11     10000U\n12      5000U\n13      5000U\n14      5000U\n15      5000U\n16      5000U\n17      5000U\n18    Placebo\n19    Placebo\nName: treat, dtype: category\nCategories (3, object): ['10000U', '5000U', 'Placebo']"
     },
     "execution_count": 74,
     "metadata": {},
     "output_type": "execute_result"
    }
   ],
   "source": [
    "cdystonia.treat.head(20)"
   ],
   "metadata": {
    "collapsed": false
   }
  },
  {
   "cell_type": "code",
   "execution_count": 75,
   "outputs": [
    {
     "data": {
      "text/plain": "0     1\n1     1\n2     1\n3     1\n4     1\n5     1\n6     0\n7     0\n8     0\n9     0\n10    0\n11    0\n12    1\n13    1\n14    1\n15    1\n16    1\n17    1\n18    2\n19    2\ndtype: int8"
     },
     "execution_count": 75,
     "metadata": {},
     "output_type": "execute_result"
    }
   ],
   "source": [
    "cdystonia.treat.cat.codes.head(20)"
   ],
   "metadata": {
    "collapsed": false
   }
  },
  {
   "cell_type": "markdown",
   "metadata": {},
   "source": [
    "Notice that these are 8-bit integers, which are essentially single bytes of data, making memory usage lower.\n",
    "\n",
    "There is also a performance benefit. Consider an operation such as calculating the total segment lengths for each ship in the `segments` table (this is also a preview of pandas' `groupby` operation!):"
   ]
  },
  {
   "cell_type": "code",
   "execution_count": 76,
   "outputs": [
    {
     "data": {
      "text/plain": "        mmsi               name  transit  segment  seg_length  avg_sog  \\\n0          1        Us Govt Ves        1        1         5.1     13.2   \n1          1  Dredge Capt Frank        1        1        13.5     18.6   \n2          1      Us Gov Vessel        1        1         4.3     16.2   \n3          1      Us Gov Vessel        2        1         9.2     15.4   \n4          1  Dredge Capt Frank        2        1         9.2     15.4   \n..       ...                ...      ...      ...         ...      ...   \n995  1193046       Msc Colombia        5        1        16.3      1.4   \n996  1193046           Majestic      112        1        16.9     12.8   \n997  1193046         Grizzly 60       16        1        15.0      9.7   \n998  1193046     Minnie Falgout       24        1        14.2      7.8   \n999  1193046             Loriag       17        1        14.5     11.1   \n\n     min_sog  max_sog  pdgt10             st_time            end_time type  \n0        9.2     14.5    96.5 2009-02-10 16:03:00 2009-02-10 16:27:00  foo  \n1       10.4     20.6   100.0 2009-04-06 14:31:00 2009-04-06 15:20:00  foo  \n2       10.3     20.5   100.0 2009-04-06 14:36:00 2009-04-06 14:55:00  foo  \n3       14.5     16.1   100.0 2009-04-10 17:58:00 2009-04-10 18:34:00  foo  \n4       14.6     16.2   100.0 2009-04-10 17:59:00 2009-04-10 18:35:00  foo  \n..       ...      ...     ...                 ...                 ...  ...  \n995      0.0     14.1    11.6 2009-09-23 12:22:00 2009-09-23 19:01:00  foo  \n996      0.1     17.0    88.5 2009-09-23 16:40:00 2009-09-23 18:53:00  foo  \n997      0.0     16.9    80.6 2009-09-23 16:59:00 2009-09-23 18:52:00  foo  \n998      0.4     16.0    98.9 2009-09-23 17:31:00 2009-09-23 18:37:00  foo  \n999      0.9     16.8    97.4 2009-09-23 17:34:00 2009-09-23 18:40:00  foo  \n\n[1000 rows x 12 columns]",
      "text/html": "<div>\n<style scoped>\n    .dataframe tbody tr th:only-of-type {\n        vertical-align: middle;\n    }\n\n    .dataframe tbody tr th {\n        vertical-align: top;\n    }\n\n    .dataframe thead th {\n        text-align: right;\n    }\n</style>\n<table border=\"1\" class=\"dataframe\">\n  <thead>\n    <tr style=\"text-align: right;\">\n      <th></th>\n      <th>mmsi</th>\n      <th>name</th>\n      <th>transit</th>\n      <th>segment</th>\n      <th>seg_length</th>\n      <th>avg_sog</th>\n      <th>min_sog</th>\n      <th>max_sog</th>\n      <th>pdgt10</th>\n      <th>st_time</th>\n      <th>end_time</th>\n      <th>type</th>\n    </tr>\n  </thead>\n  <tbody>\n    <tr>\n      <th>0</th>\n      <td>1</td>\n      <td>Us Govt Ves</td>\n      <td>1</td>\n      <td>1</td>\n      <td>5.1</td>\n      <td>13.2</td>\n      <td>9.2</td>\n      <td>14.5</td>\n      <td>96.5</td>\n      <td>2009-02-10 16:03:00</td>\n      <td>2009-02-10 16:27:00</td>\n      <td>foo</td>\n    </tr>\n    <tr>\n      <th>1</th>\n      <td>1</td>\n      <td>Dredge Capt Frank</td>\n      <td>1</td>\n      <td>1</td>\n      <td>13.5</td>\n      <td>18.6</td>\n      <td>10.4</td>\n      <td>20.6</td>\n      <td>100.0</td>\n      <td>2009-04-06 14:31:00</td>\n      <td>2009-04-06 15:20:00</td>\n      <td>foo</td>\n    </tr>\n    <tr>\n      <th>2</th>\n      <td>1</td>\n      <td>Us Gov Vessel</td>\n      <td>1</td>\n      <td>1</td>\n      <td>4.3</td>\n      <td>16.2</td>\n      <td>10.3</td>\n      <td>20.5</td>\n      <td>100.0</td>\n      <td>2009-04-06 14:36:00</td>\n      <td>2009-04-06 14:55:00</td>\n      <td>foo</td>\n    </tr>\n    <tr>\n      <th>3</th>\n      <td>1</td>\n      <td>Us Gov Vessel</td>\n      <td>2</td>\n      <td>1</td>\n      <td>9.2</td>\n      <td>15.4</td>\n      <td>14.5</td>\n      <td>16.1</td>\n      <td>100.0</td>\n      <td>2009-04-10 17:58:00</td>\n      <td>2009-04-10 18:34:00</td>\n      <td>foo</td>\n    </tr>\n    <tr>\n      <th>4</th>\n      <td>1</td>\n      <td>Dredge Capt Frank</td>\n      <td>2</td>\n      <td>1</td>\n      <td>9.2</td>\n      <td>15.4</td>\n      <td>14.6</td>\n      <td>16.2</td>\n      <td>100.0</td>\n      <td>2009-04-10 17:59:00</td>\n      <td>2009-04-10 18:35:00</td>\n      <td>foo</td>\n    </tr>\n    <tr>\n      <th>...</th>\n      <td>...</td>\n      <td>...</td>\n      <td>...</td>\n      <td>...</td>\n      <td>...</td>\n      <td>...</td>\n      <td>...</td>\n      <td>...</td>\n      <td>...</td>\n      <td>...</td>\n      <td>...</td>\n      <td>...</td>\n    </tr>\n    <tr>\n      <th>995</th>\n      <td>1193046</td>\n      <td>Msc Colombia</td>\n      <td>5</td>\n      <td>1</td>\n      <td>16.3</td>\n      <td>1.4</td>\n      <td>0.0</td>\n      <td>14.1</td>\n      <td>11.6</td>\n      <td>2009-09-23 12:22:00</td>\n      <td>2009-09-23 19:01:00</td>\n      <td>foo</td>\n    </tr>\n    <tr>\n      <th>996</th>\n      <td>1193046</td>\n      <td>Majestic</td>\n      <td>112</td>\n      <td>1</td>\n      <td>16.9</td>\n      <td>12.8</td>\n      <td>0.1</td>\n      <td>17.0</td>\n      <td>88.5</td>\n      <td>2009-09-23 16:40:00</td>\n      <td>2009-09-23 18:53:00</td>\n      <td>foo</td>\n    </tr>\n    <tr>\n      <th>997</th>\n      <td>1193046</td>\n      <td>Grizzly 60</td>\n      <td>16</td>\n      <td>1</td>\n      <td>15.0</td>\n      <td>9.7</td>\n      <td>0.0</td>\n      <td>16.9</td>\n      <td>80.6</td>\n      <td>2009-09-23 16:59:00</td>\n      <td>2009-09-23 18:52:00</td>\n      <td>foo</td>\n    </tr>\n    <tr>\n      <th>998</th>\n      <td>1193046</td>\n      <td>Minnie Falgout</td>\n      <td>24</td>\n      <td>1</td>\n      <td>14.2</td>\n      <td>7.8</td>\n      <td>0.4</td>\n      <td>16.0</td>\n      <td>98.9</td>\n      <td>2009-09-23 17:31:00</td>\n      <td>2009-09-23 18:37:00</td>\n      <td>foo</td>\n    </tr>\n    <tr>\n      <th>999</th>\n      <td>1193046</td>\n      <td>Loriag</td>\n      <td>17</td>\n      <td>1</td>\n      <td>14.5</td>\n      <td>11.1</td>\n      <td>0.9</td>\n      <td>16.8</td>\n      <td>97.4</td>\n      <td>2009-09-23 17:34:00</td>\n      <td>2009-09-23 18:40:00</td>\n      <td>foo</td>\n    </tr>\n  </tbody>\n</table>\n<p>1000 rows × 12 columns</p>\n</div>"
     },
     "execution_count": 76,
     "metadata": {},
     "output_type": "execute_result"
    }
   ],
   "source": [
    "segments"
   ],
   "metadata": {
    "collapsed": false
   }
  },
  {
   "cell_type": "code",
   "execution_count": 117,
   "outputs": [
    {
     "data": {
      "text/plain": "        mmsi               name  transit  segment  seg_length  avg_sog  \\\n0          1        Us Govt Ves        1        1         5.1     13.2   \n1          1  Dredge Capt Frank        1        1        13.5     18.6   \n2          1      Us Gov Vessel        1        1         4.3     16.2   \n3          1      Us Gov Vessel        2        1         9.2     15.4   \n4          1  Dredge Capt Frank        2        1         9.2     15.4   \n..       ...                ...      ...      ...         ...      ...   \n994  1193046          Sy Ranger       30        1        18.8      3.9   \n995  1193046       Msc Colombia        5        1        16.3      1.4   \n997  1193046         Grizzly 60       16        1        15.0      9.7   \n998  1193046     Minnie Falgout       24        1        14.2      7.8   \n999  1193046             Loriag       17        1        14.5     11.1   \n\n     min_sog  max_sog  pdgt10             st_time            end_time type  \n0        9.2     14.5    96.5 2009-02-10 16:03:00 2009-02-10 16:27:00  foo  \n1       10.4     20.6   100.0 2009-04-06 14:31:00 2009-04-06 15:20:00  foo  \n2       10.3     20.5   100.0 2009-04-06 14:36:00 2009-04-06 14:55:00  foo  \n3       14.5     16.1   100.0 2009-04-10 17:58:00 2009-04-10 18:34:00  foo  \n4       14.6     16.2   100.0 2009-04-10 17:59:00 2009-04-10 18:35:00  foo  \n..       ...      ...     ...                 ...                 ...  ...  \n994      0.0     17.1    84.2 2009-09-23 07:55:00 2009-09-23 19:02:00  foo  \n995      0.0     14.1    11.6 2009-09-23 12:22:00 2009-09-23 19:01:00  foo  \n997      0.0     16.9    80.6 2009-09-23 16:59:00 2009-09-23 18:52:00  foo  \n998      0.4     16.0    98.9 2009-09-23 17:31:00 2009-09-23 18:37:00  foo  \n999      0.9     16.8    97.4 2009-09-23 17:34:00 2009-09-23 18:40:00  foo  \n\n[713 rows x 12 columns]",
      "text/html": "<div>\n<style scoped>\n    .dataframe tbody tr th:only-of-type {\n        vertical-align: middle;\n    }\n\n    .dataframe tbody tr th {\n        vertical-align: top;\n    }\n\n    .dataframe thead th {\n        text-align: right;\n    }\n</style>\n<table border=\"1\" class=\"dataframe\">\n  <thead>\n    <tr style=\"text-align: right;\">\n      <th></th>\n      <th>mmsi</th>\n      <th>name</th>\n      <th>transit</th>\n      <th>segment</th>\n      <th>seg_length</th>\n      <th>avg_sog</th>\n      <th>min_sog</th>\n      <th>max_sog</th>\n      <th>pdgt10</th>\n      <th>st_time</th>\n      <th>end_time</th>\n      <th>type</th>\n    </tr>\n  </thead>\n  <tbody>\n    <tr>\n      <th>0</th>\n      <td>1</td>\n      <td>Us Govt Ves</td>\n      <td>1</td>\n      <td>1</td>\n      <td>5.1</td>\n      <td>13.2</td>\n      <td>9.2</td>\n      <td>14.5</td>\n      <td>96.5</td>\n      <td>2009-02-10 16:03:00</td>\n      <td>2009-02-10 16:27:00</td>\n      <td>foo</td>\n    </tr>\n    <tr>\n      <th>1</th>\n      <td>1</td>\n      <td>Dredge Capt Frank</td>\n      <td>1</td>\n      <td>1</td>\n      <td>13.5</td>\n      <td>18.6</td>\n      <td>10.4</td>\n      <td>20.6</td>\n      <td>100.0</td>\n      <td>2009-04-06 14:31:00</td>\n      <td>2009-04-06 15:20:00</td>\n      <td>foo</td>\n    </tr>\n    <tr>\n      <th>2</th>\n      <td>1</td>\n      <td>Us Gov Vessel</td>\n      <td>1</td>\n      <td>1</td>\n      <td>4.3</td>\n      <td>16.2</td>\n      <td>10.3</td>\n      <td>20.5</td>\n      <td>100.0</td>\n      <td>2009-04-06 14:36:00</td>\n      <td>2009-04-06 14:55:00</td>\n      <td>foo</td>\n    </tr>\n    <tr>\n      <th>3</th>\n      <td>1</td>\n      <td>Us Gov Vessel</td>\n      <td>2</td>\n      <td>1</td>\n      <td>9.2</td>\n      <td>15.4</td>\n      <td>14.5</td>\n      <td>16.1</td>\n      <td>100.0</td>\n      <td>2009-04-10 17:58:00</td>\n      <td>2009-04-10 18:34:00</td>\n      <td>foo</td>\n    </tr>\n    <tr>\n      <th>4</th>\n      <td>1</td>\n      <td>Dredge Capt Frank</td>\n      <td>2</td>\n      <td>1</td>\n      <td>9.2</td>\n      <td>15.4</td>\n      <td>14.6</td>\n      <td>16.2</td>\n      <td>100.0</td>\n      <td>2009-04-10 17:59:00</td>\n      <td>2009-04-10 18:35:00</td>\n      <td>foo</td>\n    </tr>\n    <tr>\n      <th>...</th>\n      <td>...</td>\n      <td>...</td>\n      <td>...</td>\n      <td>...</td>\n      <td>...</td>\n      <td>...</td>\n      <td>...</td>\n      <td>...</td>\n      <td>...</td>\n      <td>...</td>\n      <td>...</td>\n      <td>...</td>\n    </tr>\n    <tr>\n      <th>994</th>\n      <td>1193046</td>\n      <td>Sy Ranger</td>\n      <td>30</td>\n      <td>1</td>\n      <td>18.8</td>\n      <td>3.9</td>\n      <td>0.0</td>\n      <td>17.1</td>\n      <td>84.2</td>\n      <td>2009-09-23 07:55:00</td>\n      <td>2009-09-23 19:02:00</td>\n      <td>foo</td>\n    </tr>\n    <tr>\n      <th>995</th>\n      <td>1193046</td>\n      <td>Msc Colombia</td>\n      <td>5</td>\n      <td>1</td>\n      <td>16.3</td>\n      <td>1.4</td>\n      <td>0.0</td>\n      <td>14.1</td>\n      <td>11.6</td>\n      <td>2009-09-23 12:22:00</td>\n      <td>2009-09-23 19:01:00</td>\n      <td>foo</td>\n    </tr>\n    <tr>\n      <th>997</th>\n      <td>1193046</td>\n      <td>Grizzly 60</td>\n      <td>16</td>\n      <td>1</td>\n      <td>15.0</td>\n      <td>9.7</td>\n      <td>0.0</td>\n      <td>16.9</td>\n      <td>80.6</td>\n      <td>2009-09-23 16:59:00</td>\n      <td>2009-09-23 18:52:00</td>\n      <td>foo</td>\n    </tr>\n    <tr>\n      <th>998</th>\n      <td>1193046</td>\n      <td>Minnie Falgout</td>\n      <td>24</td>\n      <td>1</td>\n      <td>14.2</td>\n      <td>7.8</td>\n      <td>0.4</td>\n      <td>16.0</td>\n      <td>98.9</td>\n      <td>2009-09-23 17:31:00</td>\n      <td>2009-09-23 18:37:00</td>\n      <td>foo</td>\n    </tr>\n    <tr>\n      <th>999</th>\n      <td>1193046</td>\n      <td>Loriag</td>\n      <td>17</td>\n      <td>1</td>\n      <td>14.5</td>\n      <td>11.1</td>\n      <td>0.9</td>\n      <td>16.8</td>\n      <td>97.4</td>\n      <td>2009-09-23 17:34:00</td>\n      <td>2009-09-23 18:40:00</td>\n      <td>foo</td>\n    </tr>\n  </tbody>\n</table>\n<p>713 rows × 12 columns</p>\n</div>"
     },
     "execution_count": 117,
     "metadata": {},
     "output_type": "execute_result"
    }
   ],
   "source": [
    "segments.groupby(segments.name).head(30)"
   ],
   "metadata": {
    "collapsed": false
   }
  },
  {
   "cell_type": "code",
   "execution_count": 118,
   "outputs": [
    {
     "name": "stdout",
     "output_type": "stream",
     "text": [
      "CPU times: total: 15.6 ms\n",
      "Wall time: 2 ms\n"
     ]
    },
    {
     "data": {
      "text/plain": "name\nNauticast               19190.5\nAsphalt Seminole         6528.1\nMajestic                 2997.9\nNeva Belle               2737.9\nZaandam                  2296.7\nBelua Foundation         2291.5\nLucrative                1710.3\nHelen                    1689.9\nSamantha Miller          1553.2\nPort Imp Manhattan       1211.1\nAlexis                   1186.1\nWilliam Breckinridge     1175.1\nAmy.chouest              1088.3\nSy Ranger                1086.9\nAlexandra                1059.4\nJohn Parrish              993.2\nDelta Falcon              912.6\nCanadian Warship 711      860.7\nLady Simpson              818.1\nDorothy Moran             720.9\nUsns Hunter               687.6\nJohn Parish               635.9\nCharleston                616.0\nMexican Bay               537.7\nArabella                  473.1\nVera Bisso                468.0\nCapt Hardhead             461.1\nIntl Patriot              455.7\nWinslow C Kelsey]         394.3\nUs Gov Vessel             359.2\nName: seg_length, dtype: float64"
     },
     "execution_count": 118,
     "metadata": {},
     "output_type": "execute_result"
    }
   ],
   "source": [
    "%time segments.groupby(segments.name).seg_length.sum().sort_values(ascending=False, inplace=False).head(30)"
   ],
   "metadata": {
    "collapsed": false
   }
  },
  {
   "cell_type": "code",
   "execution_count": 119,
   "metadata": {
    "collapsed": true
   },
   "outputs": [],
   "source": [
    "segments['name'] = segments.name.astype('category')"
   ]
  },
  {
   "cell_type": "code",
   "execution_count": 120,
   "metadata": {},
   "outputs": [
    {
     "name": "stdout",
     "output_type": "stream",
     "text": [
      "CPU times: total: 0 ns\n",
      "Wall time: 2 ms\n"
     ]
    },
    {
     "data": {
      "text/plain": "name\nNauticast               19190.5\nAsphalt Seminole         6528.1\nMajestic                 2997.9\nNeva Belle               2737.9\nZaandam                  2296.7\nBelua Foundation         2291.5\nLucrative                1710.3\nHelen                    1689.9\nSamantha Miller          1553.2\nPort Imp Manhattan       1211.1\nAlexis                   1186.1\nWilliam Breckinridge     1175.1\nAmy.chouest              1088.3\nSy Ranger                1086.9\nAlexandra                1059.4\nJohn Parrish              993.2\nDelta Falcon              912.6\nCanadian Warship 711      860.7\nLady Simpson              818.1\nDorothy Moran             720.9\nUsns Hunter               687.6\nJohn Parish               635.9\nCharleston                616.0\nMexican Bay               537.7\nArabella                  473.1\nVera Bisso                468.0\nCapt Hardhead             461.1\nIntl Patriot              455.7\nWinslow C Kelsey]         394.3\nUs Gov Vessel             359.2\nName: seg_length, dtype: float64"
     },
     "execution_count": 120,
     "metadata": {},
     "output_type": "execute_result"
    }
   ],
   "source": [
    "%time segments.groupby(segments.name).seg_length.sum().sort_values(ascending=False, inplace=False).head(30)"
   ]
  },
  {
   "cell_type": "markdown",
   "metadata": {},
   "source": [
    "Hence, we get a considerable speedup simply by using the appropriate `dtype` for our data."
   ]
  },
  {
   "cell_type": "markdown",
   "metadata": {},
   "source": [
    "### Discretization\n",
    "\n",
    "Pandas' `cut` function can be used to group continuous or countable data in to bins. Discretization is generally a very **bad idea** for statistical analysis, so use this function responsibly!\n",
    "\n",
    "Lets say we want to bin the ages of the cervical dystonia patients into a smaller number of groups:"
   ]
  },
  {
   "cell_type": "code",
   "execution_count": 80,
   "outputs": [
    {
     "data": {
      "text/plain": "     patient  age\n0          1   65\n1          1   65\n2          1   65\n3          1   65\n4          1   65\n..       ...  ...\n626      109   57\n627      109   57\n628      109   57\n629      109   57\n630      109   57\n\n[631 rows x 2 columns]",
      "text/html": "<div>\n<style scoped>\n    .dataframe tbody tr th:only-of-type {\n        vertical-align: middle;\n    }\n\n    .dataframe tbody tr th {\n        vertical-align: top;\n    }\n\n    .dataframe thead th {\n        text-align: right;\n    }\n</style>\n<table border=\"1\" class=\"dataframe\">\n  <thead>\n    <tr style=\"text-align: right;\">\n      <th></th>\n      <th>patient</th>\n      <th>age</th>\n    </tr>\n  </thead>\n  <tbody>\n    <tr>\n      <th>0</th>\n      <td>1</td>\n      <td>65</td>\n    </tr>\n    <tr>\n      <th>1</th>\n      <td>1</td>\n      <td>65</td>\n    </tr>\n    <tr>\n      <th>2</th>\n      <td>1</td>\n      <td>65</td>\n    </tr>\n    <tr>\n      <th>3</th>\n      <td>1</td>\n      <td>65</td>\n    </tr>\n    <tr>\n      <th>4</th>\n      <td>1</td>\n      <td>65</td>\n    </tr>\n    <tr>\n      <th>...</th>\n      <td>...</td>\n      <td>...</td>\n    </tr>\n    <tr>\n      <th>626</th>\n      <td>109</td>\n      <td>57</td>\n    </tr>\n    <tr>\n      <th>627</th>\n      <td>109</td>\n      <td>57</td>\n    </tr>\n    <tr>\n      <th>628</th>\n      <td>109</td>\n      <td>57</td>\n    </tr>\n    <tr>\n      <th>629</th>\n      <td>109</td>\n      <td>57</td>\n    </tr>\n    <tr>\n      <th>630</th>\n      <td>109</td>\n      <td>57</td>\n    </tr>\n  </tbody>\n</table>\n<p>631 rows × 2 columns</p>\n</div>"
     },
     "execution_count": 80,
     "metadata": {},
     "output_type": "execute_result"
    }
   ],
   "source": [
    "cdystonia.loc[:, ['patient', 'age']]"
   ],
   "metadata": {
    "collapsed": false
   }
  },
  {
   "cell_type": "code",
   "execution_count": 81,
   "outputs": [
    {
     "data": {
      "text/plain": "count    631.000000\nmean      55.616482\nstd       12.123910\nmin       26.000000\n25%       46.000000\n50%       56.000000\n75%       65.000000\nmax       83.000000\nName: age, dtype: float64"
     },
     "execution_count": 81,
     "metadata": {},
     "output_type": "execute_result"
    }
   ],
   "source": [
    "cdystonia.age.describe()"
   ],
   "metadata": {
    "collapsed": false
   }
  },
  {
   "cell_type": "markdown",
   "metadata": {},
   "source": [
    "Let's transform these data into decades, beginnnig with individuals in their 20's and ending with those in their 80's:"
   ]
  },
  {
   "cell_type": "code",
   "execution_count": 82,
   "metadata": {},
   "outputs": [
    {
     "data": {
      "text/plain": "0     (60, 70]\n1     (60, 70]\n2     (60, 70]\n3     (60, 70]\n4     (60, 70]\n5     (60, 70]\n6     (60, 70]\n7     (60, 70]\n8     (60, 70]\n9     (60, 70]\n10    (60, 70]\n11    (60, 70]\n12    (60, 70]\n13    (60, 70]\n14    (60, 70]\n15    (60, 70]\n16    (60, 70]\n17    (60, 70]\n18    (50, 60]\n19    (50, 60]\nName: age, dtype: category\nCategories (7, interval[int64, right]): [(20, 30] < (30, 40] < (40, 50] < (50, 60] < (60, 70] < (70, 80] < (80, 90]]"
     },
     "execution_count": 82,
     "metadata": {},
     "output_type": "execute_result"
    }
   ],
   "source": [
    "pd.cut(cdystonia.age, [20,30,40,50,60,70,80,90])[:20]"
   ]
  },
  {
   "cell_type": "markdown",
   "metadata": {},
   "source": [
    "The parentheses indicate an open interval, meaning that the interval includes values up to but *not including* the endpoint, whereas the square bracket is a closed interval, where the endpoint is included in the interval. We can switch the closure to the left side by setting the `right` flag to `False`:"
   ]
  },
  {
   "cell_type": "code",
   "execution_count": 83,
   "metadata": {},
   "outputs": [
    {
     "data": {
      "text/plain": "0     [60, 70)\n1     [60, 70)\n2     [60, 70)\n3     [60, 70)\n4     [60, 70)\n5     [60, 70)\n6     [70, 80)\n7     [70, 80)\n8     [70, 80)\n9     [70, 80)\n10    [70, 80)\n11    [70, 80)\n12    [60, 70)\n13    [60, 70)\n14    [60, 70)\n15    [60, 70)\n16    [60, 70)\n17    [60, 70)\n18    [50, 60)\n19    [50, 60)\nName: age, dtype: category\nCategories (7, interval[int64, left]): [[20, 30) < [30, 40) < [40, 50) < [50, 60) < [60, 70) < [70, 80) < [80, 90)]"
     },
     "execution_count": 83,
     "metadata": {},
     "output_type": "execute_result"
    }
   ],
   "source": [
    "pd.cut(cdystonia.age, [20,30,40,50,60,70,80,90], right=False)[:20]"
   ]
  },
  {
   "cell_type": "markdown",
   "metadata": {},
   "source": [
    "Since the data are now **ordinal**, rather than numeric, we can give them labels:"
   ]
  },
  {
   "cell_type": "code",
   "execution_count": 84,
   "metadata": {},
   "outputs": [
    {
     "data": {
      "text/plain": "0             old\n1             old\n2             old\n3             old\n4             old\n5             old\n6             old\n7             old\n8             old\n9             old\n10            old\n11            old\n12            old\n13            old\n14            old\n15            old\n16            old\n17            old\n18    middle-aged\n19    middle-aged\nName: age, dtype: category\nCategories (4, object): ['young' < 'middle-aged' < 'old' < 'really old']"
     },
     "execution_count": 84,
     "metadata": {},
     "output_type": "execute_result"
    }
   ],
   "source": [
    "pd.cut(cdystonia.age, [20,40,60,80,90], labels=['young','middle-aged','old','really old'])[:20]"
   ]
  },
  {
   "cell_type": "markdown",
   "metadata": {},
   "source": [
    "A related function `qcut` uses empirical quantiles to divide the data. If, for example, we want the quartiles -- (0-25%], (25-50%], (50-70%], (75-100%] -- we can just specify 4 intervals, which will be equally-spaced by default:"
   ]
  },
  {
   "cell_type": "code",
   "execution_count": 85,
   "metadata": {},
   "outputs": [
    {
     "data": {
      "text/plain": "0     (56.0, 65.0]\n1     (56.0, 65.0]\n2     (56.0, 65.0]\n3     (56.0, 65.0]\n4     (56.0, 65.0]\n5     (56.0, 65.0]\n6     (65.0, 83.0]\n7     (65.0, 83.0]\n8     (65.0, 83.0]\n9     (65.0, 83.0]\n10    (65.0, 83.0]\n11    (65.0, 83.0]\n12    (56.0, 65.0]\n13    (56.0, 65.0]\n14    (56.0, 65.0]\n15    (56.0, 65.0]\n16    (56.0, 65.0]\n17    (56.0, 65.0]\n18    (56.0, 65.0]\n19    (56.0, 65.0]\nName: age, dtype: category\nCategories (4, interval[float64, right]): [(25.999, 46.0] < (46.0, 56.0] < (56.0, 65.0] < (65.0, 83.0]]"
     },
     "execution_count": 85,
     "metadata": {},
     "output_type": "execute_result"
    }
   ],
   "source": [
    "pd.qcut(cdystonia.age, 4)[:20]"
   ]
  },
  {
   "cell_type": "markdown",
   "metadata": {},
   "source": [
    "Alternatively, one can specify custom quantiles to act as cut points:"
   ]
  },
  {
   "cell_type": "code",
   "execution_count": 86,
   "outputs": [
    {
     "data": {
      "text/plain": "0       5.1\n1      13.5\n2       4.3\n3       9.2\n4       9.2\n       ... \n995    16.3\n996    16.9\n997    15.0\n998    14.2\n999    14.5\nName: seg_length, Length: 1000, dtype: float64"
     },
     "execution_count": 86,
     "metadata": {},
     "output_type": "execute_result"
    }
   ],
   "source": [
    "segments.seg_length"
   ],
   "metadata": {
    "collapsed": false
   }
  },
  {
   "cell_type": "code",
   "execution_count": 87,
   "outputs": [
    {
     "data": {
      "text/plain": "count    1000.000000\nmean       61.664000\nstd       125.772114\nmin         1.000000\n25%         8.475000\n50%        18.400000\n75%        29.000000\nmax       701.600000\nName: seg_length, dtype: float64"
     },
     "execution_count": 87,
     "metadata": {},
     "output_type": "execute_result"
    }
   ],
   "source": [
    "segments.seg_length.describe()"
   ],
   "metadata": {
    "collapsed": false
   }
  },
  {
   "cell_type": "code",
   "execution_count": 88,
   "outputs": [
    {
     "data": {
      "text/plain": "0     (1.7, 455.8]\n1     (1.7, 455.8]\n2     (1.7, 455.8]\n3     (1.7, 455.8]\n4     (1.7, 455.8]\n5     (1.7, 455.8]\n6     (1.7, 455.8]\n7     (1.7, 455.8]\n8     (1.7, 455.8]\n9     (1.7, 455.8]\n10    (1.7, 455.8]\n11    (1.7, 455.8]\n12    (1.7, 455.8]\n13    (1.7, 455.8]\n14    (1.7, 455.8]\n15    (1.7, 455.8]\n16    (1.7, 455.8]\n17    (1.7, 455.8]\n18    (1.7, 455.8]\n19    (1.7, 455.8]\nName: seg_length, dtype: category\nCategories (5, interval[float64, right]): [(0.999, 1.1] < (1.1, 1.7] < (1.7, 455.8] < (455.8, 456.801] < (456.801, 701.6]]"
     },
     "execution_count": 88,
     "metadata": {},
     "output_type": "execute_result"
    }
   ],
   "source": [
    "quantiles = pd.qcut(segments.seg_length, [0, 0.01, 0.05, 0.95, 0.99, 1])\n",
    "quantiles[:20]"
   ],
   "metadata": {
    "collapsed": false
   }
  },
  {
   "cell_type": "markdown",
   "metadata": {},
   "source": [
    "### Permutation and sampling\n",
    "\n",
    "For some data analysis tasks, such as simulation, we need to be able to randomly reorder our data, or draw random values from it. Calling NumPy's `permutation` function with the length of the sequence you want to permute generates an array with a permuted sequence of integers, which can be used to re-order the sequence."
   ]
  },
  {
   "cell_type": "code",
   "execution_count": 89,
   "metadata": {},
   "outputs": [
    {
     "name": "stdout",
     "output_type": "stream",
     "text": [
      "1000\n"
     ]
    },
    {
     "data": {
      "text/plain": "array([920, 862, 947, 253, 815, 532, 130, 653, 117, 398, 801, 107, 497,\n       618, 735, 747, 714, 630, 961, 670, 343, 557, 469,  57, 805, 468,\n       753, 738, 159, 534])"
     },
     "execution_count": 89,
     "metadata": {},
     "output_type": "execute_result"
    }
   ],
   "source": [
    "print(len(segments))\n",
    "new_order = np.random.permutation(len(segments))\n",
    "new_order[:30]"
   ]
  },
  {
   "cell_type": "markdown",
   "metadata": {},
   "source": [
    "Using this sequence as an argument to the `take` method results in a reordered DataFrame:"
   ]
  },
  {
   "cell_type": "code",
   "execution_count": 90,
   "metadata": {},
   "outputs": [
    {
     "data": {
      "text/plain": "        mmsi         name  transit  segment  seg_length  avg_sog  min_sog  \\\n920  1193046    Nauticast      102        1        22.2      8.6      7.7   \n862  1193046      Therese        2        1        13.2     11.8      4.0   \n947  1193046  Miss Angela        5        1        11.2      3.7      2.7   \n253   572329    Alexandra       20        1        25.2      8.7      8.3   \n815  1193046    Nauticast       61        2       451.8      0.2      0.0   \n\n     max_sog  pdgt10             st_time            end_time type  \n920     10.0     0.0 2009-08-18 10:34:00 2009-08-18 12:55:00  foo  \n862     15.4    67.6 2009-06-05 15:46:00 2009-06-05 16:48:00  foo  \n947      4.2     0.0 2009-09-04 08:12:00 2009-09-04 13:06:00  foo  \n253      9.2     0.0 2009-07-17 14:35:00 2009-07-17 17:21:00  foo  \n815      3.3     0.0 2009-04-19 12:04:00 2009-04-20 10:29:00  foo  ",
      "text/html": "<div>\n<style scoped>\n    .dataframe tbody tr th:only-of-type {\n        vertical-align: middle;\n    }\n\n    .dataframe tbody tr th {\n        vertical-align: top;\n    }\n\n    .dataframe thead th {\n        text-align: right;\n    }\n</style>\n<table border=\"1\" class=\"dataframe\">\n  <thead>\n    <tr style=\"text-align: right;\">\n      <th></th>\n      <th>mmsi</th>\n      <th>name</th>\n      <th>transit</th>\n      <th>segment</th>\n      <th>seg_length</th>\n      <th>avg_sog</th>\n      <th>min_sog</th>\n      <th>max_sog</th>\n      <th>pdgt10</th>\n      <th>st_time</th>\n      <th>end_time</th>\n      <th>type</th>\n    </tr>\n  </thead>\n  <tbody>\n    <tr>\n      <th>920</th>\n      <td>1193046</td>\n      <td>Nauticast</td>\n      <td>102</td>\n      <td>1</td>\n      <td>22.2</td>\n      <td>8.6</td>\n      <td>7.7</td>\n      <td>10.0</td>\n      <td>0.0</td>\n      <td>2009-08-18 10:34:00</td>\n      <td>2009-08-18 12:55:00</td>\n      <td>foo</td>\n    </tr>\n    <tr>\n      <th>862</th>\n      <td>1193046</td>\n      <td>Therese</td>\n      <td>2</td>\n      <td>1</td>\n      <td>13.2</td>\n      <td>11.8</td>\n      <td>4.0</td>\n      <td>15.4</td>\n      <td>67.6</td>\n      <td>2009-06-05 15:46:00</td>\n      <td>2009-06-05 16:48:00</td>\n      <td>foo</td>\n    </tr>\n    <tr>\n      <th>947</th>\n      <td>1193046</td>\n      <td>Miss Angela</td>\n      <td>5</td>\n      <td>1</td>\n      <td>11.2</td>\n      <td>3.7</td>\n      <td>2.7</td>\n      <td>4.2</td>\n      <td>0.0</td>\n      <td>2009-09-04 08:12:00</td>\n      <td>2009-09-04 13:06:00</td>\n      <td>foo</td>\n    </tr>\n    <tr>\n      <th>253</th>\n      <td>572329</td>\n      <td>Alexandra</td>\n      <td>20</td>\n      <td>1</td>\n      <td>25.2</td>\n      <td>8.7</td>\n      <td>8.3</td>\n      <td>9.2</td>\n      <td>0.0</td>\n      <td>2009-07-17 14:35:00</td>\n      <td>2009-07-17 17:21:00</td>\n      <td>foo</td>\n    </tr>\n    <tr>\n      <th>815</th>\n      <td>1193046</td>\n      <td>Nauticast</td>\n      <td>61</td>\n      <td>2</td>\n      <td>451.8</td>\n      <td>0.2</td>\n      <td>0.0</td>\n      <td>3.3</td>\n      <td>0.0</td>\n      <td>2009-04-19 12:04:00</td>\n      <td>2009-04-20 10:29:00</td>\n      <td>foo</td>\n    </tr>\n  </tbody>\n</table>\n</div>"
     },
     "execution_count": 90,
     "metadata": {},
     "output_type": "execute_result"
    }
   ],
   "source": [
    "segments.take(new_order).head()"
   ]
  },
  {
   "cell_type": "markdown",
   "metadata": {},
   "source": [
    "Compare this ordering with the original:"
   ]
  },
  {
   "cell_type": "code",
   "execution_count": 91,
   "metadata": {},
   "outputs": [
    {
     "data": {
      "text/plain": "   mmsi               name  transit  segment  seg_length  avg_sog  min_sog  \\\n0     1        Us Govt Ves        1        1         5.1     13.2      9.2   \n1     1  Dredge Capt Frank        1        1        13.5     18.6     10.4   \n2     1      Us Gov Vessel        1        1         4.3     16.2     10.3   \n3     1      Us Gov Vessel        2        1         9.2     15.4     14.5   \n4     1  Dredge Capt Frank        2        1         9.2     15.4     14.6   \n\n   max_sog  pdgt10             st_time            end_time type  \n0     14.5    96.5 2009-02-10 16:03:00 2009-02-10 16:27:00  foo  \n1     20.6   100.0 2009-04-06 14:31:00 2009-04-06 15:20:00  foo  \n2     20.5   100.0 2009-04-06 14:36:00 2009-04-06 14:55:00  foo  \n3     16.1   100.0 2009-04-10 17:58:00 2009-04-10 18:34:00  foo  \n4     16.2   100.0 2009-04-10 17:59:00 2009-04-10 18:35:00  foo  ",
      "text/html": "<div>\n<style scoped>\n    .dataframe tbody tr th:only-of-type {\n        vertical-align: middle;\n    }\n\n    .dataframe tbody tr th {\n        vertical-align: top;\n    }\n\n    .dataframe thead th {\n        text-align: right;\n    }\n</style>\n<table border=\"1\" class=\"dataframe\">\n  <thead>\n    <tr style=\"text-align: right;\">\n      <th></th>\n      <th>mmsi</th>\n      <th>name</th>\n      <th>transit</th>\n      <th>segment</th>\n      <th>seg_length</th>\n      <th>avg_sog</th>\n      <th>min_sog</th>\n      <th>max_sog</th>\n      <th>pdgt10</th>\n      <th>st_time</th>\n      <th>end_time</th>\n      <th>type</th>\n    </tr>\n  </thead>\n  <tbody>\n    <tr>\n      <th>0</th>\n      <td>1</td>\n      <td>Us Govt Ves</td>\n      <td>1</td>\n      <td>1</td>\n      <td>5.1</td>\n      <td>13.2</td>\n      <td>9.2</td>\n      <td>14.5</td>\n      <td>96.5</td>\n      <td>2009-02-10 16:03:00</td>\n      <td>2009-02-10 16:27:00</td>\n      <td>foo</td>\n    </tr>\n    <tr>\n      <th>1</th>\n      <td>1</td>\n      <td>Dredge Capt Frank</td>\n      <td>1</td>\n      <td>1</td>\n      <td>13.5</td>\n      <td>18.6</td>\n      <td>10.4</td>\n      <td>20.6</td>\n      <td>100.0</td>\n      <td>2009-04-06 14:31:00</td>\n      <td>2009-04-06 15:20:00</td>\n      <td>foo</td>\n    </tr>\n    <tr>\n      <th>2</th>\n      <td>1</td>\n      <td>Us Gov Vessel</td>\n      <td>1</td>\n      <td>1</td>\n      <td>4.3</td>\n      <td>16.2</td>\n      <td>10.3</td>\n      <td>20.5</td>\n      <td>100.0</td>\n      <td>2009-04-06 14:36:00</td>\n      <td>2009-04-06 14:55:00</td>\n      <td>foo</td>\n    </tr>\n    <tr>\n      <th>3</th>\n      <td>1</td>\n      <td>Us Gov Vessel</td>\n      <td>2</td>\n      <td>1</td>\n      <td>9.2</td>\n      <td>15.4</td>\n      <td>14.5</td>\n      <td>16.1</td>\n      <td>100.0</td>\n      <td>2009-04-10 17:58:00</td>\n      <td>2009-04-10 18:34:00</td>\n      <td>foo</td>\n    </tr>\n    <tr>\n      <th>4</th>\n      <td>1</td>\n      <td>Dredge Capt Frank</td>\n      <td>2</td>\n      <td>1</td>\n      <td>9.2</td>\n      <td>15.4</td>\n      <td>14.6</td>\n      <td>16.2</td>\n      <td>100.0</td>\n      <td>2009-04-10 17:59:00</td>\n      <td>2009-04-10 18:35:00</td>\n      <td>foo</td>\n    </tr>\n  </tbody>\n</table>\n</div>"
     },
     "execution_count": 91,
     "metadata": {},
     "output_type": "execute_result"
    }
   ],
   "source": [
    "segments.head()"
   ]
  },
  {
   "cell_type": "code",
   "execution_count": 92,
   "outputs": [
    {
     "data": {
      "text/plain": "mmsi                      1193046\nname                 Lady Simpson\ntransit                         5\nsegment                         1\nseg_length                   25.8\navg_sog                      15.1\nmin_sog                      11.1\nmax_sog                      15.9\npdgt10                      100.0\nst_time       2009-08-09 04:42:00\nend_time      2009-08-09 06:35:00\ntype                          foo\nName: 893, dtype: object"
     },
     "execution_count": 92,
     "metadata": {},
     "output_type": "execute_result"
    }
   ],
   "source": [
    "segments.iloc[893]"
   ],
   "metadata": {
    "collapsed": false
   }
  },
  {
   "cell_type": "markdown",
   "metadata": {},
   "source": [
    "For random sampling, `DataFrame` and `Series` objects have a `sample` method that can be used to draw samples, with or without replacement:"
   ]
  },
  {
   "cell_type": "code",
   "execution_count": 93,
   "metadata": {},
   "outputs": [
    {
     "data": {
      "text/plain": "           num_names             names sov  \\\nmmsi                                         \n354490000          1       Ever Result   N   \n354185000          1  Clifford  Castle   N   \n211394240          1       Msc Alessia   N   \n538003928          1        Cape Maria   N   \n636013164          1       Freja Dania   N   \n247230300          1          Valrossa   N   \n367004000          1     Kalmar Nyckel   N   \n240640000          1           Sd Nova   N   \n565502000          1  Gem Of Kilakarai   N   \n212434000          1          Nautilus   N   \n\n                                          flag flag_type  num_loas    loa  \\\nmmsi                                                                        \n354490000                Panama (Republic of)    Foreign         1  295.0   \n354185000                Panama (Republic of)    Foreign         1  184.0   \n211394240       Germany (Federal Republic of)    Foreign         1  301.0   \n538003928  Marshall Islands (Republic of the)    Foreign         1  289.0   \n636013164               Liberia (Republic of)    Foreign         1  186.0   \n247230300                               Italy    Foreign         1  183.0   \n367004000            United States of America   Domestic         1   46.0   \n240640000                              Greece    Foreign         1  225.0   \n565502000              Singapore (Republic of)   Foreign         1  190.0   \n212434000                Cyprus (Republic of)    Foreign         1  176.0   \n\n           max_loa  num_types       type  \nmmsi                                      \n354490000    295.0          1      Cargo  \n354185000    184.0          1   Reserved  \n211394240    301.0          1      Cargo  \n538003928    289.0          1      Cargo  \n636013164    186.0          1     Tanker  \n247230300    183.0          1     Tanker  \n367004000     46.0          1  Passenger  \n240640000    225.0          1      Cargo  \n565502000    190.0          1      Cargo  \n212434000    176.0          1     Tanker  ",
      "text/html": "<div>\n<style scoped>\n    .dataframe tbody tr th:only-of-type {\n        vertical-align: middle;\n    }\n\n    .dataframe tbody tr th {\n        vertical-align: top;\n    }\n\n    .dataframe thead th {\n        text-align: right;\n    }\n</style>\n<table border=\"1\" class=\"dataframe\">\n  <thead>\n    <tr style=\"text-align: right;\">\n      <th></th>\n      <th>num_names</th>\n      <th>names</th>\n      <th>sov</th>\n      <th>flag</th>\n      <th>flag_type</th>\n      <th>num_loas</th>\n      <th>loa</th>\n      <th>max_loa</th>\n      <th>num_types</th>\n      <th>type</th>\n    </tr>\n    <tr>\n      <th>mmsi</th>\n      <th></th>\n      <th></th>\n      <th></th>\n      <th></th>\n      <th></th>\n      <th></th>\n      <th></th>\n      <th></th>\n      <th></th>\n      <th></th>\n    </tr>\n  </thead>\n  <tbody>\n    <tr>\n      <th>354490000</th>\n      <td>1</td>\n      <td>Ever Result</td>\n      <td>N</td>\n      <td>Panama (Republic of)</td>\n      <td>Foreign</td>\n      <td>1</td>\n      <td>295.0</td>\n      <td>295.0</td>\n      <td>1</td>\n      <td>Cargo</td>\n    </tr>\n    <tr>\n      <th>354185000</th>\n      <td>1</td>\n      <td>Clifford  Castle</td>\n      <td>N</td>\n      <td>Panama (Republic of)</td>\n      <td>Foreign</td>\n      <td>1</td>\n      <td>184.0</td>\n      <td>184.0</td>\n      <td>1</td>\n      <td>Reserved</td>\n    </tr>\n    <tr>\n      <th>211394240</th>\n      <td>1</td>\n      <td>Msc Alessia</td>\n      <td>N</td>\n      <td>Germany (Federal Republic of)</td>\n      <td>Foreign</td>\n      <td>1</td>\n      <td>301.0</td>\n      <td>301.0</td>\n      <td>1</td>\n      <td>Cargo</td>\n    </tr>\n    <tr>\n      <th>538003928</th>\n      <td>1</td>\n      <td>Cape Maria</td>\n      <td>N</td>\n      <td>Marshall Islands (Republic of the)</td>\n      <td>Foreign</td>\n      <td>1</td>\n      <td>289.0</td>\n      <td>289.0</td>\n      <td>1</td>\n      <td>Cargo</td>\n    </tr>\n    <tr>\n      <th>636013164</th>\n      <td>1</td>\n      <td>Freja Dania</td>\n      <td>N</td>\n      <td>Liberia (Republic of)</td>\n      <td>Foreign</td>\n      <td>1</td>\n      <td>186.0</td>\n      <td>186.0</td>\n      <td>1</td>\n      <td>Tanker</td>\n    </tr>\n    <tr>\n      <th>247230300</th>\n      <td>1</td>\n      <td>Valrossa</td>\n      <td>N</td>\n      <td>Italy</td>\n      <td>Foreign</td>\n      <td>1</td>\n      <td>183.0</td>\n      <td>183.0</td>\n      <td>1</td>\n      <td>Tanker</td>\n    </tr>\n    <tr>\n      <th>367004000</th>\n      <td>1</td>\n      <td>Kalmar Nyckel</td>\n      <td>N</td>\n      <td>United States of America</td>\n      <td>Domestic</td>\n      <td>1</td>\n      <td>46.0</td>\n      <td>46.0</td>\n      <td>1</td>\n      <td>Passenger</td>\n    </tr>\n    <tr>\n      <th>240640000</th>\n      <td>1</td>\n      <td>Sd Nova</td>\n      <td>N</td>\n      <td>Greece</td>\n      <td>Foreign</td>\n      <td>1</td>\n      <td>225.0</td>\n      <td>225.0</td>\n      <td>1</td>\n      <td>Cargo</td>\n    </tr>\n    <tr>\n      <th>565502000</th>\n      <td>1</td>\n      <td>Gem Of Kilakarai</td>\n      <td>N</td>\n      <td>Singapore (Republic of)</td>\n      <td>Foreign</td>\n      <td>1</td>\n      <td>190.0</td>\n      <td>190.0</td>\n      <td>1</td>\n      <td>Cargo</td>\n    </tr>\n    <tr>\n      <th>212434000</th>\n      <td>1</td>\n      <td>Nautilus</td>\n      <td>N</td>\n      <td>Cyprus (Republic of)</td>\n      <td>Foreign</td>\n      <td>1</td>\n      <td>176.0</td>\n      <td>176.0</td>\n      <td>1</td>\n      <td>Tanker</td>\n    </tr>\n  </tbody>\n</table>\n</div>"
     },
     "execution_count": 93,
     "metadata": {},
     "output_type": "execute_result"
    }
   ],
   "source": [
    "vessels.sample(n=10)"
   ]
  },
  {
   "cell_type": "code",
   "execution_count": 94,
   "metadata": {},
   "outputs": [
    {
     "data": {
      "text/plain": "           num_names                 names sov  \\\nmmsi                                             \n249963000          1                Cygnus   N   \n308844000          1           Nippon Star   N   \n367082860          2  Bulldog/Tug Bull Dog   N   \n636091452          1       Maersk Denpasar   N   \n477040800          1        Chipolbrok Sun   N   \n636092154          1        Dorian Schulte   N   \n338096919          1   Waterway Guide Lady   N   \n477170700          1               Sea Bay   N   \n240894000          1        Maran Penelope   N   \n211806000          1  Belugarecommendation   N   \n\n                                                        flag flag_type  \\\nmmsi                                                                     \n249963000                                             Malta    Foreign   \n308844000                     Bahamas (Commonwealth of the)    Foreign   \n367082860                          United States of America   Domestic   \n636091452                             Liberia (Republic of)    Foreign   \n477040800  Hong Kong (Special Administrative Region of Ch...   Foreign   \n636092154                             Liberia (Republic of)    Foreign   \n338096919                          United States of America   Domestic   \n477170700  Hong Kong (Special Administrative Region of Ch...   Foreign   \n240894000                                            Greece    Foreign   \n211806000                     Germany (Federal Republic of)    Foreign   \n\n           num_loas              loa  max_loa  num_types       type  \nmmsi                                                                 \n249963000         1            177.0    177.0          1      Cargo  \n308844000         1            142.0    142.0          1      Cargo  \n367082860         2        29.0/30.0     30.0          2  Other/Tug  \n636091452         3  0.0/293.0/294.0    294.0          1      Cargo  \n477040800         1            199.0    199.0          1      Cargo  \n636092154         1            229.0    229.0          1      Cargo  \n338096919         1             20.0     20.0          1   Pleasure  \n477170700         1            243.0    243.0          1     Tanker  \n240894000         1            274.0    274.0          1     Tanker  \n211806000         1            135.0    135.0          1      Cargo  ",
      "text/html": "<div>\n<style scoped>\n    .dataframe tbody tr th:only-of-type {\n        vertical-align: middle;\n    }\n\n    .dataframe tbody tr th {\n        vertical-align: top;\n    }\n\n    .dataframe thead th {\n        text-align: right;\n    }\n</style>\n<table border=\"1\" class=\"dataframe\">\n  <thead>\n    <tr style=\"text-align: right;\">\n      <th></th>\n      <th>num_names</th>\n      <th>names</th>\n      <th>sov</th>\n      <th>flag</th>\n      <th>flag_type</th>\n      <th>num_loas</th>\n      <th>loa</th>\n      <th>max_loa</th>\n      <th>num_types</th>\n      <th>type</th>\n    </tr>\n    <tr>\n      <th>mmsi</th>\n      <th></th>\n      <th></th>\n      <th></th>\n      <th></th>\n      <th></th>\n      <th></th>\n      <th></th>\n      <th></th>\n      <th></th>\n      <th></th>\n    </tr>\n  </thead>\n  <tbody>\n    <tr>\n      <th>249963000</th>\n      <td>1</td>\n      <td>Cygnus</td>\n      <td>N</td>\n      <td>Malta</td>\n      <td>Foreign</td>\n      <td>1</td>\n      <td>177.0</td>\n      <td>177.0</td>\n      <td>1</td>\n      <td>Cargo</td>\n    </tr>\n    <tr>\n      <th>308844000</th>\n      <td>1</td>\n      <td>Nippon Star</td>\n      <td>N</td>\n      <td>Bahamas (Commonwealth of the)</td>\n      <td>Foreign</td>\n      <td>1</td>\n      <td>142.0</td>\n      <td>142.0</td>\n      <td>1</td>\n      <td>Cargo</td>\n    </tr>\n    <tr>\n      <th>367082860</th>\n      <td>2</td>\n      <td>Bulldog/Tug Bull Dog</td>\n      <td>N</td>\n      <td>United States of America</td>\n      <td>Domestic</td>\n      <td>2</td>\n      <td>29.0/30.0</td>\n      <td>30.0</td>\n      <td>2</td>\n      <td>Other/Tug</td>\n    </tr>\n    <tr>\n      <th>636091452</th>\n      <td>1</td>\n      <td>Maersk Denpasar</td>\n      <td>N</td>\n      <td>Liberia (Republic of)</td>\n      <td>Foreign</td>\n      <td>3</td>\n      <td>0.0/293.0/294.0</td>\n      <td>294.0</td>\n      <td>1</td>\n      <td>Cargo</td>\n    </tr>\n    <tr>\n      <th>477040800</th>\n      <td>1</td>\n      <td>Chipolbrok Sun</td>\n      <td>N</td>\n      <td>Hong Kong (Special Administrative Region of Ch...</td>\n      <td>Foreign</td>\n      <td>1</td>\n      <td>199.0</td>\n      <td>199.0</td>\n      <td>1</td>\n      <td>Cargo</td>\n    </tr>\n    <tr>\n      <th>636092154</th>\n      <td>1</td>\n      <td>Dorian Schulte</td>\n      <td>N</td>\n      <td>Liberia (Republic of)</td>\n      <td>Foreign</td>\n      <td>1</td>\n      <td>229.0</td>\n      <td>229.0</td>\n      <td>1</td>\n      <td>Cargo</td>\n    </tr>\n    <tr>\n      <th>338096919</th>\n      <td>1</td>\n      <td>Waterway Guide Lady</td>\n      <td>N</td>\n      <td>United States of America</td>\n      <td>Domestic</td>\n      <td>1</td>\n      <td>20.0</td>\n      <td>20.0</td>\n      <td>1</td>\n      <td>Pleasure</td>\n    </tr>\n    <tr>\n      <th>477170700</th>\n      <td>1</td>\n      <td>Sea Bay</td>\n      <td>N</td>\n      <td>Hong Kong (Special Administrative Region of Ch...</td>\n      <td>Foreign</td>\n      <td>1</td>\n      <td>243.0</td>\n      <td>243.0</td>\n      <td>1</td>\n      <td>Tanker</td>\n    </tr>\n    <tr>\n      <th>240894000</th>\n      <td>1</td>\n      <td>Maran Penelope</td>\n      <td>N</td>\n      <td>Greece</td>\n      <td>Foreign</td>\n      <td>1</td>\n      <td>274.0</td>\n      <td>274.0</td>\n      <td>1</td>\n      <td>Tanker</td>\n    </tr>\n    <tr>\n      <th>211806000</th>\n      <td>1</td>\n      <td>Belugarecommendation</td>\n      <td>N</td>\n      <td>Germany (Federal Republic of)</td>\n      <td>Foreign</td>\n      <td>1</td>\n      <td>135.0</td>\n      <td>135.0</td>\n      <td>1</td>\n      <td>Cargo</td>\n    </tr>\n  </tbody>\n</table>\n</div>"
     },
     "execution_count": 94,
     "metadata": {},
     "output_type": "execute_result"
    }
   ],
   "source": [
    "vessels.sample(n=10, replace=True)"
   ]
  },
  {
   "cell_type": "markdown",
   "metadata": {},
   "source": [
    "## Data aggregation and GroupBy operations\n",
    "\n",
    "One of the most powerful features of Pandas is its **GroupBy** functionality. On some occasions we may want to perform operations on *groups* of observations within a dataset. For example:\n",
    "\n",
    "* **aggregation**, such as computing the sum of mean of each group, which involves applying a function to each group and returning the aggregated results\n",
    "* **slicing** the DataFrame into groups and then doing something with the resulting slices (*e.g.* plotting)\n",
    "* group-wise **transformation**, such as standardization/normalization"
   ]
  },
  {
   "cell_type": "code",
   "execution_count": 95,
   "metadata": {
    "collapsed": true
   },
   "outputs": [
    {
     "name": "stdout",
     "output_type": "stream",
     "text": [
      "<pandas.core.groupby.generic.DataFrameGroupBy object at 0x00000267C69BD4F0>\n"
     ]
    }
   ],
   "source": [
    "cdystonia_grouped = cdystonia.groupby(cdystonia.patient)\n",
    "print(cdystonia_grouped)"
   ]
  },
  {
   "cell_type": "markdown",
   "metadata": {},
   "source": [
    "However, the grouping is only an intermediate step; for example, we may want to **iterate** over each of the patient groups:"
   ]
  },
  {
   "cell_type": "code",
   "execution_count": 96,
   "metadata": {},
   "outputs": [
    {
     "name": "stdout",
     "output_type": "stream",
     "text": [
      "patient 1\n",
      "group    patient  obs  week  site  id  treat  age sex  twstrs  treatment\n",
      "0        1    1     0     1   1  5000U   65   F      32          1\n",
      "1        1    2     2     1   1  5000U   65   F      30          1\n",
      "2        1    3     4     1   1  5000U   65   F      24          1\n",
      "3        1    4     8     1   1  5000U   65   F      37          1\n",
      "4        1    5    12     1   1  5000U   65   F      39          1\n",
      "5        1    6    16     1   1  5000U   65   F      36          1\n",
      "patient 2\n",
      "group     patient  obs  week  site  id   treat  age sex  twstrs  treatment\n",
      "6         2    1     0     1   2  10000U   70   F      60          2\n",
      "7         2    2     2     1   2  10000U   70   F      26          2\n",
      "8         2    3     4     1   2  10000U   70   F      27          2\n",
      "9         2    4     8     1   2  10000U   70   F      41          2\n",
      "10        2    5    12     1   2  10000U   70   F      65          2\n",
      "11        2    6    16     1   2  10000U   70   F      67          2\n",
      "patient 3\n",
      "group     patient  obs  week  site  id  treat  age sex  twstrs  treatment\n",
      "12        3    1     0     1   3  5000U   64   F      44          1\n",
      "13        3    2     2     1   3  5000U   64   F      20          1\n",
      "14        3    3     4     1   3  5000U   64   F      23          1\n",
      "15        3    4     8     1   3  5000U   64   F      26          1\n",
      "16        3    5    12     1   3  5000U   64   F      35          1\n",
      "17        3    6    16     1   3  5000U   64   F      35          1\n",
      "patient 4\n",
      "group     patient  obs  week  site  id    treat  age sex  twstrs  treatment\n",
      "18        4    1     0     1   4  Placebo   59   F      53          0\n",
      "19        4    2     2     1   4  Placebo   59   F      61          0\n",
      "20        4    3     4     1   4  Placebo   59   F      64          0\n",
      "21        4    4     8     1   4  Placebo   59   F      62          0\n",
      "patient 5\n",
      "group     patient  obs  week  site  id   treat  age sex  twstrs  treatment\n",
      "22        5    1     0     1   5  10000U   76   F      53          2\n",
      "23        5    2     2     1   5  10000U   76   F      35          2\n",
      "24        5    3     4     1   5  10000U   76   F      48          2\n",
      "25        5    4     8     1   5  10000U   76   F      49          2\n",
      "26        5    5    12     1   5  10000U   76   F      41          2\n",
      "27        5    6    16     1   5  10000U   76   F      51          2\n",
      "patient 6\n",
      "group     patient  obs  week  site  id   treat  age sex  twstrs  treatment\n",
      "28        6    1     0     1   6  10000U   59   F      49          2\n",
      "29        6    2     2     1   6  10000U   59   F      34          2\n",
      "30        6    3     4     1   6  10000U   59   F      43          2\n",
      "31        6    4     8     1   6  10000U   59   F      48          2\n",
      "32        6    5    12     1   6  10000U   59   F      48          2\n",
      "33        6    6    16     1   6  10000U   59   F      51          2\n",
      "patient 7\n",
      "group     patient  obs  week  site  id  treat  age sex  twstrs  treatment\n",
      "34        7    1     0     1   7  5000U   72   M      42          1\n",
      "35        7    2     2     1   7  5000U   72   M      32          1\n",
      "36        7    3     4     1   7  5000U   72   M      32          1\n",
      "37        7    4     8     1   7  5000U   72   M      43          1\n",
      "38        7    5    12     1   7  5000U   72   M      42          1\n",
      "39        7    6    16     1   7  5000U   72   M      46          1\n",
      "patient 8\n",
      "group     patient  obs  week  site  id    treat  age sex  twstrs  treatment\n",
      "40        8    1     0     1   8  Placebo   40   M      34          0\n",
      "41        8    2     2     1   8  Placebo   40   M      33          0\n",
      "42        8    3     4     1   8  Placebo   40   M      21          0\n",
      "43        8    4     8     1   8  Placebo   40   M      27          0\n",
      "44        8    5    12     1   8  Placebo   40   M      32          0\n",
      "45        8    6    16     1   8  Placebo   40   M      38          0\n",
      "patient 9\n",
      "group     patient  obs  week  site  id  treat  age sex  twstrs  treatment\n",
      "46        9    1     0     1   9  5000U   52   F      41          1\n",
      "47        9    2     2     1   9  5000U   52   F      32          1\n",
      "48        9    3     4     1   9  5000U   52   F      34          1\n",
      "49        9    4     8     1   9  5000U   52   F      35          1\n",
      "50        9    5    12     1   9  5000U   52   F      37          1\n",
      "51        9    6    16     1   9  5000U   52   F      36          1\n",
      "patient 10\n",
      "group     patient  obs  week  site  id    treat  age sex  twstrs  treatment\n",
      "52       10    1     0     1  10  Placebo   47   M      27          0\n",
      "53       10    2     2     1  10  Placebo   47   M      10          0\n",
      "54       10    3     4     1  10  Placebo   47   M      31          0\n",
      "55       10    4     8     1  10  Placebo   47   M      32          0\n",
      "56       10    5    12     1  10  Placebo   47   M       6          0\n",
      "57       10    6    16     1  10  Placebo   47   M      14          0\n",
      "patient 11\n",
      "group     patient  obs  week  site  id   treat  age sex  twstrs  treatment\n",
      "58       11    1     0     1  11  10000U   57   F      48          2\n",
      "59       11    2     2     1  11  10000U   57   F      41          2\n",
      "60       11    3     4     1  11  10000U   57   F      32          2\n",
      "61       11    4     8     1  11  10000U   57   F      35          2\n",
      "62       11    5    12     1  11  10000U   57   F      57          2\n",
      "63       11    6    16     1  11  10000U   57   F      51          2\n",
      "patient 12\n",
      "group     patient  obs  week  site  id    treat  age sex  twstrs  treatment\n",
      "64       12    1     0     1  12  Placebo   47   F      34          0\n",
      "65       12    2     2     1  12  Placebo   47   F      19          0\n",
      "66       12    3     4     1  12  Placebo   47   F      21          0\n",
      "67       12    4     8     1  12  Placebo   47   F      24          0\n",
      "68       12    5    12     1  12  Placebo   47   F      28          0\n",
      "69       12    6    16     1  12  Placebo   47   F      28          0\n",
      "patient 13\n",
      "group     patient  obs  week  site  id    treat  age sex  twstrs  treatment\n",
      "70       13    1     0     2   1  Placebo   70   F      49          0\n",
      "71       13    2     2     2   1  Placebo   70   F      47          0\n",
      "72       13    3     4     2   1  Placebo   70   F      44          0\n",
      "73       13    4     8     2   1  Placebo   70   F      48          0\n",
      "74       13    5    12     2   1  Placebo   70   F      44          0\n",
      "75       13    6    16     2   1  Placebo   70   F      44          0\n",
      "patient 14\n",
      "group     patient  obs  week  site  id  treat  age sex  twstrs  treatment\n",
      "76       14    1     0     2   2  5000U   49   F      46          1\n",
      "77       14    2     2     2   2  5000U   49   F      35          1\n",
      "78       14    3     4     2   2  5000U   49   F      45          1\n",
      "79       14    4     8     2   2  5000U   49   F      49          1\n",
      "80       14    5    12     2   2  5000U   49   F      53          1\n",
      "81       14    6    16     2   2  5000U   49   F      56          1\n",
      "patient 15\n",
      "group     patient  obs  week  site  id   treat  age sex  twstrs  treatment\n",
      "82       15    1     0     2   3  10000U   59   F      56          2\n",
      "83       15    2     2     2   3  10000U   59   F      44          2\n",
      "84       15    3     4     2   3  10000U   59   F      48          2\n",
      "85       15    4     8     2   3  10000U   59   F      54          2\n",
      "86       15    5    12     2   3  10000U   59   F      49          2\n",
      "87       15    6    16     2   3  10000U   59   F      60          2\n",
      "patient 16\n",
      "group     patient  obs  week  site  id  treat  age sex  twstrs  treatment\n",
      "88       16    1     0     2   4  5000U   64   M      59          1\n",
      "89       16    2     2     2   4  5000U   64   M      48          1\n",
      "90       16    3     4     2   4  5000U   64   M      56          1\n",
      "91       16    4     8     2   4  5000U   64   M      55          1\n",
      "92       16    5    12     2   4  5000U   64   M      57          1\n",
      "93       16    6    16     2   4  5000U   64   M      58          1\n",
      "patient 17\n",
      "group     patient  obs  week  site  id   treat  age sex  twstrs  treatment\n",
      "94       17    1     0     2   5  10000U   45   F      62          2\n",
      "95       17    2     2     2   5  10000U   45   F      60          2\n",
      "96       17    3     4     2   5  10000U   45   F      60          2\n",
      "97       17    4     8     2   5  10000U   45   F      64          2\n",
      "98       17    5    12     2   5  10000U   45   F      67          2\n",
      "99       17    6    16     2   5  10000U   45   F      66          2\n",
      "patient 18\n",
      "group      patient  obs  week  site  id    treat  age sex  twstrs  treatment\n",
      "100       18    1     0     2   6  Placebo   66   F      50          0\n",
      "101       18    2     2     2   6  Placebo   66   F      53          0\n",
      "102       18    3     4     2   6  Placebo   66   F      52          0\n",
      "103       18    4     8     2   6  Placebo   66   F      57          0\n",
      "104       18    5    12     2   6  Placebo   66   F      61          0\n",
      "105       18    6    16     2   6  Placebo   66   F      54          0\n",
      "patient 19\n",
      "group      patient  obs  week  site  id   treat  age sex  twstrs  treatment\n",
      "106       19    1     0     2   7  10000U   49   F      42          2\n",
      "107       19    2     2     2   7  10000U   49   F      42          2\n",
      "108       19    3     4     2   7  10000U   49   F      43          2\n",
      "109       19    4     8     2   7  10000U   49   F      33          2\n",
      "110       19    5    12     2   7  10000U   49   F      37          2\n",
      "111       19    6    16     2   7  10000U   49   F      43          2\n",
      "patient 20\n",
      "group      patient  obs  week  site  id    treat  age sex  twstrs  treatment\n",
      "112       20    1     0     2   8  Placebo   54   F      53          0\n",
      "113       20    2     2     2   8  Placebo   54   F      56          0\n",
      "114       20    3     4     2   8  Placebo   54   F      52          0\n",
      "115       20    4     8     2   8  Placebo   54   F      54          0\n",
      "116       20    5    12     2   8  Placebo   54   F      55          0\n",
      "117       20    6    16     2   8  Placebo   54   F      51          0\n",
      "patient 21\n",
      "group      patient  obs  week  site  id  treat  age sex  twstrs  treatment\n",
      "118       21    1     0     2   9  5000U   47   F      67          1\n",
      "119       21    2     2     2   9  5000U   47   F      64          1\n",
      "120       21    3     4     2   9  5000U   47   F      65          1\n",
      "121       21    4     8     2   9  5000U   47   F      64          1\n",
      "122       21    5    12     2   9  5000U   47   F      62          1\n",
      "123       21    6    16     2   9  5000U   47   F      64          1\n",
      "patient 22\n",
      "group      patient  obs  week  site  id    treat  age sex  twstrs  treatment\n",
      "124       22    1     0     2  10  Placebo   31   M      44          0\n",
      "125       22    2     2     2  10  Placebo   31   M      40          0\n",
      "126       22    3     4     2  10  Placebo   31   M      32          0\n",
      "127       22    4     8     2  10  Placebo   31   M      36          0\n",
      "128       22    5    12     2  10  Placebo   31   M      42          0\n",
      "129       22    6    16     2  10  Placebo   31   M      43          0\n",
      "patient 23\n",
      "group      patient  obs  week  site  id   treat  age sex  twstrs  treatment\n",
      "130       23    1     0     2  11  10000U   53   F      65          2\n",
      "131       23    2     2     2  11  10000U   53   F      58          2\n",
      "132       23    3     4     2  11  10000U   53   F      55          2\n",
      "133       23    5    12     2  11  10000U   53   F      56          2\n",
      "134       23    6    16     2  11  10000U   53   F      60          2\n",
      "patient 24\n",
      "group      patient  obs  week  site  id  treat  age sex  twstrs  treatment\n",
      "135       24    1     0     2  12  5000U   61   M      56          1\n",
      "136       24    2     2     2  12  5000U   61   M      54          1\n",
      "137       24    3     4     2  12  5000U   61   M      52          1\n",
      "138       24    4     8     2  12  5000U   61   M      48          1\n",
      "139       24    5    12     2  12  5000U   61   M      52          1\n",
      "140       24    6    16     2  12  5000U   61   M      53          1\n",
      "patient 25\n",
      "group      patient  obs  week  site  id    treat  age sex  twstrs  treatment\n",
      "141       25    1     0     2  13  Placebo   40   M      30          0\n",
      "142       25    2     2     2  13  Placebo   40   M      33          0\n",
      "143       25    3     4     2  13  Placebo   40   M      25          0\n",
      "144       25    4     8     2  13  Placebo   40   M      29          0\n",
      "145       25    5    12     2  13  Placebo   40   M      32          0\n",
      "146       25    6    16     2  13  Placebo   40   M      32          0\n",
      "patient 26\n",
      "group      patient  obs  week  site  id  treat  age sex  twstrs  treatment\n",
      "147       26    1     0     2  14  5000U   67   M      47          1\n",
      "148       26    3     4     2  14  5000U   67   M      54          1\n",
      "149       26    4     8     2  14  5000U   67   M      43          1\n",
      "150       26    5    12     2  14  5000U   67   M      46          1\n",
      "151       26    6    16     2  14  5000U   67   M      50          1\n",
      "patient 27\n",
      "group      patient  obs  week  site  id   treat  age sex  twstrs  treatment\n",
      "152       27    1     0     3   1  10000U   54   F      50          2\n",
      "153       27    2     2     3   1  10000U   54   F      43          2\n",
      "154       27    3     4     3   1  10000U   54   F      51          2\n",
      "155       27    4     8     3   1  10000U   54   F      46          2\n",
      "156       27    5    12     3   1  10000U   54   F      49          2\n",
      "157       27    6    16     3   1  10000U   54   F      53          2\n",
      "patient 28\n",
      "group      patient  obs  week  site  id    treat  age sex  twstrs  treatment\n",
      "158       28    1     0     3   2  Placebo   41   F      34          0\n",
      "159       28    2     2     3   2  Placebo   41   F      29          0\n",
      "160       28    3     4     3   2  Placebo   41   F      27          0\n",
      "161       28    4     8     3   2  Placebo   41   F      21          0\n",
      "162       28    5    12     3   2  Placebo   41   F      22          0\n",
      "163       28    6    16     3   2  Placebo   41   F      22          0\n",
      "patient 29\n",
      "group      patient  obs  week  site  id  treat  age sex  twstrs  treatment\n",
      "164       29    1     0     3   3  5000U   66   M      39          1\n",
      "165       29    2     2     3   3  5000U   66   M      41          1\n",
      "166       29    3     4     3   3  5000U   66   M      33          1\n",
      "167       29    4     8     3   3  5000U   66   M      39          1\n",
      "168       29    5    12     3   3  5000U   66   M      37          1\n",
      "169       29    6    16     3   3  5000U   66   M      37          1\n",
      "patient 30\n",
      "group      patient  obs  week  site  id    treat  age sex  twstrs  treatment\n",
      "170       30    1     0     3   4  Placebo   68   F      43          0\n",
      "171       30    2     2     3   4  Placebo   68   F      31          0\n",
      "172       30    3     4     3   4  Placebo   68   F      29          0\n",
      "173       30    4     8     3   4  Placebo   68   F      28          0\n",
      "174       30    5    12     3   4  Placebo   68   F      33          0\n",
      "175       30    6    16     3   4  Placebo   68   F      38          0\n",
      "patient 31\n",
      "group      patient  obs  week  site  id   treat  age sex  twstrs  treatment\n",
      "176       31    1     0     3   5  10000U   41   F      46          2\n",
      "177       31    2     2     3   5  10000U   41   F      26          2\n",
      "178       31    3     4     3   5  10000U   41   F      29          2\n",
      "179       31    4     8     3   5  10000U   41   F      33          2\n",
      "180       31    5    12     3   5  10000U   41   F      45          2\n",
      "181       31    6    16     3   5  10000U   41   F      56          2\n",
      "patient 32\n",
      "group      patient  obs  week  site  id  treat  age sex  twstrs  treatment\n",
      "182       32    1     0     3   6  5000U   77   M      52          1\n",
      "183       32    2     2     3   6  5000U   77   M      44          1\n",
      "184       32    3     4     3   6  5000U   77   M      47          1\n",
      "185       32    4     8     3   6  5000U   77   M      50          1\n",
      "186       32    5    12     3   6  5000U   77   M      50          1\n",
      "187       32    6    16     3   6  5000U   77   M      49          1\n",
      "patient 33\n",
      "group      patient  obs  week  site  id   treat  age sex  twstrs  treatment\n",
      "188       33    1     0     3   7  10000U   41   M      38          2\n",
      "189       33    2     2     3   7  10000U   41   M      19          2\n",
      "190       33    3     4     3   7  10000U   41   M      20          2\n",
      "191       33    4     8     3   7  10000U   41   M      27          2\n",
      "192       33    5    12     3   7  10000U   41   M      29          2\n",
      "193       33    6    16     3   7  10000U   41   M      32          2\n",
      "patient 34\n",
      "group      patient  obs  week  site  id    treat  age sex  twstrs  treatment\n",
      "194       34    1     0     3   8  Placebo   56   M      33          0\n",
      "195       34    2     2     3   8  Placebo   56   M      38          0\n",
      "196       34    3     4     3   8  Placebo   56   M      40          0\n",
      "197       34    4     8     3   8  Placebo   56   M      48          0\n",
      "198       34    5    12     3   8  Placebo   56   M      49          0\n",
      "199       34    6    16     3   8  Placebo   56   M      44          0\n",
      "patient 35\n",
      "group      patient  obs  week  site  id  treat  age sex  twstrs  treatment\n",
      "200       35    1     0     3   9  5000U   46   F      28          1\n",
      "201       35    2     2     3   9  5000U   46   F      16          1\n",
      "202       35    3     4     3   9  5000U   46   F      11          1\n",
      "203       35    4     8     3   9  5000U   46   F       7          1\n",
      "204       35    5    12     3   9  5000U   46   F      13          1\n",
      "205       35    6    16     3   9  5000U   46   F      21          1\n",
      "patient 36\n",
      "group      patient  obs  week  site  id   treat  age sex  twstrs  treatment\n",
      "206       36    1     0     3  10  10000U   46   F      34          2\n",
      "207       36    2     2     3  10  10000U   46   F      23          2\n",
      "208       36    3     4     3  10  10000U   46   F      16          2\n",
      "209       36    4     8     3  10  10000U   46   F      15          2\n",
      "210       36    5    12     3  10  10000U   46   F      17          2\n",
      "211       36    6    16     3  10  10000U   46   F      29          2\n",
      "patient 37\n",
      "group      patient  obs  week  site  id    treat  age sex  twstrs  treatment\n",
      "212       37    1     0     3  11  Placebo   47   F      39          0\n",
      "213       37    2     2     3  11  Placebo   47   F      37          0\n",
      "214       37    3     4     3  11  Placebo   47   F      39          0\n",
      "215       37    4     8     3  11  Placebo   47   F      39          0\n",
      "216       37    5    12     3  11  Placebo   47   F      45          0\n",
      "217       37    6    16     3  11  Placebo   47   F      43          0\n",
      "patient 38\n",
      "group      patient  obs  week  site  id  treat  age sex  twstrs  treatment\n",
      "218       38    1     0     3  12  5000U   35   M      29          1\n",
      "219       38    2     2     3  12  5000U   35   M      42          1\n",
      "220       38    3     4     3  12  5000U   35   M      35          1\n",
      "221       38    4     8     3  12  5000U   35   M      24          1\n",
      "222       38    5    12     3  12  5000U   35   M      29          1\n",
      "223       38    6    16     3  12  5000U   35   M      42          1\n",
      "patient 39\n",
      "group      patient  obs  week  site  id    treat  age sex  twstrs  treatment\n",
      "224       39    1     0     4   1  Placebo   58   M      52          0\n",
      "225       39    2     2     4   1  Placebo   58   M      55          0\n",
      "226       39    3     4     4   1  Placebo   58   M      51          0\n",
      "227       39    4     8     4   1  Placebo   58   M      52          0\n",
      "228       39    5    12     4   1  Placebo   58   M      54          0\n",
      "229       39    6    16     4   1  Placebo   58   M      57          0\n",
      "patient 40\n",
      "group      patient  obs  week  site  id  treat  age sex  twstrs  treatment\n",
      "230       40    1     0     4   2  5000U   62   F      52          1\n",
      "231       40    2     2     4   2  5000U   62   F      30          1\n",
      "232       40    3     4     4   2  5000U   62   F      43          1\n",
      "233       40    4     8     4   2  5000U   62   F      45          1\n",
      "234       40    5    12     4   2  5000U   62   F      47          1\n",
      "235       40    6    16     4   2  5000U   62   F      46          1\n",
      "patient 41\n",
      "group      patient  obs  week  site  id   treat  age sex  twstrs  treatment\n",
      "236       41    1     0     4   3  10000U   73   F      54          2\n",
      "237       41    2     2     4   3  10000U   73   F      52          2\n",
      "238       41    3     4     4   3  10000U   73   F      52          2\n",
      "239       41    4     8     4   3  10000U   73   F      54          2\n",
      "240       41    5    12     4   3  10000U   73   F      51          2\n",
      "241       41    6    16     4   3  10000U   73   F      57          2\n",
      "patient 42\n",
      "group      patient  obs  week  site  id   treat  age sex  twstrs  treatment\n",
      "242       42    1     0     4   4  10000U   52   F      52          2\n",
      "243       42    2     2     4   4  10000U   52   F      44          2\n",
      "244       42    3     4     4   4  10000U   52   F      33          2\n",
      "245       42    4     8     4   4  10000U   52   F      54          2\n",
      "246       42    5    12     4   4  10000U   52   F      46          2\n",
      "247       42    6    16     4   4  10000U   52   F      47          2\n",
      "patient 43\n",
      "group      patient  obs  week  site  id    treat  age sex  twstrs  treatment\n",
      "248       43    1     0     4   5  Placebo   53   F      47          0\n",
      "249       43    2     2     4   5  Placebo   53   F      45          0\n",
      "250       43    3     4     4   5  Placebo   53   F      41          0\n",
      "251       43    4     8     4   5  Placebo   53   F      45          0\n",
      "252       43    5    12     4   5  Placebo   53   F      43          0\n",
      "253       43    6    16     4   5  Placebo   53   F      41          0\n",
      "patient 44\n",
      "group      patient  obs  week  site  id  treat  age sex  twstrs  treatment\n",
      "254       44    1     0     4   6  5000U   69   M      44          1\n",
      "255       44    2     2     4   6  5000U   69   M      34          1\n",
      "256       44    3     4     4   6  5000U   69   M      29          1\n",
      "257       44    4     8     4   6  5000U   69   M      28          1\n",
      "258       44    5    12     4   6  5000U   69   M      35          1\n",
      "259       44    6    16     4   6  5000U   69   M      41          1\n",
      "patient 45\n",
      "group      patient  obs  week  site  id    treat  age sex  twstrs  treatment\n",
      "260       45    1     0     4   7  Placebo   55   M      42          0\n",
      "261       45    2     2     4   7  Placebo   55   M      39          0\n",
      "262       45    3     4     4   7  Placebo   55   M      38          0\n",
      "263       45    4     8     4   7  Placebo   55   M      47          0\n",
      "264       45    5    12     4   7  Placebo   55   M      39          0\n",
      "265       45    6    16     4   7  Placebo   55   M      39          0\n",
      "patient 46\n",
      "group      patient  obs  week  site  id   treat  age sex  twstrs  treatment\n",
      "266       46    1     0     4   8  10000U   52   F      42          2\n",
      "267       46    2     2     4   8  10000U   52   F      14          2\n",
      "268       46    3     4     4   8  10000U   52   F       9          2\n",
      "269       46    4     8     4   8  10000U   52   F       9          2\n",
      "270       46    5    12     4   8  10000U   52   F      16          2\n",
      "271       46    6    16     4   8  10000U   52   F      33          2\n",
      "patient 47\n",
      "group      patient  obs  week  site  id   treat  age sex  twstrs  treatment\n",
      "272       47    1     0     5   1  10000U   51   F      44          2\n",
      "273       47    2     2     5   1  10000U   51   F      34          2\n",
      "274       47    3     4     5   1  10000U   51   F      32          2\n",
      "275       47    4     8     5   1  10000U   51   F      35          2\n",
      "276       47    5    12     5   1  10000U   51   F      54          2\n",
      "277       47    6    16     5   1  10000U   51   F      53          2\n",
      "patient 48\n",
      "group      patient  obs  week  site  id    treat  age sex  twstrs  treatment\n",
      "278       48    1     0     5   2  Placebo   56   F      60          0\n",
      "279       48    2     2     5   2  Placebo   56   F      57          0\n",
      "280       48    3     4     5   2  Placebo   56   F      53          0\n",
      "281       48    4     8     5   2  Placebo   56   F      52          0\n",
      "282       48    5    12     5   2  Placebo   56   F      53          0\n",
      "283       48    6    16     5   2  Placebo   56   F      58          0\n",
      "patient 49\n",
      "group      patient  obs  week  site  id  treat  age sex  twstrs  treatment\n",
      "284       49    1     0     5   3  5000U   65   F      60          1\n",
      "285       49    2     2     5   3  5000U   65   F      53          1\n",
      "286       49    3     4     5   3  5000U   65   F      55          1\n",
      "287       49    4     8     5   3  5000U   65   F      62          1\n",
      "288       49    5    12     5   3  5000U   65   F      67          1\n",
      "patient 50\n",
      "group      patient  obs  week  site  id   treat  age sex  twstrs  treatment\n",
      "289       50    1     0     5   4  10000U   35   F      50          2\n",
      "290       50    2     2     5   4  10000U   35   F      50          2\n",
      "291       50    4     8     5   4  10000U   35   F      46          2\n",
      "292       50    5    12     5   4  10000U   35   F      50          2\n",
      "293       50    6    16     5   4  10000U   35   F      57          2\n",
      "patient 51\n",
      "group      patient  obs  week  site  id  treat  age sex  twstrs  treatment\n",
      "294       51    1     0     5   5  5000U   43   M      38          1\n",
      "295       51    2     2     5   5  5000U   43   M      27          1\n",
      "296       51    3     4     5   5  5000U   43   M      16          1\n",
      "297       51    4     8     5   5  5000U   43   M      19          1\n",
      "298       51    5    12     5   5  5000U   43   M      23          1\n",
      "299       51    6    16     5   5  5000U   43   M      26          1\n",
      "patient 52\n",
      "group      patient  obs  week  site  id    treat  age sex  twstrs  treatment\n",
      "300       52    1     0     5   6  Placebo   61   M      44          0\n",
      "301       52    3     4     5   6  Placebo   61   M      46          0\n",
      "302       52    4     8     5   6  Placebo   61   M      26          0\n",
      "303       52    5    12     5   6  Placebo   61   M      30          0\n",
      "304       52    6    16     5   6  Placebo   61   M      34          0\n",
      "patient 53\n",
      "group      patient  obs  week  site  id    treat  age sex  twstrs  treatment\n",
      "305       53    1     0     6   1  Placebo   43   M      54          0\n",
      "306       53    2     2     6   1  Placebo   43   M      53          0\n",
      "307       53    3     4     6   1  Placebo   43   M      51          0\n",
      "308       53    4     8     6   1  Placebo   43   M      56          0\n",
      "309       53    5    12     6   1  Placebo   43   M      39          0\n",
      "310       53    6    16     6   1  Placebo   43   M       9          0\n",
      "patient 54\n",
      "group      patient  obs  week  site  id   treat  age sex  twstrs  treatment\n",
      "311       54    1     0     6   2  10000U   64   F      54          2\n",
      "312       54    2     2     6   2  10000U   64   F      32          2\n",
      "313       54    3     4     6   2  10000U   64   F      40          2\n",
      "314       54    4     8     6   2  10000U   64   F      52          2\n",
      "315       54    5    12     6   2  10000U   64   F      42          2\n",
      "316       54    6    16     6   2  10000U   64   F      47          2\n",
      "patient 55\n",
      "group      patient  obs  week  site  id  treat  age sex  twstrs  treatment\n",
      "317       55    1     0     6   3  5000U   57   M      56          1\n",
      "318       55    2     2     6   3  5000U   57   M      55          1\n",
      "319       55    3     4     6   3  5000U   57   M      44          1\n",
      "320       55    4     8     6   3  5000U   57   M      50          1\n",
      "321       55    5    12     6   3  5000U   57   M      53          1\n",
      "322       55    6    16     6   3  5000U   57   M      52          1\n",
      "patient 56\n",
      "group      patient  obs  week  site  id  treat  age sex  twstrs  treatment\n",
      "323       56    1     0     6   4  5000U   60   F      51          1\n",
      "324       56    2     2     6   4  5000U   60   F      50          1\n",
      "325       56    3     4     6   4  5000U   60   F      50          1\n",
      "326       56    4     8     6   4  5000U   60   F      56          1\n",
      "327       56    5    12     6   4  5000U   60   F      59          1\n",
      "328       56    6    16     6   4  5000U   60   F      53          1\n",
      "patient 57\n",
      "group      patient  obs  week  site  id   treat  age sex  twstrs  treatment\n",
      "329       57    1     0     6   5  10000U   44   F      53          2\n",
      "330       57    2     2     6   5  10000U   44   F      56          2\n",
      "331       57    3     4     6   5  10000U   44   F      47          2\n",
      "332       57    4     8     6   5  10000U   44   F      53          2\n",
      "333       57    5    12     6   5  10000U   44   F      51          2\n",
      "334       57    6    16     6   5  10000U   44   F      51          2\n",
      "patient 58\n",
      "group      patient  obs  week  site  id    treat  age sex  twstrs  treatment\n",
      "335       58    1     0     6   6  Placebo   41   F      36          0\n",
      "336       58    2     2     6   6  Placebo   41   F      29          0\n",
      "337       58    3     4     6   6  Placebo   41   F      24          0\n",
      "338       58    4     8     6   6  Placebo   41   F      32          0\n",
      "339       58    5    12     6   6  Placebo   41   F      45          0\n",
      "340       58    6    16     6   6  Placebo   41   F      36          0\n",
      "patient 59\n",
      "group      patient  obs  week  site  id  treat  age sex  twstrs  treatment\n",
      "341       59    1     0     6   7  5000U   51   F      59          1\n",
      "342       59    2     2     6   7  5000U   51   F      53          1\n",
      "343       59    3     4     6   7  5000U   51   F      45          1\n",
      "344       59    4     8     6   7  5000U   51   F      44          1\n",
      "345       59    5    12     6   7  5000U   51   F      50          1\n",
      "346       59    6    16     6   7  5000U   51   F      48          1\n",
      "patient 60\n",
      "group      patient  obs  week  site  id    treat  age sex  twstrs  treatment\n",
      "347       60    1     0     6   8  Placebo   57   F      49          0\n",
      "348       60    2     2     6   8  Placebo   57   F      50          0\n",
      "349       60    3     4     6   8  Placebo   57   F      48          0\n",
      "350       60    4     8     6   8  Placebo   57   F      56          0\n",
      "351       60    5    12     6   8  Placebo   57   F      49          0\n",
      "352       60    6    16     6   8  Placebo   57   F      57          0\n",
      "patient 61\n",
      "group      patient  obs  week  site  id   treat  age sex  twstrs  treatment\n",
      "353       61    1     0     6   9  10000U   42   F      50          2\n",
      "354       61    2     2     6   9  10000U   42   F      38          2\n",
      "355       61    3     4     6   9  10000U   42   F      42          2\n",
      "356       61    4     8     6   9  10000U   42   F      43          2\n",
      "357       61    5    12     6   9  10000U   42   F      42          2\n",
      "358       61    6    16     6   9  10000U   42   F      46          2\n",
      "patient 62\n",
      "group      patient  obs  week  site  id    treat  age sex  twstrs  treatment\n",
      "359       62    1     0     6  10  Placebo   48   F      46          0\n",
      "360       62    2     2     6  10  Placebo   48   F      48          0\n",
      "361       62    3     4     6  10  Placebo   48   F      46          0\n",
      "362       62    4     8     6  10  Placebo   48   F      57          0\n",
      "363       62    5    12     6  10  Placebo   48   F      57          0\n",
      "364       62    6    16     6  10  Placebo   48   F      49          0\n",
      "patient 63\n",
      "group      patient  obs  week  site  id   treat  age sex  twstrs  treatment\n",
      "365       63    1     0     6  11  10000U   57   M      55          2\n",
      "366       63    2     2     6  11  10000U   57   M      34          2\n",
      "367       63    3     4     6  11  10000U   57   M      26          2\n",
      "368       63    4     8     6  11  10000U   57   M      40          2\n",
      "369       63    5    12     6  11  10000U   57   M      49          2\n",
      "370       63    6    16     6  11  10000U   57   M      47          2\n",
      "patient 64\n",
      "group      patient  obs  week  site  id  treat  age sex  twstrs  treatment\n",
      "371       64    1     0     6  12  5000U   39   M      46          1\n",
      "372       64    2     2     6  12  5000U   39   M      44          1\n",
      "373       64    3     4     6  12  5000U   39   M      47          1\n",
      "374       64    4     8     6  12  5000U   39   M      50          1\n",
      "375       64    5    12     6  12  5000U   39   M      46          1\n",
      "376       64    6    16     6  12  5000U   39   M      51          1\n",
      "patient 65\n",
      "group      patient  obs  week  site  id   treat  age sex  twstrs  treatment\n",
      "377       65    1     0     6  13  10000U   67   M      34          2\n",
      "378       65    2     2     6  13  10000U   67   M      31          2\n",
      "379       65    3     4     6  13  10000U   67   M      25          2\n",
      "patient 66\n",
      "group      patient  obs  week  site  id  treat  age sex  twstrs  treatment\n",
      "380       66    1     0     6  14  5000U   39   F      57          1\n",
      "381       66    2     2     6  14  5000U   39   F      48          1\n",
      "382       66    3     4     6  14  5000U   39   F      50          1\n",
      "383       66    4     8     6  14  5000U   39   F      50          1\n",
      "384       66    5    12     6  14  5000U   39   F      50          1\n",
      "385       66    6    16     6  14  5000U   39   F      49          1\n",
      "patient 67\n",
      "group      patient  obs  week  site  id    treat  age sex  twstrs  treatment\n",
      "386       67    1     0     6  15  Placebo   69   M      41          0\n",
      "387       67    2     2     6  15  Placebo   69   M      40          0\n",
      "388       67    3     4     6  15  Placebo   69   M      42          0\n",
      "389       67    4     8     6  15  Placebo   69   M      38          0\n",
      "390       67    5    12     6  15  Placebo   69   M      50          0\n",
      "391       67    6    16     6  15  Placebo   69   M      56          0\n",
      "patient 68\n",
      "group      patient  obs  week  site  id  treat  age sex  twstrs  treatment\n",
      "392       68    1     0     7   1  5000U   54   F      49          1\n",
      "393       68    2     2     7   1  5000U   54   F      25          1\n",
      "394       68    3     4     7   1  5000U   54   F      30          1\n",
      "395       68    4     8     7   1  5000U   54   F      41          1\n",
      "396       68    5    12     7   1  5000U   54   F      41          1\n",
      "397       68    6    16     7   1  5000U   54   F      31          1\n",
      "patient 69\n",
      "group      patient  obs  week  site  id    treat  age sex  twstrs  treatment\n",
      "398       69    1     0     7   2  Placebo   67   F      42          0\n",
      "399       69    2     2     7   2  Placebo   67   F      30          0\n",
      "400       69    3     4     7   2  Placebo   67   F      40          0\n",
      "401       69    4     8     7   2  Placebo   67   F      43          0\n",
      "402       69    5    12     7   2  Placebo   67   F      36          0\n",
      "403       69    6    16     7   2  Placebo   67   F      45          0\n",
      "patient 70\n",
      "group      patient  obs  week  site  id   treat  age sex  twstrs  treatment\n",
      "404       70    1     0     7   3  10000U   58   F      31          2\n",
      "405       70    2     2     7   3  10000U   58   F      18          2\n",
      "406       70    3     4     7   3  10000U   58   F      23          2\n",
      "407       70    4     8     7   3  10000U   58   F      26          2\n",
      "408       70    5    12     7   3  10000U   58   F      33          2\n",
      "409       70    6    16     7   3  10000U   58   F      41          2\n",
      "patient 71\n",
      "group      patient  obs  week  site  id    treat  age sex  twstrs  treatment\n",
      "410       71    1     0     7   4  Placebo   72   F      50          0\n",
      "411       71    2     2     7   4  Placebo   72   F      27          0\n",
      "412       71    3     4     7   4  Placebo   72   F      43          0\n",
      "413       71    4     8     7   4  Placebo   72   F      32          0\n",
      "414       71    5    12     7   4  Placebo   72   F      40          0\n",
      "415       71    6    16     7   4  Placebo   72   F      47          0\n",
      "patient 72\n",
      "group      patient  obs  week  site  id   treat  age sex  twstrs  treatment\n",
      "416       72    1     0     7   5  10000U   65   F      35          2\n",
      "417       72    2     2     7   5  10000U   65   F      24          2\n",
      "418       72    3     4     7   5  10000U   65   F      34          2\n",
      "419       72    4     8     7   5  10000U   65   F      28          2\n",
      "420       72    5    12     7   5  10000U   65   F      34          2\n",
      "421       72    6    16     7   5  10000U   65   F      28          2\n",
      "patient 73\n",
      "group      patient  obs  week  site  id  treat  age sex  twstrs  treatment\n",
      "422       73    1     0     7   6  5000U   68   F      38          1\n",
      "423       73    2     2     7   6  5000U   68   F      25          1\n",
      "424       73    3     4     7   6  5000U   68   F      21          1\n",
      "425       73    4     8     7   6  5000U   68   F      33          1\n",
      "426       73    5    12     7   6  5000U   68   F      42          1\n",
      "427       73    6    16     7   6  5000U   68   F      53          1\n",
      "patient 74\n",
      "group      patient  obs  week  site  id   treat  age sex  twstrs  treatment\n",
      "428       74    1     0     7   7  10000U   75   F      53          2\n",
      "429       74    2     2     7   7  10000U   75   F      40          2\n",
      "430       74    3     4     7   7  10000U   75   F      38          2\n",
      "431       74    4     8     7   7  10000U   75   F      44          2\n",
      "432       74    5    12     7   7  10000U   75   F      47          2\n",
      "433       74    6    16     7   7  10000U   75   F      53          2\n",
      "patient 75\n",
      "group      patient  obs  week  site  id    treat  age sex  twstrs  treatment\n",
      "434       75    1     0     7   8  Placebo   26   F      42          0\n",
      "435       75    2     2     7   8  Placebo   26   F      48          0\n",
      "436       75    3     4     7   8  Placebo   26   F      26          0\n",
      "437       75    4     8     7   8  Placebo   26   F      37          0\n",
      "438       75    5    12     7   8  Placebo   26   F      37          0\n",
      "439       75    6    16     7   8  Placebo   26   F      43          0\n",
      "patient 76\n",
      "group      patient  obs  week  site  id  treat  age sex  twstrs  treatment\n",
      "440       76    1     0     7   9  5000U   36   F      53          1\n",
      "441       76    2     2     7   9  5000U   36   F      45          1\n",
      "442       76    3     4     7   9  5000U   36   F      52          1\n",
      "443       76    4     8     7   9  5000U   36   F      51          1\n",
      "444       76    5    12     7   9  5000U   36   F      52          1\n",
      "445       76    6    16     7   9  5000U   36   F      53          1\n",
      "patient 77\n",
      "group      patient  obs  week  site  id   treat  age sex  twstrs  treatment\n",
      "446       77    1     0     7  10  10000U   72   M      46          2\n",
      "447       77    2     2     7  10  10000U   72   M      47          2\n",
      "448       77    3     4     7  10  10000U   72   M      45          2\n",
      "449       77    4     8     7  10  10000U   72   M      45          2\n",
      "450       77    5    12     7  10  10000U   72   M      50          2\n",
      "451       77    6    16     7  10  10000U   72   M      52          2\n",
      "patient 78\n",
      "group      patient  obs  week  site  id    treat  age sex  twstrs  treatment\n",
      "452       78    1     0     7  11  Placebo   54   F      50          0\n",
      "453       78    2     2     7  11  Placebo   54   F      42          0\n",
      "454       78    3     4     7  11  Placebo   54   F      52          0\n",
      "455       78    4     8     7  11  Placebo   54   F      60          0\n",
      "456       78    5    12     7  11  Placebo   54   F      54          0\n",
      "457       78    6    16     7  11  Placebo   54   F      59          0\n",
      "patient 79\n",
      "group      patient  obs  week  site  id  treat  age sex  twstrs  treatment\n",
      "458       79    1     0     7  12  5000U   64   F      43          1\n",
      "459       79    2     2     7  12  5000U   64   F      24          1\n",
      "460       79    3     4     7  12  5000U   64   F      17          1\n",
      "461       79    4     8     7  12  5000U   64   F      37          1\n",
      "462       79    5    12     7  12  5000U   64   F      36          1\n",
      "463       79    6    16     7  12  5000U   64   F      38          1\n",
      "patient 80\n",
      "group      patient  obs  week  site  id    treat  age sex  twstrs  treatment\n",
      "464       80    1     0     8   1  Placebo   39   F      46          0\n",
      "465       80    2     2     8   1  Placebo   39   F      39          0\n",
      "466       80    3     4     8   1  Placebo   39   F      25          0\n",
      "467       80    4     8     8   1  Placebo   39   F      15          0\n",
      "468       80    5    12     8   1  Placebo   39   F      21          0\n",
      "469       80    6    16     8   1  Placebo   39   F      25          0\n",
      "patient 81\n",
      "group      patient  obs  week  site  id   treat  age sex  twstrs  treatment\n",
      "470       81    1     0     8   2  10000U   54   M      41          2\n",
      "471       81    2     2     8   2  10000U   54   M      30          2\n",
      "472       81    3     4     8   2  10000U   54   M      44          2\n",
      "473       81    4     8     8   2  10000U   54   M      46          2\n",
      "474       81    5    12     8   2  10000U   54   M      46          2\n",
      "475       81    6    16     8   2  10000U   54   M      44          2\n",
      "patient 82\n",
      "group      patient  obs  week  site  id  treat  age sex  twstrs  treatment\n",
      "476       82    1     0     8   3  5000U   48   M      33          1\n",
      "477       82    2     2     8   3  5000U   48   M      27          1\n",
      "478       82    3     4     8   3  5000U   48   M      25          1\n",
      "479       82    4     8     8   3  5000U   48   M      30          1\n",
      "480       82    5    12     8   3  5000U   48   M      28          1\n",
      "481       82    6    16     8   3  5000U   48   M      30          1\n",
      "patient 83\n",
      "group      patient  obs  week  site  id  treat  age sex  twstrs  treatment\n",
      "482       83    1     0     8   4  5000U   83   F      36          1\n",
      "483       83    2     2     8   4  5000U   83   F      15          1\n",
      "484       83    3     4     8   4  5000U   83   F      16          1\n",
      "485       83    4     8     8   4  5000U   83   F      17          1\n",
      "486       83    5    12     8   4  5000U   83   F      22          1\n",
      "487       83    6    16     8   4  5000U   83   F      41          1\n",
      "patient 84\n",
      "group      patient  obs  week  site  id   treat  age sex  twstrs  treatment\n",
      "488       84    1     0     8   5  10000U   74   M      33          2\n",
      "489       84    2     2     8   5  10000U   74   M      32          2\n",
      "490       84    3     4     8   5  10000U   74   M      31          2\n",
      "491       84    4     8     8   5  10000U   74   M      27          2\n",
      "492       84    5    12     8   5  10000U   74   M      49          2\n",
      "493       84    6    16     8   5  10000U   74   M      60          2\n",
      "patient 85\n",
      "group      patient  obs  week  site  id    treat  age sex  twstrs  treatment\n",
      "494       85    1     0     8   6  Placebo   41   M      37          0\n",
      "patient 86\n",
      "group      patient  obs  week  site  id   treat  age sex  twstrs  treatment\n",
      "495       86    1     0     8   7  10000U   65   F      24          2\n",
      "496       86    2     2     8   7  10000U   65   F      29          2\n",
      "497       86    3     4     8   7  10000U   65   F      18          2\n",
      "498       86    4     8     8   7  10000U   65   F      20          2\n",
      "499       86    5    12     8   7  10000U   65   F      25          2\n",
      "500       86    6    16     8   7  10000U   65   F      41          2\n",
      "patient 87\n",
      "group      patient  obs  week  site  id  treat  age sex  twstrs  treatment\n",
      "501       87    1     0     8   8  5000U   79   M      42          1\n",
      "502       87    2     2     8   8  5000U   79   M      23          1\n",
      "503       87    3     4     8   8  5000U   79   M      30          1\n",
      "504       87    4     8     8   8  5000U   79   M      36          1\n",
      "505       87    5    12     8   8  5000U   79   M      41          1\n",
      "506       87    6    16     8   8  5000U   79   M      43          1\n",
      "patient 88\n",
      "group      patient  obs  week  site  id    treat  age sex  twstrs  treatment\n",
      "507       88    1     0     8   9  Placebo   63   M      30          0\n",
      "508       88    2     2     8   9  Placebo   63   M      22          0\n",
      "509       88    3     4     8   9  Placebo   63   M      21          0\n",
      "510       88    4     8     8   9  Placebo   63   M      25          0\n",
      "511       88    5    12     8   9  Placebo   63   M      26          0\n",
      "512       88    6    16     8   9  Placebo   63   M      33          0\n",
      "patient 89\n",
      "group      patient  obs  week  site  id    treat  age sex  twstrs  treatment\n",
      "513       89    1     0     8  10  Placebo   63   F      42          0\n",
      "514       89    2     2     8  10  Placebo   63   F      46          0\n",
      "515       89    3     4     8  10  Placebo   63   F      41          0\n",
      "516       89    4     8     8  10  Placebo   63   F      43          0\n",
      "517       89    5    12     8  10  Placebo   63   F      49          0\n",
      "518       89    6    16     8  10  Placebo   63   F      54          0\n",
      "patient 90\n",
      "group      patient  obs  week  site  id   treat  age sex  twstrs  treatment\n",
      "519       90    1     0     8  11  10000U   34   F      49          2\n",
      "520       90    2     2     8  11  10000U   34   F      25          2\n",
      "521       90    3     4     8  11  10000U   34   F      30          2\n",
      "522       90    4     8     8  11  10000U   34   F      49          2\n",
      "523       90    5    12     8  11  10000U   34   F      55          2\n",
      "524       90    6    16     8  11  10000U   34   F      58          2\n",
      "patient 91\n",
      "group      patient  obs  week  site  id  treat  age sex  twstrs  treatment\n",
      "525       91    1     0     8  12  5000U   42   M      58          1\n",
      "526       91    2     2     8  12  5000U   42   M      46          1\n",
      "527       91    3     4     8  12  5000U   42   M      46          1\n",
      "528       91    4     8     8  12  5000U   42   M      50          1\n",
      "529       91    5    12     8  12  5000U   42   M      56          1\n",
      "530       91    6    16     8  12  5000U   42   M      60          1\n",
      "patient 92\n",
      "group      patient  obs  week  site  id    treat  age sex  twstrs  treatment\n",
      "531       92    1     0     8  13  Placebo   57   M      26          0\n",
      "532       92    2     2     8  13  Placebo   57   M      26          0\n",
      "533       92    3     4     8  13  Placebo   57   M      27          0\n",
      "534       92    4     8     8  13  Placebo   57   M      22          0\n",
      "535       92    5    12     8  13  Placebo   57   M      38          0\n",
      "536       92    6    16     8  13  Placebo   57   M      35          0\n",
      "patient 93\n",
      "group      patient  obs  week  site  id  treat  age sex  twstrs  treatment\n",
      "537       93    1     0     8  14  5000U   68   M      37          1\n",
      "538       93    3     4     8  14  5000U   68   M      23          1\n",
      "539       93    4     8     8  14  5000U   68   M      18          1\n",
      "540       93    5    12     8  14  5000U   68   M      34          1\n",
      "541       93    6    16     8  14  5000U   68   M      36          1\n",
      "patient 94\n",
      "group      patient  obs  week  site  id   treat  age sex  twstrs  treatment\n",
      "542       94    1     0     8  15  10000U   51   M      40          2\n",
      "543       94    2     2     8  15  10000U   51   M      24          2\n",
      "544       94    3     4     8  15  10000U   51   M      25          2\n",
      "545       94    4     8     8  15  10000U   51   M      37          2\n",
      "546       94    6    16     8  15  10000U   51   M      38          2\n",
      "patient 95\n",
      "group      patient  obs  week  site  id  treat  age sex  twstrs  treatment\n",
      "547       95    1     0     8  16  5000U   51   F      33          1\n",
      "548       95    2     2     8  16  5000U   51   F      10          1\n",
      "549       95    3     4     8  16  5000U   51   F      13          1\n",
      "550       95    4     8     8  16  5000U   51   F      16          1\n",
      "551       95    5    12     8  16  5000U   51   F      32          1\n",
      "552       95    6    16     8  16  5000U   51   F      16          1\n",
      "patient 96\n",
      "group      patient  obs  week  site  id   treat  age sex  twstrs  treatment\n",
      "553       96    1     0     8  17  10000U   61   F      41          2\n",
      "554       96    2     2     8  17  10000U   61   F      50          2\n",
      "555       96    3     4     8  17  10000U   61   F      22          2\n",
      "556       96    4     8     8  17  10000U   61   F      28          2\n",
      "557       96    5    12     8  17  10000U   61   F      34          2\n",
      "558       96    6    16     8  17  10000U   61   F      36          2\n",
      "patient 97\n",
      "group      patient  obs  week  site  id    treat  age sex  twstrs  treatment\n",
      "559       97    1     0     8  18  Placebo   42   M      46          0\n",
      "560       97    3     4     8  18  Placebo   42   M      41          0\n",
      "561       97    4     8     8  18  Placebo   42   M      41          0\n",
      "562       97    5    12     8  18  Placebo   42   M      58          0\n",
      "563       97    6    16     8  18  Placebo   42   M      53          0\n",
      "patient 98\n",
      "group      patient  obs  week  site  id   treat  age sex  twstrs  treatment\n",
      "564       98    1     0     8  19  10000U   73   F      40          2\n",
      "565       98    2     2     8  19  10000U   73   F      28          2\n",
      "566       98    3     4     8  19  10000U   73   F      29          2\n",
      "567       98    4     8     8  19  10000U   73   F      30          2\n",
      "568       98    5    12     8  19  10000U   73   F      37          2\n",
      "569       98    6    16     8  19  10000U   73   F      44          2\n",
      "patient 99\n",
      "group      patient  obs  week  site  id   treat  age sex  twstrs  treatment\n",
      "570       99    1     0     9   1  10000U   57   M      40          2\n",
      "571       99    2     2     9   1  10000U   57   M      16          2\n",
      "572       99    3     4     9   1  10000U   57   M      18          2\n",
      "573       99    4     8     9   1  10000U   57   M      25          2\n",
      "574       99    5    12     9   1  10000U   57   M      33          2\n",
      "575       99    6    16     9   1  10000U   57   M      48          2\n",
      "patient 100\n",
      "group      patient  obs  week  site  id    treat  age sex  twstrs  treatment\n",
      "576      100    1     0     9   2  Placebo   59   M      61          0\n",
      "577      100    2     2     9   2  Placebo   59   M      52          0\n",
      "578      100    3     4     9   2  Placebo   59   M      61          0\n",
      "579      100    4     8     9   2  Placebo   59   M      68          0\n",
      "580      100    5    12     9   2  Placebo   59   M      59          0\n",
      "581      100    6    16     9   2  Placebo   59   M      71          0\n",
      "patient 101\n",
      "group      patient  obs  week  site  id  treat  age sex  twstrs  treatment\n",
      "582      101    1     0     9   3  5000U   57   M      35          1\n",
      "583      101    2     2     9   3  5000U   57   M      21          1\n",
      "584      101    3     4     9   3  5000U   57   M      29          1\n",
      "585      101    4     8     9   3  5000U   57   M      30          1\n",
      "586      101    5    12     9   3  5000U   57   M      35          1\n",
      "587      101    6    16     9   3  5000U   57   M      48          1\n",
      "patient 102\n",
      "group      patient  obs  week  site  id    treat  age sex  twstrs  treatment\n",
      "588      102    1     0     9   4  Placebo   68   F      58          0\n",
      "589      102    2     2     9   4  Placebo   68   F      38          0\n",
      "590      102    3     4     9   4  Placebo   68   F      50          0\n",
      "591      102    4     8     9   4  Placebo   68   F      53          0\n",
      "592      102    5    12     9   4  Placebo   68   F      47          0\n",
      "593      102    6    16     9   4  Placebo   68   F      59          0\n",
      "patient 103\n",
      "group      patient  obs  week  site  id  treat  age sex  twstrs  treatment\n",
      "594      103    1     0     9   5  5000U   55   F      49          1\n",
      "595      103    2     2     9   5  5000U   55   F      45          1\n",
      "596      103    3     4     9   5  5000U   55   F      36          1\n",
      "597      103    5    12     9   5  5000U   55   F      40          1\n",
      "598      103    6    16     9   5  5000U   55   F      52          1\n",
      "patient 104\n",
      "group      patient  obs  week  site  id   treat  age sex  twstrs  treatment\n",
      "599      104    1     0     9   6  10000U   46   F      52          2\n",
      "600      104    2     2     9   6  10000U   46   F      46          2\n",
      "601      104    3     4     9   6  10000U   46   F      36          2\n",
      "602      104    5    12     9   6  10000U   46   F      45          2\n",
      "603      104    6    16     9   6  10000U   46   F      54          2\n",
      "patient 105\n",
      "group      patient  obs  week  site  id    treat  age sex  twstrs  treatment\n",
      "604      105    1     0     9   7  Placebo   79   F      45          0\n",
      "605      105    2     2     9   7  Placebo   79   F      46          0\n",
      "606      105    3     4     9   7  Placebo   79   F      33          0\n",
      "607      105    4     8     9   7  Placebo   79   F      44          0\n",
      "608      105    5    12     9   7  Placebo   79   F      46          0\n",
      "609      105    6    16     9   7  Placebo   79   F      48          0\n",
      "patient 106\n",
      "group      patient  obs  week  site  id  treat  age sex  twstrs  treatment\n",
      "610      106    1     0     9   8  5000U   43   M      67          1\n",
      "611      106    2     2     9   8  5000U   43   M      63          1\n",
      "612      106    3     4     9   8  5000U   43   M      71          1\n",
      "613      106    4     8     9   8  5000U   43   M      66          1\n",
      "614      106    5    12     9   8  5000U   43   M      68          1\n",
      "615      106    6    16     9   8  5000U   43   M      71          1\n",
      "patient 107\n",
      "group      patient  obs  week  site  id   treat  age sex  twstrs  treatment\n",
      "616      107    1     0     9   9  10000U   50   M      57          2\n",
      "617      107    3     4     9   9  10000U   50   M      36          2\n",
      "618      107    4     8     9   9  10000U   50   M      23          2\n",
      "619      107    6    16     9   9  10000U   50   M      52          2\n",
      "patient 108\n",
      "group      patient  obs  week  site  id   treat  age sex  twstrs  treatment\n",
      "620      108    1     0     9  10  10000U   39   F      63          2\n",
      "621      108    2     2     9  10  10000U   39   F      51          2\n",
      "622      108    3     4     9  10  10000U   39   F      46          2\n",
      "623      108    4     8     9  10  10000U   39   F      50          2\n",
      "624      108    5    12     9  10  10000U   39   F      50          2\n",
      "625      108    6    16     9  10  10000U   39   F      54          2\n",
      "patient 109\n",
      "group      patient  obs  week  site  id  treat  age sex  twstrs  treatment\n",
      "626      109    1     0     9  11  5000U   57   M      53          1\n",
      "627      109    2     2     9  11  5000U   57   M      38          1\n",
      "628      109    4     8     9  11  5000U   57   M      33          1\n",
      "629      109    5    12     9  11  5000U   57   M      36          1\n",
      "630      109    6    16     9  11  5000U   57   M      51          1\n"
     ]
    }
   ],
   "source": [
    "for patient, group in cdystonia_grouped:\n",
    "    print('patient', patient)\n",
    "    print('group', group)"
   ]
  },
  {
   "cell_type": "markdown",
   "metadata": {},
   "source": [
    "A common data analysis procedure is the **split-apply-combine** operation, which groups subsets of data together, applies a function to each of the groups, then recombines them into a new data table.\n",
    "\n",
    "For example, we may want to aggregate our data with some function.\n",
    "\n",
    "![split-apply-combine](http://f.cl.ly/items/0s0Z252j0X0c3k3P1M47/Screen%20Shot%202013-06-02%20at%203.04.04%20PM.png)\n",
    "\n",
    "<div align=\"right\">*(figure taken from \"Python for Data Analysis\", p.251)*</div>"
   ]
  },
  {
   "cell_type": "markdown",
   "metadata": {},
   "source": [
    "We can aggregate in Pandas using the `aggregate` (or `agg`, for short) method:"
   ]
  },
  {
   "cell_type": "code",
   "execution_count": 97,
   "outputs": [
    {
     "name": "stdout",
     "output_type": "stream",
     "text": [
      "patient 1\n",
      "group    patient  obs  week  site  id  treat  age sex  twstrs  treatment\n",
      "0        1    1     0     1   1  5000U   65   F      32          1\n",
      "1        1    2     2     1   1  5000U   65   F      30          1\n",
      "2        1    3     4     1   1  5000U   65   F      24          1\n",
      "3        1    4     8     1   1  5000U   65   F      37          1\n",
      "4        1    5    12     1   1  5000U   65   F      39          1\n",
      "5        1    6    16     1   1  5000U   65   F      36          1\n",
      "patient 2\n",
      "group     patient  obs  week  site  id   treat  age sex  twstrs  treatment\n",
      "6         2    1     0     1   2  10000U   70   F      60          2\n",
      "7         2    2     2     1   2  10000U   70   F      26          2\n",
      "8         2    3     4     1   2  10000U   70   F      27          2\n",
      "9         2    4     8     1   2  10000U   70   F      41          2\n",
      "10        2    5    12     1   2  10000U   70   F      65          2\n",
      "11        2    6    16     1   2  10000U   70   F      67          2\n",
      "patient 3\n",
      "group     patient  obs  week  site  id  treat  age sex  twstrs  treatment\n",
      "12        3    1     0     1   3  5000U   64   F      44          1\n",
      "13        3    2     2     1   3  5000U   64   F      20          1\n",
      "14        3    3     4     1   3  5000U   64   F      23          1\n",
      "15        3    4     8     1   3  5000U   64   F      26          1\n",
      "16        3    5    12     1   3  5000U   64   F      35          1\n",
      "17        3    6    16     1   3  5000U   64   F      35          1\n",
      "patient 4\n",
      "group     patient  obs  week  site  id    treat  age sex  twstrs  treatment\n",
      "18        4    1     0     1   4  Placebo   59   F      53          0\n",
      "19        4    2     2     1   4  Placebo   59   F      61          0\n",
      "20        4    3     4     1   4  Placebo   59   F      64          0\n",
      "21        4    4     8     1   4  Placebo   59   F      62          0\n",
      "patient 5\n",
      "group     patient  obs  week  site  id   treat  age sex  twstrs  treatment\n",
      "22        5    1     0     1   5  10000U   76   F      53          2\n",
      "23        5    2     2     1   5  10000U   76   F      35          2\n",
      "24        5    3     4     1   5  10000U   76   F      48          2\n",
      "25        5    4     8     1   5  10000U   76   F      49          2\n",
      "26        5    5    12     1   5  10000U   76   F      41          2\n",
      "27        5    6    16     1   5  10000U   76   F      51          2\n",
      "patient 6\n",
      "group     patient  obs  week  site  id   treat  age sex  twstrs  treatment\n",
      "28        6    1     0     1   6  10000U   59   F      49          2\n",
      "29        6    2     2     1   6  10000U   59   F      34          2\n",
      "30        6    3     4     1   6  10000U   59   F      43          2\n",
      "31        6    4     8     1   6  10000U   59   F      48          2\n",
      "32        6    5    12     1   6  10000U   59   F      48          2\n",
      "33        6    6    16     1   6  10000U   59   F      51          2\n",
      "patient 7\n",
      "group     patient  obs  week  site  id  treat  age sex  twstrs  treatment\n",
      "34        7    1     0     1   7  5000U   72   M      42          1\n",
      "35        7    2     2     1   7  5000U   72   M      32          1\n",
      "36        7    3     4     1   7  5000U   72   M      32          1\n",
      "37        7    4     8     1   7  5000U   72   M      43          1\n",
      "38        7    5    12     1   7  5000U   72   M      42          1\n",
      "39        7    6    16     1   7  5000U   72   M      46          1\n",
      "patient 8\n",
      "group     patient  obs  week  site  id    treat  age sex  twstrs  treatment\n",
      "40        8    1     0     1   8  Placebo   40   M      34          0\n",
      "41        8    2     2     1   8  Placebo   40   M      33          0\n",
      "42        8    3     4     1   8  Placebo   40   M      21          0\n",
      "43        8    4     8     1   8  Placebo   40   M      27          0\n",
      "44        8    5    12     1   8  Placebo   40   M      32          0\n",
      "45        8    6    16     1   8  Placebo   40   M      38          0\n",
      "patient 9\n",
      "group     patient  obs  week  site  id  treat  age sex  twstrs  treatment\n",
      "46        9    1     0     1   9  5000U   52   F      41          1\n",
      "47        9    2     2     1   9  5000U   52   F      32          1\n",
      "48        9    3     4     1   9  5000U   52   F      34          1\n",
      "49        9    4     8     1   9  5000U   52   F      35          1\n",
      "50        9    5    12     1   9  5000U   52   F      37          1\n",
      "51        9    6    16     1   9  5000U   52   F      36          1\n",
      "patient 10\n",
      "group     patient  obs  week  site  id    treat  age sex  twstrs  treatment\n",
      "52       10    1     0     1  10  Placebo   47   M      27          0\n",
      "53       10    2     2     1  10  Placebo   47   M      10          0\n",
      "54       10    3     4     1  10  Placebo   47   M      31          0\n",
      "55       10    4     8     1  10  Placebo   47   M      32          0\n",
      "56       10    5    12     1  10  Placebo   47   M       6          0\n",
      "57       10    6    16     1  10  Placebo   47   M      14          0\n",
      "patient 11\n",
      "group     patient  obs  week  site  id   treat  age sex  twstrs  treatment\n",
      "58       11    1     0     1  11  10000U   57   F      48          2\n",
      "59       11    2     2     1  11  10000U   57   F      41          2\n",
      "60       11    3     4     1  11  10000U   57   F      32          2\n",
      "61       11    4     8     1  11  10000U   57   F      35          2\n",
      "62       11    5    12     1  11  10000U   57   F      57          2\n",
      "63       11    6    16     1  11  10000U   57   F      51          2\n",
      "patient 12\n",
      "group     patient  obs  week  site  id    treat  age sex  twstrs  treatment\n",
      "64       12    1     0     1  12  Placebo   47   F      34          0\n",
      "65       12    2     2     1  12  Placebo   47   F      19          0\n",
      "66       12    3     4     1  12  Placebo   47   F      21          0\n",
      "67       12    4     8     1  12  Placebo   47   F      24          0\n",
      "68       12    5    12     1  12  Placebo   47   F      28          0\n",
      "69       12    6    16     1  12  Placebo   47   F      28          0\n",
      "patient 13\n",
      "group     patient  obs  week  site  id    treat  age sex  twstrs  treatment\n",
      "70       13    1     0     2   1  Placebo   70   F      49          0\n",
      "71       13    2     2     2   1  Placebo   70   F      47          0\n",
      "72       13    3     4     2   1  Placebo   70   F      44          0\n",
      "73       13    4     8     2   1  Placebo   70   F      48          0\n",
      "74       13    5    12     2   1  Placebo   70   F      44          0\n",
      "75       13    6    16     2   1  Placebo   70   F      44          0\n",
      "patient 14\n",
      "group     patient  obs  week  site  id  treat  age sex  twstrs  treatment\n",
      "76       14    1     0     2   2  5000U   49   F      46          1\n",
      "77       14    2     2     2   2  5000U   49   F      35          1\n",
      "78       14    3     4     2   2  5000U   49   F      45          1\n",
      "79       14    4     8     2   2  5000U   49   F      49          1\n",
      "80       14    5    12     2   2  5000U   49   F      53          1\n",
      "81       14    6    16     2   2  5000U   49   F      56          1\n",
      "patient 15\n",
      "group     patient  obs  week  site  id   treat  age sex  twstrs  treatment\n",
      "82       15    1     0     2   3  10000U   59   F      56          2\n",
      "83       15    2     2     2   3  10000U   59   F      44          2\n",
      "84       15    3     4     2   3  10000U   59   F      48          2\n",
      "85       15    4     8     2   3  10000U   59   F      54          2\n",
      "86       15    5    12     2   3  10000U   59   F      49          2\n",
      "87       15    6    16     2   3  10000U   59   F      60          2\n",
      "patient 16\n",
      "group     patient  obs  week  site  id  treat  age sex  twstrs  treatment\n",
      "88       16    1     0     2   4  5000U   64   M      59          1\n",
      "89       16    2     2     2   4  5000U   64   M      48          1\n",
      "90       16    3     4     2   4  5000U   64   M      56          1\n",
      "91       16    4     8     2   4  5000U   64   M      55          1\n",
      "92       16    5    12     2   4  5000U   64   M      57          1\n",
      "93       16    6    16     2   4  5000U   64   M      58          1\n",
      "patient 17\n",
      "group     patient  obs  week  site  id   treat  age sex  twstrs  treatment\n",
      "94       17    1     0     2   5  10000U   45   F      62          2\n",
      "95       17    2     2     2   5  10000U   45   F      60          2\n",
      "96       17    3     4     2   5  10000U   45   F      60          2\n",
      "97       17    4     8     2   5  10000U   45   F      64          2\n",
      "98       17    5    12     2   5  10000U   45   F      67          2\n",
      "99       17    6    16     2   5  10000U   45   F      66          2\n",
      "patient 18\n",
      "group      patient  obs  week  site  id    treat  age sex  twstrs  treatment\n",
      "100       18    1     0     2   6  Placebo   66   F      50          0\n",
      "101       18    2     2     2   6  Placebo   66   F      53          0\n",
      "102       18    3     4     2   6  Placebo   66   F      52          0\n",
      "103       18    4     8     2   6  Placebo   66   F      57          0\n",
      "104       18    5    12     2   6  Placebo   66   F      61          0\n",
      "105       18    6    16     2   6  Placebo   66   F      54          0\n",
      "patient 19\n",
      "group      patient  obs  week  site  id   treat  age sex  twstrs  treatment\n",
      "106       19    1     0     2   7  10000U   49   F      42          2\n",
      "107       19    2     2     2   7  10000U   49   F      42          2\n",
      "108       19    3     4     2   7  10000U   49   F      43          2\n",
      "109       19    4     8     2   7  10000U   49   F      33          2\n",
      "110       19    5    12     2   7  10000U   49   F      37          2\n",
      "111       19    6    16     2   7  10000U   49   F      43          2\n",
      "patient 20\n",
      "group      patient  obs  week  site  id    treat  age sex  twstrs  treatment\n",
      "112       20    1     0     2   8  Placebo   54   F      53          0\n",
      "113       20    2     2     2   8  Placebo   54   F      56          0\n",
      "114       20    3     4     2   8  Placebo   54   F      52          0\n",
      "115       20    4     8     2   8  Placebo   54   F      54          0\n",
      "116       20    5    12     2   8  Placebo   54   F      55          0\n",
      "117       20    6    16     2   8  Placebo   54   F      51          0\n",
      "patient 21\n",
      "group      patient  obs  week  site  id  treat  age sex  twstrs  treatment\n",
      "118       21    1     0     2   9  5000U   47   F      67          1\n",
      "119       21    2     2     2   9  5000U   47   F      64          1\n",
      "120       21    3     4     2   9  5000U   47   F      65          1\n",
      "121       21    4     8     2   9  5000U   47   F      64          1\n",
      "122       21    5    12     2   9  5000U   47   F      62          1\n",
      "123       21    6    16     2   9  5000U   47   F      64          1\n",
      "patient 22\n",
      "group      patient  obs  week  site  id    treat  age sex  twstrs  treatment\n",
      "124       22    1     0     2  10  Placebo   31   M      44          0\n",
      "125       22    2     2     2  10  Placebo   31   M      40          0\n",
      "126       22    3     4     2  10  Placebo   31   M      32          0\n",
      "127       22    4     8     2  10  Placebo   31   M      36          0\n",
      "128       22    5    12     2  10  Placebo   31   M      42          0\n",
      "129       22    6    16     2  10  Placebo   31   M      43          0\n",
      "patient 23\n",
      "group      patient  obs  week  site  id   treat  age sex  twstrs  treatment\n",
      "130       23    1     0     2  11  10000U   53   F      65          2\n",
      "131       23    2     2     2  11  10000U   53   F      58          2\n",
      "132       23    3     4     2  11  10000U   53   F      55          2\n",
      "133       23    5    12     2  11  10000U   53   F      56          2\n",
      "134       23    6    16     2  11  10000U   53   F      60          2\n",
      "patient 24\n",
      "group      patient  obs  week  site  id  treat  age sex  twstrs  treatment\n",
      "135       24    1     0     2  12  5000U   61   M      56          1\n",
      "136       24    2     2     2  12  5000U   61   M      54          1\n",
      "137       24    3     4     2  12  5000U   61   M      52          1\n",
      "138       24    4     8     2  12  5000U   61   M      48          1\n",
      "139       24    5    12     2  12  5000U   61   M      52          1\n",
      "140       24    6    16     2  12  5000U   61   M      53          1\n",
      "patient 25\n",
      "group      patient  obs  week  site  id    treat  age sex  twstrs  treatment\n",
      "141       25    1     0     2  13  Placebo   40   M      30          0\n",
      "142       25    2     2     2  13  Placebo   40   M      33          0\n",
      "143       25    3     4     2  13  Placebo   40   M      25          0\n",
      "144       25    4     8     2  13  Placebo   40   M      29          0\n",
      "145       25    5    12     2  13  Placebo   40   M      32          0\n",
      "146       25    6    16     2  13  Placebo   40   M      32          0\n",
      "patient 26\n",
      "group      patient  obs  week  site  id  treat  age sex  twstrs  treatment\n",
      "147       26    1     0     2  14  5000U   67   M      47          1\n",
      "148       26    3     4     2  14  5000U   67   M      54          1\n",
      "149       26    4     8     2  14  5000U   67   M      43          1\n",
      "150       26    5    12     2  14  5000U   67   M      46          1\n",
      "151       26    6    16     2  14  5000U   67   M      50          1\n",
      "patient 27\n",
      "group      patient  obs  week  site  id   treat  age sex  twstrs  treatment\n",
      "152       27    1     0     3   1  10000U   54   F      50          2\n",
      "153       27    2     2     3   1  10000U   54   F      43          2\n",
      "154       27    3     4     3   1  10000U   54   F      51          2\n",
      "155       27    4     8     3   1  10000U   54   F      46          2\n",
      "156       27    5    12     3   1  10000U   54   F      49          2\n",
      "157       27    6    16     3   1  10000U   54   F      53          2\n",
      "patient 28\n",
      "group      patient  obs  week  site  id    treat  age sex  twstrs  treatment\n",
      "158       28    1     0     3   2  Placebo   41   F      34          0\n",
      "159       28    2     2     3   2  Placebo   41   F      29          0\n",
      "160       28    3     4     3   2  Placebo   41   F      27          0\n",
      "161       28    4     8     3   2  Placebo   41   F      21          0\n",
      "162       28    5    12     3   2  Placebo   41   F      22          0\n",
      "163       28    6    16     3   2  Placebo   41   F      22          0\n",
      "patient 29\n",
      "group      patient  obs  week  site  id  treat  age sex  twstrs  treatment\n",
      "164       29    1     0     3   3  5000U   66   M      39          1\n",
      "165       29    2     2     3   3  5000U   66   M      41          1\n",
      "166       29    3     4     3   3  5000U   66   M      33          1\n",
      "167       29    4     8     3   3  5000U   66   M      39          1\n",
      "168       29    5    12     3   3  5000U   66   M      37          1\n",
      "169       29    6    16     3   3  5000U   66   M      37          1\n",
      "patient 30\n",
      "group      patient  obs  week  site  id    treat  age sex  twstrs  treatment\n",
      "170       30    1     0     3   4  Placebo   68   F      43          0\n",
      "171       30    2     2     3   4  Placebo   68   F      31          0\n",
      "172       30    3     4     3   4  Placebo   68   F      29          0\n",
      "173       30    4     8     3   4  Placebo   68   F      28          0\n",
      "174       30    5    12     3   4  Placebo   68   F      33          0\n",
      "175       30    6    16     3   4  Placebo   68   F      38          0\n",
      "patient 31\n",
      "group      patient  obs  week  site  id   treat  age sex  twstrs  treatment\n",
      "176       31    1     0     3   5  10000U   41   F      46          2\n",
      "177       31    2     2     3   5  10000U   41   F      26          2\n",
      "178       31    3     4     3   5  10000U   41   F      29          2\n",
      "179       31    4     8     3   5  10000U   41   F      33          2\n",
      "180       31    5    12     3   5  10000U   41   F      45          2\n",
      "181       31    6    16     3   5  10000U   41   F      56          2\n",
      "patient 32\n",
      "group      patient  obs  week  site  id  treat  age sex  twstrs  treatment\n",
      "182       32    1     0     3   6  5000U   77   M      52          1\n",
      "183       32    2     2     3   6  5000U   77   M      44          1\n",
      "184       32    3     4     3   6  5000U   77   M      47          1\n",
      "185       32    4     8     3   6  5000U   77   M      50          1\n",
      "186       32    5    12     3   6  5000U   77   M      50          1\n",
      "187       32    6    16     3   6  5000U   77   M      49          1\n",
      "patient 33\n",
      "group      patient  obs  week  site  id   treat  age sex  twstrs  treatment\n",
      "188       33    1     0     3   7  10000U   41   M      38          2\n",
      "189       33    2     2     3   7  10000U   41   M      19          2\n",
      "190       33    3     4     3   7  10000U   41   M      20          2\n",
      "191       33    4     8     3   7  10000U   41   M      27          2\n",
      "192       33    5    12     3   7  10000U   41   M      29          2\n",
      "193       33    6    16     3   7  10000U   41   M      32          2\n",
      "patient 34\n",
      "group      patient  obs  week  site  id    treat  age sex  twstrs  treatment\n",
      "194       34    1     0     3   8  Placebo   56   M      33          0\n",
      "195       34    2     2     3   8  Placebo   56   M      38          0\n",
      "196       34    3     4     3   8  Placebo   56   M      40          0\n",
      "197       34    4     8     3   8  Placebo   56   M      48          0\n",
      "198       34    5    12     3   8  Placebo   56   M      49          0\n",
      "199       34    6    16     3   8  Placebo   56   M      44          0\n",
      "patient 35\n",
      "group      patient  obs  week  site  id  treat  age sex  twstrs  treatment\n",
      "200       35    1     0     3   9  5000U   46   F      28          1\n",
      "201       35    2     2     3   9  5000U   46   F      16          1\n",
      "202       35    3     4     3   9  5000U   46   F      11          1\n",
      "203       35    4     8     3   9  5000U   46   F       7          1\n",
      "204       35    5    12     3   9  5000U   46   F      13          1\n",
      "205       35    6    16     3   9  5000U   46   F      21          1\n",
      "patient 36\n",
      "group      patient  obs  week  site  id   treat  age sex  twstrs  treatment\n",
      "206       36    1     0     3  10  10000U   46   F      34          2\n",
      "207       36    2     2     3  10  10000U   46   F      23          2\n",
      "208       36    3     4     3  10  10000U   46   F      16          2\n",
      "209       36    4     8     3  10  10000U   46   F      15          2\n",
      "210       36    5    12     3  10  10000U   46   F      17          2\n",
      "211       36    6    16     3  10  10000U   46   F      29          2\n",
      "patient 37\n",
      "group      patient  obs  week  site  id    treat  age sex  twstrs  treatment\n",
      "212       37    1     0     3  11  Placebo   47   F      39          0\n",
      "213       37    2     2     3  11  Placebo   47   F      37          0\n",
      "214       37    3     4     3  11  Placebo   47   F      39          0\n",
      "215       37    4     8     3  11  Placebo   47   F      39          0\n",
      "216       37    5    12     3  11  Placebo   47   F      45          0\n",
      "217       37    6    16     3  11  Placebo   47   F      43          0\n",
      "patient 38\n",
      "group      patient  obs  week  site  id  treat  age sex  twstrs  treatment\n",
      "218       38    1     0     3  12  5000U   35   M      29          1\n",
      "219       38    2     2     3  12  5000U   35   M      42          1\n",
      "220       38    3     4     3  12  5000U   35   M      35          1\n",
      "221       38    4     8     3  12  5000U   35   M      24          1\n",
      "222       38    5    12     3  12  5000U   35   M      29          1\n",
      "223       38    6    16     3  12  5000U   35   M      42          1\n",
      "patient 39\n",
      "group      patient  obs  week  site  id    treat  age sex  twstrs  treatment\n",
      "224       39    1     0     4   1  Placebo   58   M      52          0\n",
      "225       39    2     2     4   1  Placebo   58   M      55          0\n",
      "226       39    3     4     4   1  Placebo   58   M      51          0\n",
      "227       39    4     8     4   1  Placebo   58   M      52          0\n",
      "228       39    5    12     4   1  Placebo   58   M      54          0\n",
      "229       39    6    16     4   1  Placebo   58   M      57          0\n",
      "patient 40\n",
      "group      patient  obs  week  site  id  treat  age sex  twstrs  treatment\n",
      "230       40    1     0     4   2  5000U   62   F      52          1\n",
      "231       40    2     2     4   2  5000U   62   F      30          1\n",
      "232       40    3     4     4   2  5000U   62   F      43          1\n",
      "233       40    4     8     4   2  5000U   62   F      45          1\n",
      "234       40    5    12     4   2  5000U   62   F      47          1\n",
      "235       40    6    16     4   2  5000U   62   F      46          1\n",
      "patient 41\n",
      "group      patient  obs  week  site  id   treat  age sex  twstrs  treatment\n",
      "236       41    1     0     4   3  10000U   73   F      54          2\n",
      "237       41    2     2     4   3  10000U   73   F      52          2\n",
      "238       41    3     4     4   3  10000U   73   F      52          2\n",
      "239       41    4     8     4   3  10000U   73   F      54          2\n",
      "240       41    5    12     4   3  10000U   73   F      51          2\n",
      "241       41    6    16     4   3  10000U   73   F      57          2\n",
      "patient 42\n",
      "group      patient  obs  week  site  id   treat  age sex  twstrs  treatment\n",
      "242       42    1     0     4   4  10000U   52   F      52          2\n",
      "243       42    2     2     4   4  10000U   52   F      44          2\n",
      "244       42    3     4     4   4  10000U   52   F      33          2\n",
      "245       42    4     8     4   4  10000U   52   F      54          2\n",
      "246       42    5    12     4   4  10000U   52   F      46          2\n",
      "247       42    6    16     4   4  10000U   52   F      47          2\n",
      "patient 43\n",
      "group      patient  obs  week  site  id    treat  age sex  twstrs  treatment\n",
      "248       43    1     0     4   5  Placebo   53   F      47          0\n",
      "249       43    2     2     4   5  Placebo   53   F      45          0\n",
      "250       43    3     4     4   5  Placebo   53   F      41          0\n",
      "251       43    4     8     4   5  Placebo   53   F      45          0\n",
      "252       43    5    12     4   5  Placebo   53   F      43          0\n",
      "253       43    6    16     4   5  Placebo   53   F      41          0\n",
      "patient 44\n",
      "group      patient  obs  week  site  id  treat  age sex  twstrs  treatment\n",
      "254       44    1     0     4   6  5000U   69   M      44          1\n",
      "255       44    2     2     4   6  5000U   69   M      34          1\n",
      "256       44    3     4     4   6  5000U   69   M      29          1\n",
      "257       44    4     8     4   6  5000U   69   M      28          1\n",
      "258       44    5    12     4   6  5000U   69   M      35          1\n",
      "259       44    6    16     4   6  5000U   69   M      41          1\n",
      "patient 45\n",
      "group      patient  obs  week  site  id    treat  age sex  twstrs  treatment\n",
      "260       45    1     0     4   7  Placebo   55   M      42          0\n",
      "261       45    2     2     4   7  Placebo   55   M      39          0\n",
      "262       45    3     4     4   7  Placebo   55   M      38          0\n",
      "263       45    4     8     4   7  Placebo   55   M      47          0\n",
      "264       45    5    12     4   7  Placebo   55   M      39          0\n",
      "265       45    6    16     4   7  Placebo   55   M      39          0\n",
      "patient 46\n",
      "group      patient  obs  week  site  id   treat  age sex  twstrs  treatment\n",
      "266       46    1     0     4   8  10000U   52   F      42          2\n",
      "267       46    2     2     4   8  10000U   52   F      14          2\n",
      "268       46    3     4     4   8  10000U   52   F       9          2\n",
      "269       46    4     8     4   8  10000U   52   F       9          2\n",
      "270       46    5    12     4   8  10000U   52   F      16          2\n",
      "271       46    6    16     4   8  10000U   52   F      33          2\n",
      "patient 47\n",
      "group      patient  obs  week  site  id   treat  age sex  twstrs  treatment\n",
      "272       47    1     0     5   1  10000U   51   F      44          2\n",
      "273       47    2     2     5   1  10000U   51   F      34          2\n",
      "274       47    3     4     5   1  10000U   51   F      32          2\n",
      "275       47    4     8     5   1  10000U   51   F      35          2\n",
      "276       47    5    12     5   1  10000U   51   F      54          2\n",
      "277       47    6    16     5   1  10000U   51   F      53          2\n",
      "patient 48\n",
      "group      patient  obs  week  site  id    treat  age sex  twstrs  treatment\n",
      "278       48    1     0     5   2  Placebo   56   F      60          0\n",
      "279       48    2     2     5   2  Placebo   56   F      57          0\n",
      "280       48    3     4     5   2  Placebo   56   F      53          0\n",
      "281       48    4     8     5   2  Placebo   56   F      52          0\n",
      "282       48    5    12     5   2  Placebo   56   F      53          0\n",
      "283       48    6    16     5   2  Placebo   56   F      58          0\n",
      "patient 49\n",
      "group      patient  obs  week  site  id  treat  age sex  twstrs  treatment\n",
      "284       49    1     0     5   3  5000U   65   F      60          1\n",
      "285       49    2     2     5   3  5000U   65   F      53          1\n",
      "286       49    3     4     5   3  5000U   65   F      55          1\n",
      "287       49    4     8     5   3  5000U   65   F      62          1\n",
      "288       49    5    12     5   3  5000U   65   F      67          1\n",
      "patient 50\n",
      "group      patient  obs  week  site  id   treat  age sex  twstrs  treatment\n",
      "289       50    1     0     5   4  10000U   35   F      50          2\n",
      "290       50    2     2     5   4  10000U   35   F      50          2\n",
      "291       50    4     8     5   4  10000U   35   F      46          2\n",
      "292       50    5    12     5   4  10000U   35   F      50          2\n",
      "293       50    6    16     5   4  10000U   35   F      57          2\n",
      "patient 51\n",
      "group      patient  obs  week  site  id  treat  age sex  twstrs  treatment\n",
      "294       51    1     0     5   5  5000U   43   M      38          1\n",
      "295       51    2     2     5   5  5000U   43   M      27          1\n",
      "296       51    3     4     5   5  5000U   43   M      16          1\n",
      "297       51    4     8     5   5  5000U   43   M      19          1\n",
      "298       51    5    12     5   5  5000U   43   M      23          1\n",
      "299       51    6    16     5   5  5000U   43   M      26          1\n",
      "patient 52\n",
      "group      patient  obs  week  site  id    treat  age sex  twstrs  treatment\n",
      "300       52    1     0     5   6  Placebo   61   M      44          0\n",
      "301       52    3     4     5   6  Placebo   61   M      46          0\n",
      "302       52    4     8     5   6  Placebo   61   M      26          0\n",
      "303       52    5    12     5   6  Placebo   61   M      30          0\n",
      "304       52    6    16     5   6  Placebo   61   M      34          0\n",
      "patient 53\n",
      "group      patient  obs  week  site  id    treat  age sex  twstrs  treatment\n",
      "305       53    1     0     6   1  Placebo   43   M      54          0\n",
      "306       53    2     2     6   1  Placebo   43   M      53          0\n",
      "307       53    3     4     6   1  Placebo   43   M      51          0\n",
      "308       53    4     8     6   1  Placebo   43   M      56          0\n",
      "309       53    5    12     6   1  Placebo   43   M      39          0\n",
      "310       53    6    16     6   1  Placebo   43   M       9          0\n",
      "patient 54\n",
      "group      patient  obs  week  site  id   treat  age sex  twstrs  treatment\n",
      "311       54    1     0     6   2  10000U   64   F      54          2\n",
      "312       54    2     2     6   2  10000U   64   F      32          2\n",
      "313       54    3     4     6   2  10000U   64   F      40          2\n",
      "314       54    4     8     6   2  10000U   64   F      52          2\n",
      "315       54    5    12     6   2  10000U   64   F      42          2\n",
      "316       54    6    16     6   2  10000U   64   F      47          2\n",
      "patient 55\n",
      "group      patient  obs  week  site  id  treat  age sex  twstrs  treatment\n",
      "317       55    1     0     6   3  5000U   57   M      56          1\n",
      "318       55    2     2     6   3  5000U   57   M      55          1\n",
      "319       55    3     4     6   3  5000U   57   M      44          1\n",
      "320       55    4     8     6   3  5000U   57   M      50          1\n",
      "321       55    5    12     6   3  5000U   57   M      53          1\n",
      "322       55    6    16     6   3  5000U   57   M      52          1\n",
      "patient 56\n",
      "group      patient  obs  week  site  id  treat  age sex  twstrs  treatment\n",
      "323       56    1     0     6   4  5000U   60   F      51          1\n",
      "324       56    2     2     6   4  5000U   60   F      50          1\n",
      "325       56    3     4     6   4  5000U   60   F      50          1\n",
      "326       56    4     8     6   4  5000U   60   F      56          1\n",
      "327       56    5    12     6   4  5000U   60   F      59          1\n",
      "328       56    6    16     6   4  5000U   60   F      53          1\n",
      "patient 57\n",
      "group      patient  obs  week  site  id   treat  age sex  twstrs  treatment\n",
      "329       57    1     0     6   5  10000U   44   F      53          2\n",
      "330       57    2     2     6   5  10000U   44   F      56          2\n",
      "331       57    3     4     6   5  10000U   44   F      47          2\n",
      "332       57    4     8     6   5  10000U   44   F      53          2\n",
      "333       57    5    12     6   5  10000U   44   F      51          2\n",
      "334       57    6    16     6   5  10000U   44   F      51          2\n",
      "patient 58\n",
      "group      patient  obs  week  site  id    treat  age sex  twstrs  treatment\n",
      "335       58    1     0     6   6  Placebo   41   F      36          0\n",
      "336       58    2     2     6   6  Placebo   41   F      29          0\n",
      "337       58    3     4     6   6  Placebo   41   F      24          0\n",
      "338       58    4     8     6   6  Placebo   41   F      32          0\n",
      "339       58    5    12     6   6  Placebo   41   F      45          0\n",
      "340       58    6    16     6   6  Placebo   41   F      36          0\n",
      "patient 59\n",
      "group      patient  obs  week  site  id  treat  age sex  twstrs  treatment\n",
      "341       59    1     0     6   7  5000U   51   F      59          1\n",
      "342       59    2     2     6   7  5000U   51   F      53          1\n",
      "343       59    3     4     6   7  5000U   51   F      45          1\n",
      "344       59    4     8     6   7  5000U   51   F      44          1\n",
      "345       59    5    12     6   7  5000U   51   F      50          1\n",
      "346       59    6    16     6   7  5000U   51   F      48          1\n",
      "patient 60\n",
      "group      patient  obs  week  site  id    treat  age sex  twstrs  treatment\n",
      "347       60    1     0     6   8  Placebo   57   F      49          0\n",
      "348       60    2     2     6   8  Placebo   57   F      50          0\n",
      "349       60    3     4     6   8  Placebo   57   F      48          0\n",
      "350       60    4     8     6   8  Placebo   57   F      56          0\n",
      "351       60    5    12     6   8  Placebo   57   F      49          0\n",
      "352       60    6    16     6   8  Placebo   57   F      57          0\n",
      "patient 61\n",
      "group      patient  obs  week  site  id   treat  age sex  twstrs  treatment\n",
      "353       61    1     0     6   9  10000U   42   F      50          2\n",
      "354       61    2     2     6   9  10000U   42   F      38          2\n",
      "355       61    3     4     6   9  10000U   42   F      42          2\n",
      "356       61    4     8     6   9  10000U   42   F      43          2\n",
      "357       61    5    12     6   9  10000U   42   F      42          2\n",
      "358       61    6    16     6   9  10000U   42   F      46          2\n",
      "patient 62\n",
      "group      patient  obs  week  site  id    treat  age sex  twstrs  treatment\n",
      "359       62    1     0     6  10  Placebo   48   F      46          0\n",
      "360       62    2     2     6  10  Placebo   48   F      48          0\n",
      "361       62    3     4     6  10  Placebo   48   F      46          0\n",
      "362       62    4     8     6  10  Placebo   48   F      57          0\n",
      "363       62    5    12     6  10  Placebo   48   F      57          0\n",
      "364       62    6    16     6  10  Placebo   48   F      49          0\n",
      "patient 63\n",
      "group      patient  obs  week  site  id   treat  age sex  twstrs  treatment\n",
      "365       63    1     0     6  11  10000U   57   M      55          2\n",
      "366       63    2     2     6  11  10000U   57   M      34          2\n",
      "367       63    3     4     6  11  10000U   57   M      26          2\n",
      "368       63    4     8     6  11  10000U   57   M      40          2\n",
      "369       63    5    12     6  11  10000U   57   M      49          2\n",
      "370       63    6    16     6  11  10000U   57   M      47          2\n",
      "patient 64\n",
      "group      patient  obs  week  site  id  treat  age sex  twstrs  treatment\n",
      "371       64    1     0     6  12  5000U   39   M      46          1\n",
      "372       64    2     2     6  12  5000U   39   M      44          1\n",
      "373       64    3     4     6  12  5000U   39   M      47          1\n",
      "374       64    4     8     6  12  5000U   39   M      50          1\n",
      "375       64    5    12     6  12  5000U   39   M      46          1\n",
      "376       64    6    16     6  12  5000U   39   M      51          1\n",
      "patient 65\n",
      "group      patient  obs  week  site  id   treat  age sex  twstrs  treatment\n",
      "377       65    1     0     6  13  10000U   67   M      34          2\n",
      "378       65    2     2     6  13  10000U   67   M      31          2\n",
      "379       65    3     4     6  13  10000U   67   M      25          2\n",
      "patient 66\n",
      "group      patient  obs  week  site  id  treat  age sex  twstrs  treatment\n",
      "380       66    1     0     6  14  5000U   39   F      57          1\n",
      "381       66    2     2     6  14  5000U   39   F      48          1\n",
      "382       66    3     4     6  14  5000U   39   F      50          1\n",
      "383       66    4     8     6  14  5000U   39   F      50          1\n",
      "384       66    5    12     6  14  5000U   39   F      50          1\n",
      "385       66    6    16     6  14  5000U   39   F      49          1\n",
      "patient 67\n",
      "group      patient  obs  week  site  id    treat  age sex  twstrs  treatment\n",
      "386       67    1     0     6  15  Placebo   69   M      41          0\n",
      "387       67    2     2     6  15  Placebo   69   M      40          0\n",
      "388       67    3     4     6  15  Placebo   69   M      42          0\n",
      "389       67    4     8     6  15  Placebo   69   M      38          0\n",
      "390       67    5    12     6  15  Placebo   69   M      50          0\n",
      "391       67    6    16     6  15  Placebo   69   M      56          0\n",
      "patient 68\n",
      "group      patient  obs  week  site  id  treat  age sex  twstrs  treatment\n",
      "392       68    1     0     7   1  5000U   54   F      49          1\n",
      "393       68    2     2     7   1  5000U   54   F      25          1\n",
      "394       68    3     4     7   1  5000U   54   F      30          1\n",
      "395       68    4     8     7   1  5000U   54   F      41          1\n",
      "396       68    5    12     7   1  5000U   54   F      41          1\n",
      "397       68    6    16     7   1  5000U   54   F      31          1\n",
      "patient 69\n",
      "group      patient  obs  week  site  id    treat  age sex  twstrs  treatment\n",
      "398       69    1     0     7   2  Placebo   67   F      42          0\n",
      "399       69    2     2     7   2  Placebo   67   F      30          0\n",
      "400       69    3     4     7   2  Placebo   67   F      40          0\n",
      "401       69    4     8     7   2  Placebo   67   F      43          0\n",
      "402       69    5    12     7   2  Placebo   67   F      36          0\n",
      "403       69    6    16     7   2  Placebo   67   F      45          0\n",
      "patient 70\n",
      "group      patient  obs  week  site  id   treat  age sex  twstrs  treatment\n",
      "404       70    1     0     7   3  10000U   58   F      31          2\n",
      "405       70    2     2     7   3  10000U   58   F      18          2\n",
      "406       70    3     4     7   3  10000U   58   F      23          2\n",
      "407       70    4     8     7   3  10000U   58   F      26          2\n",
      "408       70    5    12     7   3  10000U   58   F      33          2\n",
      "409       70    6    16     7   3  10000U   58   F      41          2\n",
      "patient 71\n",
      "group      patient  obs  week  site  id    treat  age sex  twstrs  treatment\n",
      "410       71    1     0     7   4  Placebo   72   F      50          0\n",
      "411       71    2     2     7   4  Placebo   72   F      27          0\n",
      "412       71    3     4     7   4  Placebo   72   F      43          0\n",
      "413       71    4     8     7   4  Placebo   72   F      32          0\n",
      "414       71    5    12     7   4  Placebo   72   F      40          0\n",
      "415       71    6    16     7   4  Placebo   72   F      47          0\n",
      "patient 72\n",
      "group      patient  obs  week  site  id   treat  age sex  twstrs  treatment\n",
      "416       72    1     0     7   5  10000U   65   F      35          2\n",
      "417       72    2     2     7   5  10000U   65   F      24          2\n",
      "418       72    3     4     7   5  10000U   65   F      34          2\n",
      "419       72    4     8     7   5  10000U   65   F      28          2\n",
      "420       72    5    12     7   5  10000U   65   F      34          2\n",
      "421       72    6    16     7   5  10000U   65   F      28          2\n",
      "patient 73\n",
      "group      patient  obs  week  site  id  treat  age sex  twstrs  treatment\n",
      "422       73    1     0     7   6  5000U   68   F      38          1\n",
      "423       73    2     2     7   6  5000U   68   F      25          1\n",
      "424       73    3     4     7   6  5000U   68   F      21          1\n",
      "425       73    4     8     7   6  5000U   68   F      33          1\n",
      "426       73    5    12     7   6  5000U   68   F      42          1\n",
      "427       73    6    16     7   6  5000U   68   F      53          1\n",
      "patient 74\n",
      "group      patient  obs  week  site  id   treat  age sex  twstrs  treatment\n",
      "428       74    1     0     7   7  10000U   75   F      53          2\n",
      "429       74    2     2     7   7  10000U   75   F      40          2\n",
      "430       74    3     4     7   7  10000U   75   F      38          2\n",
      "431       74    4     8     7   7  10000U   75   F      44          2\n",
      "432       74    5    12     7   7  10000U   75   F      47          2\n",
      "433       74    6    16     7   7  10000U   75   F      53          2\n",
      "patient 75\n",
      "group      patient  obs  week  site  id    treat  age sex  twstrs  treatment\n",
      "434       75    1     0     7   8  Placebo   26   F      42          0\n",
      "435       75    2     2     7   8  Placebo   26   F      48          0\n",
      "436       75    3     4     7   8  Placebo   26   F      26          0\n",
      "437       75    4     8     7   8  Placebo   26   F      37          0\n",
      "438       75    5    12     7   8  Placebo   26   F      37          0\n",
      "439       75    6    16     7   8  Placebo   26   F      43          0\n",
      "patient 76\n",
      "group      patient  obs  week  site  id  treat  age sex  twstrs  treatment\n",
      "440       76    1     0     7   9  5000U   36   F      53          1\n",
      "441       76    2     2     7   9  5000U   36   F      45          1\n",
      "442       76    3     4     7   9  5000U   36   F      52          1\n",
      "443       76    4     8     7   9  5000U   36   F      51          1\n",
      "444       76    5    12     7   9  5000U   36   F      52          1\n",
      "445       76    6    16     7   9  5000U   36   F      53          1\n",
      "patient 77\n",
      "group      patient  obs  week  site  id   treat  age sex  twstrs  treatment\n",
      "446       77    1     0     7  10  10000U   72   M      46          2\n",
      "447       77    2     2     7  10  10000U   72   M      47          2\n",
      "448       77    3     4     7  10  10000U   72   M      45          2\n",
      "449       77    4     8     7  10  10000U   72   M      45          2\n",
      "450       77    5    12     7  10  10000U   72   M      50          2\n",
      "451       77    6    16     7  10  10000U   72   M      52          2\n",
      "patient 78\n",
      "group      patient  obs  week  site  id    treat  age sex  twstrs  treatment\n",
      "452       78    1     0     7  11  Placebo   54   F      50          0\n",
      "453       78    2     2     7  11  Placebo   54   F      42          0\n",
      "454       78    3     4     7  11  Placebo   54   F      52          0\n",
      "455       78    4     8     7  11  Placebo   54   F      60          0\n",
      "456       78    5    12     7  11  Placebo   54   F      54          0\n",
      "457       78    6    16     7  11  Placebo   54   F      59          0\n",
      "patient 79\n",
      "group      patient  obs  week  site  id  treat  age sex  twstrs  treatment\n",
      "458       79    1     0     7  12  5000U   64   F      43          1\n",
      "459       79    2     2     7  12  5000U   64   F      24          1\n",
      "460       79    3     4     7  12  5000U   64   F      17          1\n",
      "461       79    4     8     7  12  5000U   64   F      37          1\n",
      "462       79    5    12     7  12  5000U   64   F      36          1\n",
      "463       79    6    16     7  12  5000U   64   F      38          1\n",
      "patient 80\n",
      "group      patient  obs  week  site  id    treat  age sex  twstrs  treatment\n",
      "464       80    1     0     8   1  Placebo   39   F      46          0\n",
      "465       80    2     2     8   1  Placebo   39   F      39          0\n",
      "466       80    3     4     8   1  Placebo   39   F      25          0\n",
      "467       80    4     8     8   1  Placebo   39   F      15          0\n",
      "468       80    5    12     8   1  Placebo   39   F      21          0\n",
      "469       80    6    16     8   1  Placebo   39   F      25          0\n",
      "patient 81\n",
      "group      patient  obs  week  site  id   treat  age sex  twstrs  treatment\n",
      "470       81    1     0     8   2  10000U   54   M      41          2\n",
      "471       81    2     2     8   2  10000U   54   M      30          2\n",
      "472       81    3     4     8   2  10000U   54   M      44          2\n",
      "473       81    4     8     8   2  10000U   54   M      46          2\n",
      "474       81    5    12     8   2  10000U   54   M      46          2\n",
      "475       81    6    16     8   2  10000U   54   M      44          2\n",
      "patient 82\n",
      "group      patient  obs  week  site  id  treat  age sex  twstrs  treatment\n",
      "476       82    1     0     8   3  5000U   48   M      33          1\n",
      "477       82    2     2     8   3  5000U   48   M      27          1\n",
      "478       82    3     4     8   3  5000U   48   M      25          1\n",
      "479       82    4     8     8   3  5000U   48   M      30          1\n",
      "480       82    5    12     8   3  5000U   48   M      28          1\n",
      "481       82    6    16     8   3  5000U   48   M      30          1\n",
      "patient 83\n",
      "group      patient  obs  week  site  id  treat  age sex  twstrs  treatment\n",
      "482       83    1     0     8   4  5000U   83   F      36          1\n",
      "483       83    2     2     8   4  5000U   83   F      15          1\n",
      "484       83    3     4     8   4  5000U   83   F      16          1\n",
      "485       83    4     8     8   4  5000U   83   F      17          1\n",
      "486       83    5    12     8   4  5000U   83   F      22          1\n",
      "487       83    6    16     8   4  5000U   83   F      41          1\n",
      "patient 84\n",
      "group      patient  obs  week  site  id   treat  age sex  twstrs  treatment\n",
      "488       84    1     0     8   5  10000U   74   M      33          2\n",
      "489       84    2     2     8   5  10000U   74   M      32          2\n",
      "490       84    3     4     8   5  10000U   74   M      31          2\n",
      "491       84    4     8     8   5  10000U   74   M      27          2\n",
      "492       84    5    12     8   5  10000U   74   M      49          2\n",
      "493       84    6    16     8   5  10000U   74   M      60          2\n",
      "patient 85\n",
      "group      patient  obs  week  site  id    treat  age sex  twstrs  treatment\n",
      "494       85    1     0     8   6  Placebo   41   M      37          0\n",
      "patient 86\n",
      "group      patient  obs  week  site  id   treat  age sex  twstrs  treatment\n",
      "495       86    1     0     8   7  10000U   65   F      24          2\n",
      "496       86    2     2     8   7  10000U   65   F      29          2\n",
      "497       86    3     4     8   7  10000U   65   F      18          2\n",
      "498       86    4     8     8   7  10000U   65   F      20          2\n",
      "499       86    5    12     8   7  10000U   65   F      25          2\n",
      "500       86    6    16     8   7  10000U   65   F      41          2\n",
      "patient 87\n",
      "group      patient  obs  week  site  id  treat  age sex  twstrs  treatment\n",
      "501       87    1     0     8   8  5000U   79   M      42          1\n",
      "502       87    2     2     8   8  5000U   79   M      23          1\n",
      "503       87    3     4     8   8  5000U   79   M      30          1\n",
      "504       87    4     8     8   8  5000U   79   M      36          1\n",
      "505       87    5    12     8   8  5000U   79   M      41          1\n",
      "506       87    6    16     8   8  5000U   79   M      43          1\n",
      "patient 88\n",
      "group      patient  obs  week  site  id    treat  age sex  twstrs  treatment\n",
      "507       88    1     0     8   9  Placebo   63   M      30          0\n",
      "508       88    2     2     8   9  Placebo   63   M      22          0\n",
      "509       88    3     4     8   9  Placebo   63   M      21          0\n",
      "510       88    4     8     8   9  Placebo   63   M      25          0\n",
      "511       88    5    12     8   9  Placebo   63   M      26          0\n",
      "512       88    6    16     8   9  Placebo   63   M      33          0\n",
      "patient 89\n",
      "group      patient  obs  week  site  id    treat  age sex  twstrs  treatment\n",
      "513       89    1     0     8  10  Placebo   63   F      42          0\n",
      "514       89    2     2     8  10  Placebo   63   F      46          0\n",
      "515       89    3     4     8  10  Placebo   63   F      41          0\n",
      "516       89    4     8     8  10  Placebo   63   F      43          0\n",
      "517       89    5    12     8  10  Placebo   63   F      49          0\n",
      "518       89    6    16     8  10  Placebo   63   F      54          0\n",
      "patient 90\n",
      "group      patient  obs  week  site  id   treat  age sex  twstrs  treatment\n",
      "519       90    1     0     8  11  10000U   34   F      49          2\n",
      "520       90    2     2     8  11  10000U   34   F      25          2\n",
      "521       90    3     4     8  11  10000U   34   F      30          2\n",
      "522       90    4     8     8  11  10000U   34   F      49          2\n",
      "523       90    5    12     8  11  10000U   34   F      55          2\n",
      "524       90    6    16     8  11  10000U   34   F      58          2\n",
      "patient 91\n",
      "group      patient  obs  week  site  id  treat  age sex  twstrs  treatment\n",
      "525       91    1     0     8  12  5000U   42   M      58          1\n",
      "526       91    2     2     8  12  5000U   42   M      46          1\n",
      "527       91    3     4     8  12  5000U   42   M      46          1\n",
      "528       91    4     8     8  12  5000U   42   M      50          1\n",
      "529       91    5    12     8  12  5000U   42   M      56          1\n",
      "530       91    6    16     8  12  5000U   42   M      60          1\n",
      "patient 92\n",
      "group      patient  obs  week  site  id    treat  age sex  twstrs  treatment\n",
      "531       92    1     0     8  13  Placebo   57   M      26          0\n",
      "532       92    2     2     8  13  Placebo   57   M      26          0\n",
      "533       92    3     4     8  13  Placebo   57   M      27          0\n",
      "534       92    4     8     8  13  Placebo   57   M      22          0\n",
      "535       92    5    12     8  13  Placebo   57   M      38          0\n",
      "536       92    6    16     8  13  Placebo   57   M      35          0\n",
      "patient 93\n",
      "group      patient  obs  week  site  id  treat  age sex  twstrs  treatment\n",
      "537       93    1     0     8  14  5000U   68   M      37          1\n",
      "538       93    3     4     8  14  5000U   68   M      23          1\n",
      "539       93    4     8     8  14  5000U   68   M      18          1\n",
      "540       93    5    12     8  14  5000U   68   M      34          1\n",
      "541       93    6    16     8  14  5000U   68   M      36          1\n",
      "patient 94\n",
      "group      patient  obs  week  site  id   treat  age sex  twstrs  treatment\n",
      "542       94    1     0     8  15  10000U   51   M      40          2\n",
      "543       94    2     2     8  15  10000U   51   M      24          2\n",
      "544       94    3     4     8  15  10000U   51   M      25          2\n",
      "545       94    4     8     8  15  10000U   51   M      37          2\n",
      "546       94    6    16     8  15  10000U   51   M      38          2\n",
      "patient 95\n",
      "group      patient  obs  week  site  id  treat  age sex  twstrs  treatment\n",
      "547       95    1     0     8  16  5000U   51   F      33          1\n",
      "548       95    2     2     8  16  5000U   51   F      10          1\n",
      "549       95    3     4     8  16  5000U   51   F      13          1\n",
      "550       95    4     8     8  16  5000U   51   F      16          1\n",
      "551       95    5    12     8  16  5000U   51   F      32          1\n",
      "552       95    6    16     8  16  5000U   51   F      16          1\n",
      "patient 96\n",
      "group      patient  obs  week  site  id   treat  age sex  twstrs  treatment\n",
      "553       96    1     0     8  17  10000U   61   F      41          2\n",
      "554       96    2     2     8  17  10000U   61   F      50          2\n",
      "555       96    3     4     8  17  10000U   61   F      22          2\n",
      "556       96    4     8     8  17  10000U   61   F      28          2\n",
      "557       96    5    12     8  17  10000U   61   F      34          2\n",
      "558       96    6    16     8  17  10000U   61   F      36          2\n",
      "patient 97\n",
      "group      patient  obs  week  site  id    treat  age sex  twstrs  treatment\n",
      "559       97    1     0     8  18  Placebo   42   M      46          0\n",
      "560       97    3     4     8  18  Placebo   42   M      41          0\n",
      "561       97    4     8     8  18  Placebo   42   M      41          0\n",
      "562       97    5    12     8  18  Placebo   42   M      58          0\n",
      "563       97    6    16     8  18  Placebo   42   M      53          0\n",
      "patient 98\n",
      "group      patient  obs  week  site  id   treat  age sex  twstrs  treatment\n",
      "564       98    1     0     8  19  10000U   73   F      40          2\n",
      "565       98    2     2     8  19  10000U   73   F      28          2\n",
      "566       98    3     4     8  19  10000U   73   F      29          2\n",
      "567       98    4     8     8  19  10000U   73   F      30          2\n",
      "568       98    5    12     8  19  10000U   73   F      37          2\n",
      "569       98    6    16     8  19  10000U   73   F      44          2\n",
      "patient 99\n",
      "group      patient  obs  week  site  id   treat  age sex  twstrs  treatment\n",
      "570       99    1     0     9   1  10000U   57   M      40          2\n",
      "571       99    2     2     9   1  10000U   57   M      16          2\n",
      "572       99    3     4     9   1  10000U   57   M      18          2\n",
      "573       99    4     8     9   1  10000U   57   M      25          2\n",
      "574       99    5    12     9   1  10000U   57   M      33          2\n",
      "575       99    6    16     9   1  10000U   57   M      48          2\n",
      "patient 100\n",
      "group      patient  obs  week  site  id    treat  age sex  twstrs  treatment\n",
      "576      100    1     0     9   2  Placebo   59   M      61          0\n",
      "577      100    2     2     9   2  Placebo   59   M      52          0\n",
      "578      100    3     4     9   2  Placebo   59   M      61          0\n",
      "579      100    4     8     9   2  Placebo   59   M      68          0\n",
      "580      100    5    12     9   2  Placebo   59   M      59          0\n",
      "581      100    6    16     9   2  Placebo   59   M      71          0\n",
      "patient 101\n",
      "group      patient  obs  week  site  id  treat  age sex  twstrs  treatment\n",
      "582      101    1     0     9   3  5000U   57   M      35          1\n",
      "583      101    2     2     9   3  5000U   57   M      21          1\n",
      "584      101    3     4     9   3  5000U   57   M      29          1\n",
      "585      101    4     8     9   3  5000U   57   M      30          1\n",
      "586      101    5    12     9   3  5000U   57   M      35          1\n",
      "587      101    6    16     9   3  5000U   57   M      48          1\n",
      "patient 102\n",
      "group      patient  obs  week  site  id    treat  age sex  twstrs  treatment\n",
      "588      102    1     0     9   4  Placebo   68   F      58          0\n",
      "589      102    2     2     9   4  Placebo   68   F      38          0\n",
      "590      102    3     4     9   4  Placebo   68   F      50          0\n",
      "591      102    4     8     9   4  Placebo   68   F      53          0\n",
      "592      102    5    12     9   4  Placebo   68   F      47          0\n",
      "593      102    6    16     9   4  Placebo   68   F      59          0\n",
      "patient 103\n",
      "group      patient  obs  week  site  id  treat  age sex  twstrs  treatment\n",
      "594      103    1     0     9   5  5000U   55   F      49          1\n",
      "595      103    2     2     9   5  5000U   55   F      45          1\n",
      "596      103    3     4     9   5  5000U   55   F      36          1\n",
      "597      103    5    12     9   5  5000U   55   F      40          1\n",
      "598      103    6    16     9   5  5000U   55   F      52          1\n",
      "patient 104\n",
      "group      patient  obs  week  site  id   treat  age sex  twstrs  treatment\n",
      "599      104    1     0     9   6  10000U   46   F      52          2\n",
      "600      104    2     2     9   6  10000U   46   F      46          2\n",
      "601      104    3     4     9   6  10000U   46   F      36          2\n",
      "602      104    5    12     9   6  10000U   46   F      45          2\n",
      "603      104    6    16     9   6  10000U   46   F      54          2\n",
      "patient 105\n",
      "group      patient  obs  week  site  id    treat  age sex  twstrs  treatment\n",
      "604      105    1     0     9   7  Placebo   79   F      45          0\n",
      "605      105    2     2     9   7  Placebo   79   F      46          0\n",
      "606      105    3     4     9   7  Placebo   79   F      33          0\n",
      "607      105    4     8     9   7  Placebo   79   F      44          0\n",
      "608      105    5    12     9   7  Placebo   79   F      46          0\n",
      "609      105    6    16     9   7  Placebo   79   F      48          0\n",
      "patient 106\n",
      "group      patient  obs  week  site  id  treat  age sex  twstrs  treatment\n",
      "610      106    1     0     9   8  5000U   43   M      67          1\n",
      "611      106    2     2     9   8  5000U   43   M      63          1\n",
      "612      106    3     4     9   8  5000U   43   M      71          1\n",
      "613      106    4     8     9   8  5000U   43   M      66          1\n",
      "614      106    5    12     9   8  5000U   43   M      68          1\n",
      "615      106    6    16     9   8  5000U   43   M      71          1\n",
      "patient 107\n",
      "group      patient  obs  week  site  id   treat  age sex  twstrs  treatment\n",
      "616      107    1     0     9   9  10000U   50   M      57          2\n",
      "617      107    3     4     9   9  10000U   50   M      36          2\n",
      "618      107    4     8     9   9  10000U   50   M      23          2\n",
      "619      107    6    16     9   9  10000U   50   M      52          2\n",
      "patient 108\n",
      "group      patient  obs  week  site  id   treat  age sex  twstrs  treatment\n",
      "620      108    1     0     9  10  10000U   39   F      63          2\n",
      "621      108    2     2     9  10  10000U   39   F      51          2\n",
      "622      108    3     4     9  10  10000U   39   F      46          2\n",
      "623      108    4     8     9  10  10000U   39   F      50          2\n",
      "624      108    5    12     9  10  10000U   39   F      50          2\n",
      "625      108    6    16     9  10  10000U   39   F      54          2\n",
      "patient 109\n",
      "group      patient  obs  week  site  id  treat  age sex  twstrs  treatment\n",
      "626      109    1     0     9  11  5000U   57   M      53          1\n",
      "627      109    2     2     9  11  5000U   57   M      38          1\n",
      "628      109    4     8     9  11  5000U   57   M      33          1\n",
      "629      109    5    12     9  11  5000U   57   M      36          1\n",
      "630      109    6    16     9  11  5000U   57   M      51          1\n"
     ]
    }
   ],
   "source": [
    "for patient, group in cdystonia_grouped:\n",
    "    print('patient', patient)\n",
    "    print('group', group)"
   ],
   "metadata": {
    "collapsed": false
   }
  },
  {
   "cell_type": "code",
   "execution_count": 98,
   "outputs": [
    {
     "data": {
      "text/plain": "         obs  week  site   id   age     twstrs  treatment\npatient                                                  \n1        3.5   7.0   1.0  1.0  65.0  33.000000        1.0\n2        3.5   7.0   1.0  2.0  70.0  47.666667        2.0\n3        3.5   7.0   1.0  3.0  64.0  30.500000        1.0\n4        2.5   3.5   1.0  4.0  59.0  60.000000        0.0\n5        3.5   7.0   1.0  5.0  76.0  46.166667        2.0",
      "text/html": "<div>\n<style scoped>\n    .dataframe tbody tr th:only-of-type {\n        vertical-align: middle;\n    }\n\n    .dataframe tbody tr th {\n        vertical-align: top;\n    }\n\n    .dataframe thead th {\n        text-align: right;\n    }\n</style>\n<table border=\"1\" class=\"dataframe\">\n  <thead>\n    <tr style=\"text-align: right;\">\n      <th></th>\n      <th>obs</th>\n      <th>week</th>\n      <th>site</th>\n      <th>id</th>\n      <th>age</th>\n      <th>twstrs</th>\n      <th>treatment</th>\n    </tr>\n    <tr>\n      <th>patient</th>\n      <th></th>\n      <th></th>\n      <th></th>\n      <th></th>\n      <th></th>\n      <th></th>\n      <th></th>\n    </tr>\n  </thead>\n  <tbody>\n    <tr>\n      <th>1</th>\n      <td>3.5</td>\n      <td>7.0</td>\n      <td>1.0</td>\n      <td>1.0</td>\n      <td>65.0</td>\n      <td>33.000000</td>\n      <td>1.0</td>\n    </tr>\n    <tr>\n      <th>2</th>\n      <td>3.5</td>\n      <td>7.0</td>\n      <td>1.0</td>\n      <td>2.0</td>\n      <td>70.0</td>\n      <td>47.666667</td>\n      <td>2.0</td>\n    </tr>\n    <tr>\n      <th>3</th>\n      <td>3.5</td>\n      <td>7.0</td>\n      <td>1.0</td>\n      <td>3.0</td>\n      <td>64.0</td>\n      <td>30.500000</td>\n      <td>1.0</td>\n    </tr>\n    <tr>\n      <th>4</th>\n      <td>2.5</td>\n      <td>3.5</td>\n      <td>1.0</td>\n      <td>4.0</td>\n      <td>59.0</td>\n      <td>60.000000</td>\n      <td>0.0</td>\n    </tr>\n    <tr>\n      <th>5</th>\n      <td>3.5</td>\n      <td>7.0</td>\n      <td>1.0</td>\n      <td>5.0</td>\n      <td>76.0</td>\n      <td>46.166667</td>\n      <td>2.0</td>\n    </tr>\n  </tbody>\n</table>\n</div>"
     },
     "execution_count": 98,
     "metadata": {},
     "output_type": "execute_result"
    }
   ],
   "source": [
    "cdystonia_grouped.agg('mean').head()\n",
    "cdystonia_grouped.mean().head() #equivalent"
   ],
   "metadata": {
    "collapsed": false
   }
  },
  {
   "cell_type": "markdown",
   "metadata": {},
   "source": [
    "Notice that the `treat` and `sex` variables are <b>not included in the aggregation</b>. Since it does not make sense to aggregate string variables, these columns are simply ignored by the method.\n",
    "\n",
    "Some aggregation functions are so common that Pandas has a convenience method for them, such as `mean`:"
   ]
  },
  {
   "cell_type": "markdown",
   "metadata": {},
   "source": [
    "The `add_prefix` and `add_suffix` methods can be used to give the columns of the resulting table labels that reflect the transformation:"
   ]
  },
  {
   "cell_type": "code",
   "execution_count": 99,
   "metadata": {},
   "outputs": [
    {
     "data": {
      "text/plain": "         obs_mean  week_mean  site_mean  id_mean  age_mean  twstrs_mean  \\\npatient                                                                   \n1             3.5        7.0        1.0      1.0      65.0    33.000000   \n2             3.5        7.0        1.0      2.0      70.0    47.666667   \n3             3.5        7.0        1.0      3.0      64.0    30.500000   \n4             2.5        3.5        1.0      4.0      59.0    60.000000   \n5             3.5        7.0        1.0      5.0      76.0    46.166667   \n\n         treatment_mean  \npatient                  \n1                   1.0  \n2                   2.0  \n3                   1.0  \n4                   0.0  \n5                   2.0  ",
      "text/html": "<div>\n<style scoped>\n    .dataframe tbody tr th:only-of-type {\n        vertical-align: middle;\n    }\n\n    .dataframe tbody tr th {\n        vertical-align: top;\n    }\n\n    .dataframe thead th {\n        text-align: right;\n    }\n</style>\n<table border=\"1\" class=\"dataframe\">\n  <thead>\n    <tr style=\"text-align: right;\">\n      <th></th>\n      <th>obs_mean</th>\n      <th>week_mean</th>\n      <th>site_mean</th>\n      <th>id_mean</th>\n      <th>age_mean</th>\n      <th>twstrs_mean</th>\n      <th>treatment_mean</th>\n    </tr>\n    <tr>\n      <th>patient</th>\n      <th></th>\n      <th></th>\n      <th></th>\n      <th></th>\n      <th></th>\n      <th></th>\n      <th></th>\n    </tr>\n  </thead>\n  <tbody>\n    <tr>\n      <th>1</th>\n      <td>3.5</td>\n      <td>7.0</td>\n      <td>1.0</td>\n      <td>1.0</td>\n      <td>65.0</td>\n      <td>33.000000</td>\n      <td>1.0</td>\n    </tr>\n    <tr>\n      <th>2</th>\n      <td>3.5</td>\n      <td>7.0</td>\n      <td>1.0</td>\n      <td>2.0</td>\n      <td>70.0</td>\n      <td>47.666667</td>\n      <td>2.0</td>\n    </tr>\n    <tr>\n      <th>3</th>\n      <td>3.5</td>\n      <td>7.0</td>\n      <td>1.0</td>\n      <td>3.0</td>\n      <td>64.0</td>\n      <td>30.500000</td>\n      <td>1.0</td>\n    </tr>\n    <tr>\n      <th>4</th>\n      <td>2.5</td>\n      <td>3.5</td>\n      <td>1.0</td>\n      <td>4.0</td>\n      <td>59.0</td>\n      <td>60.000000</td>\n      <td>0.0</td>\n    </tr>\n    <tr>\n      <th>5</th>\n      <td>3.5</td>\n      <td>7.0</td>\n      <td>1.0</td>\n      <td>5.0</td>\n      <td>76.0</td>\n      <td>46.166667</td>\n      <td>2.0</td>\n    </tr>\n  </tbody>\n</table>\n</div>"
     },
     "execution_count": 99,
     "metadata": {},
     "output_type": "execute_result"
    }
   ],
   "source": [
    "cdystonia_grouped.mean().add_suffix('_mean').head()"
   ]
  },
  {
   "cell_type": "code",
   "execution_count": 100,
   "metadata": {},
   "outputs": [
    {
     "data": {
      "text/plain": "patient\n1     34.0\n2     50.5\n3     30.5\n4     61.5\n5     48.5\n6     48.0\n7     42.0\n8     32.5\n9     35.5\n10    20.5\nName: twstrs, dtype: float64"
     },
     "execution_count": 100,
     "metadata": {},
     "output_type": "execute_result"
    }
   ],
   "source": [
    "# The median of the `twstrs` variable\n",
    "cdystonia_grouped['twstrs'].quantile(0.5).head(10)"
   ]
  },
  {
   "cell_type": "markdown",
   "metadata": {},
   "source": [
    "If we wish, we can easily aggregate according to multiple keys:"
   ]
  },
  {
   "cell_type": "code",
   "execution_count": 101,
   "metadata": {},
   "outputs": [
    {
     "data": {
      "text/plain": "           patient  obs   id        age     twstrs  treatment\nweek site                                                    \n0    1         6.5  1.0  6.5  59.000000  43.083333   1.000000\n     2        19.5  1.0  7.5  53.928571  51.857143   0.928571\n     3        32.5  1.0  6.5  51.500000  38.750000   1.000000\n     4        42.5  1.0  4.5  59.250000  48.125000   1.000000\n     5        49.5  1.0  3.5  51.833333  49.333333   1.000000",
      "text/html": "<div>\n<style scoped>\n    .dataframe tbody tr th:only-of-type {\n        vertical-align: middle;\n    }\n\n    .dataframe tbody tr th {\n        vertical-align: top;\n    }\n\n    .dataframe thead th {\n        text-align: right;\n    }\n</style>\n<table border=\"1\" class=\"dataframe\">\n  <thead>\n    <tr style=\"text-align: right;\">\n      <th></th>\n      <th></th>\n      <th>patient</th>\n      <th>obs</th>\n      <th>id</th>\n      <th>age</th>\n      <th>twstrs</th>\n      <th>treatment</th>\n    </tr>\n    <tr>\n      <th>week</th>\n      <th>site</th>\n      <th></th>\n      <th></th>\n      <th></th>\n      <th></th>\n      <th></th>\n      <th></th>\n    </tr>\n  </thead>\n  <tbody>\n    <tr>\n      <th rowspan=\"5\" valign=\"top\">0</th>\n      <th>1</th>\n      <td>6.5</td>\n      <td>1.0</td>\n      <td>6.5</td>\n      <td>59.000000</td>\n      <td>43.083333</td>\n      <td>1.000000</td>\n    </tr>\n    <tr>\n      <th>2</th>\n      <td>19.5</td>\n      <td>1.0</td>\n      <td>7.5</td>\n      <td>53.928571</td>\n      <td>51.857143</td>\n      <td>0.928571</td>\n    </tr>\n    <tr>\n      <th>3</th>\n      <td>32.5</td>\n      <td>1.0</td>\n      <td>6.5</td>\n      <td>51.500000</td>\n      <td>38.750000</td>\n      <td>1.000000</td>\n    </tr>\n    <tr>\n      <th>4</th>\n      <td>42.5</td>\n      <td>1.0</td>\n      <td>4.5</td>\n      <td>59.250000</td>\n      <td>48.125000</td>\n      <td>1.000000</td>\n    </tr>\n    <tr>\n      <th>5</th>\n      <td>49.5</td>\n      <td>1.0</td>\n      <td>3.5</td>\n      <td>51.833333</td>\n      <td>49.333333</td>\n      <td>1.000000</td>\n    </tr>\n  </tbody>\n</table>\n</div>"
     },
     "execution_count": 101,
     "metadata": {},
     "output_type": "execute_result"
    }
   ],
   "source": [
    "cdystonia.groupby(['week','site']).mean().head()"
   ]
  },
  {
   "cell_type": "markdown",
   "metadata": {},
   "source": [
    "### Apply\n",
    "\n",
    "We can generalize the split-apply-combine methodology by using `apply` function. This allows us to invoke any function we wish on a grouped dataset and recombine them into a DataFrame."
   ]
  },
  {
   "cell_type": "markdown",
   "metadata": {},
   "source": [
    "The function below takes a DataFrame and a column name, sorts by the column, and takes the `n` largest values of that column. We can use this with `apply` to return the largest values from every group in a DataFrame in a single call. "
   ]
  },
  {
   "cell_type": "code",
   "execution_count": 102,
   "metadata": {
    "collapsed": true
   },
   "outputs": [],
   "source": [
    "def top(df, column, n=5):\n",
    "    return df.sort_values(by=column, ascending=False)[:n]"
   ]
  },
  {
   "cell_type": "code",
   "execution_count": 103,
   "outputs": [
    {
     "data": {
      "text/plain": "     num_names                                              names sov  \\\n0            8  Bil Holman Dredge/Dredge Capt Frank/Emo/Offsho...   Y   \n1            8  Bil Holman Dredge/Dredge Capt Frank/Emo/Offsho...   Y   \n2            8  Bil Holman Dredge/Dredge Capt Frank/Emo/Offsho...   Y   \n3            8  Bil Holman Dredge/Dredge Capt Frank/Emo/Offsho...   Y   \n4            8  Bil Holman Dredge/Dredge Capt Frank/Emo/Offsho...   Y   \n..         ...                                                ...  ..   \n995        168  Albacore/American Freedom/Amsterdam/Amy Choues...   N   \n996        168  Albacore/American Freedom/Amsterdam/Amy Choues...   N   \n997        168  Albacore/American Freedom/Amsterdam/Amy Choues...   N   \n998        168  Albacore/American Freedom/Amsterdam/Amy Choues...   N   \n999        168  Albacore/American Freedom/Amsterdam/Amy Choues...   N   \n\n        flag flag_type  num_loas  \\\n0    Unknown   Unknown         7   \n1    Unknown   Unknown         7   \n2    Unknown   Unknown         7   \n3    Unknown   Unknown         7   \n4    Unknown   Unknown         7   \n..       ...       ...       ...   \n995  Unknown   Unknown        84   \n996  Unknown   Unknown        84   \n997  Unknown   Unknown        84   \n998  Unknown   Unknown        84   \n999  Unknown   Unknown        84   \n\n                                                   loa  max_loa  num_types  \\\n0                42.0/48.0/57.0/90.0/138.0/154.0/156.0    156.0          4   \n1                42.0/48.0/57.0/90.0/138.0/154.0/156.0    156.0          4   \n2                42.0/48.0/57.0/90.0/138.0/154.0/156.0    156.0          4   \n3                42.0/48.0/57.0/90.0/138.0/154.0/156.0    156.0          4   \n4                42.0/48.0/57.0/90.0/138.0/154.0/156.0    156.0          4   \n..                                                 ...      ...        ...   \n995  20.0/21.0/22.0/23.0/24.0/25.0/26.0/28.0/29.0/3...    669.0         14   \n996  20.0/21.0/22.0/23.0/24.0/25.0/26.0/28.0/29.0/3...    669.0         14   \n997  20.0/21.0/22.0/23.0/24.0/25.0/26.0/28.0/29.0/3...    669.0         14   \n998  20.0/21.0/22.0/23.0/24.0/25.0/26.0/28.0/29.0/3...    669.0         14   \n999  20.0/21.0/22.0/23.0/24.0/25.0/26.0/28.0/29.0/3...    669.0         14   \n\n                                                  type  ...  \\\n0                      Dredging/MilOps/Reserved/Towing  ...   \n1                      Dredging/MilOps/Reserved/Towing  ...   \n2                      Dredging/MilOps/Reserved/Towing  ...   \n3                      Dredging/MilOps/Reserved/Towing  ...   \n4                      Dredging/MilOps/Reserved/Towing  ...   \n..                                                 ...  ...   \n995  BigTow/Cargo/Diving/Dredging/Fishing/MilOps/Ot...  ...   \n996  BigTow/Cargo/Diving/Dredging/Fishing/MilOps/Ot...  ...   \n997  BigTow/Cargo/Diving/Dredging/Fishing/MilOps/Ot...  ...   \n998  BigTow/Cargo/Diving/Dredging/Fishing/MilOps/Ot...  ...   \n999  BigTow/Cargo/Diving/Dredging/Fishing/MilOps/Ot...  ...   \n\n                  name transit  segment  seg_length  avg_sog  min_sog  \\\n0          Us Govt Ves       1        1         5.1     13.2      9.2   \n1    Dredge Capt Frank       1        1        13.5     18.6     10.4   \n2        Us Gov Vessel       1        1         4.3     16.2     10.3   \n3        Us Gov Vessel       2        1         9.2     15.4     14.5   \n4    Dredge Capt Frank       2        1         9.2     15.4     14.6   \n..                 ...     ...      ...         ...      ...      ...   \n995       Msc Colombia       5        1        16.3      1.4      0.0   \n996           Majestic     112        1        16.9     12.8      0.1   \n997         Grizzly 60      16        1        15.0      9.7      0.0   \n998     Minnie Falgout      24        1        14.2      7.8      0.4   \n999             Loriag      17        1        14.5     11.1      0.9   \n\n     max_sog  pdgt10             st_time            end_time  \n0       14.5    96.5 2009-02-10 16:03:00 2009-02-10 16:27:00  \n1       20.6   100.0 2009-04-06 14:31:00 2009-04-06 15:20:00  \n2       20.5   100.0 2009-04-06 14:36:00 2009-04-06 14:55:00  \n3       16.1   100.0 2009-04-10 17:58:00 2009-04-10 18:34:00  \n4       16.2   100.0 2009-04-10 17:59:00 2009-04-10 18:35:00  \n..       ...     ...                 ...                 ...  \n995     14.1    11.6 2009-09-23 12:22:00 2009-09-23 19:01:00  \n996     17.0    88.5 2009-09-23 16:40:00 2009-09-23 18:53:00  \n997     16.9    80.6 2009-09-23 16:59:00 2009-09-23 18:52:00  \n998     16.0    98.9 2009-09-23 17:31:00 2009-09-23 18:37:00  \n999     16.8    97.4 2009-09-23 17:34:00 2009-09-23 18:40:00  \n\n[1000 rows x 21 columns]",
      "text/html": "<div>\n<style scoped>\n    .dataframe tbody tr th:only-of-type {\n        vertical-align: middle;\n    }\n\n    .dataframe tbody tr th {\n        vertical-align: top;\n    }\n\n    .dataframe thead th {\n        text-align: right;\n    }\n</style>\n<table border=\"1\" class=\"dataframe\">\n  <thead>\n    <tr style=\"text-align: right;\">\n      <th></th>\n      <th>num_names</th>\n      <th>names</th>\n      <th>sov</th>\n      <th>flag</th>\n      <th>flag_type</th>\n      <th>num_loas</th>\n      <th>loa</th>\n      <th>max_loa</th>\n      <th>num_types</th>\n      <th>type</th>\n      <th>...</th>\n      <th>name</th>\n      <th>transit</th>\n      <th>segment</th>\n      <th>seg_length</th>\n      <th>avg_sog</th>\n      <th>min_sog</th>\n      <th>max_sog</th>\n      <th>pdgt10</th>\n      <th>st_time</th>\n      <th>end_time</th>\n    </tr>\n  </thead>\n  <tbody>\n    <tr>\n      <th>0</th>\n      <td>8</td>\n      <td>Bil Holman Dredge/Dredge Capt Frank/Emo/Offsho...</td>\n      <td>Y</td>\n      <td>Unknown</td>\n      <td>Unknown</td>\n      <td>7</td>\n      <td>42.0/48.0/57.0/90.0/138.0/154.0/156.0</td>\n      <td>156.0</td>\n      <td>4</td>\n      <td>Dredging/MilOps/Reserved/Towing</td>\n      <td>...</td>\n      <td>Us Govt Ves</td>\n      <td>1</td>\n      <td>1</td>\n      <td>5.1</td>\n      <td>13.2</td>\n      <td>9.2</td>\n      <td>14.5</td>\n      <td>96.5</td>\n      <td>2009-02-10 16:03:00</td>\n      <td>2009-02-10 16:27:00</td>\n    </tr>\n    <tr>\n      <th>1</th>\n      <td>8</td>\n      <td>Bil Holman Dredge/Dredge Capt Frank/Emo/Offsho...</td>\n      <td>Y</td>\n      <td>Unknown</td>\n      <td>Unknown</td>\n      <td>7</td>\n      <td>42.0/48.0/57.0/90.0/138.0/154.0/156.0</td>\n      <td>156.0</td>\n      <td>4</td>\n      <td>Dredging/MilOps/Reserved/Towing</td>\n      <td>...</td>\n      <td>Dredge Capt Frank</td>\n      <td>1</td>\n      <td>1</td>\n      <td>13.5</td>\n      <td>18.6</td>\n      <td>10.4</td>\n      <td>20.6</td>\n      <td>100.0</td>\n      <td>2009-04-06 14:31:00</td>\n      <td>2009-04-06 15:20:00</td>\n    </tr>\n    <tr>\n      <th>2</th>\n      <td>8</td>\n      <td>Bil Holman Dredge/Dredge Capt Frank/Emo/Offsho...</td>\n      <td>Y</td>\n      <td>Unknown</td>\n      <td>Unknown</td>\n      <td>7</td>\n      <td>42.0/48.0/57.0/90.0/138.0/154.0/156.0</td>\n      <td>156.0</td>\n      <td>4</td>\n      <td>Dredging/MilOps/Reserved/Towing</td>\n      <td>...</td>\n      <td>Us Gov Vessel</td>\n      <td>1</td>\n      <td>1</td>\n      <td>4.3</td>\n      <td>16.2</td>\n      <td>10.3</td>\n      <td>20.5</td>\n      <td>100.0</td>\n      <td>2009-04-06 14:36:00</td>\n      <td>2009-04-06 14:55:00</td>\n    </tr>\n    <tr>\n      <th>3</th>\n      <td>8</td>\n      <td>Bil Holman Dredge/Dredge Capt Frank/Emo/Offsho...</td>\n      <td>Y</td>\n      <td>Unknown</td>\n      <td>Unknown</td>\n      <td>7</td>\n      <td>42.0/48.0/57.0/90.0/138.0/154.0/156.0</td>\n      <td>156.0</td>\n      <td>4</td>\n      <td>Dredging/MilOps/Reserved/Towing</td>\n      <td>...</td>\n      <td>Us Gov Vessel</td>\n      <td>2</td>\n      <td>1</td>\n      <td>9.2</td>\n      <td>15.4</td>\n      <td>14.5</td>\n      <td>16.1</td>\n      <td>100.0</td>\n      <td>2009-04-10 17:58:00</td>\n      <td>2009-04-10 18:34:00</td>\n    </tr>\n    <tr>\n      <th>4</th>\n      <td>8</td>\n      <td>Bil Holman Dredge/Dredge Capt Frank/Emo/Offsho...</td>\n      <td>Y</td>\n      <td>Unknown</td>\n      <td>Unknown</td>\n      <td>7</td>\n      <td>42.0/48.0/57.0/90.0/138.0/154.0/156.0</td>\n      <td>156.0</td>\n      <td>4</td>\n      <td>Dredging/MilOps/Reserved/Towing</td>\n      <td>...</td>\n      <td>Dredge Capt Frank</td>\n      <td>2</td>\n      <td>1</td>\n      <td>9.2</td>\n      <td>15.4</td>\n      <td>14.6</td>\n      <td>16.2</td>\n      <td>100.0</td>\n      <td>2009-04-10 17:59:00</td>\n      <td>2009-04-10 18:35:00</td>\n    </tr>\n    <tr>\n      <th>...</th>\n      <td>...</td>\n      <td>...</td>\n      <td>...</td>\n      <td>...</td>\n      <td>...</td>\n      <td>...</td>\n      <td>...</td>\n      <td>...</td>\n      <td>...</td>\n      <td>...</td>\n      <td>...</td>\n      <td>...</td>\n      <td>...</td>\n      <td>...</td>\n      <td>...</td>\n      <td>...</td>\n      <td>...</td>\n      <td>...</td>\n      <td>...</td>\n      <td>...</td>\n      <td>...</td>\n    </tr>\n    <tr>\n      <th>995</th>\n      <td>168</td>\n      <td>Albacore/American Freedom/Amsterdam/Amy Choues...</td>\n      <td>N</td>\n      <td>Unknown</td>\n      <td>Unknown</td>\n      <td>84</td>\n      <td>20.0/21.0/22.0/23.0/24.0/25.0/26.0/28.0/29.0/3...</td>\n      <td>669.0</td>\n      <td>14</td>\n      <td>BigTow/Cargo/Diving/Dredging/Fishing/MilOps/Ot...</td>\n      <td>...</td>\n      <td>Msc Colombia</td>\n      <td>5</td>\n      <td>1</td>\n      <td>16.3</td>\n      <td>1.4</td>\n      <td>0.0</td>\n      <td>14.1</td>\n      <td>11.6</td>\n      <td>2009-09-23 12:22:00</td>\n      <td>2009-09-23 19:01:00</td>\n    </tr>\n    <tr>\n      <th>996</th>\n      <td>168</td>\n      <td>Albacore/American Freedom/Amsterdam/Amy Choues...</td>\n      <td>N</td>\n      <td>Unknown</td>\n      <td>Unknown</td>\n      <td>84</td>\n      <td>20.0/21.0/22.0/23.0/24.0/25.0/26.0/28.0/29.0/3...</td>\n      <td>669.0</td>\n      <td>14</td>\n      <td>BigTow/Cargo/Diving/Dredging/Fishing/MilOps/Ot...</td>\n      <td>...</td>\n      <td>Majestic</td>\n      <td>112</td>\n      <td>1</td>\n      <td>16.9</td>\n      <td>12.8</td>\n      <td>0.1</td>\n      <td>17.0</td>\n      <td>88.5</td>\n      <td>2009-09-23 16:40:00</td>\n      <td>2009-09-23 18:53:00</td>\n    </tr>\n    <tr>\n      <th>997</th>\n      <td>168</td>\n      <td>Albacore/American Freedom/Amsterdam/Amy Choues...</td>\n      <td>N</td>\n      <td>Unknown</td>\n      <td>Unknown</td>\n      <td>84</td>\n      <td>20.0/21.0/22.0/23.0/24.0/25.0/26.0/28.0/29.0/3...</td>\n      <td>669.0</td>\n      <td>14</td>\n      <td>BigTow/Cargo/Diving/Dredging/Fishing/MilOps/Ot...</td>\n      <td>...</td>\n      <td>Grizzly 60</td>\n      <td>16</td>\n      <td>1</td>\n      <td>15.0</td>\n      <td>9.7</td>\n      <td>0.0</td>\n      <td>16.9</td>\n      <td>80.6</td>\n      <td>2009-09-23 16:59:00</td>\n      <td>2009-09-23 18:52:00</td>\n    </tr>\n    <tr>\n      <th>998</th>\n      <td>168</td>\n      <td>Albacore/American Freedom/Amsterdam/Amy Choues...</td>\n      <td>N</td>\n      <td>Unknown</td>\n      <td>Unknown</td>\n      <td>84</td>\n      <td>20.0/21.0/22.0/23.0/24.0/25.0/26.0/28.0/29.0/3...</td>\n      <td>669.0</td>\n      <td>14</td>\n      <td>BigTow/Cargo/Diving/Dredging/Fishing/MilOps/Ot...</td>\n      <td>...</td>\n      <td>Minnie Falgout</td>\n      <td>24</td>\n      <td>1</td>\n      <td>14.2</td>\n      <td>7.8</td>\n      <td>0.4</td>\n      <td>16.0</td>\n      <td>98.9</td>\n      <td>2009-09-23 17:31:00</td>\n      <td>2009-09-23 18:37:00</td>\n    </tr>\n    <tr>\n      <th>999</th>\n      <td>168</td>\n      <td>Albacore/American Freedom/Amsterdam/Amy Choues...</td>\n      <td>N</td>\n      <td>Unknown</td>\n      <td>Unknown</td>\n      <td>84</td>\n      <td>20.0/21.0/22.0/23.0/24.0/25.0/26.0/28.0/29.0/3...</td>\n      <td>669.0</td>\n      <td>14</td>\n      <td>BigTow/Cargo/Diving/Dredging/Fishing/MilOps/Ot...</td>\n      <td>...</td>\n      <td>Loriag</td>\n      <td>17</td>\n      <td>1</td>\n      <td>14.5</td>\n      <td>11.1</td>\n      <td>0.9</td>\n      <td>16.8</td>\n      <td>97.4</td>\n      <td>2009-09-23 17:34:00</td>\n      <td>2009-09-23 18:40:00</td>\n    </tr>\n  </tbody>\n</table>\n<p>1000 rows × 21 columns</p>\n</div>"
     },
     "execution_count": 103,
     "metadata": {},
     "output_type": "execute_result"
    }
   ],
   "source": [
    "segments_merged"
   ],
   "metadata": {
    "collapsed": false
   }
  },
  {
   "cell_type": "code",
   "execution_count": 104,
   "outputs": [
    {
     "data": {
      "text/plain": "   num_names                                              names sov     flag  \\\n0          8  Bil Holman Dredge/Dredge Capt Frank/Emo/Offsho...   Y  Unknown   \n1          8  Bil Holman Dredge/Dredge Capt Frank/Emo/Offsho...   Y  Unknown   \n2          8  Bil Holman Dredge/Dredge Capt Frank/Emo/Offsho...   Y  Unknown   \n3          8  Bil Holman Dredge/Dredge Capt Frank/Emo/Offsho...   Y  Unknown   \n4          8  Bil Holman Dredge/Dredge Capt Frank/Emo/Offsho...   Y  Unknown   \n5          8  Bil Holman Dredge/Dredge Capt Frank/Emo/Offsho...   Y  Unknown   \n6          8  Bil Holman Dredge/Dredge Capt Frank/Emo/Offsho...   Y  Unknown   \n7          8  Bil Holman Dredge/Dredge Capt Frank/Emo/Offsho...   Y  Unknown   \n\n  flag_type  num_loas                                    loa  max_loa  \\\n0   Unknown         7  42.0/48.0/57.0/90.0/138.0/154.0/156.0    156.0   \n1   Unknown         7  42.0/48.0/57.0/90.0/138.0/154.0/156.0    156.0   \n2   Unknown         7  42.0/48.0/57.0/90.0/138.0/154.0/156.0    156.0   \n3   Unknown         7  42.0/48.0/57.0/90.0/138.0/154.0/156.0    156.0   \n4   Unknown         7  42.0/48.0/57.0/90.0/138.0/154.0/156.0    156.0   \n5   Unknown         7  42.0/48.0/57.0/90.0/138.0/154.0/156.0    156.0   \n6   Unknown         7  42.0/48.0/57.0/90.0/138.0/154.0/156.0    156.0   \n7   Unknown         7  42.0/48.0/57.0/90.0/138.0/154.0/156.0    156.0   \n\n   num_types                             type  ...               name transit  \\\n0          4  Dredging/MilOps/Reserved/Towing  ...        Us Govt Ves       1   \n1          4  Dredging/MilOps/Reserved/Towing  ...  Dredge Capt Frank       1   \n2          4  Dredging/MilOps/Reserved/Towing  ...      Us Gov Vessel       1   \n3          4  Dredging/MilOps/Reserved/Towing  ...      Us Gov Vessel       2   \n4          4  Dredging/MilOps/Reserved/Towing  ...  Dredge Capt Frank       2   \n5          4  Dredging/MilOps/Reserved/Towing  ...  Bil Holman Dredge       1   \n6          4  Dredging/MilOps/Reserved/Towing  ...  Bil Holman Dredge       1   \n7          4  Dredging/MilOps/Reserved/Towing  ...         S.d. Gumel       1   \n\n   segment  seg_length  avg_sog  min_sog  max_sog  pdgt10             st_time  \\\n0        1         5.1     13.2      9.2     14.5    96.5 2009-02-10 16:03:00   \n1        1        13.5     18.6     10.4     20.6   100.0 2009-04-06 14:31:00   \n2        1         4.3     16.2     10.3     20.5   100.0 2009-04-06 14:36:00   \n3        1         9.2     15.4     14.5     16.1   100.0 2009-04-10 17:58:00   \n4        1         9.2     15.4     14.6     16.2   100.0 2009-04-10 17:59:00   \n5        1        17.4     34.3     33.9     35.0   100.0 2010-03-20 16:06:00   \n6        2        76.0     34.4     33.8     34.9   100.0 2010-03-20 18:05:00   \n7        1        13.7      6.9      3.0     14.0    38.2 2011-05-04 11:28:00   \n\n             end_time  \n0 2009-02-10 16:27:00  \n1 2009-04-06 15:20:00  \n2 2009-04-06 14:55:00  \n3 2009-04-10 18:34:00  \n4 2009-04-10 18:35:00  \n5 2010-03-20 16:36:00  \n6 2010-03-20 18:48:00  \n7 2011-05-04 13:30:00  \n\n[8 rows x 21 columns]",
      "text/html": "<div>\n<style scoped>\n    .dataframe tbody tr th:only-of-type {\n        vertical-align: middle;\n    }\n\n    .dataframe tbody tr th {\n        vertical-align: top;\n    }\n\n    .dataframe thead th {\n        text-align: right;\n    }\n</style>\n<table border=\"1\" class=\"dataframe\">\n  <thead>\n    <tr style=\"text-align: right;\">\n      <th></th>\n      <th>num_names</th>\n      <th>names</th>\n      <th>sov</th>\n      <th>flag</th>\n      <th>flag_type</th>\n      <th>num_loas</th>\n      <th>loa</th>\n      <th>max_loa</th>\n      <th>num_types</th>\n      <th>type</th>\n      <th>...</th>\n      <th>name</th>\n      <th>transit</th>\n      <th>segment</th>\n      <th>seg_length</th>\n      <th>avg_sog</th>\n      <th>min_sog</th>\n      <th>max_sog</th>\n      <th>pdgt10</th>\n      <th>st_time</th>\n      <th>end_time</th>\n    </tr>\n  </thead>\n  <tbody>\n    <tr>\n      <th>0</th>\n      <td>8</td>\n      <td>Bil Holman Dredge/Dredge Capt Frank/Emo/Offsho...</td>\n      <td>Y</td>\n      <td>Unknown</td>\n      <td>Unknown</td>\n      <td>7</td>\n      <td>42.0/48.0/57.0/90.0/138.0/154.0/156.0</td>\n      <td>156.0</td>\n      <td>4</td>\n      <td>Dredging/MilOps/Reserved/Towing</td>\n      <td>...</td>\n      <td>Us Govt Ves</td>\n      <td>1</td>\n      <td>1</td>\n      <td>5.1</td>\n      <td>13.2</td>\n      <td>9.2</td>\n      <td>14.5</td>\n      <td>96.5</td>\n      <td>2009-02-10 16:03:00</td>\n      <td>2009-02-10 16:27:00</td>\n    </tr>\n    <tr>\n      <th>1</th>\n      <td>8</td>\n      <td>Bil Holman Dredge/Dredge Capt Frank/Emo/Offsho...</td>\n      <td>Y</td>\n      <td>Unknown</td>\n      <td>Unknown</td>\n      <td>7</td>\n      <td>42.0/48.0/57.0/90.0/138.0/154.0/156.0</td>\n      <td>156.0</td>\n      <td>4</td>\n      <td>Dredging/MilOps/Reserved/Towing</td>\n      <td>...</td>\n      <td>Dredge Capt Frank</td>\n      <td>1</td>\n      <td>1</td>\n      <td>13.5</td>\n      <td>18.6</td>\n      <td>10.4</td>\n      <td>20.6</td>\n      <td>100.0</td>\n      <td>2009-04-06 14:31:00</td>\n      <td>2009-04-06 15:20:00</td>\n    </tr>\n    <tr>\n      <th>2</th>\n      <td>8</td>\n      <td>Bil Holman Dredge/Dredge Capt Frank/Emo/Offsho...</td>\n      <td>Y</td>\n      <td>Unknown</td>\n      <td>Unknown</td>\n      <td>7</td>\n      <td>42.0/48.0/57.0/90.0/138.0/154.0/156.0</td>\n      <td>156.0</td>\n      <td>4</td>\n      <td>Dredging/MilOps/Reserved/Towing</td>\n      <td>...</td>\n      <td>Us Gov Vessel</td>\n      <td>1</td>\n      <td>1</td>\n      <td>4.3</td>\n      <td>16.2</td>\n      <td>10.3</td>\n      <td>20.5</td>\n      <td>100.0</td>\n      <td>2009-04-06 14:36:00</td>\n      <td>2009-04-06 14:55:00</td>\n    </tr>\n    <tr>\n      <th>3</th>\n      <td>8</td>\n      <td>Bil Holman Dredge/Dredge Capt Frank/Emo/Offsho...</td>\n      <td>Y</td>\n      <td>Unknown</td>\n      <td>Unknown</td>\n      <td>7</td>\n      <td>42.0/48.0/57.0/90.0/138.0/154.0/156.0</td>\n      <td>156.0</td>\n      <td>4</td>\n      <td>Dredging/MilOps/Reserved/Towing</td>\n      <td>...</td>\n      <td>Us Gov Vessel</td>\n      <td>2</td>\n      <td>1</td>\n      <td>9.2</td>\n      <td>15.4</td>\n      <td>14.5</td>\n      <td>16.1</td>\n      <td>100.0</td>\n      <td>2009-04-10 17:58:00</td>\n      <td>2009-04-10 18:34:00</td>\n    </tr>\n    <tr>\n      <th>4</th>\n      <td>8</td>\n      <td>Bil Holman Dredge/Dredge Capt Frank/Emo/Offsho...</td>\n      <td>Y</td>\n      <td>Unknown</td>\n      <td>Unknown</td>\n      <td>7</td>\n      <td>42.0/48.0/57.0/90.0/138.0/154.0/156.0</td>\n      <td>156.0</td>\n      <td>4</td>\n      <td>Dredging/MilOps/Reserved/Towing</td>\n      <td>...</td>\n      <td>Dredge Capt Frank</td>\n      <td>2</td>\n      <td>1</td>\n      <td>9.2</td>\n      <td>15.4</td>\n      <td>14.6</td>\n      <td>16.2</td>\n      <td>100.0</td>\n      <td>2009-04-10 17:59:00</td>\n      <td>2009-04-10 18:35:00</td>\n    </tr>\n    <tr>\n      <th>5</th>\n      <td>8</td>\n      <td>Bil Holman Dredge/Dredge Capt Frank/Emo/Offsho...</td>\n      <td>Y</td>\n      <td>Unknown</td>\n      <td>Unknown</td>\n      <td>7</td>\n      <td>42.0/48.0/57.0/90.0/138.0/154.0/156.0</td>\n      <td>156.0</td>\n      <td>4</td>\n      <td>Dredging/MilOps/Reserved/Towing</td>\n      <td>...</td>\n      <td>Bil Holman Dredge</td>\n      <td>1</td>\n      <td>1</td>\n      <td>17.4</td>\n      <td>34.3</td>\n      <td>33.9</td>\n      <td>35.0</td>\n      <td>100.0</td>\n      <td>2010-03-20 16:06:00</td>\n      <td>2010-03-20 16:36:00</td>\n    </tr>\n    <tr>\n      <th>6</th>\n      <td>8</td>\n      <td>Bil Holman Dredge/Dredge Capt Frank/Emo/Offsho...</td>\n      <td>Y</td>\n      <td>Unknown</td>\n      <td>Unknown</td>\n      <td>7</td>\n      <td>42.0/48.0/57.0/90.0/138.0/154.0/156.0</td>\n      <td>156.0</td>\n      <td>4</td>\n      <td>Dredging/MilOps/Reserved/Towing</td>\n      <td>...</td>\n      <td>Bil Holman Dredge</td>\n      <td>1</td>\n      <td>2</td>\n      <td>76.0</td>\n      <td>34.4</td>\n      <td>33.8</td>\n      <td>34.9</td>\n      <td>100.0</td>\n      <td>2010-03-20 18:05:00</td>\n      <td>2010-03-20 18:48:00</td>\n    </tr>\n    <tr>\n      <th>7</th>\n      <td>8</td>\n      <td>Bil Holman Dredge/Dredge Capt Frank/Emo/Offsho...</td>\n      <td>Y</td>\n      <td>Unknown</td>\n      <td>Unknown</td>\n      <td>7</td>\n      <td>42.0/48.0/57.0/90.0/138.0/154.0/156.0</td>\n      <td>156.0</td>\n      <td>4</td>\n      <td>Dredging/MilOps/Reserved/Towing</td>\n      <td>...</td>\n      <td>S.d. Gumel</td>\n      <td>1</td>\n      <td>1</td>\n      <td>13.7</td>\n      <td>6.9</td>\n      <td>3.0</td>\n      <td>14.0</td>\n      <td>38.2</td>\n      <td>2011-05-04 11:28:00</td>\n      <td>2011-05-04 13:30:00</td>\n    </tr>\n  </tbody>\n</table>\n<p>8 rows × 21 columns</p>\n</div>"
     },
     "execution_count": 104,
     "metadata": {},
     "output_type": "execute_result"
    }
   ],
   "source": [
    "segments_merged[segments_merged['mmsi'] == 1]"
   ],
   "metadata": {
    "collapsed": false
   }
  },
  {
   "cell_type": "markdown",
   "metadata": {},
   "source": [
    "To see this in action, consider the vessel transit segments dataset (which we merged with the vessel information to yield `segments_merged`). Say we wanted to return the 3 longest segments travelled by each ship:"
   ]
  },
  {
   "cell_type": "code",
   "execution_count": 105,
   "metadata": {},
   "outputs": [
    {
     "data": {
      "text/plain": "                                                     names  seg_length\nmmsi                                                                  \n1    6   Bil Holman Dredge/Dredge Capt Frank/Emo/Offsho...        76.0\n     5   Bil Holman Dredge/Dredge Capt Frank/Emo/Offsho...        17.4\n     7   Bil Holman Dredge/Dredge Capt Frank/Emo/Offsho...        13.7\n9    15                         000000009/Raven/Shearwater        47.2\n     14                         000000009/Raven/Shearwater        31.4\n     13                         000000009/Raven/Shearwater        19.3\n21   16                                      Us Gov Vessel        48.7\n     25                                      Us Gov Vessel        25.3\n     30                                      Us Gov Vessel        21.7\n74   35                                  Mcfaul/Sarah Bell         7.4\n     34                                  Mcfaul/Sarah Bell         1.4\n103  37           Ron G/Us Navy Warship 103/Us Warship 103        87.5\n     41           Ron G/Us Navy Warship 103/Us Warship 103        62.6\n     43           Ron G/Us Navy Warship 103/Us Warship 103        59.1\n310  51                                           Arabella        77.4",
      "text/html": "<div>\n<style scoped>\n    .dataframe tbody tr th:only-of-type {\n        vertical-align: middle;\n    }\n\n    .dataframe tbody tr th {\n        vertical-align: top;\n    }\n\n    .dataframe thead th {\n        text-align: right;\n    }\n</style>\n<table border=\"1\" class=\"dataframe\">\n  <thead>\n    <tr style=\"text-align: right;\">\n      <th></th>\n      <th></th>\n      <th>names</th>\n      <th>seg_length</th>\n    </tr>\n    <tr>\n      <th>mmsi</th>\n      <th></th>\n      <th></th>\n      <th></th>\n    </tr>\n  </thead>\n  <tbody>\n    <tr>\n      <th rowspan=\"3\" valign=\"top\">1</th>\n      <th>6</th>\n      <td>Bil Holman Dredge/Dredge Capt Frank/Emo/Offsho...</td>\n      <td>76.0</td>\n    </tr>\n    <tr>\n      <th>5</th>\n      <td>Bil Holman Dredge/Dredge Capt Frank/Emo/Offsho...</td>\n      <td>17.4</td>\n    </tr>\n    <tr>\n      <th>7</th>\n      <td>Bil Holman Dredge/Dredge Capt Frank/Emo/Offsho...</td>\n      <td>13.7</td>\n    </tr>\n    <tr>\n      <th rowspan=\"3\" valign=\"top\">9</th>\n      <th>15</th>\n      <td>000000009/Raven/Shearwater</td>\n      <td>47.2</td>\n    </tr>\n    <tr>\n      <th>14</th>\n      <td>000000009/Raven/Shearwater</td>\n      <td>31.4</td>\n    </tr>\n    <tr>\n      <th>13</th>\n      <td>000000009/Raven/Shearwater</td>\n      <td>19.3</td>\n    </tr>\n    <tr>\n      <th rowspan=\"3\" valign=\"top\">21</th>\n      <th>16</th>\n      <td>Us Gov Vessel</td>\n      <td>48.7</td>\n    </tr>\n    <tr>\n      <th>25</th>\n      <td>Us Gov Vessel</td>\n      <td>25.3</td>\n    </tr>\n    <tr>\n      <th>30</th>\n      <td>Us Gov Vessel</td>\n      <td>21.7</td>\n    </tr>\n    <tr>\n      <th rowspan=\"2\" valign=\"top\">74</th>\n      <th>35</th>\n      <td>Mcfaul/Sarah Bell</td>\n      <td>7.4</td>\n    </tr>\n    <tr>\n      <th>34</th>\n      <td>Mcfaul/Sarah Bell</td>\n      <td>1.4</td>\n    </tr>\n    <tr>\n      <th rowspan=\"3\" valign=\"top\">103</th>\n      <th>37</th>\n      <td>Ron G/Us Navy Warship 103/Us Warship 103</td>\n      <td>87.5</td>\n    </tr>\n    <tr>\n      <th>41</th>\n      <td>Ron G/Us Navy Warship 103/Us Warship 103</td>\n      <td>62.6</td>\n    </tr>\n    <tr>\n      <th>43</th>\n      <td>Ron G/Us Navy Warship 103/Us Warship 103</td>\n      <td>59.1</td>\n    </tr>\n    <tr>\n      <th>310</th>\n      <th>51</th>\n      <td>Arabella</td>\n      <td>77.4</td>\n    </tr>\n  </tbody>\n</table>\n</div>"
     },
     "execution_count": 105,
     "metadata": {},
     "output_type": "execute_result"
    }
   ],
   "source": [
    "top3segments = segments_merged.groupby('mmsi').apply(top, column='seg_length', n=3)[['names', 'seg_length']]\n",
    "top3segments.head(15)"
   ]
  },
  {
   "cell_type": "markdown",
   "metadata": {},
   "source": [
    "Notice that additional arguments for the applied function can be passed via `apply` after the function name. It assumes that the DataFrame is the first argument."
   ]
  },
  {
   "cell_type": "markdown",
   "metadata": {},
   "source": [
    "## References\n",
    "\n",
    "[Python for Data Analysis](http://shop.oreilly.com/product/0636920023784.do) Wes McKinney"
   ]
  },
  {
   "cell_type": "code",
   "execution_count": 105,
   "outputs": [],
   "source": [],
   "metadata": {
    "collapsed": false
   }
  }
 ],
 "metadata": {
  "anaconda-cloud": {},
  "kernelspec": {
   "display_name": "Python 3",
   "language": "python",
   "name": "python3"
  },
  "language_info": {
   "codemirror_mode": {
    "name": "ipython",
    "version": 3
   },
   "file_extension": ".py",
   "mimetype": "text/x-python",
   "name": "python",
   "nbconvert_exporter": "python",
   "pygments_lexer": "ipython3",
   "version": "3.6.3"
  },
  "nav_menu": {},
  "toc": {
   "base_numbering": 1,
   "nav_menu": {},
   "number_sections": false,
   "sideBar": false,
   "skip_h1_title": false,
   "title_cell": "Table of Contents",
   "title_sidebar": "Contents",
   "toc_cell": true,
   "toc_position": {},
   "toc_section_display": "block",
   "toc_window_display": false
  },
  "varInspector": {
   "cols": {
    "lenName": 16,
    "lenType": 16,
    "lenVar": 40
   },
   "kernels_config": {
    "python": {
     "delete_cmd_postfix": "",
     "delete_cmd_prefix": "del ",
     "library": "var_list.py",
     "varRefreshCmd": "print(var_dic_list())"
    },
    "r": {
     "delete_cmd_postfix": ") ",
     "delete_cmd_prefix": "rm(",
     "library": "var_list.r",
     "varRefreshCmd": "cat(var_dic_list()) "
    }
   },
   "types_to_exclude": [
    "module",
    "function",
    "builtin_function_or_method",
    "instance",
    "_Feature"
   ],
   "window_display": false
  }
 },
 "nbformat": 4,
 "nbformat_minor": 1
}
